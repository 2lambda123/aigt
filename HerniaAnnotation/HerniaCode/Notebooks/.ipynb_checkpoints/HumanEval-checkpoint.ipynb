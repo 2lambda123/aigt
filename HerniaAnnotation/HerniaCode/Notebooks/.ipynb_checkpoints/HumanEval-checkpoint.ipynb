{
 "cells": [
  {
   "cell_type": "code",
   "execution_count": 1,
   "metadata": {},
   "outputs": [
    {
     "name": "stderr",
     "output_type": "stream",
     "text": [
      "Using TensorFlow backend.\n"
     ]
    }
   ],
   "source": [
    "# this notebook is made for human image \n",
    "# classification of a dataset for ground truth evaluation\n",
    "import matplotlib.pyplot as plt\n",
    "import numpy as np\n",
    "import keras"
   ]
  },
  {
   "cell_type": "code",
   "execution_count": 2,
   "metadata": {},
   "outputs": [
    {
     "name": "stdout",
     "output_type": "stream",
     "text": [
      "[[0. 1. 0. 0. 0. 0.]\n",
      " [0. 0. 1. 0. 0. 0.]\n",
      " [0. 0. 0. 1. 0. 0.]\n",
      " [0. 0. 0. 0. 1. 0.]]\n"
     ]
    }
   ],
   "source": [
    "# assume we have these variables defined properly\n",
    "x_set = np.random.randint(10, size=(4, 128, 128))\n",
    "y_set = np.array([1,2,3,4])\n",
    "y_set = keras.utils.to_categorical(y_set, 6)\n",
    "print(y_set)\n",
    "count = 0\n",
    "correct = 0\n",
    "total = 0\n",
    "end=False\n"
   ]
  },
  {
   "cell_type": "code",
   "execution_count": 8,
   "metadata": {},
   "outputs": [
    {
     "name": "stdout",
     "output_type": "stream",
     "text": [
      "You have labelled the whole dataset, check your results by running the bottom cell. \n"
     ]
    },
    {
     "data": {
      "text/plain": [
       "<Figure size 576x576 with 0 Axes>"
      ]
     },
     "metadata": {},
     "output_type": "display_data"
    }
   ],
   "source": [
    "# each run, this cell will load a new image, and it will let you enter \n",
    "# your guess for the currently displayed image. At the end it will \n",
    "# no longer display a new image. \n",
    "try:\n",
    "    fig = plt.figure(figsize = (8,8))\n",
    "    img =x_set[count]\n",
    "    plt.imshow(img)\n",
    "except IndexError:\n",
    "    print(\"You have labelled the whole dataset, check your results by running the bottom cell. \")\n",
    "    end = True\n",
    "\n",
    "# ANSWER HERE\n",
    "human_guess = 4\n",
    "# does not matter what your answer is for the first run that has no image\n",
    "\n",
    "if count>0 and human_guess==np.argmax(y_set[count-1]):\n",
    "    correct+=1\n",
    "    total+=1\n",
    "elif count>0:\n",
    "    total +=1\n",
    "    print(\"{} was correct, you guessed {}\".format(np.argmax(y_set[count-1]), human_guess))\n",
    "count+=1"
   ]
  },
  {
   "cell_type": "code",
   "execution_count": 9,
   "metadata": {},
   "outputs": [
    {
     "name": "stdout",
     "output_type": "stream",
     "text": [
      "The human got 3 correct out of 4 images. \n",
      "The human got 75.0% accuracy. \n"
     ]
    }
   ],
   "source": [
    "# print results\n",
    "\n",
    "print(\"The human got {} correct out of {} images. \".format(correct, total))\n",
    "if total> 0:\n",
    "    print(\"The human got {}% accuracy. \".format(correct/total*100))"
   ]
  },
  {
   "cell_type": "code",
   "execution_count": null,
   "metadata": {},
   "outputs": [],
   "source": []
  }
 ],
 "metadata": {
  "kernelspec": {
   "display_name": "Python 3",
   "language": "python",
   "name": "python3"
  },
  "language_info": {
   "codemirror_mode": {
    "name": "ipython",
    "version": 3
   },
   "file_extension": ".py",
   "mimetype": "text/x-python",
   "name": "python",
   "nbconvert_exporter": "python",
   "pygments_lexer": "ipython3",
   "version": "3.7.3"
  }
 },
 "nbformat": 4,
 "nbformat_minor": 2
}
