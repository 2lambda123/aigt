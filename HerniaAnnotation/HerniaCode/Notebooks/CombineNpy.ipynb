{
 "cells": [
  {
   "cell_type": "code",
   "execution_count": 4,
   "metadata": {},
   "outputs": [
    {
     "name": "stdout",
     "output_type": "stream",
     "text": [
      "(63914, 128, 128, 3)\n",
      "(32275, 128, 128, 3)\n",
      "(96189, 128, 128, 3)\n"
     ]
    }
   ],
   "source": [
    "import numpy as np\n",
    "\n",
    "file1 = r\"C:\\Users\\PerkLab\\Desktop\\HerniaModelStudy\\NpyDataWithNone\\x_train_fourthSixth_128.npy\"\n",
    "file2 = r\"C:\\Users\\PerkLab\\Desktop\\HerniaModelStudy\\NpyDataWithNone\\x_train_seventh_128.npy\"\n",
    "out_path = r\"C:\\Users\\PerkLab\\Desktop\\HerniaModelStudy\\NpyDataWithNone\\x_train_fourthSixthSeventh_128.npy\"\n",
    "\n",
    "arr1 = np.load(file1)\n",
    "print(arr1.shape)\n",
    "arr2 = np.load(file2)\n",
    "print(arr2.shape)\n",
    "arr1=np.concatenate((arr1, arr2))\n",
    "\n",
    "np.save(out_path, arr1)\n",
    "\n",
    "print(arr1.shape)"
   ]
  },
  {
   "cell_type": "code",
   "execution_count": null,
   "metadata": {},
   "outputs": [],
   "source": []
  }
 ],
 "metadata": {
  "kernelspec": {
   "display_name": "Python 3",
   "language": "python",
   "name": "python3"
  },
  "language_info": {
   "codemirror_mode": {
    "name": "ipython",
    "version": 3
   },
   "file_extension": ".py",
   "mimetype": "text/x-python",
   "name": "python",
   "nbconvert_exporter": "python",
   "pygments_lexer": "ipython3",
   "version": "3.7.3"
  }
 },
 "nbformat": 4,
 "nbformat_minor": 2
}
