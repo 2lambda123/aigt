{
 "cells": [
  {
   "cell_type": "code",
   "execution_count": 25,
   "metadata": {},
   "outputs": [
    {
     "data": {
      "text/plain": []
     },
     "execution_count": 25,
     "metadata": {},
     "output_type": "execute_result"
    }
   ],
   "source": [
    "import os\n",
    "import cv2\n",
    "import numpy as np"
   ]
  },
  {
   "cell_type": "code",
   "execution_count": 26,
   "metadata": {},
   "outputs": [
    {
     "data": {
      "text/plain": [
       "Created folder: D:\\HerniaModelStudy\\LayerTraining2Crop\\Spchd\n",
       "Created folder: D:\\HerniaModelStudy\\LayerTesting2Crop\\Spchd\n"
      ]
     },
     "execution_count": 26,
     "metadata": {},
     "output_type": "execute_result"
    }
   ],
   "source": [
    "browser_name = \"LayerSack\"\n",
    "output_training_folder = r\"D:\\HerniaModelStudy\\LayerTraining2Crop\\Sack\"\n",
    "output_testing_folder = r\"D:\\HerniaModelStudy\\LayerTesting2Crop\\Spchd\"\n",
    "image_name = \"Webcam_Webcam\"\n",
    "name_prefix = \"layer_\"\n",
    "under_sampling_factor = 1\n",
    "\n",
    "test_split_ratio = 0.10\n",
    "shuffle_test = True\n",
    "\n",
    "cropped_size = 128\n",
    "\n",
    "if not os.path.exists(output_training_folder):\n",
    "    os.makedirs(output_training_folder)\n",
    "    print(\"Created folder: \" + output_training_folder)\n",
    "\n",
    "if not os.path.exists(output_testing_folder):\n",
    "    os.makedirs(output_testing_folder)\n",
    "    print(\"Created folder: \" + output_testing_folder)"
   ]
  },
  {
   "cell_type": "code",
   "execution_count": 27,
   "metadata": {},
   "outputs": [
    {
     "data": {
      "text/plain": [
       "Number of images in browser: 2453\n"
      ]
     },
     "execution_count": 27,
     "metadata": {},
     "output_type": "execute_result"
    }
   ],
   "source": [
    "# Make sure input sequence browser and video exists\n",
    "\n",
    "browser_node = slicer.util.getFirstNodeByName(browser_name, className='vtkMRMLSequenceBrowserNode')\n",
    "if browser_node is None:\n",
    "    logging.error(\"Could not find browser node: {}\".format(browser_name))\n",
    "    raise\n",
    "\n",
    "image_node = slicer.util.getFirstNodeByName(image_name)\n",
    "if image_node is None:\n",
    "    logging.error(\"Could not find image node: {}\".format(image_name))\n",
    "    raise\n",
    "\n",
    "n = browser_node.GetNumberOfItems()//under_sampling_factor\n",
    "\n",
    "print(\"Number of images in browser: {}\".format(n))"
   ]
  },
  {
   "cell_type": "code",
   "execution_count": 28,
   "metadata": {},
   "outputs": [
    {
     "data": {
      "text/plain": [
       "Exported 235 image in D:\\HerniaModelStudy\\LayerTesting2Crop\\Spchd\n",
       "Exported 2218 image in D:\\HerniaModelStudy\\LayerTraining2Crop\\Spchd\n"
      ]
     },
     "execution_count": 28,
     "metadata": {},
     "output_type": "execute_result"
    }
   ],
   "source": [
    "# Prepare test image indices\n",
    "\n",
    "n_test = int(n * test_split_ratio)\n",
    "all_indices = range(n)\n",
    "if shuffle_test:\n",
    "    test_indices = np.random.choice(all_indices, n_test)\n",
    "else:\n",
    "    test_indices = range(n_test)\n",
    "\n",
    "browser_node.SelectFirstItem()\n",
    "trainCount = 0\n",
    "testCount = 0\n",
    "for i in range(n): # shortened to only do first couple iages, change back to range(n)\n",
    "    image = image_node.GetImageData()\n",
    "    shape = list(image.GetDimensions())\n",
    "    shape.reverse()\n",
    "    components = image.GetNumberOfScalarComponents()\n",
    "    if components > 1:\n",
    "        shape.append(components)\n",
    "        shape.remove(1)\n",
    "    image_array = vtk.util.numpy_support.vtk_to_numpy(image.GetPointData().GetScalars()).reshape(shape)\n",
    "    image_name = name_prefix + \"%06d\" % i + \".png\"\n",
    "    if i in test_indices:\n",
    "        testCount+=1\n",
    "        image_fullname = os.path.join(output_testing_folder, image_name)\n",
    "    else:\n",
    "        trainCount+=1\n",
    "        image_fullname = os.path.join(output_training_folder, image_name)\n",
    "    image_brg = cv2.cvtColor(image_array, cv2.COLOR_RGB2BGR)\n",
    "    image_brg = image_brg[70:70+cropped_size*2, 150:150+cropped_size*2]\n",
    "    #print(image_brg.shape)\n",
    "    cv2.imwrite(image_fullname, image_brg)\n",
    "    for x in range(under_sampling_factor):\n",
    "        browser_node.SelectNextItem()\n",
    "    slicer.app.processEvents()\n",
    "\n",
    "print(\"Exported {} image in {}\".format(testCount, output_testing_folder))\n",
    "print(\"Exported {} image in {}\".format((trainCount), output_training_folder))"
   ]
  },
  {
   "cell_type": "code",
   "execution_count": null,
   "metadata": {},
   "outputs": [],
   "source": []
  }
 ],
 "metadata": {
  "kernelspec": {
   "display_name": "Slicer 4.11",
   "language": "python",
   "name": "slicer-4.11"
  },
  "language_info": {
   "codemirror_mode": {
    "name": "ipython",
    "version": 3
   },
   "file_extension": ".py",
   "mimetype": "text/x-python",
   "name": "python",
   "nbconvert_exporter": "python",
   "pygments_lexer": "ipython3",
   "version": "2.7.13+"
  }
 },
 "nbformat": 4,
 "nbformat_minor": 2
}
