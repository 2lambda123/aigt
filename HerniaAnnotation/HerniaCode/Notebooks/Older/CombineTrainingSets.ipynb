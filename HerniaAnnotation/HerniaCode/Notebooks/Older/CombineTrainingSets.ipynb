{
 "cells": [
  {
   "cell_type": "code",
   "execution_count": 22,
   "metadata": {},
   "outputs": [],
   "source": [
    "import os\n",
    "\n",
    "directory = r\"D:\\HerniaModelStudy\\LayerTrainingAll\\Sack\"\n",
    "count = 0\n",
    "\n",
    "for fileName in os.listdir(directory):\n",
    "    os.rename(os.path.join(directory, fileName), os.path.join(directory, str(count)+ \".png\"))\n",
    "    count+=1\n",
    "count = 0\n",
    "for fileName in os.listdir(directory):\n",
    "    newNum =str(count)\n",
    "    while len(newNum)<4:\n",
    "        newNum = \"0\" + newNum\n",
    "    newName = \"layer_\" + newNum + \".png\"\n",
    "    os.rename(os.path.join(directory, fileName), os.path.join(directory, newName))\n",
    "    count+=1"
   ]
  }
 ],
 "metadata": {
  "kernelspec": {
   "display_name": "Python 3",
   "language": "python",
   "name": "python3"
  },
  "language_info": {
   "codemirror_mode": {
    "name": "ipython",
    "version": 3
   },
   "file_extension": ".py",
   "mimetype": "text/x-python",
   "name": "python",
   "nbconvert_exporter": "python",
   "pygments_lexer": "ipython3",
   "version": "3.7.3"
  }
 },
 "nbformat": 4,
 "nbformat_minor": 2
}
