{
 "cells": [
  {
   "cell_type": "code",
   "execution_count": 21,
   "metadata": {},
   "outputs": [
    {
     "data": {
      "text/plain": []
     },
     "execution_count": 21,
     "metadata": {},
     "output_type": "execute_result"
    }
   ],
   "source": [
    "import os\n",
    "import cv2\n",
    "import numpy as np"
   ]
  },
  {
   "cell_type": "code",
   "execution_count": 22,
   "metadata": {},
   "outputs": [
    {
     "data": {
      "text/plain": []
     },
     "execution_count": 22,
     "metadata": {},
     "output_type": "execute_result"
    }
   ],
   "source": [
    "#browser_name = \"LayerNone\"\n",
    "browser_names = ['LayerExtob', 'LayerSkin', 'LayerSpchd']\n",
    "data_folder = r\"C:\\Users\\PerkLab\\Desktop\\HerniaModelStudy\\NpyData3Class\"\n",
    "image_name = \"Webcam_Webcam\"\n",
    "#name_prefix = \"layer_\"\n",
    "under_sampling_factor = 1\n",
    "\n",
    "test_split_ratio = 0.10\n",
    "shuffle_test = True\n",
    "cropped_size = 256\n",
    "scaled_size = 128\n",
    "\n",
    "if not os.path.exists(data_folder):\n",
    "    os.makedirs(data_folder)\n",
    "    print(\"Created data folder: \" + data_folder)"
   ]
  },
  {
   "cell_type": "code",
   "execution_count": 23,
   "metadata": {},
   "outputs": [
    {
     "data": {
      "text/plain": [
       "Found: LayerExtob\n",
       "Found: LayerSkin\n",
       "Found: LayerSpchd\n"
      ]
     },
     "execution_count": 23,
     "metadata": {},
     "output_type": "execute_result"
    }
   ],
   "source": [
    "# Make sure input sequence browser and video exists\n",
    "\n",
    "\n",
    "for browser_name in browser_names: \n",
    "    browser_node = slicer.util.getFirstNodeByName(browser_name, className='vtkMRMLSequenceBrowserNode')\n",
    "    if browser_node is None:\n",
    "        logging.error(\"Could not find browser node: {}\".format(browser_name))\n",
    "        raise\n",
    "    else:\n",
    "        print(\"Found: \" + browser_name)\n",
    "\n",
    "image_node = slicer.util.getFirstNodeByName(image_name)\n",
    "if image_node is None:\n",
    "    logging.error(\"Could not find image node: {}\".format(image_name))\n",
    "    raise\n",
    "    "
   ]
  },
  {
   "cell_type": "code",
   "execution_count": 24,
   "metadata": {},
   "outputs": [
    {
     "data": {
      "text/plain": []
     },
     "execution_count": 24,
     "metadata": {},
     "output_type": "execute_result"
    }
   ],
   "source": [
    "def get_train_test_from_browser_node(browser_name, tissue_class, class_num):\n",
    "    browser_node = slicer.util.getFirstNodeByName(browser_name, className='vtkMRMLSequenceBrowserNode')\n",
    "    n = browser_node.GetNumberOfItems()//under_sampling_factor\n",
    "    #print(\"Number of images in browser: {}\".format(n))\n",
    "    \n",
    "    n_test = int(n * test_split_ratio)\n",
    "    all_indices = range(n)\n",
    "    \n",
    "    \n",
    "    \n",
    "    if shuffle_test:\n",
    "        test_indices = np.random.choice(all_indices, n_test, replace=False) # replace must be false or error, out of range\n",
    "    else:\n",
    "        test_indices = range(n_test)\n",
    "    \n",
    "    browser_node.SelectFirstItem()\n",
    "    trainCount = 0\n",
    "    testCount = 0\n",
    "    \n",
    "    train_arrays = np.zeros((len(all_indices) - len(test_indices), scaled_size, scaled_size, 3), dtype=np.float32)\n",
    "    test_arrays = np.zeros((len(test_indices), scaled_size, scaled_size, 3), dtype = np.float32)\n",
    "    print(train_arrays.shape)\n",
    "    print(test_arrays.shape)\n",
    "    \n",
    "    for i in range(n):\n",
    "        image = image_node.GetImageData()\n",
    "        shape = list(image.GetDimensions())\n",
    "        shape.reverse()\n",
    "        components = image.GetNumberOfScalarComponents()\n",
    "        if components > 1:\n",
    "            shape.append(components)\n",
    "            shape.remove(1)\n",
    "        image_array = vtk.util.numpy_support.vtk_to_numpy(image.GetPointData().GetScalars()).reshape(shape)\n",
    "        try:\n",
    "            if i in test_indices: \n",
    "                test_arrays[testCount] = cv2.resize(image_array[70:70+cropped_size, 150:150+cropped_size], dsize=(scaled_size, scaled_size))\n",
    "                testCount+=1\n",
    "            else:\n",
    "                train_arrays[trainCount] = cv2.resize(image_array[70:70+cropped_size, 150:150+cropped_size], dsize=(scaled_size, scaled_size))\n",
    "                trainCount+=1\n",
    "        except IndexError:\n",
    "            print(\"n = {}\".format(n))\n",
    "            print(\"i = {}\".format(i))\n",
    "            print(\"n_test = {}\".format(n_test))\n",
    "            print(\"len(all_indices) = {}\".format(len(all_indices)))\n",
    "            print(\"len(test_indices) = {}\".format(len(test_indices)))\n",
    "            print(\"trainCount = {}\".format(trainCount))\n",
    "            print(\"testCount = {}\".format(testCount))\n",
    "            print(\"n = {}\".format(n))\n",
    "            return 0,0\n",
    "            \n",
    "        for x in range(under_sampling_factor):\n",
    "            browser_node.SelectNextItem()\n",
    "        slicer.app.processEvents()\n",
    "    \n",
    "    train_y = np.full(train_arrays.shape[0], class_num, dtype = np.float32)\n",
    "    test_y = np.full(test_arrays.shape[0], class_num, dtype = np.float32)\n",
    "    \n",
    "    print(\"Exported {} images of class {} for train. \".format(trainCount, tissue_class))\n",
    "    print(\"Exported {} images of class {} for test. \".format(testCount, tissue_class))\n",
    "    return train_arrays, test_arrays, train_y, test_y\n",
    "    "
   ]
  },
  {
   "cell_type": "code",
   "execution_count": 25,
   "metadata": {},
   "outputs": [
    {
     "data": {
      "text/plain": []
     },
     "execution_count": 25,
     "metadata": {},
     "output_type": "execute_result"
    }
   ],
   "source": [
    "#x_train, x_test, y_train, y_test = get_train_test_from_browser_node(browser_names[0], \"Extob\", 0)\n",
    "#print(x_train.shape)\n",
    "#print(y_train.shape)\n",
    "#print(x_test.shape)\n",
    "#print(y_test.shape)\n",
    "#None.shape"
   ]
  },
  {
   "cell_type": "code",
   "execution_count": 26,
   "metadata": {},
   "outputs": [
    {
     "data": {
      "text/plain": []
     },
     "execution_count": 26,
     "metadata": {},
     "output_type": "execute_result"
    }
   ],
   "source": [
    "#print(x_test.dtype)"
   ]
  },
  {
   "cell_type": "code",
   "execution_count": 27,
   "metadata": {},
   "outputs": [
    {
     "data": {
      "text/plain": [
       "(2158, 128, 128, 3)\n",
       "(239, 128, 128, 3)\n",
       "Exported 2158 images of class LayerExtob for train. \n",
       "Exported 239 images of class LayerExtob for test. \n",
       "0\n",
       "(2723, 128, 128, 3)\n",
       "(302, 128, 128, 3)\n",
       "Exported 2723 images of class LayerSkin for train. \n",
       "Exported 302 images of class LayerSkin for test. \n",
       "1\n",
       "(1969, 128, 128, 3)\n",
       "(218, 128, 128, 3)\n",
       "Exported 1969 images of class LayerSpchd for train. \n",
       "Exported 218 images of class LayerSpchd for test. \n",
       "2\n",
       "(6850, 128, 128, 3)\n",
       "(6850,)\n"
      ]
     },
     "execution_count": 27,
     "metadata": {},
     "output_type": "execute_result"
    }
   ],
   "source": [
    "for count in range(len(browser_names)):\n",
    "    if count==0:\n",
    "        x_train, x_test, y_train, y_test = get_train_test_from_browser_node(browser_names[count], browser_names[count], count)\n",
    "    else:\n",
    "        x_train_new, x_test_new, y_train_new, y_test_new = get_train_test_from_browser_node(browser_names[count], browser_names[count], count)\n",
    "        x_train = np.concatenate((x_train, x_train_new))\n",
    "        x_test = np.concatenate((x_test, x_test_new))\n",
    "        y_train = np.concatenate((y_train, y_train_new))\n",
    "        y_test = np.concatenate((y_test, y_test_new))\n",
    "    print(count)\n",
    "print(x_train.shape)\n",
    "print(y_train.shape)"
   ]
  },
  {
   "cell_type": "code",
   "execution_count": 28,
   "metadata": {},
   "outputs": [
    {
     "data": {
      "text/plain": []
     },
     "execution_count": 28,
     "metadata": {},
     "output_type": "execute_result"
    }
   ],
   "source": [
    "np.save(os.path.join(data_folder, \"x_train_first_128.npy\"), x_train)\n",
    "np.save(os.path.join(data_folder, \"x_test_first_128.npy\"), x_test)\n",
    "np.save(os.path.join(data_folder, \"y_train_first_128.npy\"), y_train)\n",
    "np.save(os.path.join(data_folder, \"y_test_first_128.npy\"), y_test)\n",
    "\n",
    "# def returnMany():\n",
    "#     return np.array([1,2,3]), np.array([4,5,6])\n",
    "# z = np.array([9,8,7,])\n",
    "# np.concatenate(z, returnMany())"
   ]
  },
  {
   "cell_type": "code",
   "execution_count": 29,
   "metadata": {},
   "outputs": [
    {
     "data": {
      "text/plain": [
       "(6850, 128, 128, 3)\n",
       "(759, 128, 128, 3)\n",
       "(6850,)\n",
       "(759,)\n"
      ]
     },
     "execution_count": 29,
     "metadata": {},
     "output_type": "execute_result"
    }
   ],
   "source": [
    "print(x_train.shape)\n",
    "print(x_test.shape)\n",
    "print(y_train.shape)\n",
    "print(y_test.shape)"
   ]
  },
  {
   "cell_type": "code",
   "execution_count": 30,
   "metadata": {},
   "outputs": [
    {
     "data": {
      "text/plain": []
     },
     "execution_count": 30,
     "metadata": {},
     "output_type": "execute_result"
    }
   ],
   "source": [
    "# Prepare test image indices\n",
    "\n",
    "\n",
    "\n",
    "\n",
    "\n",
    "\n",
    "\n",
    "\n",
    "    #image_name = name_prefix + \"%06d\" % i + \".npy\"\n",
    "    \n",
    "        #image_fullname = os.path.join(output_training_folder, image_name)\n",
    "    # write to file\n",
    "    #image_brg = cv2.cvtColor(image_array, cv2.COLOR_RGB2BGR)\n",
    "    # print(image_brg)\n",
    "    #np.save(image_fullname, image_array)\n",
    "\n",
    "#print(\"Exported {} image in {}\".format(testCount, output_testing_folder))\n",
    "#print(\"Exported {} image in {}\".format((trainCount), output_training_folder))"
   ]
  },
  {
   "cell_type": "code",
   "execution_count": null,
   "metadata": {},
   "outputs": [],
   "source": []
  }
 ],
 "metadata": {
  "kernelspec": {
   "display_name": "Slicer 4.11",
   "language": "python",
   "name": "slicer-4.11"
  },
  "language_info": {
   "codemirror_mode": {
    "name": "ipython",
    "version": 3
   },
   "file_extension": ".py",
   "mimetype": "text/x-python",
   "name": "python",
   "nbconvert_exporter": "python",
   "pygments_lexer": "ipython3",
   "version": "2.7.13+"
  }
 },
 "nbformat": 4,
 "nbformat_minor": 2
}
