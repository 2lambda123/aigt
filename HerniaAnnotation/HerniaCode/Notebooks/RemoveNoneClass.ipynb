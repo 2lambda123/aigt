{
 "cells": [
  {
   "cell_type": "code",
   "execution_count": 32,
   "metadata": {},
   "outputs": [
    {
     "name": "stdout",
     "output_type": "stream",
     "text": [
      "(32359, 128, 128, 3)\n",
      "(32359,)\n",
      "32359\n",
      "(27894, 128, 128, 3)\n",
      "(27894,)\n"
     ]
    }
   ],
   "source": [
    "import numpy as np\n",
    "\n",
    "classes = ['None', 'Extob', 'Fat', 'Sack', 'Skin', 'Spchd']\n",
    "\n",
    "xFile = r\"C:\\Users\\PerkLab\\Desktop\\HerniaAnnotationData-2019-10-30\\x_train_fifth_128.npy\"\n",
    "yFile = r\"C:\\Users\\PerkLab\\Desktop\\HerniaAnnotationData-2019-10-30\\y_train_fifth_128.npy\"\n",
    "\n",
    "xOut = xFile[:-4]+\"_NoNone.npy\"\n",
    "yOut = yFile[:-4]+\"_NoNone.npy\"\n",
    "\n",
    "arrX = np.load(xFile)\n",
    "print(arrX.shape)\n",
    "arrY = np.load(yFile)\n",
    "print(arrY.shape)\n",
    "length = arrX.shape[0]\n",
    "print(length)\n",
    "\n",
    "\n",
    "# firstOne = np.where(arrY==1.0)[0][0]\n",
    "# print(firstOne)\n",
    "# arrX = arrX[firstOne:]\n",
    "# arrY = arrY[firstOne:]\n",
    "\n",
    "indexesToDrop = [i for i in range(length) if classes[int(arrY[i])]=='None']\n",
    "\n",
    "arrX = np.delete(arrX, indexesToDrop, axis=0)\n",
    "arrY = np.delete(arrY, indexesToDrop, axis=0)-1\n",
    "\n",
    "print(arrX.shape)\n",
    "print(arrY.shape)\n",
    "\n",
    "\n",
    "\n"
   ]
  },
  {
   "cell_type": "code",
   "execution_count": 33,
   "metadata": {},
   "outputs": [
    {
     "name": "stdout",
     "output_type": "stream",
     "text": [
      "(array([], dtype=int64),)\n",
      "4.0\n",
      "0.0\n"
     ]
    }
   ],
   "source": [
    "print(np.where(arrY==-1))\n",
    "print(np.max(arrY))\n",
    "print(np.min(arrY))"
   ]
  },
  {
   "cell_type": "code",
   "execution_count": 34,
   "metadata": {},
   "outputs": [],
   "source": [
    "np.save(xOut, arrX)\n",
    "np.save(yOut, arrY)"
   ]
  }
 ],
 "metadata": {
  "kernelspec": {
   "display_name": "Python 3",
   "language": "python",
   "name": "python3"
  },
  "language_info": {
   "codemirror_mode": {
    "name": "ipython",
    "version": 3
   },
   "file_extension": ".py",
   "mimetype": "text/x-python",
   "name": "python",
   "nbconvert_exporter": "python",
   "pygments_lexer": "ipython3",
   "version": "3.7.3"
  }
 },
 "nbformat": 4,
 "nbformat_minor": 2
}
