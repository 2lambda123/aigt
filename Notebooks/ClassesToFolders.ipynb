{
 "cells": [
  {
   "cell_type": "code",
   "execution_count": null,
   "metadata": {},
   "outputs": [],
   "source": [
    "# This notebook separates images into two folders based on having or not having an anatomical landmark on them."
   ]
  },
  {
   "cell_type": "code",
   "execution_count": 6,
   "metadata": {},
   "outputs": [],
   "source": [
    "import csv\n",
    "import cv2\n",
    "import numpy\n",
    "import os\n",
    "import pandas\n",
    "import shutil"
   ]
  },
  {
   "cell_type": "code",
   "execution_count": 2,
   "metadata": {},
   "outputs": [
    {
     "name": "stdout",
     "output_type": "stream",
     "text": [
      "Found 1510 images\n",
      "Found 2 annotation files\n"
     ]
    }
   ],
   "source": [
    "# Rood Folder is the only input for this notebook.\n",
    "# Set RootFolder as full path of the folder that includes annotations and images subfolders.\n",
    "\n",
    "RootFolder = \"m:\\Temp\"\n",
    "\n",
    "images_folder = os.path.join(RootFolder, \"images\")\n",
    "annotations_folder = os.path.join(RootFolder, \"annotations\")\n",
    "image_file_list = os.listdir(images_folder)\n",
    "annotation_file_list = os.listdir(annotations_folder)\n",
    "num_images = len(image_file_list)\n",
    "\n",
    "print(\"Found {} images\".format(num_images))\n",
    "print(\"Found {} annotation files\".format(len(annotation_file_list)))"
   ]
  },
  {
   "cell_type": "code",
   "execution_count": 4,
   "metadata": {},
   "outputs": [
    {
     "name": "stdout",
     "output_type": "stream",
     "text": [
      "Number of positive images found: 60\n"
     ]
    }
   ],
   "source": [
    "# Read annotation data from csv files and concatenate them in a single DataFrame.\n",
    "\n",
    "df = pandas.DataFrame()\n",
    "\n",
    "for i in range(len(annotation_file_list)):\n",
    "    current_file_path = os.path.join(annotations_folder, annotation_file_list[i])\n",
    "    df = pandas.concat([df, pandas.read_csv(current_file_path)])\n",
    "    \n",
    "print(\"Number of positive images found: {}\".format(df.shape[0]))"
   ]
  },
  {
   "cell_type": "code",
   "execution_count": 5,
   "metadata": {},
   "outputs": [
    {
     "name": "stdout",
     "output_type": "stream",
     "text": [
      "Created folder: m:\\Temp\\images\\positive\n",
      "Created folder: m:\\Temp\\images\\negative\n"
     ]
    }
   ],
   "source": [
    "# Create folders for classes if they don't exist already.\n",
    "\n",
    "positive_folder = os.path.join(images_folder, 'positive')\n",
    "negative_folder = os.path.join(images_folder, 'negative')\n",
    "\n",
    "if not os.path.exists(positive_folder):\n",
    "    os.makedirs(positive_folder)\n",
    "    print(\"Created folder: \" + positive_folder)\n",
    "\n",
    "if not os.path.exists(negative_folder):\n",
    "    os.makedirs(negative_folder)\n",
    "    print(\"Created folder: \" + negative_folder)\n"
   ]
  },
  {
   "cell_type": "code",
   "execution_count": 7,
   "metadata": {},
   "outputs": [],
   "source": [
    "# Copy images into 'positive' and 'negative' folders based on being annotated or not.\n",
    "\n",
    "for i in range(num_images):\n",
    "    current_file_name = image_file_list[i]\n",
    "    current_file_fullname = os.path.join(images_folder, current_file_name)\n",
    "    \n",
    "    new_file_fullname = os.path.join(positive_folder, current_file_name)\n",
    "    if df.loc[df.filename == current_file_name].shape[0] == 0:  # negative image class\n",
    "        new_file_fullname = os.path.join(negative_folder, current_file_name)\n",
    "    \n",
    "    shutil.copy2(current_file_fullname, new_file_fullname)"
   ]
  },
  {
   "cell_type": "code",
   "execution_count": null,
   "metadata": {},
   "outputs": [],
   "source": []
  }
 ],
 "metadata": {
  "kernelspec": {
   "display_name": "Python 3",
   "language": "python",
   "name": "python3"
  },
  "language_info": {
   "codemirror_mode": {
    "name": "ipython",
    "version": 3
   },
   "file_extension": ".py",
   "mimetype": "text/x-python",
   "name": "python",
   "nbconvert_exporter": "python",
   "pygments_lexer": "ipython3",
   "version": "3.6.6"
  }
 },
 "nbformat": 4,
 "nbformat_minor": 2
}
