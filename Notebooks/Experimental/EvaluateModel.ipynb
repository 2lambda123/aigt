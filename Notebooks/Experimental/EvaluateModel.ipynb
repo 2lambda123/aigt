{
 "cells": [
  {
   "cell_type": "code",
   "execution_count": 1,
   "metadata": {
    "pycharm": {
     "is_executing": false
    }
   },
   "outputs": [],
   "source": [
    "# Updating values in this cell should be enough to adapt this notebook to your environment.\n",
    "\n",
    "data_folder = r\"ChildrensTestArrays\"\n",
    "\n",
    "models_folder = r\"LeaveOneOut-Models\"\n",
    "model_filename = \"model_2019-08-13_23-30-31.h5\"\n",
    "\n",
    "test_ultrasound_file = r\"ultrasound-test.npy\"\n",
    "test_segmentation_file = r\"segmentation-test.npy\""
   ]
  },
  {
   "cell_type": "code",
   "execution_count": 2,
   "metadata": {
    "pycharm": {
     "is_executing": false
    }
   },
   "outputs": [
    {
     "name": "stderr",
     "text": [
      "Using TensorFlow backend.\n"
     ],
     "output_type": "stream"
    },
    {
     "name": "stdout",
     "text": [
      "Imports done at: 0:00:02.031579\n"
     ],
     "output_type": "stream"
    }
   ],
   "source": [
    "import datetime\n",
    "\n",
    "start_processing_timestamp = datetime.datetime.now()\n",
    "\n",
    "import numpy as np\n",
    "import os\n",
    "\n",
    "from keras import backend as K \n",
    "from keras.models import load_model\n",
    "\n",
    "from local_vars import root_folder\n",
    "\n",
    "timestamp = datetime.datetime.now()\n",
    "print(\"Imports done at: {}\".format((timestamp-start_processing_timestamp)))"
   ]
  },
  {
   "cell_type": "code",
   "execution_count": 3,
   "metadata": {
    "pycharm": {
     "is_executing": false
    }
   },
   "outputs": [
    {
     "name": "stdout",
     "text": [
      "Reading test ultarsound from:   d:ChildrensTestArrays\\ultrasound-test.npy\nReading test segmentation from: d:ChildrensTestArrays\\segmentation-test.npy\n\nFound 1126 test ultarsound images and 1126 segmentations\nData loaded at: 0:00:02.068508\n"
     ],
     "output_type": "stream"
    }
   ],
   "source": [
    "data_fullpath = os.path.join(root_folder, data_folder)\n",
    "\n",
    "test_ultrasound_fullname = os.path.join(data_fullpath, test_ultrasound_file)\n",
    "test_segmentation_fullname = os.path.join(data_fullpath, test_segmentation_file)\n",
    "\n",
    "print(\"Reading test ultarsound from:   {}\".format(test_ultrasound_fullname))\n",
    "print(\"Reading test segmentation from: {}\".format(test_segmentation_fullname))\n",
    "\n",
    "test_ultarsound_data = np.load(test_ultrasound_fullname)\n",
    "test_segmentation_data = np.load(test_segmentation_fullname)\n",
    "\n",
    "num_ultrasound = test_ultarsound_data.shape[0]\n",
    "num_segmentation = test_segmentation_data.shape[0]\n",
    "\n",
    "print(\"\\nFound {} test ultarsound images and {} segmentations\".format(num_ultrasound, num_segmentation))\n",
    "\n",
    "if num_ultrasound != num_segmentation:\n",
    "    print(\"Number of images should be equal!\")\n",
    "    raise ValueError\n",
    "\n",
    "timestamp = datetime.datetime.now()\n",
    "print(\"Data loaded at: {}\".format((timestamp-start_processing_timestamp)))"
   ]
  },
  {
   "cell_type": "code",
   "execution_count": 4,
   "metadata": {
    "pycharm": {
     "is_executing": false
    }
   },
   "outputs": [
    {
     "name": "stdout",
     "text": [
      "Loading model: d:LeaveOneOut-Models\\model_2019-08-13_23-30-31.h5\n"
     ],
     "output_type": "stream"
    }
   ],
   "source": [
    "models_folder_fullpath = os.path.join(root_folder, models_folder)\n",
    "model_fullname = os.path.join(models_folder_fullpath, model_filename)\n",
    "\n",
    "print(\"Loading model: {}\".format(model_fullname))"
   ]
  },
  {
   "cell_type": "code",
   "execution_count": null,
   "metadata": {
    "pycharm": {
     "is_executing": true
    }
   },
   "outputs": [],
   "source": [
    "model = load_model(model_fullname)\n",
    "# model = load_model(r\"d:\\LeaveOneOut-Models\\model_2019-08-13_23-30-31.h5\")\n",
    "\n",
    "timestamp = datetime.datetime.now()\n",
    "print(\"Model loaded at: {}\".format((timestamp-start_processing_timestamp)))"
   ]
  },
  {
   "cell_type": "code",
   "execution_count": 1,
   "metadata": {
    "pycharm": {
     "is_executing": false
    }
   },
   "outputs": [
    {
     "traceback": [
      "\u001b[1;31m---------------------------------------------------------------------------\u001b[0m",
      "\u001b[1;31mNameError\u001b[0m                                 Traceback (most recent call last)",
      "\u001b[1;32m<ipython-input-1-7745afefdef5>\u001b[0m in \u001b[0;36m<module>\u001b[1;34m\u001b[0m\n\u001b[1;32m----> 1\u001b[1;33m \u001b[0mtest_prediction_data\u001b[0m \u001b[1;33m=\u001b[0m \u001b[0mmodel\u001b[0m\u001b[1;33m.\u001b[0m\u001b[0mpredict\u001b[0m\u001b[1;33m(\u001b[0m\u001b[0mtest_ultarsound_data\u001b[0m\u001b[1;33m)\u001b[0m\u001b[1;33m\u001b[0m\u001b[1;33m\u001b[0m\u001b[0m\n\u001b[0m\u001b[0;32m      2\u001b[0m \u001b[1;33m\u001b[0m\u001b[0m\n\u001b[0;32m      3\u001b[0m \u001b[0mprediction_done_timestamp\u001b[0m \u001b[1;33m=\u001b[0m \u001b[0mdatetime\u001b[0m\u001b[1;33m.\u001b[0m\u001b[0mdatetime\u001b[0m\u001b[1;33m.\u001b[0m\u001b[0mnow\u001b[0m\u001b[1;33m(\u001b[0m\u001b[1;33m)\u001b[0m\u001b[1;33m\u001b[0m\u001b[1;33m\u001b[0m\u001b[0m\n\u001b[0;32m      4\u001b[0m \u001b[1;33m\u001b[0m\u001b[0m\n\u001b[0;32m      5\u001b[0m \u001b[0mprint\u001b[0m\u001b[1;33m(\u001b[0m\u001b[1;34m\"Total processing time: {}\"\u001b[0m\u001b[1;33m.\u001b[0m\u001b[0mformat\u001b[0m\u001b[1;33m(\u001b[0m\u001b[0mprediction_done_timestamp\u001b[0m\u001b[1;33m-\u001b[0m\u001b[0mstart_processing_timestamp\u001b[0m\u001b[1;33m)\u001b[0m\u001b[1;33m)\u001b[0m\u001b[1;33m\u001b[0m\u001b[1;33m\u001b[0m\u001b[0m\n",
      "\u001b[1;31mNameError\u001b[0m: name 'model' is not defined"
     ],
     "ename": "NameError",
     "evalue": "name 'model' is not defined",
     "output_type": "error"
    }
   ],
   "source": [
    "test_prediction_data = model.predict(test_ultarsound_data)\n",
    "\n",
    "prediction_done_timestamp = datetime.datetime.now()\n",
    "\n",
    "print(\"Total processing time: {}\".format(prediction_done_timestamp-start_processing_timestamp))"
   ]
  },
  {
   "cell_type": "code",
   "execution_count": null,
   "metadata": {},
   "outputs": [],
   "source": []
  }
 ],
 "metadata": {
  "kernelspec": {
   "display_name": "Python 3",
   "language": "python",
   "name": "python3"
  },
  "language_info": {
   "codemirror_mode": {
    "name": "ipython",
    "version": 3
   },
   "file_extension": ".py",
   "mimetype": "text/x-python",
   "name": "python",
   "nbconvert_exporter": "python",
   "pygments_lexer": "ipython3",
   "version": "3.7.4"
  },
  "pycharm": {
   "stem_cell": {
    "cell_type": "raw",
    "source": [],
    "metadata": {
     "collapsed": false
    }
   }
  }
 },
 "nbformat": 4,
 "nbformat_minor": 2
}