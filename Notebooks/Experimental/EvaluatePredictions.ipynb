{
 "cells": [
  {
   "cell_type": "code",
   "execution_count": 6,
   "metadata": {},
   "outputs": [],
   "source": [
    "notebook_name = \"EvaluatePredictions\"\n",
    "\n",
    "# Update only this cell with your local parameters\n",
    "\n",
    "predictions_folder = \"ChildrensPredictionArrays\"\n",
    "ground_truth_file  = r\"ChildrensTestArrays\\segmentation-test.npy\"\n",
    "\n",
    "acceptable_margin_mm = 1.0\n",
    "mm_per_pixel = 1.0\n",
    "\n",
    "roc_thresholds = [0.9, 0.8, 0.7, 0.6, 0.5, 0.4, 0.3, 0.2, 0.1,\n",
    "                  0.08, 0.06, 0.04, 0.02, 0.01,\n",
    "                  0.008, 0.006, 0.004, 0.002, 0.001,\n",
    "                  0.0008, 0.0006, 0.0004, 0.0002, 0.0001,\n",
    "                  0.00001, 0.000001]\n"
   ]
  },
  {
   "cell_type": "code",
   "execution_count": 2,
   "metadata": {},
   "outputs": [],
   "source": [
    "import datetime\n",
    "import matplotlib.pyplot as plt\n",
    "import numpy as np\n",
    "import os \n",
    "import scipy.ndimage\n",
    "\n",
    "from random import sample\n",
    "\n",
    "from evaluation_metrics import *\n",
    "\n",
    "from local_vars import root_folder"
   ]
  },
  {
   "cell_type": "code",
   "execution_count": 3,
   "metadata": {},
   "outputs": [
    {
     "name": "stdout",
     "output_type": "stream",
     "text": [
      "Found 8 predictions in d:\\Data\\ChildrensPredictionArrays\n",
      "Reading ground truth from:  d:\\Data\\ChildrensTestArrays\\segmentation-test.npy\n",
      "\n",
      "Found 1126 ground truth images\n"
     ]
    }
   ],
   "source": [
    "# Read data arrays\n",
    "\n",
    "predictions_folder_fullpath = os.path.join(root_folder, predictions_folder)\n",
    "\n",
    "predictions_file_list = [f for f in os.listdir(predictions_folder_fullpath) if f.endswith('.npy')]\n",
    "num_predictions = len(predictions_file_list)\n",
    "\n",
    "print(\"Found {} predictions in {}\".format(num_predictions, predictions_folder_fullpath))\n",
    "\n",
    "groundtruth_fullname = os.path.join(root_folder, ground_truth_file)\n",
    "\n",
    "print(\"Reading ground truth from:  {}\".format(groundtruth_fullname))\n",
    "\n",
    "groundtruth_data = np.load(groundtruth_fullname)\n",
    "num_groundtruth = groundtruth_data.shape[0]\n",
    "\n",
    "print(\"\\nFound {} ground truth images\".format(num_groundtruth))"
   ]
  },
  {
   "cell_type": "code",
   "execution_count": 4,
   "metadata": {},
   "outputs": [
    {
     "name": "stdout",
     "output_type": "stream",
     "text": [
      "\n",
      "Metrics for file: d:\\Data\\ChildrensPredictionArrays\\q000_prediction.npy\n",
      "  Best threshold:           0.0004\n",
      "  Best true positive rate:  0.9039675831551732\n",
      "  Best false positive rate: 0.04544124769377404\n",
      "\n",
      "\n",
      "Metrics for file: d:\\Data\\ChildrensPredictionArrays\\q001_prediction.npy\n",
      "  Best threshold:           0.0002\n",
      "  Best true positive rate:  0.9380002983145229\n",
      "  Best false positive rate: 0.053733833277659925\n",
      "\n",
      "\n",
      "Metrics for file: d:\\Data\\ChildrensPredictionArrays\\q002_prediction.npy\n",
      "  Best threshold:           0.002\n",
      "  Best true positive rate:  0.9453835827574207\n",
      "  Best false positive rate: 0.05730193953025818\n",
      "\n",
      "\n",
      "Metrics for file: d:\\Data\\ChildrensPredictionArrays\\q003_prediction.npy\n",
      "  Best threshold:           0.0006\n",
      "  Best true positive rate:  0.9545070352508328\n",
      "  Best false positive rate: 0.04775410274776092\n",
      "\n",
      "\n",
      "Metrics for file: d:\\Data\\ChildrensPredictionArrays\\q004_prediction.npy\n",
      "  Best threshold:           0.0002\n",
      "  Best true positive rate:  0.9277333068164867\n",
      "  Best false positive rate: 0.052791659826598475\n",
      "\n",
      "\n",
      "Metrics for file: d:\\Data\\ChildrensPredictionArrays\\q005_prediction.npy\n",
      "  Best threshold:           0.0006\n",
      "  Best true positive rate:  0.9213195445731617\n",
      "  Best false positive rate: 0.04890317975372483\n",
      "\n",
      "\n",
      "Metrics for file: d:\\Data\\ChildrensPredictionArrays\\q006_prediction.npy\n",
      "  Best threshold:           0.0001\n",
      "  Best true positive rate:  0.9352160294336997\n",
      "  Best false positive rate: 0.06085316680864068\n",
      "\n",
      "\n",
      "Metrics for file: d:\\Data\\ChildrensPredictionArrays\\q007_prediction.npy\n",
      "  Best threshold:           0.0002\n",
      "  Best true positive rate:  0.9273604136628052\n",
      "  Best false positive rate: 0.053118839684864125\n",
      "\n"
     ]
    }
   ],
   "source": [
    "for prediction_filename in predictions_file_list:\n",
    "    prediction_fullname = os.path.join(predictions_folder_fullpath, prediction_filename)\n",
    "    prediction_data = np.load(prediction_fullname)\n",
    "    \n",
    "    true_positives, false_positives = compute_roc(\n",
    "        roc_thresholds, prediction_data, groundtruth_data, acceptable_margin_mm, mm_per_pixel)\n",
    "    \n",
    "    best_threshold_index = compute_goodness(roc_thresholds, true_positives, false_positives)\n",
    "    print(\"\\nMetrics for file: {}\".format(prediction_fullname))\n",
    "\n",
    "    print(\"  Best threshold:           {}\".format(roc_thresholds[best_threshold_index]))\n",
    "    print(\"  Best true positive rate:  {}\".format(true_positives[best_threshold_index]))\n",
    "    print(\"  Best false positive rate: {}\\n\".format(false_positives[best_threshold_index]))\n"
   ]
  },
  {
   "cell_type": "code",
   "execution_count": 5,
   "metadata": {},
   "outputs": [
    {
     "data": {
      "application/javascript": [
       "\n",
       "require([\"base/js/namespace\"],function(Jupyter) {\n",
       "    Jupyter.notebook.save_checkpoint();\n",
       "});\n"
      ],
      "text/plain": [
       "<IPython.core.display.Javascript object>"
      ]
     },
     "execution_count": 5,
     "metadata": {},
     "output_type": "execute_result"
    }
   ],
   "source": [
    "# Save notebook\n",
    "\n",
    "from IPython.display import Javascript\n",
    "script = '''\n",
    "require([\"base/js/namespace\"],function(Jupyter) {\n",
    "    Jupyter.notebook.save_checkpoint();\n",
    "});\n",
    "'''\n",
    "Javascript(script)"
   ]
  },
  {
   "cell_type": "code",
   "execution_count": 8,
   "metadata": {},
   "outputs": [
    {
     "name": "stdout",
     "output_type": "stream",
     "text": [
      "Notebook saved to: d:\\Data\\LeaveOneOutNotebooks\\EvaluatePredictions_2019-10-13_21-20-08.html\n"
     ]
    }
   ],
   "source": [
    "# Archive notebook with unique filenames based on timestamps in one single HTML file.\n",
    "\n",
    "timestamp = datetime.datetime.now().strftime('%Y-%m-%d_%H-%M-%S')\n",
    "\n",
    "notebook_fullpath = os.path.join(root_folder, \"LeaveOneOutNotebooks\")\n",
    "\n",
    "if not os.path.exists(notebook_fullpath):\n",
    "    os.makedirs(notebook_fullpath)\n",
    "    print(\"Creating folder: {}\".format(notebook_fullpath))\n",
    "notebook_file_name = notebook_name + \"_\" + timestamp + \".html\"\n",
    "notebook_fullname = os.path.join(notebook_fullpath, notebook_file_name)\n",
    "\n",
    "os.system(\"jupyter nbconvert --to html \"+ notebook_name +\" --output \" + notebook_fullname)\n",
    "print(\"Notebook saved to: {}\".format(notebook_fullname))"
   ]
  },
  {
   "cell_type": "code",
   "execution_count": null,
   "metadata": {},
   "outputs": [],
   "source": []
  }
 ],
 "metadata": {
  "kernelspec": {
   "display_name": "Python 3",
   "language": "python",
   "name": "python3"
  },
  "language_info": {
   "codemirror_mode": {
    "name": "ipython",
    "version": 3
   },
   "file_extension": ".py",
   "mimetype": "text/x-python",
   "name": "python",
   "nbconvert_exporter": "python",
   "pygments_lexer": "ipython3",
   "version": "3.7.4"
  }
 },
 "nbformat": 4,
 "nbformat_minor": 2
}
