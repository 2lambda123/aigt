{
 "cells": [
  {
   "cell_type": "code",
   "execution_count": 1,
   "metadata": {},
   "outputs": [],
   "source": [
    "# Update only this cell with your local parameters\n",
    "\n",
    "predictions_folder = \"Q2C_Predictions\"\n",
    "ground_truth_file = r\"ChildrensTestArrays\\segmentation-test.npy\"\n",
    "\n",
    "acceptable_margin_mm = 1.0\n",
    "mm_per_pixel = 1.0"
   ]
  },
  {
   "cell_type": "code",
   "execution_count": 2,
   "metadata": {},
   "outputs": [],
   "source": [
    "import datetime\n",
    "import matplotlib.pyplot as plt\n",
    "import numpy as np\n",
    "import os \n",
    "import scipy.ndimage\n",
    "\n",
    "from random import sample\n",
    "\n",
    "from evaluation_metrics import compute_evaluation_metrics\n",
    "from local_vars import root_folder"
   ]
  },
  {
   "cell_type": "code",
   "execution_count": 3,
   "metadata": {},
   "outputs": [
    {
     "name": "stdout",
     "output_type": "stream",
     "text": [
      "Found 8 predictions in d:\\Data\\Q2C_Predictions\n",
      "Reading ground truth from:  d:\\Data\\ChildrensTestArrays\\segmentation-test.npy\n",
      "\n",
      "Found 1126 ground truth images\n"
     ]
    }
   ],
   "source": [
    "# Read data arrays\n",
    "\n",
    "predictions_folder_fullpath = os.path.join(root_folder, predictions_folder)\n",
    "\n",
    "predictions_file_list = [f for f in os.listdir(predictions_folder_fullpath) if f.endswith('.npy')]\n",
    "num_predictions = len(predictions_file_list)\n",
    "\n",
    "print(\"Found {} predictions in {}\".format(num_predictions, predictions_folder_fullpath))\n",
    "\n",
    "groundtruth_fullname = os.path.join(root_folder, ground_truth_file)\n",
    "\n",
    "print(\"Reading ground truth from:  {}\".format(groundtruth_fullname))\n",
    "\n",
    "groundtruth_data = np.load(groundtruth_fullname)\n",
    "num_groundtruth = groundtruth_data.shape[0]\n",
    "\n",
    "print(\"\\nFound {} ground truth images\".format(num_groundtruth))"
   ]
  },
  {
   "cell_type": "code",
   "execution_count": 4,
   "metadata": {},
   "outputs": [
    {
     "name": "stdout",
     "output_type": "stream",
     "text": [
      "\n",
      "Metrics for file: d:\\Data\\Q2C_Predictions\\prediction_model_2019-08-13_23-30-31.npy\n",
      "{'false_positive_prediction_mm2': 12.377707735187649, 'true_negative_area_mm2': 16310.874777975134, 'true_negative_area_percent': 99.92411377131101, 'true_positive_prediction_mm2': 4.734153842417851, 'true_positive_area_mm2': 35.724689165186504, 'true_positive_area_percent': 13.251770562726845}\n",
      "\n",
      "Metrics for file: d:\\Data\\Q2C_Predictions\\prediction_model_2019-08-13_23-50-13.npy\n",
      "{'false_positive_prediction_mm2': 9.40692748577721, 'true_negative_area_mm2': 16310.874777975134, 'true_negative_area_percent': 99.94232726561988, 'true_positive_prediction_mm2': 4.722348797596581, 'true_positive_area_mm2': 35.724689165186504, 'true_positive_area_percent': 13.218726062978547}\n",
      "\n",
      "Metrics for file: d:\\Data\\Q2C_Predictions\\prediction_model_2019-08-13_23-58-43.npy\n",
      "{'false_positive_prediction_mm2': 21.640300703393315, 'true_negative_area_mm2': 16310.874777975134, 'true_negative_area_percent': 99.86732593439676, 'true_positive_prediction_mm2': 8.10373851715142, 'true_positive_area_mm2': 35.724689165186504, 'true_positive_area_percent': 22.683860116125143}\n",
      "\n",
      "Metrics for file: d:\\Data\\Q2C_Predictions\\prediction_model_2019-08-14_00-06-33.npy\n",
      "{'false_positive_prediction_mm2': 32.42583841040532, 'true_negative_area_mm2': 16310.874777975134, 'true_negative_area_percent': 99.80120110753232, 'true_positive_prediction_mm2': 10.441000360790408, 'true_positive_area_mm2': 35.724689165186504, 'true_positive_area_percent': 29.226287491299157}\n",
      "\n",
      "Metrics for file: d:\\Data\\Q2C_Predictions\\prediction_model_2019-08-14_00-18-11.npy\n",
      "{'false_positive_prediction_mm2': 9.295973129279671, 'true_negative_area_mm2': 16310.874777975134, 'true_negative_area_percent': 99.94300751335648, 'true_positive_prediction_mm2': 3.66845919946159, 'true_positive_area_mm2': 35.724689165186504, 'true_positive_area_percent': 10.26869452243263}\n",
      "\n",
      "Metrics for file: d:\\Data\\Q2C_Predictions\\prediction_model_2019-08-14_11-24-48.npy\n",
      "{'false_positive_prediction_mm2': 16.99889553609829, 'true_negative_area_mm2': 16310.874777975134, 'true_negative_area_percent': 99.8957818279676, 'true_positive_prediction_mm2': 7.711401497280195, 'true_positive_area_mm2': 35.724689165186504, 'true_positive_area_percent': 21.585636369356884}\n",
      "\n",
      "Metrics for file: d:\\Data\\Q2C_Predictions\\prediction_model_2019-08-14_16-52-25.npy\n",
      "{'false_positive_prediction_mm2': 10.58692523294929, 'true_negative_area_mm2': 16310.874777975134, 'true_negative_area_percent': 99.93509284218622, 'true_positive_prediction_mm2': 3.8981335167351245, 'true_positive_area_mm2': 35.724689165186504, 'true_positive_area_percent': 10.911595335961193}\n",
      "\n",
      "Metrics for file: d:\\Data\\Q2C_Predictions\\prediction_model_2019-08-14_17-36-05.npy\n",
      "{'false_positive_prediction_mm2': 10.873012766095844, 'true_negative_area_mm2': 16310.874777975134, 'true_negative_area_percent': 99.93333887413091, 'true_positive_prediction_mm2': 3.8811529508492453, 'true_positive_area_mm2': 35.724689165186504, 'true_positive_area_percent': 10.864063597315791}\n"
     ]
    }
   ],
   "source": [
    "for prediction_filename in predictions_file_list:\n",
    "    prediction_fullname = os.path.join(predictions_folder_fullpath, prediction_filename)\n",
    "    prediction = np.load(prediction_fullname)\n",
    "    metrics = compute_evaluation_metrics(prediction, groundtruth_data, acceptable_margin_mm=1.0, mm_per_pixel=1.0)\n",
    "    print(\"\\nMetrics for file: {}\".format(prediction_fullname))\n",
    "    print(metrics)"
   ]
  },
  {
   "cell_type": "code",
   "execution_count": null,
   "metadata": {},
   "outputs": [],
   "source": []
  }
 ],
 "metadata": {
  "kernelspec": {
   "display_name": "Python 3",
   "language": "python",
   "name": "python3"
  },
  "language_info": {
   "codemirror_mode": {
    "name": "ipython",
    "version": 3
   },
   "file_extension": ".py",
   "mimetype": "text/x-python",
   "name": "python",
   "nbconvert_exporter": "python",
   "pygments_lexer": "ipython3",
   "version": "3.7.4"
  }
 },
 "nbformat": 4,
 "nbformat_minor": 2
}
