{
 "cells": [
  {
   "cell_type": "code",
   "execution_count": 62,
   "metadata": {},
   "outputs": [],
   "source": [
    "data_folder = r\"n2\\train\"\n",
    "output_folder = r\"n2a\\train\"\n",
    "\n",
    "ignore_classes = True\n",
    "output_image_size = 128\n",
    "input_intensity_scaling = 1 / 255.0"
   ]
  },
  {
   "cell_type": "code",
   "execution_count": 63,
   "metadata": {},
   "outputs": [
    {
     "name": "stdout",
     "output_type": "stream",
     "text": [
      "Found 5668 image files\n",
      "Found 1 annotation files\n"
     ]
    }
   ],
   "source": [
    "import os\n",
    "\n",
    "from local_vars import root_folder\n",
    "\n",
    "data_fullpath = os.path.join(root_folder, data_folder)\n",
    "\n",
    "image_file_list = [f for f in os.listdir(data_fullpath) if f.endswith('.png')]\n",
    "annot_file_list = [f for f in os.listdir(data_fullpath) if f.endswith('.csv')]\n",
    "num_images = len(image_file_list)\n",
    "\n",
    "print(\"Found {} image files\".format(num_images))\n",
    "print(\"Found {} annotation files\".format(len(annot_file_list)))"
   ]
  },
  {
   "cell_type": "code",
   "execution_count": 64,
   "metadata": {},
   "outputs": [
    {
     "name": "stdout",
     "output_type": "stream",
     "text": [
      "Number of annotations found: 5668\n"
     ]
    }
   ],
   "source": [
    "import pandas\n",
    "\n",
    "annot_df = pandas.DataFrame()\n",
    "\n",
    "for i in range(len(annot_file_list)):\n",
    "    current_file_path = os.path.join(data_fullpath, annot_file_list[i])\n",
    "    annot_df = pandas.concat([annot_df, pandas.read_csv(current_file_path)])\n",
    "    \n",
    "print(\"Number of annotations found: {}\".format(annot_df.shape[0]))"
   ]
  },
  {
   "cell_type": "code",
   "execution_count": 65,
   "metadata": {},
   "outputs": [
    {
     "name": "stdout",
     "output_type": "stream",
     "text": [
      "1 classes found\n"
     ]
    }
   ],
   "source": [
    "import numpy as np\n",
    "\n",
    "if ignore_classes == True:\n",
    "    annot_df['class'] = 0\n",
    "\n",
    "class_numbers = annot_df[['class']].values\n",
    "num_classes = max(class_numbers)[0] + 1\n",
    "\n",
    "print(\"{} classes found\".format(num_classes))\n",
    "\n",
    "class_data = np.zeros([num_images, num_classes])\n",
    "locations_data = np.zeros([num_images, 2])"
   ]
  },
  {
   "cell_type": "code",
   "execution_count": 66,
   "metadata": {},
   "outputs": [
    {
     "data": {
      "text/html": [
       "<div>\n",
       "<style scoped>\n",
       "    .dataframe tbody tr th:only-of-type {\n",
       "        vertical-align: middle;\n",
       "    }\n",
       "\n",
       "    .dataframe tbody tr th {\n",
       "        vertical-align: top;\n",
       "    }\n",
       "\n",
       "    .dataframe thead th {\n",
       "        text-align: right;\n",
       "    }\n",
       "</style>\n",
       "<table border=\"1\" class=\"dataframe\">\n",
       "  <thead>\n",
       "    <tr style=\"text-align: right;\">\n",
       "      <th></th>\n",
       "      <th>Unnamed: 0</th>\n",
       "      <th>Unnamed: 0.1</th>\n",
       "      <th>Unnamed: 0.1.1</th>\n",
       "      <th>filename</th>\n",
       "      <th>width</th>\n",
       "      <th>height</th>\n",
       "      <th>class</th>\n",
       "      <th>x</th>\n",
       "      <th>y</th>\n",
       "    </tr>\n",
       "  </thead>\n",
       "  <tbody>\n",
       "    <tr>\n",
       "      <th>0</th>\n",
       "      <td>0</td>\n",
       "      <td>635</td>\n",
       "      <td>1341</td>\n",
       "      <td>n2_1394.png</td>\n",
       "      <td>512</td>\n",
       "      <td>512</td>\n",
       "      <td>0</td>\n",
       "      <td>0.693486</td>\n",
       "      <td>0.650811</td>\n",
       "    </tr>\n",
       "    <tr>\n",
       "      <th>1</th>\n",
       "      <td>1</td>\n",
       "      <td>636</td>\n",
       "      <td>1342</td>\n",
       "      <td>n2_1395.png</td>\n",
       "      <td>512</td>\n",
       "      <td>512</td>\n",
       "      <td>0</td>\n",
       "      <td>0.693486</td>\n",
       "      <td>0.650811</td>\n",
       "    </tr>\n",
       "    <tr>\n",
       "      <th>2</th>\n",
       "      <td>2</td>\n",
       "      <td>637</td>\n",
       "      <td>1343</td>\n",
       "      <td>n2_1396.png</td>\n",
       "      <td>512</td>\n",
       "      <td>512</td>\n",
       "      <td>0</td>\n",
       "      <td>0.691867</td>\n",
       "      <td>0.649419</td>\n",
       "    </tr>\n",
       "    <tr>\n",
       "      <th>3</th>\n",
       "      <td>3</td>\n",
       "      <td>638</td>\n",
       "      <td>1344</td>\n",
       "      <td>n2_1397.png</td>\n",
       "      <td>512</td>\n",
       "      <td>512</td>\n",
       "      <td>0</td>\n",
       "      <td>0.689461</td>\n",
       "      <td>0.648587</td>\n",
       "    </tr>\n",
       "    <tr>\n",
       "      <th>4</th>\n",
       "      <td>4</td>\n",
       "      <td>639</td>\n",
       "      <td>1345</td>\n",
       "      <td>n2_1398.png</td>\n",
       "      <td>512</td>\n",
       "      <td>512</td>\n",
       "      <td>0</td>\n",
       "      <td>0.687786</td>\n",
       "      <td>0.646134</td>\n",
       "    </tr>\n",
       "  </tbody>\n",
       "</table>\n",
       "</div>"
      ],
      "text/plain": [
       "   Unnamed: 0  Unnamed: 0.1  Unnamed: 0.1.1     filename  width  height  \\\n",
       "0           0           635            1341  n2_1394.png    512     512   \n",
       "1           1           636            1342  n2_1395.png    512     512   \n",
       "2           2           637            1343  n2_1396.png    512     512   \n",
       "3           3           638            1344  n2_1397.png    512     512   \n",
       "4           4           639            1345  n2_1398.png    512     512   \n",
       "\n",
       "   class         x         y  \n",
       "0      0  0.693486  0.650811  \n",
       "1      0  0.693486  0.650811  \n",
       "2      0  0.691867  0.649419  \n",
       "3      0  0.689461  0.648587  \n",
       "4      0  0.687786  0.646134  "
      ]
     },
     "execution_count": 66,
     "metadata": {},
     "output_type": "execute_result"
    }
   ],
   "source": [
    "annot_df.head(5)"
   ]
  },
  {
   "cell_type": "code",
   "execution_count": 67,
   "metadata": {},
   "outputs": [
    {
     "name": "stdout",
     "output_type": "stream",
     "text": [
      "Reading files and saving them in numpy arrays...\n"
     ]
    },
    {
     "data": {
      "application/vnd.jupyter.widget-view+json": {
       "model_id": "74ec3a47e30245239493d0a2a4cb0fad",
       "version_major": 2,
       "version_minor": 0
      },
      "text/plain": [
       "IntProgress(value=0, max=5668)"
      ]
     },
     "metadata": {},
     "output_type": "display_data"
    }
   ],
   "source": [
    "import cv2\n",
    "from ipywidgets import IntProgress\n",
    "from IPython.display import display\n",
    "\n",
    "image_data = np.zeros([num_images, output_image_size, output_image_size, 1]).astype(np.uint8)\n",
    "\n",
    "f = IntProgress(min=0, max=num_images)\n",
    "print(\"Reading files and saving them in numpy arrays...\")\n",
    "display(f)\n",
    "\n",
    "for i in range(num_images):\n",
    "    f.value = i\n",
    "    current_file_name = image_file_list[i]\n",
    "    current_file_path = os.path.join(data_fullpath, current_file_name)\n",
    "    image = cv2.imread(current_file_path, 0)\n",
    "    if image is None:\n",
    "        print(\"File not read: {}\".format(current_file_path))\n",
    "        break\n",
    "    if image.shape[0] != output_image_size or image.shape[1] != output_image_size:\n",
    "        image_data[i][:,:,0] = cv2.resize(image, (output_image_size, output_image_size)).astype(np.uint8)\n",
    "    else:\n",
    "        image_data[i][:,:,0] = image.astype(np.uint8)\n",
    "    class_number = annot_df[annot_df.filename==current_file_name]['class'].values[0]\n",
    "    class_data[i,class_number] = 1\n",
    "    location = annot_df[annot_df.filename==current_file_name][['x', 'y']].values[0]\n",
    "    locations_data[i] = location\n",
    "    \n",
    "\n",
    "image_data = image_data * input_intensity_scaling"
   ]
  },
  {
   "cell_type": "code",
   "execution_count": 68,
   "metadata": {},
   "outputs": [
    {
     "name": "stdout",
     "output_type": "stream",
     "text": [
      "Showing image #2834 of 5668\n",
      "Location: [0.70992374 0.58816817]\n"
     ]
    },
    {
     "data": {
      "image/png": "[encoded data removed]",
      "text/plain": [
       "<Figure size 432x288 with 2 Axes>"
      ]
     },
     "metadata": {
      "needs_background": "light"
     },
     "output_type": "display_data"
    }
   ],
   "source": [
    "# Show an example positive image to make sure data is read properly.\n",
    "# This cell is not necessary to generate output, but it's nice to check that the data looks good.\n",
    "\n",
    "import matplotlib.pyplot as plt\n",
    "\n",
    "if num_classes > 1:\n",
    "    class_1_indices = np.where(class_data[:,1]==1)\n",
    "    class_1_image_index = class_1_indices[0][len(class_1_indices[0]) // 2]\n",
    "    print(\"Showing image #{} of {}\".format(class_1_image_index, num_images))\n",
    "\n",
    "    plt.imshow(image_data[class_1_image_index, :, :, 0])\n",
    "    plt.colorbar()\n",
    "    plt.title(\"class 1\")\n",
    "    plt.show()\n",
    "\n",
    "class_0_indices = np.where(class_data[:,0]==1)\n",
    "class_0_image_index = class_0_indices[0][len(class_0_indices[0]) // 2]\n",
    "print(\"Showing image #{} of {}\".format(class_0_image_index, num_images))\n",
    "print(\"Location: {}\".format(locations_data[class_0_image_index]))\n",
    "\n",
    "plt.imshow(image_data[class_0_image_index, :, :, 0])\n",
    "plt.colorbar()\n",
    "plt.title(\"class 0\")\n",
    "plt.axvline(x = locations_data[class_0_image_index][0] * output_image_size)\n",
    "plt.axhline(y = locations_data[class_0_image_index][1] * output_image_size)\n",
    "plt.show()\n"
   ]
  },
  {
   "cell_type": "code",
   "execution_count": 69,
   "metadata": {},
   "outputs": [
    {
     "name": "stdout",
     "output_type": "stream",
     "text": [
      "Created folder: c:\\Data\\n2a\\train\n",
      "Saving images to:    c:\\Data\\n2a\\train\\images\n",
      "Saving classes to:   c:\\Data\\n2a\\train\\classes\n",
      "Saving locations to: c:\\Data\\n2a\\train\\locations\n"
     ]
    }
   ],
   "source": [
    "output_fullpath = os.path.join(root_folder, output_folder)\n",
    "\n",
    "if not os.path.exists(output_fullpath):\n",
    "    os.makedirs(output_fullpath)\n",
    "    print(\"Created folder: \" + output_fullpath)\n",
    "\n",
    "images_output_file = os.path.join(output_fullpath, \"images\")\n",
    "class_output_file = os.path.join(output_fullpath, \"classes\")\n",
    "locations_output_file = os.path.join(output_fullpath, \"locations\")\n",
    "\n",
    "print(\"Saving images to:    {}\".format(images_output_file))\n",
    "print(\"Saving classes to:   {}\".format(class_output_file))\n",
    "print(\"Saving locations to: {}\".format(locations_output_file))\n",
    "\n",
    "np.save(images_output_file, image_data)\n",
    "np.save(class_output_file, class_data)\n",
    "np.save(locations_output_file, locations_data)"
   ]
  },
  {
   "cell_type": "code",
   "execution_count": null,
   "metadata": {},
   "outputs": [],
   "source": []
  }
 ],
 "metadata": {
  "kernelspec": {
   "display_name": "Python 3",
   "language": "python",
   "name": "python3"
  },
  "language_info": {
   "codemirror_mode": {
    "name": "ipython",
    "version": 3
   },
   "file_extension": ".py",
   "mimetype": "text/x-python",
   "name": "python",
   "nbconvert_exporter": "python",
   "pygments_lexer": "ipython3",
   "version": "3.6.7"
  }
 },
 "nbformat": 4,
 "nbformat_minor": 2
}
