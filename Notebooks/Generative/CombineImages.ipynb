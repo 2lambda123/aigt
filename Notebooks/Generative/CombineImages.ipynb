{
 "cells": [
  {
   "cell_type": "code",
   "execution_count": 1,
   "metadata": {},
   "outputs": [],
   "source": [
    "data_folder = r\"2012-08-28_HSubject-001\\Slicer\"\n",
    "output_folder = r\"2012-08-28_HSubject-001\\Slicer\\combine\"\n",
    "\n",
    "image_size = 512"
   ]
  },
  {
   "cell_type": "code",
   "execution_count": 2,
   "metadata": {},
   "outputs": [
    {
     "name": "stdout",
     "output_type": "stream",
     "text": [
      "Found 355 image files\n",
      "Found 355 segmentations\n"
     ]
    }
   ],
   "source": [
    "import os\n",
    "\n",
    "from local_vars import root_folder\n",
    "\n",
    "data_fullpath = os.path.join(root_folder, data_folder)\n",
    "\n",
    "image_file_list = [f for f in os.listdir(data_fullpath) if f.endswith('ultrasound.png')]\n",
    "segmentation_file_list = [f for f in os.listdir(data_fullpath) if f.endswith('segmentation.png')]\n",
    "\n",
    "num_images = len(image_file_list)\n",
    "num_segmentations = len(segmentation_file_list)\n",
    "\n",
    "print( \"Found {} image files\".format(num_images))\n",
    "print( \"Found {} segmentations\".format(num_segmentations))"
   ]
  },
  {
   "cell_type": "code",
   "execution_count": 3,
   "metadata": {},
   "outputs": [],
   "source": [
    "import cv2\n",
    "import numpy as np\n",
    "\n",
    "def combine(a, b):\n",
    "    if a.shape[0] != image_size or a.shape[1] != image_size:\n",
    "        a = cv2.resize(a, (image_size, image_size))\n",
    "    \n",
    "    if b.shape[0] != image_size or b.shape[1] != image_size:\n",
    "        b = cv2.resize(b, (image_size, image_size))\n",
    "        \n",
    "    return np.concatenate((a,b), axis=1)\n",
    "    "
   ]
  },
  {
   "cell_type": "code",
   "execution_count": 4,
   "metadata": {},
   "outputs": [
    {
     "name": "stdout",
     "output_type": "stream",
     "text": [
      "Reading and combining files...\n"
     ]
    },
    {
     "data": {
      "application/vnd.jupyter.widget-view+json": {
       "model_id": "22601d2ed8584960bf579da20b7e3fdb",
       "version_major": 2,
       "version_minor": 0
      },
      "text/plain": [
       "IntProgress(value=0, max=355)"
      ]
     },
     "metadata": {},
     "output_type": "display_data"
    },
    {
     "name": "stdout",
     "output_type": "stream",
     "text": [
      "Finished combining\n"
     ]
    }
   ],
   "source": [
    "from ipywidgets import IntProgress\n",
    "from IPython.display import display\n",
    "\n",
    "output_fullpath = os.path.join(root_folder, output_folder)\n",
    "if not os.path.exists(output_fullpath):\n",
    "    os.makedirs(output_fullpath)\n",
    "    print(\"Created folder: \" + output_fullpath)\n",
    "\n",
    "f = IntProgress(min=0, max=num_images)\n",
    "print(\"Reading and combining files...\")\n",
    "display(f)\n",
    "\n",
    "for i in range(num_images):\n",
    "    f.value = i\n",
    "    current_file_name = image_file_list[i]\n",
    "    current_file_fullname = os.path.join(data_fullpath, current_file_name)\n",
    "    current_segmentation_name = segmentation_file_list[i]\n",
    "    current_segmentation_fullname = os.path.join(data_fullpath, current_segmentation_name)\n",
    "    \n",
    "    output_file_name = current_file_name.replace(\"_ultrasound\",\"\")\n",
    "    output_file_fullname = os.path.join(output_fullpath, output_file_name)\n",
    "    \n",
    "    image = cv2.imread(current_file_fullname, 0)\n",
    "    segmentation = cv2.imread(current_segmentation_fullname, 0)\n",
    "    \n",
    "    segmentation_image = combine(segmentation, image)\n",
    "    \n",
    "    cv2.imwrite(output_file_fullname, segmentation_image)\n",
    "    \n",
    "print(\"Finished combining\")"
   ]
  },
  {
   "cell_type": "code",
   "execution_count": null,
   "metadata": {},
   "outputs": [],
   "source": []
  }
 ],
 "metadata": {
  "kernelspec": {
   "display_name": "Python 3",
   "language": "python",
   "name": "python3"
  },
  "language_info": {
   "codemirror_mode": {
    "name": "ipython",
    "version": 3
   },
   "file_extension": ".py",
   "mimetype": "text/x-python",
   "name": "python",
   "nbconvert_exporter": "python",
   "pygments_lexer": "ipython3",
   "version": "3.7.3"
  }
 },
 "nbformat": 4,
 "nbformat_minor": 2
}
