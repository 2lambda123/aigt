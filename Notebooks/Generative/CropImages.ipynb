{
 "cells": [
  {
   "cell_type": "code",
   "execution_count": 1,
   "metadata": {},
   "outputs": [],
   "source": [
    "data_folder = r\"ParticipantScans\\GAN\\OnQuestionnaire\"\n",
    "output_folder = r\"ParticipantScans\\GAN\\OnQuestionnaire\\Cropped\"\n",
    "\n",
    "flip = True\n",
    "\n",
    "image_size = 256"
   ]
  },
  {
   "cell_type": "code",
   "execution_count": 2,
   "metadata": {},
   "outputs": [
    {
     "name": "stdout",
     "output_type": "stream",
     "text": [
      "Found 50 image files\n"
     ]
    }
   ],
   "source": [
    "import os\n",
    "\n",
    "from local_vars import root_folder\n",
    "\n",
    "data_fullpath = os.path.join(root_folder, data_folder)\n",
    "output_fullpath = os.path.join(root_folder, output_folder)\n",
    "\n",
    "image_file_list = [f for f in os.listdir(data_fullpath) if f.endswith('-outputs.png') or f.endswith('-targets.png')]\n",
    "\n",
    "num_images = len(image_file_list)\n",
    "\n",
    "print( \"Found {} image files\".format(num_images))"
   ]
  },
  {
   "cell_type": "code",
   "execution_count": 3,
   "metadata": {},
   "outputs": [],
   "source": [
    "import cv2\n",
    "import numpy as np\n",
    "\n",
    "images_array = np.zeros([num_images, image_size, image_size, 1]).astype(np.float16)\n",
    "\n",
    "for i in range(num_images):\n",
    "    \n",
    "    current_image_file_name = os.path.splitext(image_file_list[i])[0]\n",
    "    current_image_file_fullname = os.path.join(data_fullpath, current_image_file_name + \".png\")\n",
    "    current_image = cv2.imread(current_image_file_fullname, 0)\n",
    "    \n",
    "    if flip:\n",
    "        current_image = np.flipud(current_image)\n",
    "        \n",
    "    #print(current_image.shape)\n",
    "    \n",
    "    cropped_image_file_fullname = os.path.join(output_fullpath, current_image_file_name + \"_cropped.png\")\n",
    "    \n",
    "    cropped_image = current_image[24:230,:] #[startY(top of image):endY, startX:endX]\n",
    "    #print(cropped_image.shape)\n",
    "    \n",
    "    cv2.imwrite(cropped_image_file_fullname, cropped_image)"
   ]
  },
  {
   "cell_type": "code",
   "execution_count": null,
   "metadata": {},
   "outputs": [],
   "source": []
  }
 ],
 "metadata": {
  "kernelspec": {
   "display_name": "Python 3",
   "language": "python",
   "name": "python3"
  },
  "language_info": {
   "codemirror_mode": {
    "name": "ipython",
    "version": 3
   },
   "file_extension": ".py",
   "mimetype": "text/x-python",
   "name": "python",
   "nbconvert_exporter": "python",
   "pygments_lexer": "ipython3",
   "version": "3.7.3"
  }
 },
 "nbformat": 4,
 "nbformat_minor": 2
}
