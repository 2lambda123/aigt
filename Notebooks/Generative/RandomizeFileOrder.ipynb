{
 "cells": [
  {
   "cell_type": "code",
   "execution_count": 1,
   "metadata": {},
   "outputs": [
    {
     "name": "stdout",
     "output_type": "stream",
     "text": [
      "Found 50 image files\n"
     ]
    }
   ],
   "source": [
    "data_folder = r\"ParticipantScans\\GAN\\OnQuestionnaire\\Cropped\"\n",
    "\n",
    "import os\n",
    "import random\n",
    "\n",
    "from local_vars import root_folder\n",
    "\n",
    "data_fullpath = os.path.join(root_folder, data_folder)\n",
    "\n",
    "image_file_list = [f for f in os.listdir(data_fullpath)]\n",
    "num_images = len(image_file_list)\n",
    "\n",
    "print( \"Found {} image files\".format(num_images))"
   ]
  },
  {
   "cell_type": "code",
   "execution_count": 2,
   "metadata": {},
   "outputs": [
    {
     "name": "stdout",
     "output_type": "stream",
     "text": [
      "1. right_kidney007_0027-targets_cropped.png\n",
      "2. right_kidney008_0058-targets_cropped.png\n",
      "3. right_kidney003_0024-outputs_cropped.png\n",
      "4. left_kidney004_0052-targets_cropped.png\n",
      "5. right_kidney008_0153-outputs_cropped.png\n",
      "6. right_kidney003_0030-targets_cropped.png\n",
      "7. left_kidney003_0025-targets_cropped.png\n",
      "8. left_kidney007_0093-outputs_cropped.png\n",
      "9. left_kidney004_0036-targets_cropped.png\n",
      "10. left_kidney004_0052-outputs_cropped.png\n",
      "11. right_kidney008_0012-outputs_cropped.png\n",
      "12. right_kidney004_0005-outputs_cropped.png\n",
      "13. left_kidney000_0034-targets_cropped.png\n",
      "14. left_kidney007_0019-targets_cropped.png\n",
      "15. right_kidney000_0058-outputs_cropped.png\n",
      "16. left_kidney003_0025-outputs_cropped.png\n",
      "17. right_kidney007_0042-outputs_cropped.png\n",
      "18. left_kidney004_0036-outputs_cropped.png\n",
      "19. left_kidney003_0074-outputs_cropped.png\n",
      "20. left_kidney003_0016-outputs_cropped.png\n",
      "21. left_kidney007_0093-targets_cropped.png\n",
      "22. right_kidney000_0031-targets_cropped.png\n",
      "23. right_kidney007_0034-outputs_cropped.png\n",
      "24. right_kidney000_0037-outputs_cropped.png\n",
      "25. right_kidney008_0058-outputs_cropped.png\n",
      "26. right_kidney000_0031-outputs_cropped.png\n",
      "27. right_kidney007_0042-targets_cropped.png\n",
      "28. right_kidney000_0037-targets_cropped.png\n",
      "29. left_kidney000_0065-outputs_cropped.png\n",
      "30. right_kidney003_0030-outputs_cropped.png\n",
      "31. right_kidney000_0058-targets_cropped.png\n",
      "32. left_kidney004_0016-targets_cropped.png\n",
      "33. right_kidney008_0153-targets_cropped.png\n",
      "34. left_kidney008_0064-outputs_cropped.png\n",
      "35. right_kidney003_0024-targets_cropped.png\n",
      "36. left_kidney008_0019-targets_cropped.png\n",
      "37. left_kidney008_0064-targets_cropped.png\n",
      "38. right_kidney004_0005-targets_cropped.png\n",
      "39. left_kidney000_0065-targets_cropped.png\n",
      "40. left_kidney007_0019-outputs_cropped.png\n",
      "41. left_kidney008_0019-outputs_cropped.png\n",
      "42. left_kidney000_0034-outputs_cropped.png\n",
      "43. left_kidney004_0015-outputs_cropped.png\n",
      "44. left_kidney003_0016-targets_cropped.png\n",
      "45. right_kidney007_0027-outputs_cropped.png\n",
      "46. left_kidney004_0016-outputs_cropped.png\n",
      "47. left_kidney003_0074-targets_cropped.png\n",
      "48. right_kidney007_0034-targets_cropped.png\n",
      "49. right_kidney008_0012-targets_cropped.png\n",
      "50. left_kidney004_0015-targets_cropped.png\n"
     ]
    }
   ],
   "source": [
    "for i in range(random.randint(1,200)):\n",
    "    random.shuffle(image_file_list)\n",
    "for i in range(num_images):\n",
    "    print(\"{}. {}\".format(i+1,image_file_list[i]))"
   ]
  },
  {
   "cell_type": "code",
   "execution_count": null,
   "metadata": {},
   "outputs": [],
   "source": []
  }
 ],
 "metadata": {
  "kernelspec": {
   "display_name": "Python 3",
   "language": "python",
   "name": "python3"
  },
  "language_info": {
   "codemirror_mode": {
    "name": "ipython",
    "version": 3
   },
   "file_extension": ".py",
   "mimetype": "text/x-python",
   "name": "python",
   "nbconvert_exporter": "python",
   "pygments_lexer": "ipython3",
   "version": "3.7.3"
  }
 },
 "nbformat": 4,
 "nbformat_minor": 2
}
