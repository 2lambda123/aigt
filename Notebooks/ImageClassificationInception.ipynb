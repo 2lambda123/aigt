{
 "cells": [
  {
   "cell_type": "code",
   "execution_count": 2,
   "metadata": {},
   "outputs": [
    {
     "name": "stderr",
     "output_type": "stream",
     "text": [
      "Using TensorFlow backend.\n"
     ]
    }
   ],
   "source": [
    "import numpy\n",
    "import keras\n",
    "from keras.models import Model\n",
    "from keras.layers import Activation\n",
    "from keras.layers import Input\n",
    "from keras.layers.core import Dense, Dropout, Flatten\n",
    "from keras.optimizers import Adam\n",
    "from keras.metrics import categorical_crossentropy\n",
    "from keras.preprocessing.image import ImageDataGenerator\n",
    "from keras.layers.normalization import BatchNormalization\n",
    "from keras.layers.convolutional import *\n",
    "from sklearn.metrics import confusion_matrix\n",
    "import itertools\n",
    "import os"
   ]
  },
  {
   "cell_type": "code",
   "execution_count": 3,
   "metadata": {},
   "outputs": [],
   "source": [
    "root_path = r\"C:\\Users\\vikky\\Documents\\Third Year\\Perk Lab\\181101_Spine\\181101_Spine\"\n",
    "\n",
    "train_path = os.path.join(root_path, \"train\")\n",
    "valid_path = os.path.join(root_path, \"valid\")\n",
    "test_path = os.path.join(root_path, \"test\")"
   ]
  },
  {
   "cell_type": "code",
   "execution_count": 4,
   "metadata": {},
   "outputs": [],
   "source": [
    "image_size = 32\n",
    "train_batch_size = 100"
   ]
  },
  {
   "cell_type": "code",
   "execution_count": 5,
   "metadata": {},
   "outputs": [
    {
     "name": "stdout",
     "output_type": "stream",
     "text": [
      "Found 2037 images belonging to 2 classes.\n",
      "Found 715 images belonging to 2 classes.\n",
      "Found 747 images belonging to 2 classes.\n"
     ]
    }
   ],
   "source": [
    "train_batches = ImageDataGenerator(rescale=1./255).flow_from_directory(\n",
    "    train_path,\n",
    "    target_size=(image_size, image_size),\n",
    "    color_mode='grayscale',\n",
    "    classes=[\"pos\", \"neg\"],\n",
    "    shuffle=True,\n",
    "    batch_size=train_batch_size)\n",
    "\n",
    "valid_batches = ImageDataGenerator(rescale=1./255).flow_from_directory(\n",
    "    valid_path,\n",
    "    target_size=(image_size, image_size),\n",
    "    color_mode='grayscale',\n",
    "    classes=[\"pos\", \"neg\"],\n",
    "    shuffle=True,\n",
    "    batch_size=train_batch_size)\n",
    "\n",
    "test_batches = ImageDataGenerator(rescale=1./255).flow_from_directory(\n",
    "    test_path,\n",
    "    target_size=(image_size, image_size),\n",
    "    color_mode='grayscale',\n",
    "    classes=[\"pos\", \"neg\"],\n",
    "    shuffle=True)"
   ]
  },
  {
   "cell_type": "code",
   "execution_count": 6,
   "metadata": {},
   "outputs": [],
   "source": [
    "#Create train and test batches\n",
    "train_batches.batch_size = train_batches.n\n",
    "x_train, y_train = next(train_batches)\n",
    "\n",
    "test_batches.batch_size = test_batches.n\n",
    "x_test, y_test = next(test_batches)"
   ]
  },
  {
   "cell_type": "code",
   "execution_count": 7,
   "metadata": {},
   "outputs": [
    {
     "name": "stdout",
     "output_type": "stream",
     "text": [
      "x_test.shape: (747, 32, 32, 1)\n",
      "y_test.shape: (747, 2)\n",
      "x_train.shape: (2037, 32, 32, 1)\n",
      "y_train.shape: (2037, 2)\n"
     ]
    }
   ],
   "source": [
    "print(\"x_test.shape: {}\".format(x_test.shape))\n",
    "print(\"y_test.shape: {}\".format(y_test.shape))\n",
    "\n",
    "print(\"x_train.shape: {}\".format(x_train.shape))\n",
    "print(\"y_train.shape: {}\".format(y_train.shape))"
   ]
  },
  {
   "cell_type": "code",
   "execution_count": 8,
   "metadata": {},
   "outputs": [],
   "source": [
    "input_img = Input(shape = (32, 32, 1))"
   ]
  },
  {
   "cell_type": "code",
   "execution_count": 9,
   "metadata": {},
   "outputs": [],
   "source": [
    "#Build the layers\n",
    "def inception(input_img):\n",
    "    tower_1 = Conv2D(64, (1,1), padding='same', activation='relu')(input_img)\n",
    "    tower_1 = Conv2D(64, (3,3), padding='same', activation='relu')(tower_1)\n",
    "    tower_2 = Conv2D(64, (1,1), padding='same', activation='relu')(input_img)\n",
    "    tower_2 = Conv2D(64, (5,5), padding='same', activation='relu')(tower_2)\n",
    "    tower_3 = MaxPooling2D((3,3), strides=(1,1), padding='same')(input_img)\n",
    "    tower_3 = Conv2D(64, (1,1), padding='same', activation='relu')(tower_3)\n",
    "\n",
    "    output = keras.layers.concatenate([tower_1, tower_2, tower_3], axis = 3)\n",
    "    return output"
   ]
  },
  {
   "cell_type": "code",
   "execution_count": 10,
   "metadata": {},
   "outputs": [],
   "source": [
    "#Create the model\n",
    "def inceptionModel():\n",
    "\n",
    "    inputs = Input(shape = (32, 32, 1))\n",
    "\n",
    "    x = inception(inputs)\n",
    "    x = Flatten()(x)\n",
    "    x = Dense(64, activation='relu')(x)\n",
    "    predictions = Dense(2, activation='softmax')(x)\n",
    "\n",
    "    model = Model(input=inputs, output=predictions)\n",
    "\n",
    "    model.compile(loss=keras.losses.categorical_crossentropy,\n",
    "                 optimizer=Adam(lr=0.001),\n",
    "                 metrics=['accuracy'])\n",
    "    return model"
   ]
  },
  {
   "cell_type": "code",
   "execution_count": 11,
   "metadata": {},
   "outputs": [
    {
     "name": "stderr",
     "output_type": "stream",
     "text": [
      "C:\\Users\\vikky\\Anaconda3\\lib\\site-packages\\ipykernel_launcher.py:10: UserWarning: Update your `Model` call to the Keras 2 API: `Model(inputs=Tensor(\"in..., outputs=Tensor(\"de...)`\n",
      "  # Remove the CWD from sys.path while we load stuff.\n"
     ]
    },
    {
     "name": "stdout",
     "output_type": "stream",
     "text": [
      "Train on 1833 samples, validate on 204 samples\n",
      "Epoch 1/10\n",
      "1833/1833 [==============================] - 99s 54ms/step - loss: 0.4915 - acc: 0.7883 - val_loss: 0.2409 - val_acc: 0.8971\n",
      "Epoch 2/10\n",
      "1833/1833 [==============================] - 111s 61ms/step - loss: 0.1829 - acc: 0.9302 - val_loss: 0.1071 - val_acc: 0.9608\n",
      "Epoch 3/10\n",
      "1833/1833 [==============================] - 112s 61ms/step - loss: 0.1053 - acc: 0.9558 - val_loss: 0.0995 - val_acc: 0.9706\n",
      "Epoch 4/10\n",
      "1833/1833 [==============================] - 96s 52ms/step - loss: 0.0589 - acc: 0.9804 - val_loss: 0.0645 - val_acc: 0.9706\n",
      "Epoch 5/10\n",
      "1833/1833 [==============================] - 98s 53ms/step - loss: 0.0582 - acc: 0.9765 - val_loss: 0.2310 - val_acc: 0.9069\n",
      "Epoch 6/10\n",
      "1833/1833 [==============================] - 1185s 646ms/step - loss: 0.0390 - acc: 0.9858 - val_loss: 0.0444 - val_acc: 0.9853\n",
      "Epoch 7/10\n",
      "1833/1833 [==============================] - 108s 59ms/step - loss: 0.0388 - acc: 0.9836 - val_loss: 0.0520 - val_acc: 0.9853\n",
      "Epoch 8/10\n",
      "1833/1833 [==============================] - 101s 55ms/step - loss: 0.0285 - acc: 0.9896 - val_loss: 0.0493 - val_acc: 0.9755\n",
      "Epoch 9/10\n",
      "1833/1833 [==============================] - 103s 56ms/step - loss: 0.0165 - acc: 0.9935 - val_loss: 0.0584 - val_acc: 0.9804\n",
      "Epoch 10/10\n",
      "1833/1833 [==============================] - 98s 54ms/step - loss: 0.0206 - acc: 0.9918 - val_loss: 0.0930 - val_acc: 0.9657\n",
      "Accuracy: 77.91%\n"
     ]
    }
   ],
   "source": [
    "modelA = inceptionModel()\n",
    "modelA.fit(x_train, y_train, epochs=10, shuffle=True,  validation_split=0.1)\n",
    "score = modelA.evaluate(x_test, y_test, verbose=0)\n",
    "print(\"Accuracy: %.2f%%\" % (score[1]*100))"
   ]
  },
  {
   "cell_type": "code",
   "execution_count": null,
   "metadata": {},
   "outputs": [],
   "source": []
  }
 ],
 "metadata": {
  "kernelspec": {
   "display_name": "Python 3",
   "language": "python",
   "name": "python3"
  },
  "language_info": {
   "codemirror_mode": {
    "name": "ipython",
    "version": 3
   },
   "file_extension": ".py",
   "mimetype": "text/x-python",
   "name": "python",
   "nbconvert_exporter": "python",
   "pygments_lexer": "ipython3",
   "version": "3.6.6"
  }
 },
 "nbformat": 4,
 "nbformat_minor": 2
}
