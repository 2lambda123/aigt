{
 "cells": [
  {
   "cell_type": "code",
   "execution_count": 1,
   "metadata": {},
   "outputs": [
    {
     "name": "stderr",
     "output_type": "stream",
     "text": [
      "Using TensorFlow backend.\n"
     ]
    }
   ],
   "source": [
    "import numpy\n",
    "import keras\n",
    "from keras.models import Model\n",
    "from keras.layers import Activation\n",
    "from keras.layers import Input\n",
    "from keras.layers.core import Dense, Dropout, Flatten\n",
    "from keras.optimizers import Adam\n",
    "from keras.metrics import categorical_crossentropy\n",
    "from keras.preprocessing.image import ImageDataGenerator\n",
    "from keras.layers.normalization import BatchNormalization\n",
    "from keras.layers.convolutional import *\n",
    "from sklearn.metrics import confusion_matrix\n",
    "import itertools\n",
    "import os"
   ]
  },
  {
   "cell_type": "code",
   "execution_count": 2,
   "metadata": {},
   "outputs": [],
   "source": [
    "root_path = r\"C:\\Users\\vikky\\Documents\\Third Year\\Perk Lab\\181101_Spine\\181101_Spine\"\n",
    "\n",
    "train_path = os.path.join(root_path, \"train\")\n",
    "valid_path = os.path.join(root_path, \"valid\")\n",
    "test_path = os.path.join(root_path, \"test\")"
   ]
  },
  {
   "cell_type": "code",
   "execution_count": 3,
   "metadata": {},
   "outputs": [],
   "source": [
    "image_size = 32\n",
    "train_batch_size = 100"
   ]
  },
  {
   "cell_type": "code",
   "execution_count": 4,
   "metadata": {},
   "outputs": [
    {
     "name": "stdout",
     "output_type": "stream",
     "text": [
      "Found 2037 images belonging to 2 classes.\n",
      "Found 715 images belonging to 2 classes.\n",
      "Found 747 images belonging to 2 classes.\n"
     ]
    }
   ],
   "source": [
    "train_batches = ImageDataGenerator(rescale=1./255).flow_from_directory(\n",
    "    train_path,\n",
    "    target_size=(image_size, image_size),\n",
    "    color_mode='grayscale',\n",
    "    classes=[\"pos\", \"neg\"],\n",
    "    shuffle=True,\n",
    "    batch_size=train_batch_size)\n",
    "\n",
    "valid_batches = ImageDataGenerator(rescale=1./255).flow_from_directory(\n",
    "    valid_path,\n",
    "    target_size=(image_size, image_size),\n",
    "    color_mode='grayscale',\n",
    "    classes=[\"pos\", \"neg\"],\n",
    "    shuffle=True,\n",
    "    batch_size=train_batch_size)\n",
    "\n",
    "test_batches = ImageDataGenerator(rescale=1./255).flow_from_directory(\n",
    "    test_path,\n",
    "    target_size=(image_size, image_size),\n",
    "    color_mode='grayscale',\n",
    "    classes=[\"pos\", \"neg\"],\n",
    "    shuffle=True)"
   ]
  },
  {
   "cell_type": "code",
   "execution_count": 5,
   "metadata": {},
   "outputs": [],
   "source": [
    "#Create train, validation, and test batches\n",
    "train_batches.batch_size = train_batches.n\n",
    "x_train, y_train = next(train_batches)\n",
    "\n",
    "valid_batches.batch_size = valid_batches.n\n",
    "x_valid, y_valid = next(valid_batches)\n",
    "\n",
    "test_batches.batch_size = test_batches.n\n",
    "x_test, y_test = next(test_batches)"
   ]
  },
  {
   "cell_type": "code",
   "execution_count": 6,
   "metadata": {},
   "outputs": [
    {
     "name": "stdout",
     "output_type": "stream",
     "text": [
      "x_test.shape: (747, 32, 32, 1)\n",
      "y_test.shape: (747, 2)\n",
      "x_valid.shape: (715, 32, 32, 1)\n",
      "y_valid.shape: (715, 2)\n",
      "x_train.shape: (2037, 32, 32, 1)\n",
      "y_train.shape: (2037, 2)\n"
     ]
    }
   ],
   "source": [
    "print(\"x_test.shape: {}\".format(x_test.shape))\n",
    "print(\"y_test.shape: {}\".format(y_test.shape))\n",
    "\n",
    "print(\"x_valid.shape: {}\".format(x_valid.shape))\n",
    "print(\"y_valid.shape: {}\".format(y_valid.shape))\n",
    "\n",
    "print(\"x_train.shape: {}\".format(x_train.shape))\n",
    "print(\"y_train.shape: {}\".format(y_train.shape))"
   ]
  },
  {
   "cell_type": "code",
   "execution_count": 7,
   "metadata": {},
   "outputs": [],
   "source": [
    "input_img = Input(shape = (32, 32, 1))"
   ]
  },
  {
   "cell_type": "code",
   "execution_count": 8,
   "metadata": {},
   "outputs": [],
   "source": [
    "#Build the layers\n",
    "def inception(input_img):\n",
    "    tower_1 = Conv2D(64, (1,1), padding='same', activation='relu')(input_img)\n",
    "    tower_1 = Conv2D(64, (3,3), padding='same', activation='relu')(tower_1)\n",
    "    tower_2 = Conv2D(64, (1,1), padding='same', activation='relu')(input_img)\n",
    "    tower_2 = Conv2D(64, (5,5), padding='same', activation='relu')(tower_2)\n",
    "    tower_3 = MaxPooling2D((3,3), strides=(1,1), padding='same')(input_img)\n",
    "    tower_3 = Conv2D(64, (1,1), padding='same', activation='relu')(tower_3)\n",
    "\n",
    "    output = keras.layers.concatenate([tower_1, tower_2, tower_3], axis = 3)\n",
    "    return output"
   ]
  },
  {
   "cell_type": "code",
   "execution_count": 9,
   "metadata": {},
   "outputs": [],
   "source": [
    "#Create the model\n",
    "def inceptionModel():\n",
    "\n",
    "    inputs = Input(shape = (32, 32, 1))\n",
    "\n",
    "    x = inception(inputs)\n",
    "    x = Flatten()(x)\n",
    "    x = Dense(64, activation='relu')(x)\n",
    "    predictions = Dense(2, activation='softmax')(x)\n",
    "\n",
    "    model = Model(input=inputs, output=predictions)\n",
    "\n",
    "    model.compile(loss=keras.losses.categorical_crossentropy,\n",
    "                 optimizer=Adam(lr=0.001),\n",
    "                 metrics=['accuracy'])\n",
    "    return model"
   ]
  },
  {
   "cell_type": "code",
   "execution_count": 10,
   "metadata": {},
   "outputs": [
    {
     "name": "stderr",
     "output_type": "stream",
     "text": [
      "C:\\Users\\vikky\\Anaconda3\\lib\\site-packages\\ipykernel_launcher.py:11: UserWarning: Update your `Model` call to the Keras 2 API: `Model(inputs=Tensor(\"in..., outputs=Tensor(\"de...)`\n",
      "  # This is added back by InteractiveShellApp.init_path()\n"
     ]
    },
    {
     "name": "stdout",
     "output_type": "stream",
     "text": [
      "Train on 2037 samples, validate on 715 samples\n",
      "Epoch 1/10\n",
      "2037/2037 [==============================] - 116s 57ms/step - loss: 0.4055 - acc: 0.8336 - val_loss: 0.3924 - val_acc: 0.8378\n",
      "Epoch 2/10\n",
      "2037/2037 [==============================] - 112s 55ms/step - loss: 0.1280 - acc: 0.9539 - val_loss: 0.4136 - val_acc: 0.8462\n",
      "Epoch 3/10\n",
      "2037/2037 [==============================] - 115s 56ms/step - loss: 0.0763 - acc: 0.9701 - val_loss: 0.4409 - val_acc: 0.8448\n",
      "Epoch 4/10\n",
      "2037/2037 [==============================] - 126s 62ms/step - loss: 0.0693 - acc: 0.9710 - val_loss: 0.5973 - val_acc: 0.8000\n",
      "Epoch 5/10\n",
      "2037/2037 [==============================] - 114s 56ms/step - loss: 0.0293 - acc: 0.9902 - val_loss: 0.5560 - val_acc: 0.8266\n",
      "Epoch 6/10\n",
      "2037/2037 [==============================] - 115s 56ms/step - loss: 0.0360 - acc: 0.9828 - val_loss: 0.7199 - val_acc: 0.8056\n",
      "Epoch 7/10\n",
      "2037/2037 [==============================] - 121s 60ms/step - loss: 0.0319 - acc: 0.9897 - val_loss: 0.6467 - val_acc: 0.8014\n",
      "Epoch 8/10\n",
      "2037/2037 [==============================] - 118s 58ms/step - loss: 0.0197 - acc: 0.9926 - val_loss: 0.7128 - val_acc: 0.8000\n",
      "Epoch 9/10\n",
      "2037/2037 [==============================] - 118s 58ms/step - loss: 0.0209 - acc: 0.9926 - val_loss: 0.9700 - val_acc: 0.7608\n",
      "Epoch 10/10\n",
      "2037/2037 [==============================] - 121s 59ms/step - loss: 0.0236 - acc: 0.9921 - val_loss: 0.8671 - val_acc: 0.7608\n",
      "Accuracy: 73.23%\n"
     ]
    }
   ],
   "source": [
    "modelA = inceptionModel()\n",
    "modelA.fit(x_train, y_train, epochs=10, shuffle=True,  validation_split=0.0, validation_data=(x_valid, y_valid))\n",
    "score = modelA.evaluate(x_test, y_test, verbose=0)\n",
    "print(\"Accuracy: %.2f%%\" % (score[1]*100))"
   ]
  },
  {
   "cell_type": "code",
   "execution_count": null,
   "metadata": {},
   "outputs": [],
   "source": []
  }
 ],
 "metadata": {
  "kernelspec": {
   "display_name": "Python 3",
   "language": "python",
   "name": "python3"
  },
  "language_info": {
   "codemirror_mode": {
    "name": "ipython",
    "version": 3
   },
   "file_extension": ".py",
   "mimetype": "text/x-python",
   "name": "python",
   "nbconvert_exporter": "python",
   "pygments_lexer": "ipython3",
   "version": "3.6.6"
  }
 },
 "nbformat": 4,
 "nbformat_minor": 2
}
