{
 "cells": [
  {
   "cell_type": "code",
   "execution_count": 1,
   "metadata": {},
   "outputs": [
    {
     "name": "stderr",
     "output_type": "stream",
     "text": [
      "Using TensorFlow backend.\n"
     ]
    }
   ],
   "source": [
    "import numpy\n",
    "import keras\n",
    "from keras.models import Model\n",
    "from keras.layers import Activation\n",
    "from keras.layers.core import Dense, Dropout, Flatten\n",
    "from keras.optimizers import Adam\n",
    "from keras.metrics import categorical_crossentropy\n",
    "from keras.preprocessing.image import ImageDataGenerator\n",
    "from keras.layers.normalization import BatchNormalization\n",
    "from keras.layers.convolutional import *\n",
    "from keras.layers import Input\n",
    "from matplotlib import pyplot as plt\n",
    "from sklearn.metrics import confusion_matrix\n",
    "import itertools\n",
    "import os"
   ]
  },
  {
   "cell_type": "code",
   "execution_count": 2,
   "metadata": {},
   "outputs": [],
   "source": [
    "root_path = r\"C:\\Users\\vikky\\Documents\\Third Year\\Perk Lab\\181101_Spine\\181101_Spine\"\n",
    "\n",
    "train_path = os.path.join(root_path, \"train\")\n",
    "valid_path = os.path.join(root_path, \"valid\")\n",
    "test_path = os.path.join(root_path, \"test\")"
   ]
  },
  {
   "cell_type": "code",
   "execution_count": 3,
   "metadata": {},
   "outputs": [],
   "source": [
    "image_size = 32\n",
    "train_batch_size = 100"
   ]
  },
  {
   "cell_type": "code",
   "execution_count": 4,
   "metadata": {},
   "outputs": [
    {
     "name": "stdout",
     "output_type": "stream",
     "text": [
      "Found 2037 images belonging to 2 classes.\n",
      "Found 715 images belonging to 2 classes.\n",
      "Found 747 images belonging to 2 classes.\n"
     ]
    }
   ],
   "source": [
    "train_batches = ImageDataGenerator(rescale=1./255).flow_from_directory(\n",
    "    train_path,\n",
    "    target_size=(image_size, image_size),\n",
    "    color_mode='grayscale',\n",
    "    classes=[\"pos\", \"neg\"],\n",
    "    shuffle=True,\n",
    "    batch_size=train_batch_size)\n",
    "\n",
    "valid_batches = ImageDataGenerator(rescale=1./255).flow_from_directory(\n",
    "    valid_path,\n",
    "    target_size=(image_size, image_size),\n",
    "    color_mode='grayscale',\n",
    "    classes=[\"pos\", \"neg\"],\n",
    "    shuffle=True,\n",
    "    batch_size=train_batch_size)\n",
    "\n",
    "test_batches = ImageDataGenerator(rescale=1./255).flow_from_directory(\n",
    "    test_path,\n",
    "    target_size=(image_size, image_size),\n",
    "    color_mode='grayscale',\n",
    "    classes=[\"pos\", \"neg\"],\n",
    "    shuffle=True)"
   ]
  },
  {
   "cell_type": "code",
   "execution_count": 5,
   "metadata": {},
   "outputs": [],
   "source": [
    "#Create train, validation, and test batches\n",
    "train_batches.batch_size = train_batches.n\n",
    "x_train, y_train = next(train_batches)\n",
    "\n",
    "valid_batches.batch_size = valid_batches.n\n",
    "x_valid, y_valid = next(valid_batches)\n",
    "\n",
    "test_batches.batch_size = test_batches.n\n",
    "x_test, y_test = next(test_batches)"
   ]
  },
  {
   "cell_type": "code",
   "execution_count": 6,
   "metadata": {},
   "outputs": [
    {
     "name": "stdout",
     "output_type": "stream",
     "text": [
      "x_test.shape: (747, 32, 32, 1)\n",
      "y_test.shape: (747, 2)\n",
      "x_valid.shape: (715, 32, 32, 1)\n",
      "y_valid.shape: (715, 2)\n",
      "x_train.shape: (2037, 32, 32, 1)\n",
      "y_train.shape: (2037, 2)\n"
     ]
    }
   ],
   "source": [
    "print(\"x_test.shape: {}\".format(x_test.shape))\n",
    "print(\"y_test.shape: {}\".format(y_test.shape))\n",
    "\n",
    "print(\"x_valid.shape: {}\".format(x_valid.shape))\n",
    "print(\"y_valid.shape: {}\".format(y_valid.shape))\n",
    "\n",
    "print(\"x_train.shape: {}\".format(x_train.shape))\n",
    "print(\"y_train.shape: {}\".format(y_train.shape))"
   ]
  },
  {
   "cell_type": "code",
   "execution_count": 7,
   "metadata": {},
   "outputs": [],
   "source": [
    "input_img = Input(shape = (32, 32, 1))"
   ]
  },
  {
   "cell_type": "code",
   "execution_count": 136,
   "metadata": {},
   "outputs": [],
   "source": [
    "#Build the layers - based on GoogLeNet\n",
    "def inception(input_img):\n",
    "    layera = Conv2D(64,(7,7),strides=(2,2),padding='same',activation='relu')(input_img)\n",
    "    layerb = MaxPooling2D(pool_size=(2, 2))(layera)\n",
    "    layerc = Conv2D(64,(1,1),padding ='same',activation='relu')(layerb)\n",
    "    layerd = Conv2D(192,(3,3),padding='same',activation='relu')(layerc)\n",
    "    layere = MaxPooling2D(pool_size=(3,3))(layerd)\n",
    "    tower_1 = Conv2D(96, (1,1), padding='same', activation='relu')(layere)\n",
    "    tower_1 = Conv2D(128, (3,3), padding='same', activation='relu')(tower_1)\n",
    "    tower_2 = Conv2D(16, (1,1), padding='same', activation='relu')(layere)\n",
    "    tower_2 = Conv2D(32, (5,5), padding='same', activation='relu')(tower_2)\n",
    "    tower_3 = MaxPooling2D((3,3), strides=(1,1), padding='same')(layere)\n",
    "    tower_3 = Conv2D(32, (1,1), padding='same', activation='relu')(tower_3)\n",
    "\n",
    "    output = keras.layers.concatenate([tower_1, tower_2, tower_3], axis = 3) \n",
    "    return output"
   ]
  },
  {
   "cell_type": "code",
   "execution_count": 152,
   "metadata": {},
   "outputs": [],
   "source": [
    "#Create the model\n",
    "def inceptionModel():\n",
    "\n",
    "    inputs = Input(shape = (32, 32, 1))\n",
    "\n",
    "    x = inception(inputs)\n",
    "    x_flat = Flatten()(x)\n",
    "    x_drop = Dropout(0.4)(x_flat)\n",
    "    x_dense = Dense(64, activation='relu')(x_drop)\n",
    "    predictions = Dense(2, activation='softmax')(x_dense)\n",
    "\n",
    "    model = Model(inputs=inputs, outputs=predictions)\n",
    "\n",
    "    model.compile(loss=keras.losses.categorical_crossentropy,\n",
    "                 optimizer=Adam(lr=0.001),\n",
    "                 metrics=['accuracy'])\n",
    "    return model"
   ]
  },
  {
   "cell_type": "code",
   "execution_count": 153,
   "metadata": {},
   "outputs": [],
   "source": [
    "def plots(ims, figsize=(20,6), rows=1, titles=None):\n",
    "    f = plt.figure(figsize=figsize)\n",
    "    cols = len(ims)//rows if len(ims) % 2 == 0 else len(ims)//rows + 1\n",
    "    for i in range(len(ims)):\n",
    "        sp = f.add_subplot(rows, cols, i+1)\n",
    "        sp.axis(\"Off\")\n",
    "        if titles is not None:\n",
    "            sp.set_title(titles[i], fontsize=16)\n",
    "        plt.imshow(ims[i][:, :, 0], cmap='gray')"
   ]
  },
  {
   "cell_type": "code",
   "execution_count": 161,
   "metadata": {},
   "outputs": [
    {
     "name": "stdout",
     "output_type": "stream",
     "text": [
      "Train on 2037 samples, validate on 715 samples\n",
      "Epoch 1/20\n",
      "2037/2037 [==============================] - 9s 5ms/step - loss: 0.5314 - acc: 0.7349 - val_loss: 0.8433 - val_acc: 0.6685\n",
      "Epoch 2/20\n",
      "2037/2037 [==============================] - 8s 4ms/step - loss: 0.2809 - acc: 0.8925 - val_loss: 0.9103 - val_acc: 0.7091\n",
      "Epoch 3/20\n",
      "2037/2037 [==============================] - 9s 4ms/step - loss: 0.2074 - acc: 0.9283 - val_loss: 0.7390 - val_acc: 0.7622\n",
      "Epoch 4/20\n",
      "2037/2037 [==============================] - 8s 4ms/step - loss: 0.1124 - acc: 0.9548 - val_loss: 0.6403 - val_acc: 0.7818\n",
      "Epoch 5/20\n",
      "2037/2037 [==============================] - 7s 4ms/step - loss: 0.0656 - acc: 0.9740 - val_loss: 0.8443 - val_acc: 0.7804\n",
      "Epoch 6/20\n",
      "2037/2037 [==============================] - 7s 3ms/step - loss: 0.0841 - acc: 0.9656 - val_loss: 0.8751 - val_acc: 0.7636\n",
      "Epoch 7/20\n",
      "2037/2037 [==============================] - 8s 4ms/step - loss: 0.0624 - acc: 0.9740 - val_loss: 0.8001 - val_acc: 0.7972\n",
      "Epoch 8/20\n",
      "2037/2037 [==============================] - 9s 4ms/step - loss: 0.0394 - acc: 0.9867 - val_loss: 1.2205 - val_acc: 0.7566\n",
      "Epoch 9/20\n",
      "2037/2037 [==============================] - 7s 4ms/step - loss: 0.0369 - acc: 0.9877 - val_loss: 1.2310 - val_acc: 0.7692\n",
      "Epoch 10/20\n",
      "2037/2037 [==============================] - 7s 4ms/step - loss: 0.0287 - acc: 0.9882 - val_loss: 1.2575 - val_acc: 0.7706\n",
      "Epoch 11/20\n",
      "2037/2037 [==============================] - 7s 3ms/step - loss: 0.0233 - acc: 0.9921 - val_loss: 1.2366 - val_acc: 0.7888\n",
      "Epoch 12/20\n",
      "2037/2037 [==============================] - 7s 4ms/step - loss: 0.0217 - acc: 0.9951 - val_loss: 0.9375 - val_acc: 0.7734\n",
      "Epoch 13/20\n",
      "2037/2037 [==============================] - 7s 3ms/step - loss: 0.0353 - acc: 0.9867 - val_loss: 0.9105 - val_acc: 0.7846\n",
      "Epoch 14/20\n",
      "2037/2037 [==============================] - 7s 4ms/step - loss: 0.0202 - acc: 0.9921 - val_loss: 0.9947 - val_acc: 0.7720\n",
      "Epoch 15/20\n",
      "2037/2037 [==============================] - 7s 4ms/step - loss: 0.0285 - acc: 0.9892 - val_loss: 1.5027 - val_acc: 0.7706\n",
      "Epoch 16/20\n",
      "2037/2037 [==============================] - 7s 4ms/step - loss: 0.0310 - acc: 0.9902 - val_loss: 0.8632 - val_acc: 0.7860\n",
      "Epoch 17/20\n",
      "2037/2037 [==============================] - 7s 4ms/step - loss: 0.0195 - acc: 0.9946 - val_loss: 1.2890 - val_acc: 0.7958\n",
      "Epoch 18/20\n",
      "2037/2037 [==============================] - 7s 4ms/step - loss: 0.0214 - acc: 0.9931 - val_loss: 2.4444 - val_acc: 0.7091\n",
      "Epoch 19/20\n",
      "2037/2037 [==============================] - 7s 4ms/step - loss: 0.0444 - acc: 0.9863 - val_loss: 1.1341 - val_acc: 0.7720\n",
      "Epoch 20/20\n",
      "2037/2037 [==============================] - 7s 4ms/step - loss: 0.0247 - acc: 0.9902 - val_loss: 0.8898 - val_acc: 0.8042\n"
     ]
    }
   ],
   "source": [
    "modelA = inceptionModel()\n",
    "history = modelA.fit(x_train, y_train, epochs=20, shuffle=True,  validation_split=0.0, validation_data=(x_valid, y_valid))"
   ]
  },
  {
   "cell_type": "code",
   "execution_count": 162,
   "metadata": {},
   "outputs": [
    {
     "data": {
      "text/plain": [
       "Text(0.5,1,'Accuracy Curves')"
      ]
     },
     "execution_count": 162,
     "metadata": {},
     "output_type": "execute_result"
    },
    {
     "data": {
      "image/png": "[encoded data removed]",
      "text/plain": [
       "<Figure size 576x432 with 1 Axes>"
      ]
     },
     "metadata": {
      "needs_background": "light"
     },
     "output_type": "display_data"
    }
   ],
   "source": [
    "plt.figure(figsize=[8,6])\n",
    "plt.plot(history.history['acc'],'r',linewidth=3.0)\n",
    "plt.plot(history.history['val_acc'],'b',linewidth=3.0)\n",
    "plt.legend(['Training Accuracy', 'Validation Accuracy'],fontsize=18)\n",
    "plt.xlabel('Epochs ',fontsize=16)\n",
    "plt.ylabel('Accuracy',fontsize=16)\n",
    "plt.title('Accuracy Curves',fontsize=16)"
   ]
  },
  {
   "cell_type": "code",
   "execution_count": 163,
   "metadata": {},
   "outputs": [
    {
     "data": {
      "text/plain": [
       "0.781793842433766"
      ]
     },
     "execution_count": 163,
     "metadata": {},
     "output_type": "execute_result"
    }
   ],
   "source": [
    "score = modelA.evaluate(x_test, y_test, verbose=0)\n",
    "score[1]"
   ]
  },
  {
   "cell_type": "code",
   "execution_count": 164,
   "metadata": {},
   "outputs": [],
   "source": [
    "def predict_classes(self, x, batch_size=32, verbose=1):\n",
    "    '''Generate class predictions for the input samples\n",
    "    batch by batch.\n",
    "    # Arguments\n",
    "        x: input data, as a Numpy array or list of Numpy arrays\n",
    "            (if the model has multiple inputs).\n",
    "        batch_size: integer.\n",
    "        verbose: verbosity mode, 0 or 1.\n",
    "    # Returns\n",
    "        A numpy array of class predictions.\n",
    "    '''\n",
    "    proba = self.predict(x, batch_size=batch_size, verbose=verbose)\n",
    "    if proba.shape[-1] > 1:\n",
    "        return proba.argmax(axis=-1)\n",
    "    else:\n",
    "        return (proba > 0.5).astype('int32')"
   ]
  },
  {
   "cell_type": "code",
   "execution_count": 165,
   "metadata": {},
   "outputs": [
    {
     "name": "stdout",
     "output_type": "stream",
     "text": [
      "747/747 [==============================] - 1s 2ms/step\n",
      "Accuracy = 0.78%\n"
     ]
    }
   ],
   "source": [
    "y_pred = predict_classes(modelA, x_test)\n",
    "acc = sum([y_test[i,1]==y_pred[i] for i in range(test_batches.n)]) / test_batches.n\n",
    "print(\"Accuracy = {:.2f}%\".format(acc))"
   ]
  },
  {
   "cell_type": "code",
   "execution_count": 166,
   "metadata": {},
   "outputs": [
    {
     "name": "stdout",
     "output_type": "stream",
     "text": [
      "[1 0 1 1 0 1 1 0 0 1 1 1 1 1 1 1 1 0 1 0 0 1 0 1 1 1 1 0 1 1]\n",
      "[1 1 1 1 0 1 1 0 0 0 1 1 0 1 1 1 0 0 1 0 0 1 1 1 1 1 1 0 1 0]\n"
     ]
    },
    {
     "data": {
      "image/png": "[encoded data removed]",
      "text/plain": [
       "<Figure size 1440x432 with 10 Axes>"
      ]
     },
     "metadata": {
      "needs_background": "light"
     },
     "output_type": "display_data"
    }
   ],
   "source": [
    "print(y_test[:30,1].astype(int))\n",
    "print(y_pred[:30])\n",
    "plots(x_test[:10], titles=y_test[:10])"
   ]
  },
  {
   "cell_type": "code",
   "execution_count": 167,
   "metadata": {},
   "outputs": [
    {
     "data": {
      "text/html": [
       "<div>\n",
       "<style scoped>\n",
       "    .dataframe tbody tr th:only-of-type {\n",
       "        vertical-align: middle;\n",
       "    }\n",
       "\n",
       "    .dataframe tbody tr th {\n",
       "        vertical-align: top;\n",
       "    }\n",
       "\n",
       "    .dataframe thead th {\n",
       "        text-align: right;\n",
       "    }\n",
       "</style>\n",
       "<table border=\"1\" class=\"dataframe\">\n",
       "  <thead>\n",
       "    <tr style=\"text-align: right;\">\n",
       "      <th>Predicted</th>\n",
       "      <th>0</th>\n",
       "      <th>1</th>\n",
       "      <th>All</th>\n",
       "    </tr>\n",
       "    <tr>\n",
       "      <th>True</th>\n",
       "      <th></th>\n",
       "      <th></th>\n",
       "      <th></th>\n",
       "    </tr>\n",
       "  </thead>\n",
       "  <tbody>\n",
       "    <tr>\n",
       "      <th>0.0</th>\n",
       "      <td>219</td>\n",
       "      <td>74</td>\n",
       "      <td>293</td>\n",
       "    </tr>\n",
       "    <tr>\n",
       "      <th>1.0</th>\n",
       "      <td>89</td>\n",
       "      <td>365</td>\n",
       "      <td>454</td>\n",
       "    </tr>\n",
       "    <tr>\n",
       "      <th>All</th>\n",
       "      <td>308</td>\n",
       "      <td>439</td>\n",
       "      <td>747</td>\n",
       "    </tr>\n",
       "  </tbody>\n",
       "</table>\n",
       "</div>"
      ],
      "text/plain": [
       "Predicted    0    1  All\n",
       "True                    \n",
       "0.0        219   74  293\n",
       "1.0         89  365  454\n",
       "All        308  439  747"
      ]
     },
     "execution_count": 167,
     "metadata": {},
     "output_type": "execute_result"
    }
   ],
   "source": [
    "import pandas as pd\n",
    "y_t = pd.Series(y_test[:,1])\n",
    "y_p = pd.Series(y_pred)\n",
    "pd.crosstab(y_t, y_p, rownames=['True'], colnames=['Predicted'], margins=True)"
   ]
  },
  {
   "cell_type": "code",
   "execution_count": 75,
   "metadata": {},
   "outputs": [],
   "source": [
    "\n"
   ]
  },
  {
   "cell_type": "code",
   "execution_count": null,
   "metadata": {},
   "outputs": [],
   "source": []
  }
 ],
 "metadata": {
  "kernelspec": {
   "display_name": "Python 3",
   "language": "python",
   "name": "python3"
  },
  "language_info": {
   "codemirror_mode": {
    "name": "ipython",
    "version": 3
   },
   "file_extension": ".py",
   "mimetype": "text/x-python",
   "name": "python",
   "nbconvert_exporter": "python",
   "pygments_lexer": "ipython3",
   "version": "3.6.6"
  }
 },
 "nbformat": 4,
 "nbformat_minor": 2
}
