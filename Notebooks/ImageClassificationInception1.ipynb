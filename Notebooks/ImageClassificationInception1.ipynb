{
 "cells": [
  {
   "cell_type": "code",
   "execution_count": 1,
   "metadata": {},
   "outputs": [
    {
     "name": "stderr",
     "output_type": "stream",
     "text": [
      "Using TensorFlow backend.\n"
     ]
    }
   ],
   "source": [
    "import numpy\n",
    "import keras\n",
    "from keras.models import Model\n",
    "from keras.layers import Activation\n",
    "from keras.layers.core import Dense, Dropout, Flatten\n",
    "from keras.optimizers import Adam\n",
    "from keras.metrics import categorical_crossentropy\n",
    "from keras.preprocessing.image import ImageDataGenerator\n",
    "from keras.layers.normalization import BatchNormalization\n",
    "from keras.layers.convolutional import *\n",
    "from keras.layers import Input\n",
    "from matplotlib import pyplot as plt\n",
    "from sklearn.metrics import confusion_matrix\n",
    "import itertools\n",
    "import os"
   ]
  },
  {
   "cell_type": "code",
   "execution_count": 2,
   "metadata": {},
   "outputs": [],
   "source": [
    "root_path = r\"c:\\Temp\\181101_Spine\"\n",
    "\n",
    "train_path = os.path.join(root_path, \"train\")\n",
    "valid_path = os.path.join(root_path, \"valid\")\n",
    "test_path = os.path.join(root_path, \"test\")"
   ]
  },
  {
   "cell_type": "code",
   "execution_count": 3,
   "metadata": {},
   "outputs": [],
   "source": [
    "image_size = 32\n",
    "train_batch_size = 100"
   ]
  },
  {
   "cell_type": "code",
   "execution_count": 4,
   "metadata": {},
   "outputs": [
    {
     "name": "stdout",
     "output_type": "stream",
     "text": [
      "Found 2037 images belonging to 2 classes.\n",
      "Found 715 images belonging to 2 classes.\n",
      "Found 747 images belonging to 2 classes.\n"
     ]
    }
   ],
   "source": [
    "train_batches = ImageDataGenerator(rescale=1./255).flow_from_directory(\n",
    "    train_path,\n",
    "    target_size=(image_size, image_size),\n",
    "    color_mode='grayscale',\n",
    "    classes=[\"pos\", \"neg\"],\n",
    "    shuffle=True,\n",
    "    batch_size=train_batch_size)\n",
    "\n",
    "valid_batches = ImageDataGenerator(rescale=1./255).flow_from_directory(\n",
    "    valid_path,\n",
    "    target_size=(image_size, image_size),\n",
    "    color_mode='grayscale',\n",
    "    classes=[\"pos\", \"neg\"],\n",
    "    shuffle=True,\n",
    "    batch_size=train_batch_size)\n",
    "\n",
    "test_batches = ImageDataGenerator(rescale=1./255).flow_from_directory(\n",
    "    test_path,\n",
    "    target_size=(image_size, image_size),\n",
    "    color_mode='grayscale',\n",
    "    classes=[\"pos\", \"neg\"],\n",
    "    shuffle=True)"
   ]
  },
  {
   "cell_type": "code",
   "execution_count": 5,
   "metadata": {},
   "outputs": [],
   "source": [
    "#Create train, validation, and test batches\n",
    "train_batches.batch_size = train_batches.n\n",
    "x_train, y_train = next(train_batches)\n",
    "\n",
    "valid_batches.batch_size = valid_batches.n\n",
    "x_valid, y_valid = next(valid_batches)\n",
    "\n",
    "test_batches.batch_size = test_batches.n\n",
    "x_test, y_test = next(test_batches)"
   ]
  },
  {
   "cell_type": "code",
   "execution_count": 6,
   "metadata": {},
   "outputs": [
    {
     "name": "stdout",
     "output_type": "stream",
     "text": [
      "x_test.shape: (747, 32, 32, 1)\n",
      "y_test.shape: (747, 2)\n",
      "x_valid.shape: (715, 32, 32, 1)\n",
      "y_valid.shape: (715, 2)\n",
      "x_train.shape: (2037, 32, 32, 1)\n",
      "y_train.shape: (2037, 2)\n"
     ]
    }
   ],
   "source": [
    "print(\"x_test.shape: {}\".format(x_test.shape))\n",
    "print(\"y_test.shape: {}\".format(y_test.shape))\n",
    "\n",
    "print(\"x_valid.shape: {}\".format(x_valid.shape))\n",
    "print(\"y_valid.shape: {}\".format(y_valid.shape))\n",
    "\n",
    "print(\"x_train.shape: {}\".format(x_train.shape))\n",
    "print(\"y_train.shape: {}\".format(y_train.shape))"
   ]
  },
  {
   "cell_type": "code",
   "execution_count": 7,
   "metadata": {},
   "outputs": [],
   "source": [
    "input_img = Input(shape = (32, 32, 1))"
   ]
  },
  {
   "cell_type": "code",
   "execution_count": 8,
   "metadata": {},
   "outputs": [],
   "source": [
    "#Build the layers - based on GoogLeNet\n",
    "def inception(input_img):\n",
    "    layera = Conv2D(64,(7,7),strides=(2,2),padding='same',activation='relu')(input_img)\n",
    "    layerb = MaxPooling2D(pool_size=(2, 2))(layera)\n",
    "    layerc = Conv2D(64,(1,1),padding ='same',activation='relu')(layerb)\n",
    "    layerd = Conv2D(192,(3,3),padding='same',activation='relu')(layerc)\n",
    "    layere = MaxPooling2D(pool_size=(3,3))(layerd)\n",
    "    tower_1 = Conv2D(96, (1,1), padding='same', activation='relu')(layere)\n",
    "    tower_1 = Conv2D(128, (3,3), padding='same', activation='relu')(tower_1)\n",
    "    tower_2 = Conv2D(16, (1,1), padding='same', activation='relu')(layere)\n",
    "    tower_2 = Conv2D(32, (5,5), padding='same', activation='relu')(tower_2)\n",
    "    tower_3 = MaxPooling2D((3,3), strides=(1,1), padding='same')(layere)\n",
    "    tower_3 = Conv2D(32, (1,1), padding='same', activation='relu')(tower_3)\n",
    "\n",
    "    output = keras.layers.concatenate([tower_1, tower_2, tower_3], axis = 3) \n",
    "    return output"
   ]
  },
  {
   "cell_type": "code",
   "execution_count": 9,
   "metadata": {},
   "outputs": [],
   "source": [
    "#Create the model\n",
    "def inceptionModel():\n",
    "\n",
    "    inputs = Input(shape = (32, 32, 1))\n",
    "\n",
    "    x = inception(inputs)\n",
    "    x_flat = Flatten()(x)\n",
    "    x_drop = Dropout(0.4)(x_flat)\n",
    "    x_dense = Dense(64, activation='relu')(x_drop)\n",
    "    predictions = Dense(2, activation='softmax')(x_dense)\n",
    "\n",
    "    model = Model(inputs=inputs, outputs=predictions)\n",
    "\n",
    "    model.compile(loss=keras.losses.categorical_crossentropy,\n",
    "                 optimizer=Adam(lr=0.001),\n",
    "                 metrics=['accuracy'])\n",
    "    return model"
   ]
  },
  {
   "cell_type": "code",
   "execution_count": 10,
   "metadata": {},
   "outputs": [],
   "source": [
    "def plots(ims, figsize=(20,6), rows=1, titles=None):\n",
    "    f = plt.figure(figsize=figsize)\n",
    "    cols = len(ims)//rows if len(ims) % 2 == 0 else len(ims)//rows + 1\n",
    "    for i in range(len(ims)):\n",
    "        sp = f.add_subplot(rows, cols, i+1)\n",
    "        sp.axis(\"Off\")\n",
    "        if titles is not None:\n",
    "            sp.set_title(titles[i], fontsize=16)\n",
    "        plt.imshow(ims[i][:, :, 0], cmap='gray')"
   ]
  },
  {
   "cell_type": "code",
   "execution_count": 11,
   "metadata": {},
   "outputs": [
    {
     "name": "stdout",
     "output_type": "stream",
     "text": [
      "__________________________________________________________________________________________________\n",
      "Layer (type)                    Output Shape         Param #     Connected to                     \n",
      "==================================================================================================\n",
      "input_2 (InputLayer)            (None, 32, 32, 1)    0                                            \n",
      "__________________________________________________________________________________________________\n",
      "conv2d_1 (Conv2D)               (None, 16, 16, 64)   3200        input_2[0][0]                    \n",
      "__________________________________________________________________________________________________\n",
      "max_pooling2d_1 (MaxPooling2D)  (None, 8, 8, 64)     0           conv2d_1[0][0]                   \n",
      "__________________________________________________________________________________________________\n",
      "conv2d_2 (Conv2D)               (None, 8, 8, 64)     4160        max_pooling2d_1[0][0]            \n",
      "__________________________________________________________________________________________________\n",
      "conv2d_3 (Conv2D)               (None, 8, 8, 192)    110784      conv2d_2[0][0]                   \n",
      "__________________________________________________________________________________________________\n",
      "max_pooling2d_2 (MaxPooling2D)  (None, 2, 2, 192)    0           conv2d_3[0][0]                   \n",
      "__________________________________________________________________________________________________\n",
      "conv2d_4 (Conv2D)               (None, 2, 2, 96)     18528       max_pooling2d_2[0][0]            \n",
      "__________________________________________________________________________________________________\n",
      "conv2d_6 (Conv2D)               (None, 2, 2, 16)     3088        max_pooling2d_2[0][0]            \n",
      "__________________________________________________________________________________________________\n",
      "max_pooling2d_3 (MaxPooling2D)  (None, 2, 2, 192)    0           max_pooling2d_2[0][0]            \n",
      "__________________________________________________________________________________________________\n",
      "conv2d_5 (Conv2D)               (None, 2, 2, 128)    110720      conv2d_4[0][0]                   \n",
      "__________________________________________________________________________________________________\n",
      "conv2d_7 (Conv2D)               (None, 2, 2, 32)     12832       conv2d_6[0][0]                   \n",
      "__________________________________________________________________________________________________\n",
      "conv2d_8 (Conv2D)               (None, 2, 2, 32)     6176        max_pooling2d_3[0][0]            \n",
      "__________________________________________________________________________________________________\n",
      "concatenate_1 (Concatenate)     (None, 2, 2, 192)    0           conv2d_5[0][0]                   \n",
      "                                                                 conv2d_7[0][0]                   \n",
      "                                                                 conv2d_8[0][0]                   \n",
      "__________________________________________________________________________________________________\n",
      "flatten_1 (Flatten)             (None, 768)          0           concatenate_1[0][0]              \n",
      "__________________________________________________________________________________________________\n",
      "dropout_1 (Dropout)             (None, 768)          0           flatten_1[0][0]                  \n",
      "__________________________________________________________________________________________________\n",
      "dense_1 (Dense)                 (None, 64)           49216       dropout_1[0][0]                  \n",
      "__________________________________________________________________________________________________\n",
      "dense_2 (Dense)                 (None, 2)            130         dense_1[0][0]                    \n",
      "==================================================================================================\n",
      "Total params: 318,834\n",
      "Trainable params: 318,834\n",
      "Non-trainable params: 0\n",
      "__________________________________________________________________________________________________\n"
     ]
    }
   ],
   "source": [
    "modelA = inceptionModel()\n",
    "\n",
    "modelA.summary()"
   ]
  },
  {
   "cell_type": "code",
   "execution_count": 12,
   "metadata": {},
   "outputs": [
    {
     "name": "stdout",
     "output_type": "stream",
     "text": [
      "Train on 2037 samples, validate on 715 samples\n",
      "Epoch 1/20\n",
      "2037/2037 [==============================] - 4s 2ms/step - loss: 0.5344 - acc: 0.7202 - val_loss: 0.7630 - val_acc: 0.7357\n",
      "Epoch 2/20\n",
      "2037/2037 [==============================] - 0s 181us/step - loss: 0.2681 - acc: 0.9018 - val_loss: 0.4672 - val_acc: 0.7888\n",
      "Epoch 3/20\n",
      "2037/2037 [==============================] - 0s 172us/step - loss: 0.1674 - acc: 0.9391 - val_loss: 0.6150 - val_acc: 0.8084\n",
      "Epoch 4/20\n",
      "2037/2037 [==============================] - 0s 177us/step - loss: 0.0807 - acc: 0.9676 - val_loss: 0.8666 - val_acc: 0.7664\n",
      "Epoch 5/20\n",
      "2037/2037 [==============================] - 0s 180us/step - loss: 0.0974 - acc: 0.9627 - val_loss: 0.5003 - val_acc: 0.7902\n",
      "Epoch 6/20\n",
      "2037/2037 [==============================] - 0s 178us/step - loss: 0.0777 - acc: 0.9686 - val_loss: 0.7087 - val_acc: 0.7916\n",
      "Epoch 7/20\n",
      "2037/2037 [==============================] - 0s 174us/step - loss: 0.0469 - acc: 0.9823 - val_loss: 0.9316 - val_acc: 0.7608\n",
      "Epoch 8/20\n",
      "2037/2037 [==============================] - 0s 176us/step - loss: 0.0421 - acc: 0.9863 - val_loss: 0.8377 - val_acc: 0.7944\n",
      "Epoch 9/20\n",
      "2037/2037 [==============================] - 0s 174us/step - loss: 0.0283 - acc: 0.9897 - val_loss: 1.0317 - val_acc: 0.7636\n",
      "Epoch 10/20\n",
      "2037/2037 [==============================] - 0s 172us/step - loss: 0.0419 - acc: 0.9867 - val_loss: 1.0722 - val_acc: 0.7902\n",
      "Epoch 11/20\n",
      "2037/2037 [==============================] - 0s 186us/step - loss: 0.0317 - acc: 0.9867 - val_loss: 1.0794 - val_acc: 0.7706\n",
      "Epoch 12/20\n",
      "2037/2037 [==============================] - 0s 187us/step - loss: 0.0314 - acc: 0.9892 - val_loss: 1.0299 - val_acc: 0.7706\n",
      "Epoch 13/20\n",
      "2037/2037 [==============================] - 0s 176us/step - loss: 0.0325 - acc: 0.9877 - val_loss: 0.8384 - val_acc: 0.7888\n",
      "Epoch 14/20\n",
      "2037/2037 [==============================] - 0s 177us/step - loss: 0.0234 - acc: 0.9907 - val_loss: 0.9900 - val_acc: 0.7720\n",
      "Epoch 15/20\n",
      "2037/2037 [==============================] - 0s 177us/step - loss: 0.0236 - acc: 0.9926 - val_loss: 0.9062 - val_acc: 0.8084\n",
      "Epoch 16/20\n",
      "2037/2037 [==============================] - 0s 177us/step - loss: 0.0174 - acc: 0.9961 - val_loss: 0.9307 - val_acc: 0.7916\n",
      "Epoch 17/20\n",
      "2037/2037 [==============================] - 0s 180us/step - loss: 0.0185 - acc: 0.9936 - val_loss: 1.2374 - val_acc: 0.8126\n",
      "Epoch 18/20\n",
      "2037/2037 [==============================] - 0s 173us/step - loss: 0.0195 - acc: 0.9956 - val_loss: 1.2955 - val_acc: 0.7944\n",
      "Epoch 19/20\n",
      "2037/2037 [==============================] - 0s 180us/step - loss: 0.0296 - acc: 0.9897 - val_loss: 0.8679 - val_acc: 0.7804\n",
      "Epoch 20/20\n",
      "2037/2037 [==============================] - 0s 182us/step - loss: 0.0321 - acc: 0.9887 - val_loss: 0.8689 - val_acc: 0.7790\n"
     ]
    }
   ],
   "source": [
    "history = modelA.fit(x_train, y_train, epochs=20, shuffle=True,  validation_split=0.0, validation_data=(x_valid, y_valid))"
   ]
  },
  {
   "cell_type": "code",
   "execution_count": 13,
   "metadata": {},
   "outputs": [
    {
     "data": {
      "text/plain": [
       "Text(0.5,1,'Accuracy Curves')"
      ]
     },
     "execution_count": 13,
     "metadata": {},
     "output_type": "execute_result"
    },
    {
     "data": {
      "image/png": "[encoded data removed]",
      "text/plain": [
       "<Figure size 576x432 with 1 Axes>"
      ]
     },
     "metadata": {
      "needs_background": "light"
     },
     "output_type": "display_data"
    }
   ],
   "source": [
    "plt.figure(figsize=[8,6])\n",
    "plt.plot(history.history['acc'],'r',linewidth=3.0)\n",
    "plt.plot(history.history['val_acc'],'b',linewidth=3.0)\n",
    "plt.legend(['Training Accuracy', 'Validation Accuracy'],fontsize=18)\n",
    "plt.xlabel('Epochs ',fontsize=16)\n",
    "plt.ylabel('Accuracy',fontsize=16)\n",
    "plt.title('Accuracy Curves',fontsize=16)"
   ]
  },
  {
   "cell_type": "code",
   "execution_count": 14,
   "metadata": {},
   "outputs": [
    {
     "data": {
      "text/plain": [
       "0.7871485947764701"
      ]
     },
     "execution_count": 14,
     "metadata": {},
     "output_type": "execute_result"
    }
   ],
   "source": [
    "score = modelA.evaluate(x_test, y_test, verbose=0)\n",
    "score[1]"
   ]
  },
  {
   "cell_type": "code",
   "execution_count": 15,
   "metadata": {},
   "outputs": [],
   "source": [
    "def predict_classes(self, x, batch_size=32, verbose=1):\n",
    "    '''Generate class predictions for the input samples\n",
    "    batch by batch.\n",
    "    # Arguments\n",
    "        x: input data, as a Numpy array or list of Numpy arrays\n",
    "            (if the model has multiple inputs).\n",
    "        batch_size: integer.\n",
    "        verbose: verbosity mode, 0 or 1.\n",
    "    # Returns\n",
    "        A numpy array of class predictions.\n",
    "    '''\n",
    "    proba = self.predict(x, batch_size=batch_size, verbose=verbose)\n",
    "    if proba.shape[-1] > 1:\n",
    "        return proba.argmax(axis=-1)\n",
    "    else:\n",
    "        return (proba > 0.5).astype('int32')"
   ]
  },
  {
   "cell_type": "code",
   "execution_count": 16,
   "metadata": {},
   "outputs": [
    {
     "name": "stdout",
     "output_type": "stream",
     "text": [
      "747/747 [==============================] - 0s 106us/step\n",
      "Accuracy = 0.79%\n"
     ]
    }
   ],
   "source": [
    "y_pred = predict_classes(modelA, x_test)\n",
    "acc = sum([y_test[i,1]==y_pred[i] for i in range(test_batches.n)]) / test_batches.n\n",
    "print(\"Accuracy = {:.2f}%\".format(acc))"
   ]
  },
  {
   "cell_type": "code",
   "execution_count": 19,
   "metadata": {},
   "outputs": [
    {
     "name": "stdout",
     "output_type": "stream",
     "text": [
      "[1 1 1 1 1 1 1 1 0 1 1 1 1 1 1 1 0 1 1 0 0 1 1 0 1 1 0 1 1 0]\n",
      "[0 1 1 1 1 1 1 1 0 1 1 1 1 1 1 0 0 1 0 0 0 1 1 0 1 1 0 1 1 1]\n"
     ]
    },
    {
     "data": {
      "image/png": "[encoded data removed]",
      "text/plain": [
       "<Figure size 1440x864 with 10 Axes>"
      ]
     },
     "metadata": {
      "needs_background": "light"
     },
     "output_type": "display_data"
    }
   ],
   "source": [
    "print(y_test[:30,1].astype(int))\n",
    "print(y_pred[:30])\n",
    "plots(x_test[:10], titles=y_test[:10], figsize=(20,12), rows=2)"
   ]
  },
  {
   "cell_type": "code",
   "execution_count": 18,
   "metadata": {},
   "outputs": [
    {
     "data": {
      "text/html": [
       "<div>\n",
       "<style scoped>\n",
       "    .dataframe tbody tr th:only-of-type {\n",
       "        vertical-align: middle;\n",
       "    }\n",
       "\n",
       "    .dataframe tbody tr th {\n",
       "        vertical-align: top;\n",
       "    }\n",
       "\n",
       "    .dataframe thead th {\n",
       "        text-align: right;\n",
       "    }\n",
       "</style>\n",
       "<table border=\"1\" class=\"dataframe\">\n",
       "  <thead>\n",
       "    <tr style=\"text-align: right;\">\n",
       "      <th>Predicted</th>\n",
       "      <th>0</th>\n",
       "      <th>1</th>\n",
       "      <th>All</th>\n",
       "    </tr>\n",
       "    <tr>\n",
       "      <th>True</th>\n",
       "      <th></th>\n",
       "      <th></th>\n",
       "      <th></th>\n",
       "    </tr>\n",
       "  </thead>\n",
       "  <tbody>\n",
       "    <tr>\n",
       "      <th>0.0</th>\n",
       "      <td>219</td>\n",
       "      <td>74</td>\n",
       "      <td>293</td>\n",
       "    </tr>\n",
       "    <tr>\n",
       "      <th>1.0</th>\n",
       "      <td>85</td>\n",
       "      <td>369</td>\n",
       "      <td>454</td>\n",
       "    </tr>\n",
       "    <tr>\n",
       "      <th>All</th>\n",
       "      <td>304</td>\n",
       "      <td>443</td>\n",
       "      <td>747</td>\n",
       "    </tr>\n",
       "  </tbody>\n",
       "</table>\n",
       "</div>"
      ],
      "text/plain": [
       "Predicted    0    1  All\n",
       "True                    \n",
       "0.0        219   74  293\n",
       "1.0         85  369  454\n",
       "All        304  443  747"
      ]
     },
     "execution_count": 18,
     "metadata": {},
     "output_type": "execute_result"
    }
   ],
   "source": [
    "import pandas as pd\n",
    "y_t = pd.Series(y_test[:,1])\n",
    "y_p = pd.Series(y_pred)\n",
    "pd.crosstab(y_t, y_p, rownames=['True'], colnames=['Predicted'], margins=True)"
   ]
  },
  {
   "cell_type": "code",
   "execution_count": null,
   "metadata": {},
   "outputs": [],
   "source": [
    "\n"
   ]
  },
  {
   "cell_type": "code",
   "execution_count": null,
   "metadata": {},
   "outputs": [],
   "source": []
  }
 ],
 "metadata": {
  "kernelspec": {
   "display_name": "Python 3",
   "language": "python",
   "name": "python3"
  },
  "language_info": {
   "codemirror_mode": {
    "name": "ipython",
    "version": 3
   },
   "file_extension": ".py",
   "mimetype": "text/x-python",
   "name": "python",
   "nbconvert_exporter": "python",
   "pygments_lexer": "ipython3",
   "version": "3.6.7"
  }
 },
 "nbformat": 4,
 "nbformat_minor": 2
}
