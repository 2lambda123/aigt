{
 "cells": [
  {
   "cell_type": "code",
   "execution_count": 1,
   "metadata": {},
   "outputs": [],
   "source": [
    "input_ultrasound_fullname = 'numpy_data/Stacked Arrays/Training/stacked_image_array.npy'\n",
    "input_segmentationo_fullname = 'numpy_data/Stacked Arrays/Training/stacked_segmentation_array.npy'\n",
    "test_ultrasound_fullname = 'numpy_data/Stacked Arrays/Test/test_image_array.npy'\n",
    "test_segmentation_fullname = 'numpy_data/Stacked Arrays/Test/test_segmentation_array.npy'\n",
    "\n",
    "output_ultrasound_fullname = 'numpy_data/Stacked Arrays/Training/stacked_image_64.npy'\n",
    "output_segmentation_fullname = 'numpy_data/Stacked Arrays/Training/stacked_segmentation_64.npy'\n",
    "output_test_ultrasound_fullname = 'numpy_data/Stacked Arrays/Test/test_image_64.npy'\n",
    "output_test_segmentation_fullname = 'numpy_data/Stacked Arrays/Test/test_segmentation_64.npy'\n",
    "\n",
    "output_size = 64"
   ]
  },
  {
   "cell_type": "code",
   "execution_count": 2,
   "metadata": {},
   "outputs": [],
   "source": [
    "import numpy as np\n",
    "import os\n",
    "\n",
    "from scipy.ndimage import zoom"
   ]
  },
  {
   "cell_type": "code",
   "execution_count": 3,
   "metadata": {},
   "outputs": [],
   "source": [
    "ultrasound_data = np.load(input_ultrasound_fullname)\n",
    "segmentation_data = np.load(input_segmentationo_fullname)\n",
    "\n",
    "test_ultrasound_data = np.load(test_ultrasound_fullname)\n",
    "test_segmentation_data = np.load(test_segmentation_fullname)\n",
    "\n",
    "num_ultrasound = ultrasound_data.shape[0]\n",
    "num_segmentation = segmentation_data.shape[0]\n",
    "\n",
    "num_test_ultrasound = test_ultrasound_data.shape[0]\n",
    "num_test_segmentation = test_segmentation_data.shape[0]"
   ]
  },
  {
   "cell_type": "code",
   "execution_count": 4,
   "metadata": {},
   "outputs": [
    {
     "name": "stdout",
     "output_type": "stream",
     "text": [
      "Input ultrasound data shape:   (24, 128, 128, 128, 1)\n",
      "Input segmentation data shape: (24, 128, 128, 128, 1)\n",
      "Test ultrasound data shape:    (6, 128, 128, 128, 1)\n",
      "Test segmentation data shape:  (6, 128, 128, 128, 1)\n",
      "\n",
      "Intensity range in input ultrasound:   0.0 -- 1.0\n",
      "Intensity range in input segmentation: 0.0 -- 1.0\n"
     ]
    }
   ],
   "source": [
    "print(\"Input ultrasound data shape:   {}\".format(ultrasound_data.shape))\n",
    "print(\"Input segmentation data shape: {}\".format(segmentation_data.shape))\n",
    "print(\"Test ultrasound data shape:    {}\".format(test_ultrasound_data.shape))\n",
    "print(\"Test segmentation data shape:  {}\".format(test_segmentation_data.shape))\n",
    "print(\"\")\n",
    "print(\"Intensity range in input ultrasound:   {} -- {}\".format(ultrasound_data.min(), ultrasound_data.max()))\n",
    "print(\"Intensity range in input segmentation: {} -- {}\".format(segmentation_data.min(), segmentation_data.max()))"
   ]
  },
  {
   "cell_type": "code",
   "execution_count": 5,
   "metadata": {},
   "outputs": [
    {
     "name": "stdout",
     "output_type": "stream",
     "text": [
      "Resize factors: 0.5, 0.5, 0.5\n"
     ]
    }
   ],
   "source": [
    "x_scale = output_size / ultrasound_data.shape[1]\n",
    "y_scale = output_size / ultrasound_data.shape[2]\n",
    "z_scale = output_size / ultrasound_data.shape[3]\n",
    "\n",
    "print(\"Resize factors: {}, {}, {}\".format(x_scale, y_scale, z_scale))"
   ]
  },
  {
   "cell_type": "code",
   "execution_count": 6,
   "metadata": {},
   "outputs": [],
   "source": [
    "ultrasound_data_resized = zoom(ultrasound_data, (1, x_scale, y_scale, z_scale, 1), order=1)\n",
    "segmentation_data_resized = zoom(segmentation_data, (1, x_scale, y_scale, z_scale, 1), order=0)\n",
    "test_ultrasound_data_resized = zoom(test_ultrasound_data, (1, x_scale, y_scale, z_scale, 1), order=1)\n",
    "test_segmentation_data_resized = zoom(test_segmentation_data, (1, x_scale, y_scale, z_scale, 1), order=0)"
   ]
  },
  {
   "cell_type": "code",
   "execution_count": 7,
   "metadata": {},
   "outputs": [
    {
     "name": "stdout",
     "output_type": "stream",
     "text": [
      "Output ultrasound data shape:         (24, 64, 64, 64, 1)\n",
      "Output segmentation data shape:       (24, 64, 64, 64, 1)\n",
      "Output test ultrasound data shape:    (6, 64, 64, 64, 1)\n",
      "Output test segmentation data shape:  (6, 64, 64, 64, 1)\n",
      "\n",
      "Intensity range of resized ultrasound:   0.0 -- 0.9941126816190052\n",
      "Intensity range of resized segmentation: 0.0 -- 1.0\n"
     ]
    }
   ],
   "source": [
    "print(\"Output ultrasound data shape:         {}\".format(ultrasound_data_resized.shape))\n",
    "print(\"Output segmentation data shape:       {}\".format(segmentation_data_resized.shape))\n",
    "print(\"Output test ultrasound data shape:    {}\".format(test_ultrasound_data_resized.shape))\n",
    "print(\"Output test segmentation data shape:  {}\".format(test_segmentation_data_resized.shape))\n",
    "print(\"\")\n",
    "print(\"Intensity range of resized ultrasound:   {} -- {}\".format(\n",
    "    ultrasound_data_resized.min(), ultrasound_data_resized.max()))\n",
    "print(\"Intensity range of resized segmentation: {} -- {}\".format(\n",
    "    segmentation_data_resized.min(), segmentation_data_resized.max()))"
   ]
  },
  {
   "cell_type": "code",
   "execution_count": 8,
   "metadata": {},
   "outputs": [],
   "source": [
    "np.save(output_ultrasound_fullname, ultrasound_data_resized)\n",
    "np.save(output_segmentation_fullname, segmentation_data_resized)\n",
    "np.save(output_test_ultrasound_fullname, test_ultrasound_data_resized)\n",
    "np.save(output_test_segmentation_fullname, test_segmentation_data_resized)"
   ]
  },
  {
   "cell_type": "code",
   "execution_count": 9,
   "metadata": {},
   "outputs": [
    {
     "name": "stdout",
     "output_type": "stream",
     "text": [
      "Ultrasound saved to numpy_data/Stacked Arrays/Training/stacked_image_64.npy\n",
      "Segmentation saved to numpy_data/Stacked Arrays/Training/stacked_segmentation_64.npy\n",
      "Test ultrasound saved to numpy_data/Stacked Arrays/Test/test_image_64.npy\n",
      "Test segmentation saved to numpy_data/Stacked Arrays/Test/test_segmentation_64.npy\n"
     ]
    }
   ],
   "source": [
    "print(\"Ultrasound saved to {}\".format(output_ultrasound_fullname))\n",
    "print(\"Segmentation saved to {}\".format(output_segmentation_fullname))\n",
    "print(\"Test ultrasound saved to {}\".format(output_test_ultrasound_fullname))\n",
    "print(\"Test segmentation saved to {}\".format(output_test_segmentation_fullname))"
   ]
  },
  {
   "cell_type": "code",
   "execution_count": null,
   "metadata": {},
   "outputs": [],
   "source": []
  }
 ],
 "metadata": {
  "kernelspec": {
   "display_name": "Python 3",
   "language": "python",
   "name": "python3"
  },
  "language_info": {
   "codemirror_mode": {
    "name": "ipython",
    "version": 3
   },
   "file_extension": ".py",
   "mimetype": "text/x-python",
   "name": "python",
   "nbconvert_exporter": "python",
   "pygments_lexer": "ipython3",
   "version": "3.7.3"
  }
 },
 "nbformat": 4,
 "nbformat_minor": 2
}
