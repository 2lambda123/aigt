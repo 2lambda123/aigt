{
 "cells": [
  {
   "cell_type": "code",
   "execution_count": null,
   "metadata": {},
   "outputs": [],
   "source": [
    "# Copy and paste this code to the Python Interactor in Slicer\n",
    "\n",
    "import numpy as np\n",
    "\n",
    "files = [r\"j:\\Temp\\ultraosund_0.npy\", r\"j:\\Temp\\segmentation_0.npy\", r\"j:\\Temp\\prediction_0.npy\"]\n",
    "volumeNames = [\"Ultrasound\", \"Segmentation\", \"Prediction\"]\n",
    "labelmapFlags = [False, False, False]\n",
    "dataTypes = [\"Double\", \"Double\", \"Float\"]\n",
    "\n",
    "# files = [r\"j:\\Temp\\ultraosund_0.npy\", r\"j:\\Temp\\segmentation_0.npy\"]\n",
    "# volumeNames = [\"Ultrasound\", \"Segmentation\"]\n",
    "# labelmapFlags = [False, False]\n",
    "# dataTypes = [\"Double\", \"Double\"]\n",
    "\n",
    "\n",
    "for fileName, volumeName, labelmap, dataType in zip(files, volumeNames, labelmapFlags, dataTypes):\n",
    "  print(\"Importing {} into {}, type {}\".format(fileName, volumeName, dataType))\n",
    "  numpyArray = np.load(fileName)\n",
    "  importer = vtk.vtkImageImport()\n",
    "  importer.CopyImportVoidPointer(numpyArray, numpyArray.nbytes)\n",
    "  setDataType = 'importer.SetDataScalarTypeTo' + dataType + '()'\n",
    "  eval(setDataType)\n",
    "  importer.SetNumberOfScalarComponents(1)\n",
    "  importer.SetWholeExtent(0,numpyArray.shape[0]-1,0,numpyArray.shape[1]-1,0,numpyArray.shape[2]-1)\n",
    "  importer.SetDataExtentToWholeExtent()\n",
    "  importer.Update()\n",
    "  if labelmap:\n",
    "    volume = slicer.vtkMRMLLabelMapVolumeNode()\n",
    "  else:\n",
    "    volume = slicer.vtkMRMLScalarVolumeNode()\n",
    "  volume.SetName(volumeName)\n",
    "  # volume.SetLabelMap(labelmap)\n",
    "  volume.SetAndObserveImageData(importer.GetOutput())\n",
    "  slicer.mrmlScene.AddNode(volume)\n",
    "  volumeDisplayNode = 0\n",
    "  if labelmap == False:\n",
    "    volumeDisplayNode = slicer.vtkMRMLScalarVolumeDisplayNode()\n",
    "  else:\n",
    "    volumeDisplayNode = slicer.vtkMRMLLabelMapVolumeDisplayNode()\n",
    "  \n",
    "  slicer.mrmlScene.AddNode(volumeDisplayNode)\n",
    "  if labelmap == False:\n",
    "    greyColorTable = slicer.util.getNode('Grey')\n",
    "    volumeDisplayNode.SetAndObserveColorNodeID(greyColorTable.GetID())\n",
    "  else:\n",
    "    genericColorTableNode = slicer.util.getNode('GenericColors')\n",
    "    volumeDisplayNode.SetAndObserveColorNodeID(genericColorTableNode.GetID())\n",
    "  \n",
    "  volume.SetAndObserveDisplayNodeID(volumeDisplayNode.GetID())\n",
    "  # selectionNode = slicer.app.applicationLogic().GetSelectionNode()\n",
    "  # selectionNode.SetReferenceActiveVolumeID(volume.GetID())\n",
    "  # slicer.app.applicationLogic().PropagateVolumeSelection(0)\n"
   ]
  }
 ],
 "metadata": {
  "kernelspec": {
   "display_name": "Python 3",
   "language": "python",
   "name": "python3"
  },
  "language_info": {
   "codemirror_mode": {
    "name": "ipython",
    "version": 3
   },
   "file_extension": ".py",
   "mimetype": "text/x-python",
   "name": "python",
   "nbconvert_exporter": "python",
   "pygments_lexer": "ipython3",
   "version": "3.7.3"
  }
 },
 "nbformat": 4,
 "nbformat_minor": 2
}
