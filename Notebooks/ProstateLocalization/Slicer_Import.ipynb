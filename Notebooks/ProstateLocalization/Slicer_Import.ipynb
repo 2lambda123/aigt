{
 "cells": [
  {
   "cell_type": "code",
   "execution_count": 1,
   "metadata": {},
   "outputs": [
    {
     "data": {
      "text/plain": [
       "Importing saved_models/Slicer Export/ultrasound_0.npy into Ultrasound of voxel type Double\n",
       "Importing saved_models/Slicer Export/segmentation_0.npy into Segmentation of voxel type Double\n",
       "Importing saved_models/Slicer Export/prediction_0.npy into Prediction of voxel type Float\n"
      ]
     },
     "execution_count": 1,
     "metadata": {},
     "output_type": "execute_result"
    }
   ],
   "source": [
    "import numpy as np\n",
    "\n",
    "\n",
    "def import_numpy_array(fileName, volumeName, data_type):\n",
    "  print(\"Importing {} into {} of voxel type {}\".format(fileName, volumeName, dataType))\n",
    "  numpyArray = np.load(fileName)\n",
    "  volumeNode = slicer.mrmlScene.GetFirstNode(volumeName, 'vtkMRMLScalarVolumeNode')\n",
    "  if volumeNode is None:\n",
    "    volumeNode = slicer.mrmlScene.AddNewNodeByClass('vtkMRMLScalarVolumeNode')\n",
    "    volumeNode.SetName(volumeName)\n",
    "    volumeNode.CreateDefaultDisplayNodes()\n",
    "  \n",
    "  slicer.util.updateVolumeFromArray(volumeNode, numpyArray)\n",
    "  slicer.util.setSliceViewerLayers(background=volumeNode)\n",
    "\n",
    "\n",
    "files = [\"saved_models/Slicer Export/ultrasound_0.npy\", \"saved_models/Slicer Export/segmentation_0.npy\", \n",
    "         \"saved_models/Slicer Export/prediction_0.npy\"]\n",
    "volumeNames = [\"Ultrasound\", \"Segmentation\", \"Prediction\", \"Urethra\"]\n",
    "dataTypes = [\"Double\", \"Double\", \"Float\", \"Float\"]\n",
    "for fileName, volumeName, dataType in zip(files, volumeNames, dataTypes):\n",
    "  import_numpy_array(fileName, volumeName, dataType)\n"
   ]
  }
 ],
 "metadata": {
  "kernelspec": {
   "display_name": "Slicer 4.11",
   "language": "python",
   "name": "slicer-4.11"
  },
  "language_info": {
   "codemirror_mode": {
    "name": "ipython",
    "version": 3
   },
   "file_extension": ".py",
   "mimetype": "text/x-python",
   "name": "python",
   "nbconvert_exporter": "python",
   "pygments_lexer": "ipython3",
   "version": "2.7.13+"
  }
 },
 "nbformat": 4,
 "nbformat_minor": 2
}
