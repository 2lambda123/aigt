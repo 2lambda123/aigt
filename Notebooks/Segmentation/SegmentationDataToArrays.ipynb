{
 "cells": [
  {
   "cell_type": "code",
   "execution_count": 1,
   "metadata": {},
   "outputs": [],
   "source": [
    "train_data_folder = r\"\"\n",
    "test_data_folder = r\"ChildrensPngs\"\n",
    "output_folder = r\"QueensToChildrens\"\n",
    "\n",
    "train_image_filename = r\"ultrasound\"\n",
    "train_segmentation_filename = r\"segmentation\"\n",
    "\n",
    "test_image_filename = r\"ultrasound-test\"\n",
    "test_segmentation_filename = r\"segmentation-test\"\n",
    "\n",
    "output_image_size = 128\n",
    "max_output_intensity = 1.0"
   ]
  },
  {
   "cell_type": "code",
   "execution_count": 2,
   "metadata": {},
   "outputs": [
    {
     "name": "stdout",
     "output_type": "stream",
     "text": [
      "Found 0 image files\n",
      "Found 0 segmentations\n",
      "Found 1126 image files\n",
      "Found 1126 segmentations\n"
     ]
    }
   ],
   "source": [
    "import os\n",
    "\n",
    "from local_vars import root_folder\n",
    "\n",
    "train_data_fullpath = os.path.join(root_folder, train_data_folder)\n",
    "test_data_fullpath = os.path.join(root_folder, test_data_folder)\n",
    "\n",
    "test_image_file_list = [f for f in os.listdir(test_data_fullpath) if f.endswith('ultrasound.png')]\n",
    "test_segmentation_file_list = [f for f in os.listdir(test_data_fullpath) if f.endswith('segmentation.png')]\n",
    "train_image_file_list = [f for f in os.listdir(train_data_fullpath) if f.endswith('ultrasound.png')]\n",
    "train_segmentation_file_list = [f for f in os.listdir(train_data_fullpath) if f.endswith('segmentation.png')]\n",
    "\n",
    "train_num_images = len(train_image_file_list)\n",
    "train_num_segmentations = len(train_segmentation_file_list)\n",
    "test_num_images = len(test_image_file_list)\n",
    "test_num_segmentations = len(test_segmentation_file_list)\n",
    "\n",
    "print( \"Found {} image files\".format(train_num_images))\n",
    "print( \"Found {} segmentations\".format(train_num_segmentations))\n",
    "print( \"Found {} image files\".format(test_num_images))\n",
    "print( \"Found {} segmentations\".format(test_num_segmentations))"
   ]
  },
  {
   "cell_type": "code",
   "execution_count": 3,
   "metadata": {},
   "outputs": [
    {
     "name": "stdout",
     "output_type": "stream",
     "text": [
      "Reading testing files and saving them as numpy arrays...\n"
     ]
    },
    {
     "data": {
      "application/vnd.jupyter.widget-view+json": {
       "model_id": "59ea232f372d4515979790a3a7b53df1",
       "version_major": 2,
       "version_minor": 0
      },
      "text/plain": [
       "IntProgress(value=0, max=1126)"
      ]
     },
     "metadata": {},
     "output_type": "display_data"
    },
    {
     "name": "stdout",
     "output_type": "stream",
     "text": [
      "Test images converted to numpy arrays\n"
     ]
    }
   ],
   "source": [
    "import cv2\n",
    "import numpy as np\n",
    "\n",
    "from ipywidgets import IntProgress\n",
    "from IPython.display import display\n",
    "\n",
    "if train_num_images > 0:\n",
    "    train_image_data = np.zeros([train_num_images, output_image_size, output_image_size, 1]).astype(np.float16)\n",
    "    train_segmentation_data = np.zeros([train_num_images, output_image_size, output_image_size, 1]).astype(np.uint8)\n",
    "\n",
    "if test_num_images > 0:\n",
    "    test_image_data = np.zeros([test_num_images, output_image_size, output_image_size, 1]).astype(np.float16)\n",
    "    test_segmentation_data = np.zeros([test_num_images, output_image_size, output_image_size, 1]).astype(np.uint8)\n",
    "\n",
    "\n",
    "if train_num_images > 0:\n",
    "    f = IntProgress(min=0, max=train_num_images)\n",
    "    print(\"Reading training files and saving them as numpy arrays...\")\n",
    "    display(f)\n",
    "\n",
    "    for i in range(train_num_images):\n",
    "        f.value = i\n",
    "        current_file_name = train_image_file_list[i]\n",
    "        current_file_fullname = os.path.join(train_data_fullpath, current_file_name)\n",
    "        current_segmentation_name = train_segmentation_file_list[i]\n",
    "        current_segmentation_fullname = os.path.join(train_data_fullpath, current_segmentation_name)\n",
    "        image = cv2.imread(current_file_fullname, 0)\n",
    "        segmentation = cv2.imread(current_segmentation_fullname, 0)\n",
    "        if image is None:\n",
    "            print(\"File not read: {}\".format(current_file_fullname))\n",
    "            break\n",
    "        if segmentation is None:\n",
    "            print(\"File not read: {}\".format(current_segmentation_fullname))\n",
    "            break\n",
    "        if image.shape[0] != output_image_size or image.shape[1] != output_image_size:\n",
    "            resized_image = cv2.resize(image, (output_image_size, output_image_size)).astype(np.float16)\n",
    "            train_image_data[i,...,0] = resized_image / resized_image.max() * max_output_intensity\n",
    "            train_segmentation_data[i,...,0] = cv2.resize(segmentation, (output_image_size, output_image_size))\n",
    "        else:\n",
    "            train_image_data[i,...,0] = image.astype(np.float16) / image.astype(np.float16).max() * max_output_intensity\n",
    "            train_segmentation_data[i,...,0] = segmentation[...]\n",
    "\n",
    "    print(\"Training images converted to numpy arrays\\n\")\n",
    "\n",
    "\n",
    "if test_num_images > 0:\n",
    "    f = IntProgress(min=0, max=test_num_images)\n",
    "    print(\"Reading testing files and saving them as numpy arrays...\")\n",
    "    display(f)\n",
    "\n",
    "    for i in range(test_num_images):\n",
    "        f.value = i\n",
    "        current_file_name = test_image_file_list[i]\n",
    "        current_file_fullname = os.path.join(test_data_fullpath, current_file_name)\n",
    "        current_segmentation_name = test_segmentation_file_list[i]\n",
    "        current_segmentation_fullname = os.path.join(test_data_fullpath, current_segmentation_name)\n",
    "        image = cv2.imread(current_file_fullname, 0)\n",
    "        segmentation = cv2.imread(current_segmentation_fullname, 0)\n",
    "        if image is None:\n",
    "            print(\"File not read: {}\".format(current_file_fullname))\n",
    "            break\n",
    "        if segmentation is None:\n",
    "            print(\"File not read: {}\".format(current_segmentation_fullname))\n",
    "            break\n",
    "        if image.shape[0] != output_image_size or image.shape[1] != output_image_size:\n",
    "            resized_image = cv2.resize(image, (output_image_size, output_image_size)).astype(np.float16)\n",
    "            test_image_data[i,...,0] = resized_image / resized_image.max() * max_output_intensity\n",
    "            test_segmentation_data[i,...,0] = cv2.resize(segmentation, (output_image_size, output_image_size))\n",
    "        else:\n",
    "            test_image_data[i,...,0] = image.astype(np.float16) / image.astype(np.float16).max() * max_output_intensity\n",
    "            test_segmentation_data[i,...,0] = segmentation[...]\n",
    "\n",
    "    print(\"Test images converted to numpy arrays\")"
   ]
  },
  {
   "cell_type": "code",
   "execution_count": 5,
   "metadata": {},
   "outputs": [
    {
     "name": "stdout",
     "output_type": "stream",
     "text": [
      "Showing image #0 of 0\n"
     ]
    }
   ],
   "source": [
    "import matplotlib.pyplot as plt\n",
    "\n",
    "if train_num_images > 0:\n",
    "    image_index = train_num_images // 2\n",
    "    print(\"Showing image #{} of {}\".format(image_index, train_num_images))\n",
    "    plt.imshow(train_image_data[image_index, :, :, 0].astype(np.float32))\n",
    "    plt.colorbar()\n",
    "    plt.title(\"Image \" + str(image_index))\n",
    "    plt.show()\n",
    "    plt.imshow(train_segmentation_data[image_index, :, :, 0].astype(np.float32))\n",
    "    plt.colorbar()\n",
    "    plt.title(\"Segmentation \" + str(image_index))\n",
    "    plt.show()"
   ]
  },
  {
   "cell_type": "code",
   "execution_count": 6,
   "metadata": {},
   "outputs": [
    {
     "name": "stdout",
     "output_type": "stream",
     "text": [
      "No training data was saved.\n",
      "Saving test images to:        j:\\Data\\QueensToChildrens\\ultrasound-test\n",
      "Saving test segmentations to: j:\\Data\\QueensToChildrens\\segmentation-test\n"
     ]
    }
   ],
   "source": [
    "output_fullpath = os.path.join(root_folder, output_folder)\n",
    "\n",
    "if not os.path.exists(output_fullpath):\n",
    "    os.makedirs(output_fullpath)\n",
    "    print(\"Created folder: \" + output_fullpath)\n",
    "\n",
    "train_image_fullname = os.path.join(output_fullpath, train_image_filename)\n",
    "train_segmentation_fullname = os.path.join(output_fullpath, train_segmentation_filename)\n",
    "\n",
    "test_image_fullname = os.path.join(output_fullpath, test_image_filename)\n",
    "test_segmentation_fullname = os.path.join(output_fullpath, test_segmentation_filename)\n",
    "\n",
    "if train_num_images > 0:\n",
    "    print(\"Saving training images to:         {}\".format(train_image_fullname))\n",
    "    print(\"Saving training segmentations to:  {}\".format(train_segmentation_fullname))\n",
    "    np.save(train_image_fullname, train_image_data)\n",
    "    np.save(train_segmentation_fullname, train_segmentation_data)\n",
    "else:\n",
    "    print(\"No training data was saved.\")\n",
    "\n",
    "if test_num_images > 0:\n",
    "    print(\"Saving test images to:        {}\".format(test_image_fullname))\n",
    "    print(\"Saving test segmentations to: {}\".format(test_segmentation_fullname))\n",
    "    np.save(test_image_fullname, test_image_data)\n",
    "    np.save(test_segmentation_fullname, test_segmentation_data)\n",
    "else:\n",
    "    print(\"Test data was not split.\")"
   ]
  },
  {
   "cell_type": "code",
   "execution_count": null,
   "metadata": {},
   "outputs": [],
   "source": []
  }
 ],
 "metadata": {
  "kernelspec": {
   "display_name": "Python 3",
   "language": "python",
   "name": "python3"
  },
  "language_info": {
   "codemirror_mode": {
    "name": "ipython",
    "version": 3
   },
   "file_extension": ".py",
   "mimetype": "text/x-python",
   "name": "python",
   "nbconvert_exporter": "python",
   "pygments_lexer": "ipython3",
   "version": "3.7.3"
  }
 },
 "nbformat": 4,
 "nbformat_minor": 2
}
