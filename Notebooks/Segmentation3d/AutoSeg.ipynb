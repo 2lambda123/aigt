{
 "cells": [
  {
   "cell_type": "code",
   "execution_count": 1,
   "metadata": {},
   "outputs": [
    {
     "name": "stderr",
     "output_type": "stream",
     "text": [
      "Using TensorFlow backend.\n"
     ]
    },
    {
     "name": "stdout",
     "output_type": "stream",
     "text": [
      "tf\n"
     ]
    }
   ],
   "source": [
    "import numpy as np\n",
    "import matplotlib.pyplot as plt\n",
    "from matplotlib import image\n",
    "from PIL import Image\n",
    "import os\n",
    "import os.path\n",
    "from os import path\n",
    "import tensorflow as tf\n",
    "from keras.models import Sequential, Model \n",
    "from keras.layers import *\n",
    "import keras.backend as k\n",
    "import keras.utils\n",
    "from keras import optimizers as opt\n",
    "from sklearn.model_selection import train_test_split\n",
    "from keras.utils import plot_model\n",
    "from keras.preprocessing.image import ImageDataGenerator\n",
    "\n",
    "\n",
    "print(k.image_dim_ordering())\n",
    "\n",
    "k.set_image_dim_ordering('tf')\n",
    "\n",
    "#tf.keras\n",
    "\n",
    "gpu_options = tf.GPUOptions(allow_growth=True)\n",
    "session = tf.InteractiveSession(config=tf.ConfigProto(gpu_options=gpu_options))"
   ]
  },
  {
   "cell_type": "code",
   "execution_count": 152,
   "metadata": {},
   "outputs": [],
   "source": [
    "def bnormalize(arr):\n",
    "    arrMin = np.amin(arr)\n",
    "    arrMax = np.amax(arr)\n",
    "    print(arrMin)\n",
    "    print(arrMax)\n",
    "    if arrMax != 0:\n",
    "        arr = np.subtract(arr,arrMin)\n",
    "        #print(arr)\n",
    "        arrMax = np.amax(arr)\n",
    "        arr = np.divide(arr,arrMax)\n",
    "        #print(arr)\n",
    "    else:\n",
    "        print(\"error, max value is zero\")\n",
    "    print(\"normalized\")\n",
    "    return arr"
   ]
  },
  {
   "cell_type": "code",
   "execution_count": 3,
   "metadata": {},
   "outputs": [],
   "source": [
    "# Batch Generator\n",
    "\n",
    "import keras.utils\n",
    "import scipy.ndimage\n",
    "\n",
    "batch_size=3\n",
    "max_rotation_angle = 10\n",
    "max_shift = 0.2\n",
    "max_zoom = 0.2\n",
    "\n",
    "class BatchGenerator(keras.utils.Sequence):\n",
    "    \n",
    "    def __init__(self,\n",
    "                 x_set,\n",
    "                 y_set,\n",
    "                 batch_size,\n",
    "                 image_dimensions=(128, 128, 128),\n",
    "                 shuffle=True,\n",
    "                 n_channels=1,\n",
    "                 n_classes=2):\n",
    "        self.x = x_set\n",
    "        self.y = y_set\n",
    "        self.batch_size = batch_size\n",
    "        self.image_dimensions = image_dimensions\n",
    "        print(\"Generator created for image size: {}\".format(self.image_dimensions))\n",
    "        self.shuffle = shuffle\n",
    "        self.n_channels = n_channels\n",
    "        self.n_classes = n_classes\n",
    "        self.number_of_images = self.x.shape[0]\n",
    "        self.indices = np.arange(self.number_of_images)\n",
    "        if self.shuffle == True:\n",
    "            np.random.shuffle(self.indices)\n",
    "            \n",
    "        #print(self.x.shape)\n",
    "        #print(self.y.shape)\n",
    "            \n",
    "    def __len__(self):\n",
    "        return int(np.floor(self.number_of_images / self.batch_size))\n",
    "    \n",
    "    def on_epoch_end(self):\n",
    "        self.indices = np.arange(self.number_of_images)\n",
    "        if self.shuffle == True:\n",
    "            np.random.shuffle(self.indices)\n",
    "    \n",
    "    def __getitem__(self, index):\n",
    "        batch_indices = self.indices[index*self.batch_size : (index+1)*self.batch_size]\n",
    "        x = np.empty((self.batch_size, *self.image_dimensions, self.n_channels))\n",
    "        y = np.empty((self.batch_size, *self.image_dimensions))\n",
    "        #print(batch_indices)\n",
    "        \n",
    "        for i in range(self.batch_size):\n",
    "            flip_flag = np.random.randint(2)\n",
    "            #print(i)\n",
    "            if flip_flag == 1:\n",
    "                x[i,:,:,:,:] = np.flip(self.x[batch_indices[i],:,:,:,:], axis=0)\n",
    "                y[i,:,:,:]   = np.flip(self.y[batch_indices[i],:,:,:,0], axis=0)\n",
    "            else:\n",
    "                x[i,:,:,:,:] = self.x[batch_indices[i],:,:,:,:]\n",
    "                y[i,:,:,:]   = self.y[batch_indices[i],:,:,:,0]\n",
    "            \n",
    "        # Rotations\n",
    "        \n",
    "        x_rot = np.copy(x)\n",
    "        y_rot = np.copy(y)\n",
    "            \n",
    "        for i in range(self.batch_size):\n",
    "            #print(\"aug\",i)\n",
    "            angle_x = np.random.randint(-max_rotation_angle, max_rotation_angle)\n",
    "            x_rot[i,:,:,:,:] = scipy.ndimage.interpolation.rotate(\n",
    "                x[i,:,:,:,:], angle_x, (1,2), False, mode=\"constant\", cval=0, order=0)\n",
    "            y_rot[i,:,:,:] = scipy.ndimage.interpolation.rotate(\n",
    "                y[i,:,:,:], angle_x, (1,2), False, mode=\"constant\", cval=0, order=0)\n",
    "        \n",
    "            #angle_y = np.random.randint(-max_rotation_angle, max_rotation_angle)\n",
    "            #x_rot = scipy.ndimage.interpolation.rotate(x, angle_y, (0,2), False, mode=\"constant\", cval=0, order=0)\n",
    "            #y_rot = scipy.ndimage.interpolation.rotate(y, angle_y, (0,2), False, mode=\"constant\", cval=0, order=0)\n",
    "\n",
    "            #angle_z = np.random.randint(-max_rotation_angle, max_rotation_angle)\n",
    "            #x_rot = scipy.ndimage.interpolation.rotate(x, angle_z, (0,1), False, mode=\"constant\", cval=0, order=0)\n",
    "            #y_rot = scipy.ndimage.interpolation.rotate(y, angle_z, (0,1), False, mode=\"constant\", cval=0, order=0)\n",
    "        \n",
    "        # shift\n",
    "        \n",
    "        shift = np.random.uniform(-max_shift, max_shift, size=5)\n",
    "        shift[0] = 0.0\n",
    "        shift[4] = 0.0\n",
    "        # x_shift = scipy.ndimage.interpolation.shift(x_rot, shift)\n",
    "        # y_shift = scipy.ndimage.interpolation.shift(y_rot, shift[:4])\n",
    "        \n",
    "        # make sure values are between 0 and 1\n",
    "        \n",
    "        # x_aug = np.clip(x_shift, 0.0, 1.0)\n",
    "        # y_aug = np.clip(y_shift, 0.0, 1.0)\n",
    "        \n",
    "        x_aug = np.clip(x_rot, 0.0, 1.0)\n",
    "        y_aug = np.clip(y_rot, 0.0, 1.0)\n",
    "        \n",
    "        # convert segmentation to one-hot encoding\n",
    "        \n",
    "        y_onehot = keras.utils.to_categorical(y_aug, self.n_classes)\n",
    "\n",
    "        return x_aug, y_onehot"
   ]
  },
  {
   "cell_type": "code",
   "execution_count": 154,
   "metadata": {},
   "outputs": [
    {
     "name": "stdout",
     "output_type": "stream",
     "text": [
      "76 nrrds found\n",
      "76 downsized file paths created\n",
      "76 normalizaed file paths created\n"
     ]
    }
   ],
   "source": [
    "#These paths are specific to my computer\n",
    "#change them to match where you store your nrrds and segs\n",
    "rootPath = \"E:\\\\Patient Data Summer\\\\NN\\\\\"\n",
    "nrrdPath = \"E:\\\\Patient Data Summer\\\\NN\\\\Nrrds\\\\\"\n",
    "segPath = \"E:\\\\Patient Data Summer\\\\NN\\\\Segs\\\\\"\n",
    "\n",
    "nrrdFilePaths = []\n",
    "nrrdFileNames = []\n",
    "preNormalizedFilePaths = []\n",
    "normalizedFilePaths = []\n",
    "normalizedFileNames = []\n",
    "\n",
    "labelFilePaths = []\n",
    "\n",
    "#mainly unused, i could probably remove this\n",
    "def loadNpy(name):\n",
    "    b = np.load(name)\n",
    "    return b\n",
    "\n",
    "for root, dirs, files in os.walk(nrrdPath):\n",
    "        for filename in files:\n",
    "            if filename.endswith(\"normalized.npy\") or filename.endswith(\"5dim.npy\"):\n",
    "                continue\n",
    "            elif filename.endswith(\".npy\"):\n",
    "                path=os.path.join(root,filename)\n",
    "                #print(\"found\",path)\n",
    "                a = loadNpy(path)\n",
    "                nrrdFilePaths.append(path)\n",
    "                #very messy, but is necessary to weed out the normalized images\n",
    "                if filename.endswith(\"normalized.npy\") or filename.endswith(\"5dim.npy\"):\n",
    "                    continue\n",
    "                elif filename.endswith(\".npy\"):\n",
    "                    noExtension = filename[:-4]\n",
    "                    nrrdFileNames.append(noExtension)\n",
    "                    normalizedFileNames.append(noExtension)\n",
    "                    newExtension = noExtension + '_normalized.npy'\n",
    "                    outPutFileName = os.path.join(root,newExtension)\n",
    "                    normalizedFilePaths.append(outPutFileName)\n",
    "                    \n",
    "                    preNewExtension = noExtension + '_pnormalized.npy'\n",
    "                    preOutputFileName = os.path.join(root,preNewExtension)\n",
    "                    preNormalizedFilePaths.append(preOutputFileName)\n",
    "                \n",
    "print(len(nrrdFilePaths),\"nrrds found\")\n",
    "print(len(preNormalizedFilePaths),\"downsized file paths created\")\n",
    "print(len(normalizedFilePaths),\"normalizaed file paths created\")"
   ]
  },
  {
   "cell_type": "code",
   "execution_count": 151,
   "metadata": {
    "scrolled": true
   },
   "outputs": [
    {
     "name": "stdout",
     "output_type": "stream",
     "text": [
      "76 downsized label paths created\n"
     ]
    }
   ],
   "source": [
    "#get labels\n",
    "#I dont normalize these because they are based on binary label maps\n",
    "downsizedLabelFilePaths=[]\n",
    "labelFilePaths=[]\n",
    "for root, dirs, files in os.walk(segPath):\n",
    "        for filename in files:\n",
    "            if filename.endswith(\"Label.npy\"):                \n",
    "                noExtension = filename[:-4]\n",
    "                newExtension = noExtension + '_downsized.npy'\n",
    "                outPutFileName = os.path.join(root,newExtension)\n",
    "                downsizedLabelFilePaths.append(outPutFileName)\n",
    "                \n",
    "                path=os.path.join(root,filename)\n",
    "                labelFilePaths.append(path)\n",
    "print(len(downsizedLabelFilePaths),\"downsized label paths created\")"
   ]
  },
  {
   "cell_type": "code",
   "execution_count": 149,
   "metadata": {},
   "outputs": [
    {
     "name": "stdout",
     "output_type": "stream",
     "text": [
      "76 images skipped\n",
      "0 images downsized\n"
     ]
    }
   ],
   "source": [
    "#downsize CTs\n",
    "#this cell does not work unless I import these again\n",
    "import os\n",
    "import os.path\n",
    "from os import path\n",
    "from scipy.ndimage import zoom\n",
    "\n",
    "#preNormalized AKA downsized\n",
    "imageZResize = []\n",
    "nnnn=0\n",
    "skippedImageDownsizeCount=0\n",
    "imageDownsizeCount=0\n",
    "\n",
    "for e in preNormalizedFilePaths:\n",
    "    #print(e)\n",
    "    if path.exists(e):\n",
    "        skippedImageDownsizeCount+=1\n",
    "    elif not path.exists(e):\n",
    "        i=nrrdFilePaths[nnnn]\n",
    "        print(i)\n",
    "        a = loadNpy(i)\n",
    "        a = zoom(a, (0.25,0.25,0.25))\n",
    "        b=a.shape\n",
    "        c=(b[0])\n",
    "        d=128/c\n",
    "        imageZResize.append(d)\n",
    "        a=zoom(a, (d,1,1))\n",
    "        print(a.shape)\n",
    "        np.save(e,a)\n",
    "        imageDownsizeCount+=1\n",
    "    nnnn+=1\n",
    "\n",
    "print(skippedImageDownsizeCount,\"images skipped\")\n",
    "print(imageDownsizeCount,\"images downsized\")"
   ]
  },
  {
   "cell_type": "code",
   "execution_count": 148,
   "metadata": {},
   "outputs": [
    {
     "name": "stdout",
     "output_type": "stream",
     "text": [
      "76 labels skipped\n",
      "0 labels downsized\n"
     ]
    }
   ],
   "source": [
    "#downsize labels\n",
    "import os\n",
    "import os.path\n",
    "from os import path\n",
    "\n",
    "labelZResize=[]\n",
    "nnnnn=0\n",
    "skippedLabelDownsizeCount=0\n",
    "labelDownsizeCount=0\n",
    "\n",
    "for e in downsizedLabelFilePaths:\n",
    "    #print(e)\n",
    "    if path.exists(e):\n",
    "        skippedLabelDownsizeCount+=1\n",
    "    elif not path.exists(e):\n",
    "        i=labelFilePaths[nnnnn]\n",
    "        print(i)\n",
    "        a = loadNpy(i)\n",
    "        a = zoom(a, (0.25,0.25,0.25))\n",
    "        b=a.shape\n",
    "        c=(b[0])\n",
    "        d=128/c\n",
    "        labelZResize.append(d)\n",
    "        a=zoom(a, (d,1,1))\n",
    "        print(a.shape)\n",
    "        np.save(e,a)\n",
    "        labelDownsizeCount+=1\n",
    "    nnnnn+=1\n",
    "    \n",
    "print(skippedLabelDownsizeCount,\"labels skipped\")\n",
    "print(labelDownsizeCount,\"labels downsized\")"
   ]
  },
  {
   "cell_type": "code",
   "execution_count": 146,
   "metadata": {
    "scrolled": true
   },
   "outputs": [
    {
     "name": "stdout",
     "output_type": "stream",
     "text": [
      "76 scans skipped\n",
      "0 scans normalized\n"
     ]
    }
   ],
   "source": [
    "#create the normalized images\n",
    "skippedNormalizedCount=0\n",
    "normalizedCount=0\n",
    "\n",
    "n=0\n",
    "for e in normalizedFilePaths:\n",
    "    #print(e)\n",
    "    if path.exists(e):\n",
    "        skippedNormalizedCount+=1\n",
    "    elif not path.exists(e):\n",
    "        i=preNormalizedFilePaths[n]\n",
    "        a = loadNpy(i)\n",
    "        b = bnormalize(a)\n",
    "        np.save(e,b)\n",
    "        normalizedCount+=1\n",
    "    n+=1\n",
    "    \n",
    "print(skippedNormalizedCount,\"scans skipped\")\n",
    "print(normalizedCount,\"scans normalized\")"
   ]
  },
  {
   "cell_type": "code",
   "execution_count": 11,
   "metadata": {},
   "outputs": [],
   "source": [
    "#mostly borrowed from an article online\n",
    "#i probably wont use this in the final version, this is mainly a placeholder for testing\n",
    "#similar accuracy to built in keras accuracy function\n",
    "#but keras accuracy is likely optimal\n",
    "\n",
    "smooth = 1\n",
    "\n",
    "def dice_coef(y_true, y_pred):\n",
    "    y_true_f = k.flatten(y_true)\n",
    "    y_pred_f = k.flatten(y_pred)\n",
    "    intersection = k.sum(y_true_f * y_pred_f)\n",
    "    \n",
    "    return (2 * intersection + smooth) / (k.sum(y_true_f) + k.sum(y_pred_f) + smooth)\n",
    "\n",
    "def dice_coef_loss(y_true, y_pred):\n",
    "    \n",
    "    return -dice_coef(y_true, y_pred)\n",
    "\n",
    "def weighted_dice_coefficient(y_true, y_pred, axis=(-3, -2, -1), smooth=0.00001):\n",
    "    \"\"\"\n",
    "    Weighted dice coefficient. Default axis assumes a \"channels first\" data structure\n",
    "    :param smooth:\n",
    "    :param y_true:\n",
    "    :param y_pred:\n",
    "    :param axis:\n",
    "    :return:\n",
    "    \"\"\"\n",
    "    return K.mean(2. * (K.sum(y_true * y_pred,\n",
    "                              axis=axis) + smooth/2)/(K.sum(y_true,\n",
    "                                                            axis=axis) + K.sum(y_pred,\n",
    "                                                                               axis=axis) + smooth))\n",
    "\n",
    "\n",
    "def weighted_dice_coefficient_loss(y_true, y_pred):\n",
    "    return -weighted_dice_coefficient(y_true, y_pred)\n",
    "\n",
    "def castF(x):\n",
    "    return K.cast(x, K.floatx())\n",
    "\n",
    "def castB(x):\n",
    "    return K.cast(x, bool)\n",
    "\n",
    "def iou_loss_core(y_true, y_pred, smooth=1):\n",
    "    intersection = K.sum(K.abs(y_true * y_pred), axis=-1)\n",
    "    union = K.sum(y_true,-1) + K.sum(y_pred,-1) - intersection\n",
    "    iou = (intersection + smooth) / ( union + smooth)\n",
    "    return iou\n",
    "\n",
    "def IOU(true, pred):\n",
    "\n",
    "    tresholds = [0.5 + (i*.05)  for i in range(10)]\n",
    "\n",
    "    #flattened images (batch, pixels)\n",
    "    true = K.batch_flatten(true)\n",
    "    pred = K.batch_flatten(pred)\n",
    "    pred = castF(K.greater(pred, 0.5))\n",
    "\n",
    "    #total white pixels - (batch,)\n",
    "    trueSum = K.sum(true, axis=-1)\n",
    "    predSum = K.sum(pred, axis=-1)\n",
    "\n",
    "    #has mask or not per image - (batch,)\n",
    "    true1 = castF(K.greater(trueSum, 1))    \n",
    "    pred1 = castF(K.greater(predSum, 1))\n",
    "\n",
    "    #to get images that have mask in both true and pred\n",
    "    truePositiveMask = castB(true1 * pred1)\n",
    "\n",
    "    #separating only the possible true positives to check iou\n",
    "    testTrue = tf.boolean_mask(true, truePositiveMask)\n",
    "    testPred = tf.boolean_mask(pred, truePositiveMask)\n",
    "\n",
    "    #getting iou and threshold comparisons\n",
    "    iou = iou_loss_core(testTrue,testPred) \n",
    "    truePositives = [castF(K.greater(iou, tres)) for tres in tresholds]\n",
    "\n",
    "    #mean of thressholds for true positives and total sum\n",
    "    truePositives = K.mean(K.stack(truePositives, axis=-1), axis=-1)\n",
    "    truePositives = K.sum(truePositives)\n",
    "\n",
    "    #to get images that don't have mask in both true and pred\n",
    "    trueNegatives = (1-true1) * (1 - pred1) # = 1 -true1 - pred1 + true1*pred1\n",
    "    trueNegatives = K.sum(trueNegatives) \n",
    "\n",
    "    return (truePositives + trueNegatives) / castF(K.shape(true)[0])"
   ]
  },
  {
   "cell_type": "code",
   "execution_count": 143,
   "metadata": {},
   "outputs": [
    {
     "name": "stdout",
     "output_type": "stream",
     "text": [
      "76 scans skipped\n",
      "0 scans given an extra dimension\n"
     ]
    }
   ],
   "source": [
    "image5Dim = []\n",
    "image5DimPaths = []\n",
    "imageSkippedCount = 0\n",
    "image5DimmedCount = 0\n",
    "\n",
    "n1=0\n",
    "\n",
    "for i in normalizedFilePaths:\n",
    "    i = i[:-4]\n",
    "    i=i + '_5dim.npy'\n",
    "    image5DimPaths.append(i)\n",
    "\n",
    "for e in image5DimPaths:\n",
    "    #print(e)\n",
    "    if path.exists(e):\n",
    "        a=np.load(e)\n",
    "        image5Dim.append(a)\n",
    "        imageSkippedCount+=1\n",
    "    elif not path.exists(e):\n",
    "        i=normalizedFilePaths[n1]\n",
    "        print(i)\n",
    "        a=np.load(i)\n",
    "        a=a[...,np.newaxis]\n",
    "        np.save(image5DimPaths[n1],a)\n",
    "        print(np.shape(a))\n",
    "        image5Dim.append(a)\n",
    "        image5DimmedCount+=1\n",
    "    n1+=1\n",
    "    \n",
    "print(imageSkippedCount,\"scans skipped\")\n",
    "print(image5DimmedCount,\"scans given an extra dimension\")"
   ]
  },
  {
   "cell_type": "code",
   "execution_count": 141,
   "metadata": {},
   "outputs": [
    {
     "name": "stdout",
     "output_type": "stream",
     "text": [
      "76 scans skipped\n",
      "0 scans given an extra dimension\n"
     ]
    }
   ],
   "source": [
    "label5Dim = []\n",
    "label5DimPaths = []\n",
    "label5DimmedCount = 0\n",
    "labelSkippedCount = 0\n",
    "\n",
    "n2=0\n",
    "\n",
    "for i in downsizedLabelFilePaths:\n",
    "    i = i[:-4]\n",
    "    i=i + '_5dim.npy'\n",
    "    label5DimPaths.append(i)\n",
    "\n",
    "for e in label5DimPaths:\n",
    "    #print(e)\n",
    "    if path.exists(e):\n",
    "        a=np.load(e)\n",
    "        label5Dim.append(a)\n",
    "        labelSkippedCount+=1\n",
    "    elif not path.exists(e):\n",
    "        i=downsizedLabelFilePaths[n2]\n",
    "        print(i)\n",
    "        a=np.load(i)\n",
    "        a=a[...,np.newaxis]\n",
    "        np.save(label5DimPaths[n2],a)\n",
    "        print(np.shape(a))\n",
    "        label5Dim.append(a)\n",
    "        label5DimmedCount +=1\n",
    "    n2+=1\n",
    "\n",
    "print(labelSkippedCount,\"labels skipped\")\n",
    "print(label5DimmedCount,\"labels given an extra dimension\")"
   ]
  },
  {
   "cell_type": "code",
   "execution_count": 14,
   "metadata": {},
   "outputs": [
    {
     "name": "stdout",
     "output_type": "stream",
     "text": [
      "(76, 128, 128, 128, 1)\n",
      "(76, 128, 128, 128, 1)\n"
     ]
    }
   ],
   "source": [
    "print(np.shape(image5Dim))\n",
    "print(np.shape(label5Dim))"
   ]
  },
  {
   "cell_type": "code",
   "execution_count": 15,
   "metadata": {},
   "outputs": [],
   "source": [
    "#might not be necessary, but creates a list of the actual arrays, not just the paths\n",
    "nn=0\n",
    "listOfNormalized=[]\n",
    "for i in normalizedFilePaths:  \n",
    "    a=np.load(i)\n",
    "    listOfNormalized.append(a)\n",
    "    nn+=1\n",
    "    #print(np.shape(normalizedFilePaths))\n",
    "#print(listOfNormalized)"
   ]
  },
  {
   "cell_type": "code",
   "execution_count": 16,
   "metadata": {},
   "outputs": [],
   "source": [
    "#same as above but for labels\n",
    "#please excuse the variable names\n",
    "nnn=0\n",
    "listOfLabels=[]\n",
    "for i in downsizedLabelFilePaths:  \n",
    "    a=np.load(i)\n",
    "    listOfLabels.append(a)\n",
    "    nnn+=1\n",
    "#print(listOfLabels)"
   ]
  },
  {
   "cell_type": "code",
   "execution_count": 17,
   "metadata": {},
   "outputs": [
    {
     "name": "stdout",
     "output_type": "stream",
     "text": [
      "(75, 128, 128, 128, 1)\n",
      "(75, 128, 128, 128, 1)\n",
      "(1, 128, 128, 128, 1)\n",
      "(1, 128, 128, 128, 1)\n"
     ]
    }
   ],
   "source": [
    "X_train, X_test, y_train, y_test = train_test_split (image5Dim, label5Dim, test_size = 0.01)\n",
    "\n",
    "print(np.shape(X_train))\n",
    "print(np.shape(y_train))\n",
    "print(np.shape(X_test))\n",
    "print(np.shape(y_test))"
   ]
  },
  {
   "cell_type": "code",
   "execution_count": 155,
   "metadata": {},
   "outputs": [
    {
     "name": "stdout",
     "output_type": "stream",
     "text": [
      "(128, 128, 128)\n"
     ]
    }
   ],
   "source": [
    "size=np.array(X_train).shape[1:4]\n",
    "print(size)"
   ]
  },
  {
   "cell_type": "code",
   "execution_count": 156,
   "metadata": {},
   "outputs": [
    {
     "name": "stdout",
     "output_type": "stream",
     "text": [
      "Generator created for image size: (128, 128, 128)\n",
      "Generator created for image size: (128, 128, 128)\n"
     ]
    }
   ],
   "source": [
    "trainingData=BatchGenerator(np.array(X_train),np.array(y_train),image_dimensions=(size),batch_size=3)\n",
    "validationData=BatchGenerator(np.array(X_test),np.array(y_test),image_dimensions=(size),batch_size=3)"
   ]
  },
  {
   "cell_type": "code",
   "execution_count": 157,
   "metadata": {},
   "outputs": [
    {
     "name": "stdout",
     "output_type": "stream",
     "text": [
      "x shape: (3, 128, 128, 128, 1) --- min: 0.0 --- max: 1.0\n",
      "y shape: (3, 128, 128, 128, 2) --- min: 0.0 --- max: 1.0\n"
     ]
    }
   ],
   "source": [
    "#test the generator\n",
    "\n",
    "bx, by = trainingData.__getitem__(0)\n",
    "print(\"x shape: {} --- min: {} --- max: {}\".format(bx.shape, bx.min(), bx.max()))\n",
    "print(\"y shape: {} --- min: {} --- max: {}\".format(by.shape, by.min(), by.max()))"
   ]
  },
  {
   "cell_type": "code",
   "execution_count": 158,
   "metadata": {},
   "outputs": [
    {
     "data": {
      "text/plain": [
       "<matplotlib.colorbar.Colorbar at 0x1cefcb02ba8>"
      ]
     },
     "execution_count": 158,
     "metadata": {},
     "output_type": "execute_result"
    },
    {
     "data": {
      "image/png": "[encoded data removed]",
      "text/plain": [
       "<Figure size 432x288 with 2 Axes>"
      ]
     },
     "metadata": {
      "needs_background": "light"
     },
     "output_type": "display_data"
    }
   ],
   "source": [
    "#determine that segmentation corresponds to CT\n",
    "#as this was a considerable problem for a long time\n",
    "plt.imshow(bx[2,:,63,:,0])\n",
    "plt.imshow(by[2,:,63,:,0],alpha=0.2)\n",
    "plt.colorbar()"
   ]
  },
  {
   "cell_type": "code",
   "execution_count": null,
   "metadata": {},
   "outputs": [],
   "source": [
    "###########################################################################\n",
    "# initial UNTESTED U-Net implementation"
   ]
  },
  {
   "cell_type": "code",
   "execution_count": null,
   "metadata": {},
   "outputs": [],
   "source": [
    "NN = Model()\n",
    "inp = Input((128,128,128,1))\n",
    "learning_rate_decay = (0.001 - 0.00001) / 12\n",
    "\n",
    "#contracting path\n",
    "conv1 = Conv3D(16, (3, 3, 3), activation='relu', padding='same')(inp)\n",
    "conv1 = Conv3D(16, (3, 3, 3), activation='relu', padding='same')(conv1)\n",
    "drop1 = Dropout(0.5)(conv1)\n",
    "pool1 = MaxPooling3D(pool_size=(2, 2, 2))(drop1)\n",
    "\n",
    "conv2 = Conv3D(32, (3, 3, 3), activation='relu', padding='same')(pool1)\n",
    "conv2 = Conv3D(32, (3, 3, 3), activation='relu', padding='same')(conv2)\n",
    "drop2 = Dropout(0.5)(conv2)\n",
    "\n",
    "pool2 = MaxPooling3D(pool_size=(2, 2, 2))(drop2)\n",
    "\n",
    "conv3 = Conv3D(64, (3, 3, 3), activation='relu', padding='same')(pool2)\n",
    "conv3 = Conv3D(64, (3, 3, 3), activation='relu', padding='same')(conv3)\n",
    "drop3 = Dropout(0.5)(conv3)\n",
    "\n",
    "pool3 = MaxPooling3D(pool_size=(2, 2, 2))(drop3)\n",
    "\n",
    "conv4 = Conv3D(128, (3, 3, 3), activation='relu', padding='same')(pool3)\n",
    "conv4 = Conv3D(128, (3, 3, 3), activation='relu', padding='same')(conv4)\n",
    "drop4 = Dropout(0.5)(conv4)\n",
    "\n",
    "pool4 = MaxPooling3D(pool_size=(2, 2, 2))(drop4)\n",
    "\n",
    "conv5 = Conv3D(128, (3, 3, 3), activation='relu', padding='same')(pool4)\n",
    "conv5 = Conv3D(128, (3, 3, 3), activation='relu', padding='same')(conv5)\n",
    "print(conv5.shape)\n",
    "\n",
    "#expansion path\n",
    "up6 = UpSampling3D((2, 2, 2),data_format='channels_last')(conv5)\n",
    "print(up6.shape)\n",
    "up6 = concatenate([up6,drop4],axis=4)\n",
    "print(up6.shape)\n",
    "conv6 = Conv3D(32, (3, 3, 3), activation='relu', padding='same')(up6)\n",
    "print(conv6.shape)\n",
    "conv6 = Conv3D(32, (3, 3, 3), activation='relu', padding='same')(conv6)\n",
    "drop6 = Dropout(0.5)(conv6)\n",
    "\n",
    "\n",
    "print(conv6.shape)\n",
    "up7 = UpSampling3D((2, 2, 2),data_format='channels_last')(drop6)\n",
    "up7 = concatenate([up7,drop3],axis=4)\n",
    "conv7 = Conv3D(16, (3, 3, 3), activation='relu', padding='same')(up7)\n",
    "conv7 = Conv3D(16, (3, 3, 3), activation='relu', padding='same')(conv7)\n",
    "drop7 = Dropout(0.5)(conv7)\n",
    "\n",
    "\n",
    "print(conv7.shape)\n",
    "up8 = UpSampling3D((2, 2, 2),data_format='channels_last')(drop7)\n",
    "up8 = concatenate([up8,drop2],axis=4)\n",
    "conv8 = Conv3D(16, (3, 3, 3), activation='relu', padding='same')(up8)\n",
    "conv8 = Conv3D(16, (3, 3, 3), activation='relu', padding='same')(conv8)\n",
    "drop8 = Dropout(0.5)(conv8)\n",
    "\n",
    "\n",
    "print(conv8.shape)\n",
    "up9 = UpSampling3D((2, 2, 2),data_format='channels_last')(drop8)\n",
    "up9 = concatenate([up9,inp],axis=4)\n",
    "conv9 = Conv3D(8, (3, 3, 3), activation='relu', padding='same')(up9)\n",
    "conv9 = Conv3D(8, (3, 3, 3), activation='relu', padding='same')(conv9)\n",
    "drop9 = Dropout(0.5)(conv9)\n",
    "\n",
    "\n",
    "print(conv9.shape)\n",
    "\n",
    "conv10 = Conv3D(2, (1,1,1), activation='softmax', padding=\"same\")(drop9)\n",
    "print(conv10.shape)\n",
    "\n",
    "out = Model(inputs=[inp], outputs=[conv10])\n",
    "\n",
    "#out.summary()"
   ]
  },
  {
   "cell_type": "code",
   "execution_count": null,
   "metadata": {},
   "outputs": [],
   "source": [
    "plot_model(out, to_file='model.png', show_shapes=True)"
   ]
  },
  {
   "cell_type": "code",
   "execution_count": null,
   "metadata": {
    "scrolled": false
   },
   "outputs": [],
   "source": [
    "out.compile(optimizer=keras.optimizers.adam(lr = 0.001,decay=learning_rate_decay), loss='binary_crossentropy', metrics=['accuracy'])\n",
    "print(np.shape(X_train))"
   ]
  },
  {
   "cell_type": "code",
   "execution_count": null,
   "metadata": {},
   "outputs": [],
   "source": [
    "out.fit_generator(trainingData, validation_data=validationData, epochs=12, verbose=1)\n",
    "print(\"fitted!\")"
   ]
  },
  {
   "cell_type": "code",
   "execution_count": null,
   "metadata": {},
   "outputs": [],
   "source": [
    "import datetime"
   ]
  },
  {
   "cell_type": "code",
   "execution_count": null,
   "metadata": {},
   "outputs": [],
   "source": [
    "timestamp = datetime.datetime.now().strftime('%Y-%m-%d_%H-%M-%S')\n",
    "\n",
    "#TODO make a path for this automatically\n",
    "name = \"model_\" + timestamp + \".h5\"\n",
    "modelPath = os.path.join(\"E:\\\\Patient Data Summer\\\\NN\\\\Output\\\\\", name)\n",
    "model.save(modelPath)"
   ]
  },
  {
   "cell_type": "code",
   "execution_count": null,
   "metadata": {},
   "outputs": [],
   "source": [
    "from keras.models import load_model"
   ]
  },
  {
   "cell_type": "code",
   "execution_count": null,
   "metadata": {},
   "outputs": [],
   "source": [
    "trained_model = load_model(modelPath)\n",
    "print(modelPath)"
   ]
  },
  {
   "cell_type": "code",
   "execution_count": null,
   "metadata": {},
   "outputs": [],
   "source": [
    "outputSeg=trained_model.predict(np.array(X_test))"
   ]
  },
  {
   "cell_type": "code",
   "execution_count": null,
   "metadata": {},
   "outputs": [],
   "source": [
    "#score = out.evaluate_generator(validationData)\n",
    "outputSeg=out.predict(np.array(X_test))"
   ]
  },
  {
   "cell_type": "code",
   "execution_count": null,
   "metadata": {},
   "outputs": [],
   "source": [
    "print(np.amin(outputSeg))\n",
    "print(np.amax(outputSeg))"
   ]
  },
  {
   "cell_type": "code",
   "execution_count": null,
   "metadata": {},
   "outputs": [],
   "source": [
    "binaryOutputSeg = (outputSeg > 0.5).astype(np.uint8)"
   ]
  },
  {
   "cell_type": "code",
   "execution_count": null,
   "metadata": {},
   "outputs": [],
   "source": [
    "from mpl_toolkits import mplot3d\n",
    "\n",
    "timestamp2 = datetime.datetime.now().strftime('%Y-%m-%d_%H-%M-%S')\n",
    "ppath = os.path.join(\"E:\\\\Patient Data Summer\\\\NN\\\\Output\\\\\", timestamp2 + \".npy\")\n",
    "np.save(ppath,outputSeg)"
   ]
  },
  {
   "cell_type": "code",
   "execution_count": 29,
   "metadata": {},
   "outputs": [
    {
     "name": "stdout",
     "output_type": "stream",
     "text": [
      "(1, 128, 128, 128, 1)\n"
     ]
    },
    {
     "data": {
      "text/plain": [
       "<matplotlib.image.AxesImage at 0x1ce71595f98>"
      ]
     },
     "execution_count": 29,
     "metadata": {},
     "output_type": "execute_result"
    },
    {
     "data": {
      "image/png": "[encoded data removed]",
      "text/plain": [
       "<Figure size 432x288 with 1 Axes>"
      ]
     },
     "metadata": {
      "needs_background": "light"
     },
     "output_type": "display_data"
    }
   ],
   "source": [
    "#original CT\n",
    "lastNrrd=np.array(X_test)\n",
    "print(np.shape(lastNrrd))\n",
    "plt.imshow(lastNrrd[0,:,85,:,0])"
   ]
  },
  {
   "cell_type": "code",
   "execution_count": null,
   "metadata": {},
   "outputs": [],
   "source": [
    "#human segmentation\n",
    "lastSeg=np.array(y_test)\n",
    "print(np.shape(lastSeg))\n",
    "plt.imshow(lastSeg[0,:,85,:,0])\n",
    "plt.colorbar()"
   ]
  },
  {
   "cell_type": "code",
   "execution_count": null,
   "metadata": {},
   "outputs": [],
   "source": [
    "#output from running network\n",
    "plt.imshow(np.array(outputSeg[0,:,85,:,1]))\n",
    "plt.colorbar()"
   ]
  },
  {
   "cell_type": "code",
   "execution_count": null,
   "metadata": {},
   "outputs": [],
   "source": [
    "#Neural network segmentation converted to binary\n",
    "plt.imshow(np.array(binaryOutputSeg[0,:,80,:,0]))"
   ]
  },
  {
   "cell_type": "code",
   "execution_count": null,
   "metadata": {},
   "outputs": [],
   "source": [
    "###########################################################################"
   ]
  },
  {
   "cell_type": "code",
   "execution_count": 80,
   "metadata": {},
   "outputs": [
    {
     "name": "stdout",
     "output_type": "stream",
     "text": [
      "Number of layers:       7\n",
      "Filters in layers down: [ 22  42  62  82 102 122 142]\n",
      "Filters in layers up:   [122 102  82  62  42  22   2]\n"
     ]
    }
   ],
   "source": [
    "num_classes = 2\n",
    "filter_multiplier = 20\n",
    "\n",
    "def nvidia_unet(input_size=128, num_classes=num_classes):\n",
    "    input_ = Input((input_size, input_size, input_size, 1))\n",
    "    skips = []\n",
    "    output = input_\n",
    "    c = num_classes\n",
    "    \n",
    "    num_layers = int(np.floor(np.log2(input_size)))\n",
    "    down_conv_kernel_sizes = np.zeros([num_layers], dtype=int)\n",
    "    down_filter_numbers = np.zeros([num_layers], dtype=int)\n",
    "    up_conv_kernel_sizes = np.zeros([num_layers], dtype=int)\n",
    "    up_filter_numbers = np.zeros([num_layers], dtype=int)\n",
    "    \n",
    "    for layer_index in range(num_layers):\n",
    "        down_conv_kernel_sizes[layer_index] = int(3)\n",
    "        down_filter_numbers[layer_index] = int( (layer_index + 1) * filter_multiplier + num_classes )\n",
    "        up_conv_kernel_sizes[layer_index] = int(4)\n",
    "        up_filter_numbers[layer_index] = int( (num_layers - layer_index - 1) * filter_multiplier + num_classes )\n",
    "    \n",
    "    print(\"Number of layers:       {}\".format(num_layers))\n",
    "    print(\"Filters in layers down: {}\".format(down_filter_numbers))\n",
    "    print(\"Filters in layers up:   {}\".format(up_filter_numbers))\n",
    "    \n",
    "    for shape, filters in zip(down_conv_kernel_sizes, down_filter_numbers):\n",
    "        skips.append(output)\n",
    "        output= Conv3D(filters, (shape, shape, shape), strides=2, padding=\"same\", activation=\"relu\")(output)\n",
    "        \n",
    "    for shape, filters in zip(up_conv_kernel_sizes, up_filter_numbers):\n",
    "        output = keras.layers.UpSampling3D()(output)\n",
    "        skip_output = skips.pop()\n",
    "        output = concatenate([output, skip_output], axis=4)\n",
    "\n",
    "        if filters != num_classes:\n",
    "            output = Conv3D(filters, (shape, shape, shape), activation=\"relu\", padding=\"same\")(output)\n",
    "            output = BatchNormalization(momentum=.9)(output)\n",
    "        else:\n",
    "            output = Conv3D(filters, (shape, shape, shape), activation=\"sigmoid\", padding=\"same\")(output)\n",
    "    \n",
    "    assert len(skips) == 0\n",
    "    return Model([input_], [output])\n",
    "\n",
    "model = nvidia_unet(size[0], num_classes)\n",
    "\n",
    "# model.summary()"
   ]
  },
  {
   "cell_type": "code",
   "execution_count": null,
   "metadata": {},
   "outputs": [],
   "source": [
    "plot_model(model, to_file='nvidiamodel.png', show_shapes=True)"
   ]
  },
  {
   "cell_type": "code",
   "execution_count": 81,
   "metadata": {},
   "outputs": [],
   "source": [
    "max_learning_rate = 0.0001\n",
    "min_learning_rate = 0.00001\n",
    "num_epochs = 50\n",
    "\n",
    "learning_rate_decay = (max_learning_rate - min_learning_rate) / num_epochs\n",
    "\n",
    "model.compile(optimizer=keras.optimizers.adam(lr=max_learning_rate, decay=learning_rate_decay),\n",
    "               loss= \"binary_crossentropy\",\n",
    "               metrics=['accuracy'])"
   ]
  },
  {
   "cell_type": "code",
   "execution_count": 82,
   "metadata": {},
   "outputs": [
    {
     "name": "stdout",
     "output_type": "stream",
     "text": [
      "Epoch 1/50\n",
      "25/25 [==============================] - 26s 1s/step - loss: 0.7026 - acc: 0.5878\n",
      "Epoch 2/50\n",
      "25/25 [==============================] - 20s 794ms/step - loss: 0.5824 - acc: 0.8324\n",
      "Epoch 3/50\n",
      "25/25 [==============================] - 19s 771ms/step - loss: 0.4662 - acc: 0.9384\n",
      "Epoch 4/50\n",
      "25/25 [==============================] - 20s 785ms/step - loss: 0.3879 - acc: 0.9512\n",
      "Epoch 5/50\n",
      "25/25 [==============================] - 21s 856ms/step - loss: 0.3292 - acc: 0.9638\n",
      "Epoch 6/50\n",
      "25/25 [==============================] - 20s 780ms/step - loss: 0.2835 - acc: 0.9741\n",
      "Epoch 7/50\n",
      "25/25 [==============================] - 20s 817ms/step - loss: 0.2444 - acc: 0.9812\n",
      "Epoch 8/50\n",
      "25/25 [==============================] - 20s 802ms/step - loss: 0.2133 - acc: 0.9833\n",
      "Epoch 9/50\n",
      "25/25 [==============================] - 20s 796ms/step - loss: 0.1849 - acc: 0.9853\n",
      "Epoch 10/50\n",
      "25/25 [==============================] - 20s 812ms/step - loss: 0.1643 - acc: 0.9858\n",
      "Epoch 11/50\n",
      "25/25 [==============================] - 20s 811ms/step - loss: 0.1433 - acc: 0.9871\n",
      "Epoch 12/50\n",
      "25/25 [==============================] - 20s 800ms/step - loss: 0.1242 - acc: 0.9885\n",
      "Epoch 13/50\n",
      "25/25 [==============================] - 20s 811ms/step - loss: 0.1105 - acc: 0.9890\n",
      "Epoch 14/50\n",
      "25/25 [==============================] - 20s 803ms/step - loss: 0.0986 - acc: 0.9895\n",
      "Epoch 15/50\n",
      "25/25 [==============================] - 21s 829ms/step - loss: 0.0893 - acc: 0.9900\n",
      "Epoch 16/50\n",
      "25/25 [==============================] - 20s 798ms/step - loss: 0.0793 - acc: 0.9910\n",
      "Epoch 17/50\n",
      "25/25 [==============================] - 20s 812ms/step - loss: 0.0750 - acc: 0.9899\n",
      "Epoch 18/50\n",
      "25/25 [==============================] - 20s 796ms/step - loss: 0.0681 - acc: 0.9907\n",
      "Epoch 19/50\n",
      "25/25 [==============================] - 21s 833ms/step - loss: 0.0615 - acc: 0.9914\n",
      "Epoch 20/50\n",
      "25/25 [==============================] - 20s 803ms/step - loss: 0.0562 - acc: 0.9919\n",
      "Epoch 21/50\n",
      "25/25 [==============================] - 20s 809ms/step - loss: 0.0512 - acc: 0.9924\n",
      "Epoch 22/50\n",
      "25/25 [==============================] - 20s 816ms/step - loss: 0.0483 - acc: 0.9924\n",
      "Epoch 23/50\n",
      "25/25 [==============================] - 20s 804ms/step - loss: 0.0446 - acc: 0.9928\n",
      "Epoch 24/50\n",
      "25/25 [==============================] - 20s 803ms/step - loss: 0.0431 - acc: 0.9925\n",
      "Epoch 25/50\n",
      "25/25 [==============================] - 20s 814ms/step - loss: 0.0395 - acc: 0.9931\n",
      "Epoch 26/50\n",
      "25/25 [==============================] - 20s 819ms/step - loss: 0.0372 - acc: 0.9932\n",
      "Epoch 27/50\n",
      "25/25 [==============================] - 20s 818ms/step - loss: 0.0355 - acc: 0.9932\n",
      "Epoch 28/50\n",
      "25/25 [==============================] - 20s 812ms/step - loss: 0.0338 - acc: 0.9933\n",
      "Epoch 29/50\n",
      "25/25 [==============================] - 21s 820ms/step - loss: 0.0331 - acc: 0.9930\n",
      "Epoch 30/50\n",
      "25/25 [==============================] - 20s 809ms/step - loss: 0.0319 - acc: 0.9932\n",
      "Epoch 31/50\n",
      "25/25 [==============================] - 20s 817ms/step - loss: 0.0305 - acc: 0.9933\n",
      "Epoch 32/50\n",
      "25/25 [==============================] - 20s 814ms/step - loss: 0.0298 - acc: 0.9932\n",
      "Epoch 33/50\n",
      "25/25 [==============================] - 20s 798ms/step - loss: 0.0295 - acc: 0.9930\n",
      "Epoch 34/50\n",
      "25/25 [==============================] - 20s 789ms/step - loss: 0.0282 - acc: 0.9931\n",
      "Epoch 35/50\n",
      "25/25 [==============================] - 21s 827ms/step - loss: 0.0270 - acc: 0.9933\n",
      "Epoch 36/50\n",
      "25/25 [==============================] - 20s 798ms/step - loss: 0.0253 - acc: 0.9938\n",
      "Epoch 37/50\n",
      "25/25 [==============================] - 21s 828ms/step - loss: 0.0236 - acc: 0.9942\n",
      "Epoch 38/50\n",
      "25/25 [==============================] - 21s 843ms/step - loss: 0.0235 - acc: 0.9939\n",
      "Epoch 39/50\n",
      "25/25 [==============================] - 21s 822ms/step - loss: 0.0221 - acc: 0.9944\n",
      "Epoch 40/50\n",
      "25/25 [==============================] - 20s 816ms/step - loss: 0.0215 - acc: 0.9944\n",
      "Epoch 41/50\n",
      "25/25 [==============================] - 20s 818ms/step - loss: 0.0211 - acc: 0.9944\n",
      "Epoch 42/50\n",
      "25/25 [==============================] - 20s 809ms/step - loss: 0.0211 - acc: 0.9941\n",
      "Epoch 43/50\n",
      "25/25 [==============================] - 20s 814ms/step - loss: 0.0204 - acc: 0.9944\n",
      "Epoch 44/50\n",
      "25/25 [==============================] - 20s 807ms/step - loss: 0.0216 - acc: 0.9938\n",
      "Epoch 45/50\n",
      "25/25 [==============================] - 19s 776ms/step - loss: 0.0204 - acc: 0.9941\n",
      "Epoch 46/50\n",
      "25/25 [==============================] - 20s 797ms/step - loss: 0.0186 - acc: 0.9947\n",
      "Epoch 47/50\n",
      "25/25 [==============================] - 21s 821ms/step - loss: 0.0183 - acc: 0.9948\n",
      "Epoch 48/50\n",
      "25/25 [==============================] - 20s 793ms/step - loss: 0.0191 - acc: 0.9943\n",
      "Epoch 49/50\n",
      "25/25 [==============================] - 20s 781ms/step - loss: 0.0180 - acc: 0.9947\n",
      "Epoch 50/50\n",
      "25/25 [==============================] - 20s 780ms/step - loss: 0.0174 - acc: 0.9949\n"
     ]
    },
    {
     "data": {
      "text/plain": [
       "<keras.callbacks.History at 0x1cf613905f8>"
      ]
     },
     "execution_count": 82,
     "metadata": {},
     "output_type": "execute_result"
    }
   ],
   "source": [
    "model.fit_generator(trainingData,\n",
    "                    validation_data=validationData,\n",
    "                    epochs=num_epochs,\n",
    "                    verbose=1)"
   ]
  },
  {
   "cell_type": "code",
   "execution_count": 74,
   "metadata": {},
   "outputs": [],
   "source": [
    "y_pred = model.predict(np.array(X_test))"
   ]
  },
  {
   "cell_type": "code",
   "execution_count": 131,
   "metadata": {},
   "outputs": [],
   "source": [
    "binaryOutputSeg2 = (y_pred > 0.5).astype(np.uint8)"
   ]
  },
  {
   "cell_type": "code",
   "execution_count": 126,
   "metadata": {},
   "outputs": [],
   "source": [
    "pos=76"
   ]
  },
  {
   "cell_type": "code",
   "execution_count": 127,
   "metadata": {},
   "outputs": [
    {
     "data": {
      "text/plain": [
       "<matplotlib.colorbar.Colorbar at 0x1cffce04ba8>"
      ]
     },
     "execution_count": 127,
     "metadata": {},
     "output_type": "execute_result"
    },
    {
     "data": {
      "image/png": "[encoded data removed]",
      "text/plain": [
       "<Figure size 432x288 with 2 Axes>"
      ]
     },
     "metadata": {
      "needs_background": "light"
     },
     "output_type": "display_data"
    }
   ],
   "source": [
    "#original ct\n",
    "plt.imshow(lastNrrd[0,:,pos,:,0])\n",
    "plt.colorbar()"
   ]
  },
  {
   "cell_type": "code",
   "execution_count": 128,
   "metadata": {},
   "outputs": [
    {
     "name": "stdout",
     "output_type": "stream",
     "text": [
      "(1, 128, 128, 128, 1)\n"
     ]
    },
    {
     "data": {
      "text/plain": [
       "<matplotlib.colorbar.Colorbar at 0x1cffceba0f0>"
      ]
     },
     "execution_count": 128,
     "metadata": {},
     "output_type": "execute_result"
    },
    {
     "data": {
      "image/png": "[encoded data removed]",
      "text/plain": [
       "<Figure size 432x288 with 2 Axes>"
      ]
     },
     "metadata": {
      "needs_background": "light"
     },
     "output_type": "display_data"
    }
   ],
   "source": [
    "#human segmentation\n",
    "lastSeg=np.array(y_test)\n",
    "print(np.shape(lastSeg))\n",
    "plt.imshow(lastSeg[0,:,pos,:,0])\n",
    "plt.colorbar()"
   ]
  },
  {
   "cell_type": "code",
   "execution_count": 129,
   "metadata": {},
   "outputs": [
    {
     "data": {
      "text/plain": [
       "<matplotlib.colorbar.Colorbar at 0x1cffcf5dfd0>"
      ]
     },
     "execution_count": 129,
     "metadata": {},
     "output_type": "execute_result"
    },
    {
     "data": {
      "image/png": "[encoded data removed]",
      "text/plain": [
       "<Figure size 432x288 with 2 Axes>"
      ]
     },
     "metadata": {
      "needs_background": "light"
     },
     "output_type": "display_data"
    }
   ],
   "source": [
    "#output from network\n",
    "plt.imshow(np.array(y_pred[0,:,pos,:,1]))\n",
    "plt.colorbar()"
   ]
  },
  {
   "cell_type": "code",
   "execution_count": 134,
   "metadata": {},
   "outputs": [
    {
     "data": {
      "text/plain": [
       "<matplotlib.colorbar.Colorbar at 0x1cffe37deb8>"
      ]
     },
     "execution_count": 134,
     "metadata": {},
     "output_type": "execute_result"
    },
    {
     "data": {
      "image/png": "[encoded data removed]",
      "text/plain": [
       "<Figure size 432x288 with 2 Axes>"
      ]
     },
     "metadata": {
      "needs_background": "light"
     },
     "output_type": "display_data"
    }
   ],
   "source": [
    "#thresholded output\n",
    "#not representative of how the actual thresholded output will look as\n",
    "#it is not adaptive, and i just chose 0.5 arbitrarily \n",
    "plt.imshow(np.array(binaryOutputSeg2[0,:,pos,:,1]))\n",
    "plt.colorbar()"
   ]
  },
  {
   "cell_type": "code",
   "execution_count": 135,
   "metadata": {},
   "outputs": [
    {
     "data": {
      "text/plain": [
       "<matplotlib.image.AxesImage at 0x1cffe3c4320>"
      ]
     },
     "execution_count": 135,
     "metadata": {},
     "output_type": "execute_result"
    },
    {
     "data": {
      "image/png": "[encoded data removed]",
      "text/plain": [
       "<Figure size 432x288 with 1 Axes>"
      ]
     },
     "metadata": {
      "needs_background": "light"
     },
     "output_type": "display_data"
    }
   ],
   "source": [
    "#thresholded network segmentation overlaid on CT\n",
    "plt.imshow(lastNrrd[0,:,pos,:,0])\n",
    "plt.imshow(np.array(binaryOutputSeg2[0,:,pos,:,1]),alpha=0.5)"
   ]
  },
  {
   "cell_type": "code",
   "execution_count": null,
   "metadata": {},
   "outputs": [],
   "source": [
    "#TODO determine which U-Net implementation runs better\n",
    "#TODO tidy up variable names\n",
    "#TODO further improve accuracy\n",
    "#TODO save as array and export to slicer\n",
    "#TODO graph accuracy curve\n",
    "#TODO highlight false positives and false negatives on binarizaed overlay\n",
    "#TODO implement adaptive thresholding (if necessary)\n",
    "#TODO clean up imports section"
   ]
  }
 ],
 "metadata": {
  "kernelspec": {
   "display_name": "Python 3",
   "language": "python",
   "name": "python3"
  },
  "language_info": {
   "codemirror_mode": {
    "name": "ipython",
    "version": 3
   },
   "file_extension": ".py",
   "mimetype": "text/x-python",
   "name": "python",
   "nbconvert_exporter": "python",
   "pygments_lexer": "ipython3",
   "version": "3.7.3"
  }
 },
 "nbformat": 4,
 "nbformat_minor": 2
}
