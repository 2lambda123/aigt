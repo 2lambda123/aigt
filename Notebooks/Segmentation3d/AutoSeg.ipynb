{
 "cells": [
  {
   "cell_type": "code",
   "execution_count": 1,
   "metadata": {},
   "outputs": [
    {
     "name": "stderr",
     "output_type": "stream",
     "text": [
      "Using TensorFlow backend.\n"
     ]
    },
    {
     "name": "stdout",
     "output_type": "stream",
     "text": [
      "tf\n"
     ]
    }
   ],
   "source": [
    "###########################################################################################\n",
    "# CTRL F for QUESTION to see the problematic parts\n",
    "###########################################################################################\n",
    "import numpy as np\n",
    "import matplotlib.pyplot as plt\n",
    "from matplotlib import image\n",
    "from PIL import Image\n",
    "import os\n",
    "import tensorflow as tf\n",
    "from keras.models import Sequential, Model \n",
    "from keras.layers import *\n",
    "import keras.backend as k\n",
    "import keras.utils\n",
    "from keras import optimizers as opt\n",
    "from sklearn.model_selection import train_test_split\n",
    "from keras.utils import plot_model\n",
    "from keras.preprocessing.image import ImageDataGenerator\n",
    "\n",
    "\n",
    "print(k.image_dim_ordering())\n",
    "\n",
    "k.set_image_dim_ordering('tf')\n",
    "\n",
    "#tf.keras\n",
    "\n",
    "gpu_options = tf.GPUOptions(allow_growth=True)\n",
    "session = tf.InteractiveSession(config=tf.ConfigProto(gpu_options=gpu_options))"
   ]
  },
  {
   "cell_type": "code",
   "execution_count": 4,
   "metadata": {},
   "outputs": [],
   "source": [
    "def bnormalize(arr):\n",
    "    arrMin = np.amin(arr)\n",
    "    arrMax = np.amax(arr)\n",
    "    print(arrMin)\n",
    "    print(arrMax)\n",
    "    if arrMax != 0:\n",
    "        arr = np.subtract(arr,arrMin)\n",
    "        #print(arr)\n",
    "        arrMax = np.amax(arr)\n",
    "        arr = np.divide(arr,arrMax)\n",
    "        #print(arr)\n",
    "        print(\"divided\")\n",
    "    else:\n",
    "        print(\"error, max value is zero\")\n",
    "    print(\"normalized\")\n",
    "    return arr"
   ]
  },
  {
   "cell_type": "code",
   "execution_count": 94,
   "metadata": {},
   "outputs": [],
   "source": [
    "# Batch Generator\n",
    "\n",
    "import keras.utils\n",
    "import scipy.ndimage\n",
    "\n",
    "max_rotation_angle = 10\n",
    "max_shift = 0.2\n",
    "max_zoom = 0.2\n",
    "\n",
    "class BatchGenerator(keras.utils.Sequence):\n",
    "    \n",
    "    def __init__(self,\n",
    "                 x_set,\n",
    "                 y_set,\n",
    "                 batch_size,\n",
    "                 image_dimensions=(128, 128, 128),\n",
    "                 shuffle=True,\n",
    "                 n_channels=1,\n",
    "                 n_classes=2):\n",
    "        self.x = x_set\n",
    "        self.y = y_set\n",
    "        self.batch_size = batch_size\n",
    "        self.image_dimensions = image_dimensions\n",
    "        self.shuffle = shuffle\n",
    "        self.n_channels = n_channels\n",
    "        self.n_classes = n_classes\n",
    "        self.number_of_images = self.x.shape[0]\n",
    "        self.indexes = np.arange(self.number_of_images)\n",
    "        if self.shuffle == True:\n",
    "            np.random.shuffle(self.indexes)\n",
    "            \n",
    "        #print(self.x.shape)\n",
    "        #print(self.y.shape)\n",
    "            \n",
    "    def __len__(self):\n",
    "        return int(np.floor(self.number_of_images / self.batch_size))\n",
    "        #print(\"len\")\n",
    "    \n",
    "    def on_epoch_end(self):\n",
    "        self.indexes = np.arange(self.number_of_images)\n",
    "        #print(self.indexes)\n",
    "        #print(self.number_of_images)\n",
    "        if self.shuffle == True:\n",
    "            np.random.shuffle(self.indexes)\n",
    "        #print(\"on epoch end\")\n",
    "    \n",
    "    def __getitem__(self, index):\n",
    "        #print(\"get1\")\n",
    "        batch_indexes = self.indexes[index*self.batch_size : (index+1)*self.batch_size]\n",
    "        #print(batch_indexes)\n",
    "        x = np.empty((self.batch_size, *self.image_dimensions, self.n_channels))\n",
    "        #print(\"get3\")\n",
    "        y = np.empty((self.batch_size, *self.image_dimensions, self.n_channels))\n",
    "        #print(\"get4\")\n",
    "        for i in range(self.batch_size):\n",
    "            flip_flag = np.random.randint(2)\n",
    "            x[i,:,:,:,:] = np.flip(self.x[batch_indexes[i],:,:,:,:])\n",
    "            y[i,:,:,:,:]= np.flip(self.y[batch_indexes[i],:,:,:])\n",
    "            \n",
    "        angle = np.random.randint(-max_rotation_angle, max_rotation_angle)\n",
    "        # rotate x-axis\n",
    "        x_rot = scipy.ndimage.interpolation.rotate(x, angle, (1,2), False, mode=\"constant\", cval=0, order=0)\n",
    "        y_rot = scipy.ndimage.interpolation.rotate(y, angle, (1,2), False, mode=\"constant\", cval=0, order=0)\n",
    "        #rotate y-axis\n",
    "        x_rot = scipy.ndimage.interpolation.rotate(x, angle, (0,2), False, mode=\"constant\", cval=0, order=0)\n",
    "        y_rot = scipy.ndimage.interpolation.rotate(y, angle, (0,2), False, mode=\"constant\", cval=0, order=0)\n",
    "        #rotate z-axis\n",
    "        x_rot = scipy.ndimage.interpolation.rotate(x, angle, (0,1), False, mode=\"constant\", cval=0, order=0)\n",
    "        y_rot = scipy.ndimage.interpolation.rotate(y, angle, (0,1), False, mode=\"constant\", cval=0, order=0)\n",
    "\n",
    "        \n",
    "        #shift = np.random.uniform(-max_shift, max_shift)\n",
    "        #x_shift = scipy.ndimage.interpolation.shift(x_rot, shift)\n",
    "        #y_shift = scipy.ndimage.interpolation.shift(y_rot, shift)\n",
    "        \n",
    "        #zoom = np.random.uniform(-max_zoom, max_zoom)\n",
    "        #x_zoom = scipy.ndimage.interpolation.zoom(x_shift, zoom)\n",
    "        #y_zoom = scipy.ndimage.interpolation.zoom(y_shift, zoom)\n",
    "    \n",
    "        x_aug = np.clip(x_rot, 0.0, 1.0)\n",
    "        y_aug = np.clip(y_rot, 0.0, 1.0)\n",
    "        \n",
    "        y_onehot = keras.utils.to_categorical(y_aug, self.n_classes)\n",
    "\n",
    "        return x_aug, y_onehot"
   ]
  },
  {
   "cell_type": "code",
   "execution_count": 6,
   "metadata": {},
   "outputs": [
    {
     "name": "stdout",
     "output_type": "stream",
     "text": [
      "E:\\Patient Data Summer\\NN\\Nrrds\\PTMW0075_Prone.npy\n",
      "E:\\Patient Data Summer\\NN\\Nrrds\\PTMW0075_Supine.npy\n",
      "E:\\Patient Data Summer\\NN\\Nrrds\\PTOC0078_Prone.npy\n",
      "E:\\Patient Data Summer\\NN\\Nrrds\\PTOC0078_Supine.npy\n",
      "E:\\Patient Data Summer\\NN\\Nrrds\\PTOD0072_Prone.npy\n",
      "E:\\Patient Data Summer\\NN\\Nrrds\\PTOD0072_Supine.npy\n",
      "E:\\Patient Data Summer\\NN\\Nrrds\\PTPD0028_Prone.npy\n",
      "E:\\Patient Data Summer\\NN\\Nrrds\\PTPD0028_Supine.npy\n",
      "E:\\Patient Data Summer\\NN\\Nrrds\\PTPP0051_Prone.npy\n",
      "E:\\Patient Data Summer\\NN\\Nrrds\\PTPP0051_Supine.npy\n",
      "E:\\Patient Data Summer\\NN\\Nrrds\\PTPR0077_Prone.npy\n",
      "E:\\Patient Data Summer\\NN\\Nrrds\\PTPR0077_Supine.npy\n",
      "['E:\\\\Patient Data Summer\\\\NN\\\\Nrrds\\\\PTMW0075_Prone.npy', 'E:\\\\Patient Data Summer\\\\NN\\\\Nrrds\\\\PTMW0075_Supine.npy', 'E:\\\\Patient Data Summer\\\\NN\\\\Nrrds\\\\PTOC0078_Prone.npy', 'E:\\\\Patient Data Summer\\\\NN\\\\Nrrds\\\\PTOC0078_Supine.npy', 'E:\\\\Patient Data Summer\\\\NN\\\\Nrrds\\\\PTOD0072_Prone.npy', 'E:\\\\Patient Data Summer\\\\NN\\\\Nrrds\\\\PTOD0072_Supine.npy', 'E:\\\\Patient Data Summer\\\\NN\\\\Nrrds\\\\PTPD0028_Prone.npy', 'E:\\\\Patient Data Summer\\\\NN\\\\Nrrds\\\\PTPD0028_Supine.npy', 'E:\\\\Patient Data Summer\\\\NN\\\\Nrrds\\\\PTPP0051_Prone.npy', 'E:\\\\Patient Data Summer\\\\NN\\\\Nrrds\\\\PTPP0051_Supine.npy', 'E:\\\\Patient Data Summer\\\\NN\\\\Nrrds\\\\PTPR0077_Prone.npy', 'E:\\\\Patient Data Summer\\\\NN\\\\Nrrds\\\\PTPR0077_Supine.npy']\n",
      "['E:\\\\Patient Data Summer\\\\NN\\\\Nrrds\\\\PTMW0075_Prone_normalized.npy', 'E:\\\\Patient Data Summer\\\\NN\\\\Nrrds\\\\PTMW0075_Supine_normalized.npy', 'E:\\\\Patient Data Summer\\\\NN\\\\Nrrds\\\\PTOC0078_Prone_normalized.npy', 'E:\\\\Patient Data Summer\\\\NN\\\\Nrrds\\\\PTOC0078_Supine_normalized.npy', 'E:\\\\Patient Data Summer\\\\NN\\\\Nrrds\\\\PTOD0072_Prone_normalized.npy', 'E:\\\\Patient Data Summer\\\\NN\\\\Nrrds\\\\PTOD0072_Supine_normalized.npy', 'E:\\\\Patient Data Summer\\\\NN\\\\Nrrds\\\\PTPD0028_Prone_normalized.npy', 'E:\\\\Patient Data Summer\\\\NN\\\\Nrrds\\\\PTPD0028_Supine_normalized.npy', 'E:\\\\Patient Data Summer\\\\NN\\\\Nrrds\\\\PTPP0051_Prone_normalized.npy', 'E:\\\\Patient Data Summer\\\\NN\\\\Nrrds\\\\PTPP0051_Supine_normalized.npy', 'E:\\\\Patient Data Summer\\\\NN\\\\Nrrds\\\\PTPR0077_Prone_normalized.npy', 'E:\\\\Patient Data Summer\\\\NN\\\\Nrrds\\\\PTPR0077_Supine_normalized.npy']\n",
      "['PTMW0075_Prone', 'PTMW0075_Supine', 'PTOC0078_Prone', 'PTOC0078_Supine', 'PTOD0072_Prone', 'PTOD0072_Supine', 'PTPD0028_Prone', 'PTPD0028_Supine', 'PTPP0051_Prone', 'PTPP0051_Supine', 'PTPR0077_Prone', 'PTPR0077_Supine']\n"
     ]
    }
   ],
   "source": [
    "#These paths are specific to my computer\n",
    "#change them to match where you store your nrrds and segs\n",
    "rootPath = \"E:\\\\Patient Data Summer\\\\NN\\\\\"\n",
    "nrrdPath = \"E:\\\\Patient Data Summer\\\\NN\\\\Nrrds\\\\\"\n",
    "segPath = \"E:\\\\Patient Data Summer\\\\NN\\\\Segs\\\\\"\n",
    "\n",
    "nrrdFilePaths = []\n",
    "nrrdFileNames = []\n",
    "normalizedFilePaths = []\n",
    "normalizedFileNames = []\n",
    "\n",
    "labelFilePaths = []\n",
    "\n",
    "#mainly unused, i could probably remove this\n",
    "def loadNpy(name):\n",
    "    b = np.load(name)\n",
    "    return b\n",
    "\n",
    "for root, dirs, files in os.walk(nrrdPath):\n",
    "        for filename in files:\n",
    "            if filename.endswith(\"normalized.npy\") or filename.endswith(\"5dim.npy\"):\n",
    "                continue\n",
    "            elif filename.endswith(\".npy\"):\n",
    "                path=os.path.join(root,filename)\n",
    "                print(path)\n",
    "                a = loadNpy(path)\n",
    "                nrrdFilePaths.append(path)\n",
    "                #very messy, but is necessary to weed out the normalized images\n",
    "                if filename.endswith(\"normalized.npy\") or filename.endswith(\"5dim.npy\"):\n",
    "                    continue\n",
    "                elif filename.endswith(\".npy\"):\n",
    "                    noExtension = filename[:-4]\n",
    "                    nrrdFileNames.append(noExtension)\n",
    "                    normalizedFileNames.append(noExtension)\n",
    "                    newExtension = noExtension + '_normalized.npy'\n",
    "                    outPutFileName = os.path.join(root,newExtension)\n",
    "                    normalizedFilePaths.append(outPutFileName)\n",
    "                \n",
    "\n",
    "print(nrrdFilePaths)\n",
    "print(normalizedFilePaths)\n",
    "print(nrrdFileNames)"
   ]
  },
  {
   "cell_type": "code",
   "execution_count": 7,
   "metadata": {},
   "outputs": [
    {
     "name": "stdout",
     "output_type": "stream",
     "text": [
      "['E:\\\\Patient Data Summer\\\\NN\\\\Segs\\\\PTMW0075_ProSegLabel_downsized.npy', 'E:\\\\Patient Data Summer\\\\NN\\\\Segs\\\\PTMW0075_SupSegLabel_downsized.npy', 'E:\\\\Patient Data Summer\\\\NN\\\\Segs\\\\PTOC0078_ProSegLabel_downsized.npy', 'E:\\\\Patient Data Summer\\\\NN\\\\Segs\\\\PTOC0078_SupSegLabel_downsized.npy', 'E:\\\\Patient Data Summer\\\\NN\\\\Segs\\\\PTOD0072_ProSegLabel_downsized.npy', 'E:\\\\Patient Data Summer\\\\NN\\\\Segs\\\\PTOD0072_SupSegLabel_downsized.npy', 'E:\\\\Patient Data Summer\\\\NN\\\\Segs\\\\PTPD0028_ProSegLabel_downsized.npy', 'E:\\\\Patient Data Summer\\\\NN\\\\Segs\\\\PTPD0028_SupSegLabel_downsized.npy', 'E:\\\\Patient Data Summer\\\\NN\\\\Segs\\\\PTPP0051_ProSegLabel_downsized.npy', 'E:\\\\Patient Data Summer\\\\NN\\\\Segs\\\\PTPP0051_SupSegLabel_downsized.npy', 'E:\\\\Patient Data Summer\\\\NN\\\\Segs\\\\PTPR0077_ProSegLabel_downsized.npy', 'E:\\\\Patient Data Summer\\\\NN\\\\Segs\\\\PTPR0077_SupSegLabel_downsized.npy']\n"
     ]
    }
   ],
   "source": [
    "#get labels\n",
    "#I dont normalize these because they are based on binary label maps\n",
    "downsizedLabelFilePaths=[]\n",
    "labelFilePaths=[]\n",
    "for root, dirs, files in os.walk(segPath):\n",
    "        for filename in files:\n",
    "            if filename.endswith(\"Label.npy\"):                \n",
    "                noExtension = filename[:-4]\n",
    "                newExtension = noExtension + '_downsized.npy'\n",
    "                outPutFileName = os.path.join(root,newExtension)\n",
    "                downsizedLabelFilePaths.append(outPutFileName)\n",
    "                \n",
    "                path=os.path.join(root,filename)\n",
    "                labelFilePaths.append(path)\n",
    "print(downsizedLabelFilePaths)"
   ]
  },
  {
   "cell_type": "code",
   "execution_count": 8,
   "metadata": {},
   "outputs": [
    {
     "name": "stdout",
     "output_type": "stream",
     "text": [
      "E:\\Patient Data Summer\\NN\\Nrrds\\PTMW0075_Prone.npy\n",
      "(128, 128, 128)\n",
      "E:\\Patient Data Summer\\NN\\Nrrds\\PTMW0075_Supine.npy\n",
      "(128, 128, 128)\n",
      "E:\\Patient Data Summer\\NN\\Nrrds\\PTOC0078_Prone.npy\n"
     ]
    },
    {
     "name": "stderr",
     "output_type": "stream",
     "text": [
      "C:\\Users\\PerkLab\\Anaconda3\\envs\\DL1\\lib\\site-packages\\scipy\\ndimage\\interpolation.py:605: UserWarning: From scipy 0.13.0, the output shape of zoom() is calculated with round() instead of int() - for these inputs the size of the returned array has changed.\n",
      "  \"the returned array has changed.\", UserWarning)\n"
     ]
    },
    {
     "name": "stdout",
     "output_type": "stream",
     "text": [
      "(128, 128, 128)\n",
      "E:\\Patient Data Summer\\NN\\Nrrds\\PTOC0078_Supine.npy\n",
      "(128, 128, 128)\n",
      "E:\\Patient Data Summer\\NN\\Nrrds\\PTOD0072_Prone.npy\n",
      "(128, 128, 128)\n",
      "E:\\Patient Data Summer\\NN\\Nrrds\\PTOD0072_Supine.npy\n",
      "(128, 128, 128)\n",
      "E:\\Patient Data Summer\\NN\\Nrrds\\PTPD0028_Prone.npy\n",
      "(128, 128, 128)\n",
      "E:\\Patient Data Summer\\NN\\Nrrds\\PTPD0028_Supine.npy\n",
      "(128, 128, 128)\n",
      "E:\\Patient Data Summer\\NN\\Nrrds\\PTPP0051_Prone.npy\n",
      "(128, 128, 128)\n",
      "E:\\Patient Data Summer\\NN\\Nrrds\\PTPP0051_Supine.npy\n",
      "(128, 128, 128)\n",
      "E:\\Patient Data Summer\\NN\\Nrrds\\PTPR0077_Prone.npy\n",
      "(128, 128, 128)\n",
      "E:\\Patient Data Summer\\NN\\Nrrds\\PTPR0077_Supine.npy\n",
      "(128, 128, 128)\n"
     ]
    }
   ],
   "source": [
    "#downsize CTs\n",
    "zResize = []\n",
    "from scipy.ndimage import zoom\n",
    "nnnn=0\n",
    "for i in nrrdFilePaths:\n",
    "    print(i)\n",
    "    a = loadNpy(i)\n",
    "    a = zoom(a, (0.25,0.25,0.25))\n",
    "    b=a.shape\n",
    "    c=(b[0])\n",
    "    d=128/c\n",
    "    zResize.append(d)\n",
    "    a=zoom(a, (d,1,1))\n",
    "    print(a.shape)\n",
    "    np.save(normalizedFilePaths[nnnn],a)\n",
    "    nnnn+=1"
   ]
  },
  {
   "cell_type": "code",
   "execution_count": 9,
   "metadata": {},
   "outputs": [
    {
     "name": "stdout",
     "output_type": "stream",
     "text": [
      "E:\\Patient Data Summer\\NN\\Segs\\PTMW0075_ProSegLabel.npy\n",
      "(652, 512, 512)\n",
      "(163, 128, 128)\n",
      "0.7852760736196319\n",
      "(128, 128, 128)\n",
      "E:\\Patient Data Summer\\NN\\Segs\\PTMW0075_SupSegLabel.npy\n",
      "(578, 512, 512)\n",
      "(144, 128, 128)\n",
      "0.8888888888888888\n",
      "(128, 128, 128)\n",
      "E:\\Patient Data Summer\\NN\\Segs\\PTOC0078_ProSegLabel.npy\n",
      "(647, 512, 512)\n",
      "(162, 128, 128)\n",
      "0.7901234567901234\n",
      "(128, 128, 128)\n",
      "E:\\Patient Data Summer\\NN\\Segs\\PTOC0078_SupSegLabel.npy\n",
      "(631, 512, 512)\n",
      "(158, 128, 128)\n",
      "0.810126582278481\n",
      "(128, 128, 128)\n",
      "E:\\Patient Data Summer\\NN\\Segs\\PTOD0072_ProSegLabel.npy\n",
      "(613, 512, 512)\n",
      "(153, 128, 128)\n",
      "0.8366013071895425\n",
      "(128, 128, 128)\n",
      "E:\\Patient Data Summer\\NN\\Segs\\PTOD0072_SupSegLabel.npy\n",
      "(571, 512, 512)\n",
      "(143, 128, 128)\n",
      "0.8951048951048951\n",
      "(128, 128, 128)\n",
      "E:\\Patient Data Summer\\NN\\Segs\\PTPD0028_ProSegLabel.npy\n",
      "(586, 512, 512)\n",
      "(146, 128, 128)\n",
      "0.8767123287671232\n",
      "(128, 128, 128)\n",
      "E:\\Patient Data Summer\\NN\\Segs\\PTPD0028_SupSegLabel.npy\n",
      "(526, 512, 512)\n",
      "(132, 128, 128)\n",
      "0.9696969696969697\n",
      "(128, 128, 128)\n",
      "E:\\Patient Data Summer\\NN\\Segs\\PTPP0051_ProSegLabel.npy\n",
      "(799, 512, 512)\n",
      "(200, 128, 128)\n",
      "0.64\n",
      "(128, 128, 128)\n",
      "E:\\Patient Data Summer\\NN\\Segs\\PTPP0051_SupSegLabel.npy\n",
      "(573, 512, 512)\n",
      "(143, 128, 128)\n",
      "0.8951048951048951\n",
      "(128, 128, 128)\n",
      "E:\\Patient Data Summer\\NN\\Segs\\PTPR0077_ProSegLabel.npy\n",
      "(713, 512, 512)\n",
      "(178, 128, 128)\n",
      "0.7191011235955056\n",
      "(128, 128, 128)\n",
      "E:\\Patient Data Summer\\NN\\Segs\\PTPR0077_SupSegLabel.npy\n",
      "(621, 512, 512)\n",
      "(155, 128, 128)\n",
      "0.8258064516129032\n",
      "(128, 128, 128)\n"
     ]
    }
   ],
   "source": [
    "#downsize labels\n",
    "nnnnn=0\n",
    "for i in labelFilePaths:\n",
    "    print(i)\n",
    "    a = loadNpy(i)\n",
    "    print(a.shape)\n",
    "    a = zoom(a, (0.25,0.25,0.25))\n",
    "    print(a.shape)\n",
    "    b=a.shape\n",
    "    c=(b[0])\n",
    "    d=128/c\n",
    "    print(d)\n",
    "    zResize.append(d)\n",
    "    a=zoom(a, (d,1,1))\n",
    "    print(a.shape)\n",
    "    np.save(downsizedLabelFilePaths[nnnnn],a)\n",
    "    nnnnn+=1"
   ]
  },
  {
   "cell_type": "code",
   "execution_count": 10,
   "metadata": {
    "scrolled": true
   },
   "outputs": [
    {
     "name": "stdout",
     "output_type": "stream",
     "text": [
      "E:\\Patient Data Summer\\NN\\Nrrds\\PTMW0075_Prone_normalized.npy\n",
      "-2234\n",
      "1580\n",
      "divided\n",
      "normalized\n",
      "E:\\Patient Data Summer\\NN\\Nrrds\\PTMW0075_Supine_normalized.npy\n",
      "-2234\n",
      "2060\n",
      "divided\n",
      "normalized\n",
      "E:\\Patient Data Summer\\NN\\Nrrds\\PTOC0078_Prone_normalized.npy\n",
      "-2309\n",
      "2466\n",
      "divided\n",
      "normalized\n",
      "E:\\Patient Data Summer\\NN\\Nrrds\\PTOC0078_Supine_normalized.npy\n",
      "-2575\n",
      "2907\n",
      "divided\n",
      "normalized\n",
      "E:\\Patient Data Summer\\NN\\Nrrds\\PTOD0072_Prone_normalized.npy\n",
      "-2240\n",
      "6607\n",
      "divided\n",
      "normalized\n",
      "E:\\Patient Data Summer\\NN\\Nrrds\\PTOD0072_Supine_normalized.npy\n",
      "-2335\n",
      "6996\n",
      "divided\n",
      "normalized\n",
      "E:\\Patient Data Summer\\NN\\Nrrds\\PTPD0028_Prone_normalized.npy\n",
      "-2298\n",
      "6654\n",
      "divided\n",
      "normalized\n",
      "E:\\Patient Data Summer\\NN\\Nrrds\\PTPD0028_Supine_normalized.npy\n",
      "-2303\n",
      "1723\n",
      "divided\n",
      "normalized\n",
      "E:\\Patient Data Summer\\NN\\Nrrds\\PTPP0051_Prone_normalized.npy\n",
      "-2272\n",
      "1687\n",
      "divided\n",
      "normalized\n",
      "E:\\Patient Data Summer\\NN\\Nrrds\\PTPP0051_Supine_normalized.npy\n",
      "-2274\n",
      "1678\n",
      "divided\n",
      "normalized\n",
      "E:\\Patient Data Summer\\NN\\Nrrds\\PTPR0077_Prone_normalized.npy\n",
      "-2274\n",
      "1565\n",
      "divided\n",
      "normalized\n",
      "E:\\Patient Data Summer\\NN\\Nrrds\\PTPR0077_Supine_normalized.npy\n",
      "-2303\n",
      "1583\n",
      "divided\n",
      "normalized\n",
      "['E:\\\\Patient Data Summer\\\\NN\\\\Nrrds\\\\PTMW0075_Prone_normalized.npy', 'E:\\\\Patient Data Summer\\\\NN\\\\Nrrds\\\\PTMW0075_Supine_normalized.npy', 'E:\\\\Patient Data Summer\\\\NN\\\\Nrrds\\\\PTOC0078_Prone_normalized.npy', 'E:\\\\Patient Data Summer\\\\NN\\\\Nrrds\\\\PTOC0078_Supine_normalized.npy', 'E:\\\\Patient Data Summer\\\\NN\\\\Nrrds\\\\PTOD0072_Prone_normalized.npy', 'E:\\\\Patient Data Summer\\\\NN\\\\Nrrds\\\\PTOD0072_Supine_normalized.npy', 'E:\\\\Patient Data Summer\\\\NN\\\\Nrrds\\\\PTPD0028_Prone_normalized.npy', 'E:\\\\Patient Data Summer\\\\NN\\\\Nrrds\\\\PTPD0028_Supine_normalized.npy', 'E:\\\\Patient Data Summer\\\\NN\\\\Nrrds\\\\PTPP0051_Prone_normalized.npy', 'E:\\\\Patient Data Summer\\\\NN\\\\Nrrds\\\\PTPP0051_Supine_normalized.npy', 'E:\\\\Patient Data Summer\\\\NN\\\\Nrrds\\\\PTPR0077_Prone_normalized.npy', 'E:\\\\Patient Data Summer\\\\NN\\\\Nrrds\\\\PTPR0077_Supine_normalized.npy']\n"
     ]
    }
   ],
   "source": [
    "#create the normalized images\n",
    "n=0\n",
    "for i in normalizedFilePaths:\n",
    "    print(i)\n",
    "    a = loadNpy(i)\n",
    "    b = bnormalize(a)\n",
    "    np.save(normalizedFilePaths[n],b)\n",
    "    n+=1\n",
    "print(normalizedFilePaths)"
   ]
  },
  {
   "cell_type": "code",
   "execution_count": 11,
   "metadata": {},
   "outputs": [
    {
     "name": "stdout",
     "output_type": "stream",
     "text": [
      "['E:\\\\Patient Data Summer\\\\NN\\\\Segs\\\\PTMW0075_ProSegLabel.npy', 'E:\\\\Patient Data Summer\\\\NN\\\\Segs\\\\PTMW0075_SupSegLabel.npy', 'E:\\\\Patient Data Summer\\\\NN\\\\Segs\\\\PTOC0078_ProSegLabel.npy', 'E:\\\\Patient Data Summer\\\\NN\\\\Segs\\\\PTOC0078_SupSegLabel.npy', 'E:\\\\Patient Data Summer\\\\NN\\\\Segs\\\\PTOD0072_ProSegLabel.npy', 'E:\\\\Patient Data Summer\\\\NN\\\\Segs\\\\PTOD0072_SupSegLabel.npy', 'E:\\\\Patient Data Summer\\\\NN\\\\Segs\\\\PTPD0028_ProSegLabel.npy', 'E:\\\\Patient Data Summer\\\\NN\\\\Segs\\\\PTPD0028_SupSegLabel.npy', 'E:\\\\Patient Data Summer\\\\NN\\\\Segs\\\\PTPP0051_ProSegLabel.npy', 'E:\\\\Patient Data Summer\\\\NN\\\\Segs\\\\PTPP0051_SupSegLabel.npy', 'E:\\\\Patient Data Summer\\\\NN\\\\Segs\\\\PTPR0077_ProSegLabel.npy', 'E:\\\\Patient Data Summer\\\\NN\\\\Segs\\\\PTPR0077_SupSegLabel.npy']\n"
     ]
    }
   ],
   "source": [
    "print(labelFilePaths)"
   ]
  },
  {
   "cell_type": "code",
   "execution_count": 12,
   "metadata": {},
   "outputs": [],
   "source": [
    "#mostly borrowed from an article online\n",
    "#i probably wont use this in the final version, this is mainly a placeholder for testing\n",
    "smooth = 1\n",
    "\n",
    "def dice_coef(y_true, y_pred):\n",
    "    y_true_f = k.flatten(y_true)\n",
    "    y_pred_f = k.flatten(y_pred)\n",
    "    intersection = k.sum(y_true_f * y_pred_f)\n",
    "    \n",
    "    return (2 * intersection + smooth) / (k.sum(y_true_f) + k.sum(y_pred_f) + smooth)\n",
    "\n",
    "def dice_coef_loss(y_true, y_pred):\n",
    "    \n",
    "    return -dice_coef(y_true, y_pred)\n",
    "\n",
    "def IOU(true, pred):\n",
    "\n",
    "    tresholds = [0.5 + (i*.05)  for i in range(10)]\n",
    "\n",
    "    #flattened images (batch, pixels)\n",
    "    true = K.batch_flatten(true)\n",
    "    pred = K.batch_flatten(pred)\n",
    "    pred = castF(K.greater(pred, 0.5))\n",
    "\n",
    "    #total white pixels - (batch,)\n",
    "    trueSum = K.sum(true, axis=-1)\n",
    "    predSum = K.sum(pred, axis=-1)\n",
    "\n",
    "    #has mask or not per image - (batch,)\n",
    "    true1 = castF(K.greater(trueSum, 1))    \n",
    "    pred1 = castF(K.greater(predSum, 1))\n",
    "\n",
    "    #to get images that have mask in both true and pred\n",
    "    truePositiveMask = castB(true1 * pred1)\n",
    "\n",
    "    #separating only the possible true positives to check iou\n",
    "    testTrue = tf.boolean_mask(true, truePositiveMask)\n",
    "    testPred = tf.boolean_mask(pred, truePositiveMask)\n",
    "\n",
    "    #getting iou and threshold comparisons\n",
    "    iou = iou_loss_core(testTrue,testPred) \n",
    "    truePositives = [castF(K.greater(iou, tres)) for tres in tresholds]\n",
    "\n",
    "    #mean of thressholds for true positives and total sum\n",
    "    truePositives = K.mean(K.stack(truePositives, axis=-1), axis=-1)\n",
    "    truePositives = K.sum(truePositives)\n",
    "\n",
    "    #to get images that don't have mask in both true and pred\n",
    "    trueNegatives = (1-true1) * (1 - pred1) # = 1 -true1 - pred1 + true1*pred1\n",
    "    trueNegatives = K.sum(trueNegatives) \n",
    "\n",
    "    return (truePositives + trueNegatives) / castF(K.shape(true)[0])"
   ]
  },
  {
   "cell_type": "code",
   "execution_count": 13,
   "metadata": {},
   "outputs": [
    {
     "name": "stdout",
     "output_type": "stream",
     "text": [
      "E:\\Patient Data Summer\\NN\\Nrrds\\PTMW0075_Prone_normalized.npy\n",
      "(128, 128, 128, 1)\n",
      "E:\\Patient Data Summer\\NN\\Nrrds\\PTMW0075_Supine_normalized.npy\n",
      "(128, 128, 128, 1)\n",
      "E:\\Patient Data Summer\\NN\\Nrrds\\PTOC0078_Prone_normalized.npy\n",
      "(128, 128, 128, 1)\n",
      "E:\\Patient Data Summer\\NN\\Nrrds\\PTOC0078_Supine_normalized.npy\n",
      "(128, 128, 128, 1)\n",
      "E:\\Patient Data Summer\\NN\\Nrrds\\PTOD0072_Prone_normalized.npy\n",
      "(128, 128, 128, 1)\n",
      "E:\\Patient Data Summer\\NN\\Nrrds\\PTOD0072_Supine_normalized.npy\n",
      "(128, 128, 128, 1)\n",
      "E:\\Patient Data Summer\\NN\\Nrrds\\PTPD0028_Prone_normalized.npy\n",
      "(128, 128, 128, 1)\n",
      "E:\\Patient Data Summer\\NN\\Nrrds\\PTPD0028_Supine_normalized.npy\n",
      "(128, 128, 128, 1)\n",
      "E:\\Patient Data Summer\\NN\\Nrrds\\PTPP0051_Prone_normalized.npy\n",
      "(128, 128, 128, 1)\n",
      "E:\\Patient Data Summer\\NN\\Nrrds\\PTPP0051_Supine_normalized.npy\n",
      "(128, 128, 128, 1)\n",
      "E:\\Patient Data Summer\\NN\\Nrrds\\PTPR0077_Prone_normalized.npy\n",
      "(128, 128, 128, 1)\n",
      "E:\\Patient Data Summer\\NN\\Nrrds\\PTPR0077_Supine_normalized.npy\n",
      "(128, 128, 128, 1)\n",
      "(12, 128, 128, 128, 1)\n"
     ]
    }
   ],
   "source": [
    "image5Dim = []\n",
    "image5DimPaths = []\n",
    "for i in normalizedFilePaths:\n",
    "    print(i)\n",
    "    a=np.load(i)\n",
    "    a=a[...,np.newaxis]\n",
    "    i = i[:-4]\n",
    "    i=i + '_5dim.npy'\n",
    "    np.save(i,a)\n",
    "    print(np.shape(a))\n",
    "    image5Dim.append(a)\n",
    "    image5DimPaths.append(i)\n",
    "    \n",
    "print(np.shape(image5Dim))"
   ]
  },
  {
   "cell_type": "code",
   "execution_count": 14,
   "metadata": {},
   "outputs": [
    {
     "name": "stdout",
     "output_type": "stream",
     "text": [
      "E:\\Patient Data Summer\\NN\\Segs\\PTMW0075_ProSegLabel_downsized.npy\n",
      "(128, 128, 128, 1)\n",
      "E:\\Patient Data Summer\\NN\\Segs\\PTMW0075_SupSegLabel_downsized.npy\n",
      "(128, 128, 128, 1)\n",
      "E:\\Patient Data Summer\\NN\\Segs\\PTOC0078_ProSegLabel_downsized.npy\n",
      "(128, 128, 128, 1)\n",
      "E:\\Patient Data Summer\\NN\\Segs\\PTOC0078_SupSegLabel_downsized.npy\n",
      "(128, 128, 128, 1)\n",
      "E:\\Patient Data Summer\\NN\\Segs\\PTOD0072_ProSegLabel_downsized.npy\n",
      "(128, 128, 128, 1)\n",
      "E:\\Patient Data Summer\\NN\\Segs\\PTOD0072_SupSegLabel_downsized.npy\n",
      "(128, 128, 128, 1)\n",
      "E:\\Patient Data Summer\\NN\\Segs\\PTPD0028_ProSegLabel_downsized.npy\n",
      "(128, 128, 128, 1)\n",
      "E:\\Patient Data Summer\\NN\\Segs\\PTPD0028_SupSegLabel_downsized.npy\n",
      "(128, 128, 128, 1)\n",
      "E:\\Patient Data Summer\\NN\\Segs\\PTPP0051_ProSegLabel_downsized.npy\n",
      "(128, 128, 128, 1)\n",
      "E:\\Patient Data Summer\\NN\\Segs\\PTPP0051_SupSegLabel_downsized.npy\n",
      "(128, 128, 128, 1)\n",
      "E:\\Patient Data Summer\\NN\\Segs\\PTPR0077_ProSegLabel_downsized.npy\n",
      "(128, 128, 128, 1)\n",
      "E:\\Patient Data Summer\\NN\\Segs\\PTPR0077_SupSegLabel_downsized.npy\n",
      "(128, 128, 128, 1)\n",
      "(12, 128, 128, 128, 1)\n"
     ]
    }
   ],
   "source": [
    "label5Dim = []\n",
    "label5DimPaths = []\n",
    "\n",
    "for i in downsizedLabelFilePaths:\n",
    "    print(i)\n",
    "    a=np.load(i)\n",
    "    a=a[...,np.newaxis]\n",
    "    i = i[:-4]\n",
    "    i=i + '_5dim.npy'\n",
    "    np.save(i,a)\n",
    "    print(np.shape(a))\n",
    "    label5Dim.append(a)\n",
    "    label5DimPaths.append(i)\n",
    "    \n",
    "print(np.shape(label5Dim))"
   ]
  },
  {
   "cell_type": "code",
   "execution_count": 15,
   "metadata": {},
   "outputs": [
    {
     "name": "stdout",
     "output_type": "stream",
     "text": [
      "(12,)\n",
      "(12,)\n",
      "(12,)\n",
      "(12,)\n",
      "(12,)\n",
      "(12,)\n",
      "(12,)\n",
      "(12,)\n",
      "(12,)\n",
      "(12,)\n",
      "(12,)\n",
      "(12,)\n"
     ]
    }
   ],
   "source": [
    "#might not be necessary, but creates a list of the actual arrays, not just the paths\n",
    "nn=0\n",
    "listOfNormalized=[]\n",
    "for i in normalizedFilePaths:  \n",
    "    a=np.load(i)\n",
    "    listOfNormalized.append(a)\n",
    "    nn+=1\n",
    "    print(np.shape(normalizedFilePaths))\n",
    "#print(listOfNormalized)"
   ]
  },
  {
   "cell_type": "code",
   "execution_count": 16,
   "metadata": {},
   "outputs": [],
   "source": [
    "#same as above but for labels\n",
    "#please excuse the variable names\n",
    "nnn=0\n",
    "listOfLabels=[]\n",
    "for i in downsizedLabelFilePaths:  \n",
    "    a=np.load(i)\n",
    "    listOfLabels.append(a)\n",
    "    nnn+=1\n",
    "#print(listOfLabels)"
   ]
  },
  {
   "cell_type": "code",
   "execution_count": 17,
   "metadata": {},
   "outputs": [
    {
     "name": "stdout",
     "output_type": "stream",
     "text": [
      "(11, 128, 128, 128, 1)\n",
      "(11, 128, 128, 128, 1)\n",
      "(1, 128, 128, 128, 1)\n",
      "(1, 128, 128, 128, 1)\n"
     ]
    }
   ],
   "source": [
    "X_train, X_test, y_train, y_test = train_test_split (image5Dim, label5Dim, test_size = 0.05, random_state = 0)\n",
    "\n",
    "\n",
    "#print(X_train)\n",
    "\n",
    "print(np.shape(X_train))\n",
    "print(np.shape(y_train))\n",
    "print(np.shape(X_test))\n",
    "print(np.shape(y_test))"
   ]
  },
  {
   "cell_type": "code",
   "execution_count": 18,
   "metadata": {},
   "outputs": [
    {
     "ename": "ValueError",
     "evalue": "The truth value of an array with more than one element is ambiguous. Use a.any() or a.all()",
     "output_type": "error",
     "traceback": [
      "\u001b[1;31m---------------------------------------------------------------------------\u001b[0m",
      "\u001b[1;31mValueError\u001b[0m                                Traceback (most recent call last)",
      "\u001b[1;32m<ipython-input-18-7389d032e833>\u001b[0m in \u001b[0;36m<module>\u001b[1;34m\u001b[0m\n\u001b[0;32m      2\u001b[0m \u001b[0mnumOfZeros\u001b[0m\u001b[1;33m=\u001b[0m\u001b[1;36m0\u001b[0m\u001b[1;33m\u001b[0m\u001b[1;33m\u001b[0m\u001b[0m\n\u001b[0;32m      3\u001b[0m \u001b[1;32mfor\u001b[0m \u001b[0mi\u001b[0m \u001b[1;32min\u001b[0m \u001b[0mnp\u001b[0m\u001b[1;33m.\u001b[0m\u001b[0marray\u001b[0m\u001b[1;33m(\u001b[0m\u001b[0my_test\u001b[0m\u001b[1;33m)\u001b[0m\u001b[1;33m:\u001b[0m\u001b[1;33m\u001b[0m\u001b[1;33m\u001b[0m\u001b[0m\n\u001b[1;32m----> 4\u001b[1;33m     \u001b[1;32mif\u001b[0m \u001b[0mi\u001b[0m \u001b[1;33m==\u001b[0m \u001b[1;36m1\u001b[0m\u001b[1;33m:\u001b[0m\u001b[1;33m\u001b[0m\u001b[1;33m\u001b[0m\u001b[0m\n\u001b[0m\u001b[0;32m      5\u001b[0m         \u001b[0mprint\u001b[0m\u001b[1;33m(\u001b[0m\u001b[0mi\u001b[0m\u001b[1;33m)\u001b[0m\u001b[1;33m\u001b[0m\u001b[1;33m\u001b[0m\u001b[0m\n\u001b[0;32m      6\u001b[0m         \u001b[0mnumOfOnes\u001b[0m\u001b[1;33m.\u001b[0m\u001b[0mappend\u001b[0m\u001b[1;33m(\u001b[0m\u001b[0mi\u001b[0m\u001b[1;33m)\u001b[0m\u001b[1;33m\u001b[0m\u001b[1;33m\u001b[0m\u001b[0m\n",
      "\u001b[1;31mValueError\u001b[0m: The truth value of an array with more than one element is ambiguous. Use a.any() or a.all()"
     ]
    }
   ],
   "source": [
    "numOfOnes=0\n",
    "numOfZeros=0\n",
    "for i in np.array(y_test):\n",
    "    if i == 1:\n",
    "        print(i)\n",
    "        numOfOnes.append(i)"
   ]
  },
  {
   "cell_type": "code",
   "execution_count": 95,
   "metadata": {},
   "outputs": [],
   "source": [
    "trainingData=BatchGenerator(np.array(X_train),np.array(y_train),1)\n",
    "validationData=BatchGenerator(np.array(X_test),np.array(y_test),1)\n",
    "#print(np.shape(trainingData))"
   ]
  },
  {
   "cell_type": "code",
   "execution_count": 20,
   "metadata": {},
   "outputs": [],
   "source": [
    "new_X_train=[]\n",
    "new_y_train=[]\n",
    "new_Xy_train=[]\n",
    "for i in X_train:\n",
    "    for ii in y_train:\n",
    "        generated=BatchGenerator(np.array(i),np.array(ii),2)\n",
    "        new_Xy_train.append(generated)\n",
    "#rint(np.shape(np.array(new_Xy_train)))"
   ]
  },
  {
   "cell_type": "code",
   "execution_count": 21,
   "metadata": {},
   "outputs": [],
   "source": [
    "#plt.imshow(rrrrrrrrrrrrrrr[0,0,50,0])\n",
    "#plt.imshow(tttttttttttttt[90])"
   ]
  },
  {
   "cell_type": "code",
   "execution_count": 22,
   "metadata": {},
   "outputs": [
    {
     "name": "stdout",
     "output_type": "stream",
     "text": [
      "(128, 128, 128)\n",
      "(1, 1, 128, 128, 128)\n",
      "(128, 128, 128)\n",
      "(1, 1, 128, 128, 128)\n"
     ]
    }
   ],
   "source": [
    "#unused as of right now, will probably remove soon\n",
    "testInput1=np.load(normalizedFilePaths[0])\n",
    "print(np.shape(testInput1))\n",
    "testInput1=testInput1[np.newaxis,np.newaxis,...]\n",
    "print(np.shape(testInput1))\n",
    "\n",
    "testLabel1=np.load(downsizedLabelFilePaths[0])\n",
    "print(np.shape(testLabel1))\n",
    "testLabel1=testLabel1[np.newaxis,np.newaxis,...]\n",
    "\n",
    "#print(testInput1)\n",
    "\n",
    "print(np.shape(testLabel1))"
   ]
  },
  {
   "cell_type": "code",
   "execution_count": 23,
   "metadata": {},
   "outputs": [
    {
     "name": "stdout",
     "output_type": "stream",
     "text": [
      "(11, 128, 128, 128, 1)\n",
      "(11, 128, 128, 128, 1)\n",
      "['E:\\\\Patient Data Summer\\\\NN\\\\Nrrds\\\\PTMW0075_Prone_normalized.npy', 'E:\\\\Patient Data Summer\\\\NN\\\\Nrrds\\\\PTMW0075_Supine_normalized.npy', 'E:\\\\Patient Data Summer\\\\NN\\\\Nrrds\\\\PTOC0078_Prone_normalized.npy', 'E:\\\\Patient Data Summer\\\\NN\\\\Nrrds\\\\PTOC0078_Supine_normalized.npy', 'E:\\\\Patient Data Summer\\\\NN\\\\Nrrds\\\\PTOD0072_Prone_normalized.npy', 'E:\\\\Patient Data Summer\\\\NN\\\\Nrrds\\\\PTOD0072_Supine_normalized.npy', 'E:\\\\Patient Data Summer\\\\NN\\\\Nrrds\\\\PTPD0028_Prone_normalized.npy', 'E:\\\\Patient Data Summer\\\\NN\\\\Nrrds\\\\PTPD0028_Supine_normalized.npy', 'E:\\\\Patient Data Summer\\\\NN\\\\Nrrds\\\\PTPP0051_Prone_normalized.npy', 'E:\\\\Patient Data Summer\\\\NN\\\\Nrrds\\\\PTPP0051_Supine_normalized.npy', 'E:\\\\Patient Data Summer\\\\NN\\\\Nrrds\\\\PTPR0077_Prone_normalized.npy', 'E:\\\\Patient Data Summer\\\\NN\\\\Nrrds\\\\PTPR0077_Supine_normalized.npy']\n"
     ]
    }
   ],
   "source": [
    "print(np.shape(np.array(X_train)))\n",
    "print(np.shape(y_train))\n",
    "print(normalizedFilePaths)"
   ]
  },
  {
   "cell_type": "code",
   "execution_count": 24,
   "metadata": {},
   "outputs": [],
   "source": [
    "#https://www.pyimagesearch.com/2018/12/24/how-to-use-keras-fit-and-fit_generator-a-hands-on-tutorial/\n",
    "aug = ImageDataGenerator(rotation_range=20, \n",
    "                         zoom_range=0.15, \n",
    "                         width_shift_range=0.2, \n",
    "                         height_shift_range=0.2, \n",
    "                         shear_range=0.15,\n",
    "                         horizontal_flip=True, \n",
    "                         fill_mode=\"nearest\")"
   ]
  },
  {
   "cell_type": "code",
   "execution_count": 96,
   "metadata": {},
   "outputs": [
    {
     "name": "stdout",
     "output_type": "stream",
     "text": [
      "(?, 8, 8, 8, 64)\n",
      "(?, 16, 16, 16, 64)\n",
      "(?, 16, 16, 16, 128)\n",
      "(?, 16, 16, 16, 16)\n",
      "(?, 16, 16, 16, 16)\n",
      "(?, 32, 32, 32, 8)\n",
      "(?, 64, 64, 64, 8)\n",
      "(?, 128, 128, 128, 4)\n",
      "(?, 128, 128, 128, 2)\n",
      "__________________________________________________________________________________________________\n",
      "Layer (type)                    Output Shape         Param #     Connected to                     \n",
      "==================================================================================================\n",
      "input_8 (InputLayer)            (None, 128, 128, 128 0                                            \n",
      "__________________________________________________________________________________________________\n",
      "conv3d_134 (Conv3D)             (None, 128, 128, 128 224         input_8[0][0]                    \n",
      "__________________________________________________________________________________________________\n",
      "conv3d_135 (Conv3D)             (None, 128, 128, 128 1736        conv3d_134[0][0]                 \n",
      "__________________________________________________________________________________________________\n",
      "max_pooling3d_29 (MaxPooling3D) (None, 64, 64, 64, 8 0           conv3d_135[0][0]                 \n",
      "__________________________________________________________________________________________________\n",
      "conv3d_136 (Conv3D)             (None, 64, 64, 64, 1 3472        max_pooling3d_29[0][0]           \n",
      "__________________________________________________________________________________________________\n",
      "conv3d_137 (Conv3D)             (None, 64, 64, 64, 1 6928        conv3d_136[0][0]                 \n",
      "__________________________________________________________________________________________________\n",
      "max_pooling3d_30 (MaxPooling3D) (None, 32, 32, 32, 1 0           conv3d_137[0][0]                 \n",
      "__________________________________________________________________________________________________\n",
      "conv3d_138 (Conv3D)             (None, 32, 32, 32, 3 13856       max_pooling3d_30[0][0]           \n",
      "__________________________________________________________________________________________________\n",
      "conv3d_139 (Conv3D)             (None, 32, 32, 32, 3 27680       conv3d_138[0][0]                 \n",
      "__________________________________________________________________________________________________\n",
      "max_pooling3d_31 (MaxPooling3D) (None, 16, 16, 16, 3 0           conv3d_139[0][0]                 \n",
      "__________________________________________________________________________________________________\n",
      "conv3d_140 (Conv3D)             (None, 16, 16, 16, 6 55360       max_pooling3d_31[0][0]           \n",
      "__________________________________________________________________________________________________\n",
      "conv3d_141 (Conv3D)             (None, 16, 16, 16, 6 110656      conv3d_140[0][0]                 \n",
      "__________________________________________________________________________________________________\n",
      "max_pooling3d_32 (MaxPooling3D) (None, 8, 8, 8, 64)  0           conv3d_141[0][0]                 \n",
      "__________________________________________________________________________________________________\n",
      "conv3d_142 (Conv3D)             (None, 8, 8, 8, 64)  110656      max_pooling3d_32[0][0]           \n",
      "__________________________________________________________________________________________________\n",
      "conv3d_143 (Conv3D)             (None, 8, 8, 8, 64)  110656      conv3d_142[0][0]                 \n",
      "__________________________________________________________________________________________________\n",
      "up_sampling3d_29 (UpSampling3D) (None, 16, 16, 16, 6 0           conv3d_143[0][0]                 \n",
      "__________________________________________________________________________________________________\n",
      "concatenate_29 (Concatenate)    (None, 16, 16, 16, 1 0           up_sampling3d_29[0][0]           \n",
      "                                                                 conv3d_141[0][0]                 \n",
      "__________________________________________________________________________________________________\n",
      "conv3d_144 (Conv3D)             (None, 16, 16, 16, 1 55312       concatenate_29[0][0]             \n",
      "__________________________________________________________________________________________________\n",
      "conv3d_145 (Conv3D)             (None, 16, 16, 16, 1 6928        conv3d_144[0][0]                 \n",
      "__________________________________________________________________________________________________\n",
      "up_sampling3d_30 (UpSampling3D) (None, 32, 32, 32, 1 0           conv3d_145[0][0]                 \n",
      "__________________________________________________________________________________________________\n",
      "concatenate_30 (Concatenate)    (None, 32, 32, 32, 4 0           up_sampling3d_30[0][0]           \n",
      "                                                                 conv3d_139[0][0]                 \n",
      "__________________________________________________________________________________________________\n",
      "conv3d_146 (Conv3D)             (None, 32, 32, 32, 8 10376       concatenate_30[0][0]             \n",
      "__________________________________________________________________________________________________\n",
      "conv3d_147 (Conv3D)             (None, 32, 32, 32, 8 1736        conv3d_146[0][0]                 \n",
      "__________________________________________________________________________________________________\n",
      "up_sampling3d_31 (UpSampling3D) (None, 64, 64, 64, 8 0           conv3d_147[0][0]                 \n",
      "__________________________________________________________________________________________________\n",
      "concatenate_31 (Concatenate)    (None, 64, 64, 64, 2 0           up_sampling3d_31[0][0]           \n",
      "                                                                 conv3d_137[0][0]                 \n",
      "__________________________________________________________________________________________________\n",
      "conv3d_148 (Conv3D)             (None, 64, 64, 64, 8 5192        concatenate_31[0][0]             \n",
      "__________________________________________________________________________________________________\n",
      "conv3d_149 (Conv3D)             (None, 64, 64, 64, 8 1736        conv3d_148[0][0]                 \n",
      "__________________________________________________________________________________________________\n",
      "up_sampling3d_32 (UpSampling3D) (None, 128, 128, 128 0           conv3d_149[0][0]                 \n",
      "__________________________________________________________________________________________________\n",
      "concatenate_32 (Concatenate)    (None, 128, 128, 128 0           up_sampling3d_32[0][0]           \n",
      "                                                                 conv3d_135[0][0]                 \n",
      "__________________________________________________________________________________________________\n",
      "conv3d_150 (Conv3D)             (None, 128, 128, 128 1732        concatenate_32[0][0]             \n",
      "__________________________________________________________________________________________________\n",
      "conv3d_151 (Conv3D)             (None, 128, 128, 128 436         conv3d_150[0][0]                 \n",
      "__________________________________________________________________________________________________\n",
      "conv3d_152 (Conv3D)             (None, 128, 128, 128 218         conv3d_151[0][0]                 \n",
      "==================================================================================================\n",
      "Total params: 524,890\n",
      "Trainable params: 524,890\n",
      "Non-trainable params: 0\n",
      "__________________________________________________________________________________________________\n"
     ]
    }
   ],
   "source": [
    "NN = Model()\n",
    "inp = Input((128,128,128,1))\n",
    "learning_rate_decay = (0.001 - 0.00001) / 10\n",
    "\n",
    "#contracting path\n",
    "conv1 = Conv3D(8, (3, 3, 3), activation='relu', padding='same')(inp)\n",
    "conv1 = Conv3D(8, (3, 3, 3), activation='relu', padding='same')(conv1)\n",
    "pool1 = MaxPooling3D(pool_size=(2, 2, 2))(conv1)\n",
    "\n",
    "conv2 = Conv3D(16, (3, 3, 3), activation='relu', padding='same')(pool1)\n",
    "conv2 = Conv3D(16, (3, 3, 3), activation='relu', padding='same')(conv2)\n",
    "pool2 = MaxPooling3D(pool_size=(2, 2, 2))(conv2)\n",
    "\n",
    "conv3 = Conv3D(32, (3, 3, 3), activation='relu', padding='same')(pool2)\n",
    "conv3 = Conv3D(32, (3, 3, 3), activation='relu', padding='same')(conv3)\n",
    "pool3 = MaxPooling3D(pool_size=(2, 2, 2))(conv3)\n",
    "\n",
    "conv4 = Conv3D(64, (3, 3, 3), activation='relu', padding='same')(pool3)\n",
    "conv4 = Conv3D(64, (3, 3, 3), activation='relu', padding='same')(conv4)\n",
    "pool4 = MaxPooling3D(pool_size=(2, 2, 2))(conv4)\n",
    "\n",
    "conv5 = Conv3D(64, (3, 3, 3), activation='relu', padding='same')(pool4)\n",
    "conv5 = Conv3D(64, (3, 3, 3), activation='relu', padding='same')(conv5)\n",
    "print(conv5.shape)\n",
    "\n",
    "#expansion path\n",
    "up6 = UpSampling3D((2, 2, 2),data_format='channels_last')(conv5)\n",
    "print(up6.shape)\n",
    "up6 = concatenate([up6,conv4],axis=4)\n",
    "print(up6.shape)\n",
    "conv6 = Conv3D(16, (3, 3, 3), activation='relu', padding='same')(up6)\n",
    "print(conv6.shape)\n",
    "conv6 = Conv3D(16, (3, 3, 3), activation='relu', padding='same')(conv6)\n",
    "\n",
    "print(conv6.shape)\n",
    "up7 = UpSampling3D((2, 2, 2),data_format='channels_last')(conv6)\n",
    "up7 = concatenate([up7,conv3],axis=4)\n",
    "conv7 = Conv3D(8, (3, 3, 3), activation='relu', padding='same')(up7)\n",
    "conv7 = Conv3D(8, (3, 3, 3), activation='relu', padding='same')(conv7)\n",
    "\n",
    "print(conv7.shape)\n",
    "up8 = UpSampling3D((2, 2, 2),data_format='channels_last')(conv7)\n",
    "up8 = concatenate([up8,conv2],axis=4)\n",
    "conv8 = Conv3D(8, (3, 3, 3), activation='relu', padding='same')(up8)\n",
    "conv8 = Conv3D(8, (3, 3, 3), activation='relu', padding='same')(conv8)\n",
    "\n",
    "print(conv8.shape)\n",
    "up9 = UpSampling3D((2, 2, 2),data_format='channels_last')(conv8)\n",
    "up9 = concatenate([up9,conv1],axis=4)\n",
    "conv9 = Conv3D(4, (3, 3, 3), activation='relu', padding='same')(up9)\n",
    "conv9 = Conv3D(4, (3, 3, 3), activation='relu', padding='same')(conv9)\n",
    "\n",
    "print(conv9.shape)\n",
    "\n",
    "conv10 = Conv3D(2, (3,3,3), activation='sigmoid', padding=\"same\")(conv9)\n",
    "print(conv10.shape)\n",
    "\n",
    "out = Model(inputs=[inp], outputs=[conv10])\n",
    "\n",
    "out.summary()"
   ]
  },
  {
   "cell_type": "code",
   "execution_count": 26,
   "metadata": {},
   "outputs": [],
   "source": [
    "plot_model(out, to_file='model.png')"
   ]
  },
  {
   "cell_type": "code",
   "execution_count": 97,
   "metadata": {
    "scrolled": false
   },
   "outputs": [
    {
     "name": "stdout",
     "output_type": "stream",
     "text": [
      "(1, 1, 128, 128, 128)\n",
      "(1, 1, 128, 128, 128)\n",
      "(11, 128, 128, 128, 1)\n"
     ]
    }
   ],
   "source": [
    "#out.compile(optimizer=opt.Adam(lr = 1e-4), loss=dice_coef_loss, metrics=[dice_coef])\n",
    "#model does not work with adam optimizer\n",
    "out.compile(optimizer=keras.optimizers.SGD(lr = 0.001, decay=learning_rate_decay), loss='binary_crossentropy', metrics=['accuracy'])\n",
    "print(testInput1.shape)\n",
    "print(testLabel1.shape)\n",
    "print(np.shape(X_train))"
   ]
  },
  {
   "cell_type": "code",
   "execution_count": 28,
   "metadata": {},
   "outputs": [],
   "source": [
    "#fit1 = out.fit(np.array(X_train),np.array(y_train), batch_size=1, epochs=25, verbose=1)\n"
   ]
  },
  {
   "cell_type": "code",
   "execution_count": 101,
   "metadata": {},
   "outputs": [
    {
     "name": "stdout",
     "output_type": "stream",
     "text": [
      "Epoch 1/10\n",
      "11/11 [==============================] - 14s 1s/step - loss: 0.6562 - acc: 1.0000 - val_loss: 0.6535 - val_acc: 1.0000\n",
      "Epoch 2/10\n",
      "11/11 [==============================] - 12s 1s/step - loss: 0.6513 - acc: 0.9634 - val_loss: 0.6487 - val_acc: 1.0000\n",
      "Epoch 3/10\n",
      "11/11 [==============================] - 12s 1s/step - loss: 0.6468 - acc: 0.9661 - val_loss: 0.6438 - val_acc: 1.0000\n",
      "Epoch 4/10\n",
      "11/11 [==============================] - 12s 1s/step - loss: 0.6415 - acc: 1.0000 - val_loss: 0.6387 - val_acc: 1.0000\n",
      "Epoch 5/10\n",
      "11/11 [==============================] - 12s 1s/step - loss: 0.6363 - acc: 1.0000 - val_loss: 0.6334 - val_acc: 1.0000\n",
      "Epoch 6/10\n",
      "11/11 [==============================] - 12s 1s/step - loss: 0.6313 - acc: 0.9642 - val_loss: 0.6281 - val_acc: 1.0000\n",
      "Epoch 7/10\n",
      "11/11 [==============================] - 12s 1s/step - loss: 0.6256 - acc: 1.0000 - val_loss: 0.6225 - val_acc: 1.0000\n",
      "Epoch 8/10\n",
      "11/11 [==============================] - 12s 1s/step - loss: 0.6199 - acc: 1.0000 - val_loss: 0.6168 - val_acc: 1.0000\n",
      "Epoch 9/10\n",
      "11/11 [==============================] - 12s 1s/step - loss: 0.6140 - acc: 1.0000 - val_loss: 0.6107 - val_acc: 1.0000\n",
      "Epoch 10/10\n",
      "11/11 [==============================] - 12s 1s/step - loss: 0.6079 - acc: 1.0000 - val_loss: 0.6044 - val_acc: 1.0000\n",
      "fitted!\n"
     ]
    }
   ],
   "source": [
    "# QUESTION\n",
    "#accuracy tops at 100% VERY early, despite visually not being close to 100%\n",
    "out.fit_generator(trainingData,validation_data=validationData, epochs=10, verbose=1)\n",
    "print(\"fitted!\")\n",
    "\n",
    "#out.fit_generator(aug.flow(np.array(X_train)[0,:,:,:,:],np.array(y_train)[0,:,:,:,:],batch_size=2), validation_data=(X_test, y_test),epochs=25, verbose=1, steps_per_epoch=10)\n",
    "#print(\"fitted!\")"
   ]
  },
  {
   "cell_type": "code",
   "execution_count": 87,
   "metadata": {},
   "outputs": [],
   "source": [
    "import datetime\n",
    "\n",
    "timestamp = datetime.datetime.now().strftime('%Y-%m-%d_%H-%M-%S')\n",
    "\n",
    "#TODO make a path for this automatically\n",
    "name = \"model_\" + timestamp + \".h5\"\n",
    "modelPath = os.path.join(\"E:\\\\Patient Data Summer\\\\NN\\\\Output\\\\\", name)\n",
    "out.save(modelPath)"
   ]
  },
  {
   "cell_type": "code",
   "execution_count": 102,
   "metadata": {},
   "outputs": [
    {
     "name": "stdout",
     "output_type": "stream",
     "text": [
      "(1, 128, 128, 128, 1)\n",
      "(1, 128, 128, 128, 2)\n",
      "<class 'numpy.ndarray'>\n",
      "[[[[[0.52194303 0.4993446 ]\n",
      "    [0.5287759  0.4975671 ]\n",
      "    [0.5254356  0.4990767 ]\n",
      "    ...\n",
      "    [0.5257621  0.49942192]\n",
      "    [0.52473104 0.49939653]\n",
      "    [0.52569646 0.49751493]]\n",
      "\n",
      "   [[0.5213093  0.50091934]\n",
      "    [0.5368067  0.49918815]\n",
      "    [0.5323789  0.49936923]\n",
      "    ...\n",
      "    [0.5322343  0.499015  ]\n",
      "    [0.5295974  0.4988848 ]\n",
      "    [0.52956796 0.49551144]]\n",
      "\n",
      "   [[0.5210151  0.5028345 ]\n",
      "    [0.5368432  0.5006217 ]\n",
      "    [0.53344434 0.5008082 ]\n",
      "    ...\n",
      "    [0.5331843  0.500409  ]\n",
      "    [0.531168   0.49933892]\n",
      "    [0.5313806  0.49513873]]\n",
      "\n",
      "   ...\n",
      "\n",
      "   [[0.5205787  0.5019726 ]\n",
      "    [0.5371197  0.50028384]\n",
      "    [0.53440857 0.5003573 ]\n",
      "    ...\n",
      "    [0.5331292  0.500129  ]\n",
      "    [0.5318042  0.4987356 ]\n",
      "    [0.5320838  0.49536067]]\n",
      "\n",
      "   [[0.52039254 0.49921876]\n",
      "    [0.53756213 0.49878088]\n",
      "    [0.53648543 0.4973941 ]\n",
      "    ...\n",
      "    [0.53587806 0.4970002 ]\n",
      "    [0.53407663 0.49545398]\n",
      "    [0.5336431  0.49460623]]\n",
      "\n",
      "   [[0.5122128  0.49057624]\n",
      "    [0.5249299  0.49215356]\n",
      "    [0.5253253  0.4911819 ]\n",
      "    ...\n",
      "    [0.5255452  0.4911927 ]\n",
      "    [0.52568316 0.48975104]\n",
      "    [0.5258626  0.49153218]]]\n",
      "\n",
      "\n",
      "  [[[0.5259949  0.49026   ]\n",
      "    [0.5428164  0.48173732]\n",
      "    [0.540622   0.48318115]\n",
      "    ...\n",
      "    [0.5404955  0.48400655]\n",
      "    [0.54047954 0.48397586]\n",
      "    [0.5403178  0.48563245]]\n",
      "\n",
      "   [[0.53265095 0.49202815]\n",
      "    [0.55669254 0.4866584 ]\n",
      "    [0.555619   0.48845756]\n",
      "    ...\n",
      "    [0.5549274  0.48893678]\n",
      "    [0.5528461  0.48855105]\n",
      "    [0.54793864 0.4895358 ]]\n",
      "\n",
      "   [[0.5328099  0.492926  ]\n",
      "    [0.5575399  0.48831293]\n",
      "    [0.55726284 0.4906428 ]\n",
      "    ...\n",
      "    [0.5565586  0.49070308]\n",
      "    [0.55479825 0.48971304]\n",
      "    [0.5488902  0.4910595 ]]\n",
      "\n",
      "   ...\n",
      "\n",
      "   [[0.5325622  0.49230298]\n",
      "    [0.55784875 0.48844025]\n",
      "    [0.55841804 0.49009022]\n",
      "    ...\n",
      "    [0.5566162  0.4896161 ]\n",
      "    [0.55520177 0.48860717]\n",
      "    [0.54880077 0.4913844 ]]\n",
      "\n",
      "   [[0.5321383  0.49104854]\n",
      "    [0.5558296  0.4899009 ]\n",
      "    [0.55811137 0.48949844]\n",
      "    ...\n",
      "    [0.55776846 0.4889043 ]\n",
      "    [0.5557947  0.4875843 ]\n",
      "    [0.54941726 0.4907318 ]]\n",
      "\n",
      "   [[0.5197138  0.4852652 ]\n",
      "    [0.53184247 0.488913  ]\n",
      "    [0.532785   0.4900242 ]\n",
      "    ...\n",
      "    [0.53342533 0.49016598]\n",
      "    [0.5335668  0.48933113]\n",
      "    [0.5290763  0.494582  ]]]\n",
      "\n",
      "\n",
      "  [[[0.5298348  0.48851666]\n",
      "    [0.5496396  0.48048335]\n",
      "    [0.5490009  0.481683  ]\n",
      "    ...\n",
      "    [0.549014   0.4829514 ]\n",
      "    [0.5477047  0.4834123 ]\n",
      "    [0.5454289  0.48597488]]\n",
      "\n",
      "   [[0.53840715 0.4883243 ]\n",
      "    [0.5647317  0.48397413]\n",
      "    [0.56610847 0.4870456 ]\n",
      "    ...\n",
      "    [0.5655723  0.48728395]\n",
      "    [0.5616071  0.4885761 ]\n",
      "    [0.5539699  0.4919527 ]]\n",
      "\n",
      "   [[0.54088897 0.48732308]\n",
      "    [0.56823784 0.48370832]\n",
      "    [0.57028854 0.487455  ]\n",
      "    ...\n",
      "    [0.5702362  0.48712888]\n",
      "    [0.56568986 0.4884743 ]\n",
      "    [0.5550972  0.49284706]]\n",
      "\n",
      "   ...\n",
      "\n",
      "   [[0.5407214  0.48670524]\n",
      "    [0.56901157 0.4844531 ]\n",
      "    [0.5717856  0.48663837]\n",
      "    ...\n",
      "    [0.5708285  0.48590073]\n",
      "    [0.5664053  0.48741308]\n",
      "    [0.55474013 0.4924437 ]]\n",
      "\n",
      "   [[0.53926444 0.48667455]\n",
      "    [0.5638165  0.4861515 ]\n",
      "    [0.5676667  0.48631755]\n",
      "    ...\n",
      "    [0.5683402  0.4850085 ]\n",
      "    [0.5635521  0.48613462]\n",
      "    [0.5532542  0.49112874]]\n",
      "\n",
      "   [[0.5237461  0.4804963 ]\n",
      "    [0.5358062  0.48527014]\n",
      "    [0.5370577  0.48690242]\n",
      "    ...\n",
      "    [0.53785074 0.48758203]\n",
      "    [0.5364644  0.48851168]\n",
      "    [0.5295929  0.49570048]]]\n",
      "\n",
      "\n",
      "  ...\n",
      "\n",
      "\n",
      "  [[[0.53141123 0.48687014]\n",
      "    [0.55207205 0.47798228]\n",
      "    [0.55256534 0.47886407]\n",
      "    ...\n",
      "    [0.5521088  0.48037523]\n",
      "    [0.55049103 0.4808576 ]\n",
      "    [0.547527   0.48403317]]\n",
      "\n",
      "   [[0.54152966 0.4861086 ]\n",
      "    [0.56955874 0.48095074]\n",
      "    [0.5718518  0.484004  ]\n",
      "    ...\n",
      "    [0.5714961  0.48478046]\n",
      "    [0.56749773 0.48610944]\n",
      "    [0.55712456 0.4905354 ]]\n",
      "\n",
      "   [[0.54522884 0.4848697 ]\n",
      "    [0.5746759  0.48012567]\n",
      "    [0.5778279  0.4836774 ]\n",
      "    ...\n",
      "    [0.57835084 0.4837555 ]\n",
      "    [0.5729873  0.48562974]\n",
      "    [0.55877286 0.49097896]]\n",
      "\n",
      "   ...\n",
      "\n",
      "   [[0.54492956 0.48368025]\n",
      "    [0.574773   0.48008615]\n",
      "    [0.5785489  0.48263472]\n",
      "    ...\n",
      "    [0.577557   0.48198417]\n",
      "    [0.57220227 0.48466474]\n",
      "    [0.55789477 0.4906902 ]]\n",
      "\n",
      "   [[0.5423863  0.48438856]\n",
      "    [0.5683371  0.4831952 ]\n",
      "    [0.57273334 0.48358908]\n",
      "    ...\n",
      "    [0.5730622  0.4818213 ]\n",
      "    [0.56757414 0.48432755]\n",
      "    [0.55503005 0.4900993 ]]\n",
      "\n",
      "   [[0.52594703 0.47925603]\n",
      "    [0.5377406  0.48344958]\n",
      "    [0.5386312  0.4851996 ]\n",
      "    ...\n",
      "    [0.53908473 0.48606566]\n",
      "    [0.5370576  0.48789182]\n",
      "    [0.5293193  0.4956176 ]]]\n",
      "\n",
      "\n",
      "  [[[0.53069186 0.48649693]\n",
      "    [0.5513006  0.47955996]\n",
      "    [0.5529108  0.47981977]\n",
      "    ...\n",
      "    [0.55205214 0.48097262]\n",
      "    [0.5507116  0.4807984 ]\n",
      "    [0.5487684  0.48440453]]\n",
      "\n",
      "   [[0.54022455 0.48622245]\n",
      "    [0.56708246 0.48251265]\n",
      "    [0.5713236  0.48546788]\n",
      "    ...\n",
      "    [0.5711902  0.48615852]\n",
      "    [0.5681281  0.4861406 ]\n",
      "    [0.5589652  0.49094912]]\n",
      "\n",
      "   [[0.5434407  0.48412058]\n",
      "    [0.5710237  0.48119065]\n",
      "    [0.57596964 0.4851677 ]\n",
      "    ...\n",
      "    [0.57661986 0.4855943 ]\n",
      "    [0.57260907 0.48585412]\n",
      "    [0.5592308  0.49264356]]\n",
      "\n",
      "   ...\n",
      "\n",
      "   [[0.54378396 0.48317638]\n",
      "    [0.57087076 0.48019817]\n",
      "    [0.57633996 0.48342982]\n",
      "    ...\n",
      "    [0.57570046 0.48299396]\n",
      "    [0.57168    0.4841019 ]\n",
      "    [0.55757725 0.49162152]]\n",
      "\n",
      "   [[0.54204977 0.48403558]\n",
      "    [0.5655205  0.4824463 ]\n",
      "    [0.57149017 0.4837973 ]\n",
      "    ...\n",
      "    [0.57184273 0.48228312]\n",
      "    [0.5679904  0.48359832]\n",
      "    [0.5547265  0.49010023]]\n",
      "\n",
      "   [[0.5265756  0.47817835]\n",
      "    [0.53630555 0.4813376 ]\n",
      "    [0.53764755 0.48426926]\n",
      "    ...\n",
      "    [0.53721493 0.48572347]\n",
      "    [0.5360121  0.48731557]\n",
      "    [0.5272538  0.49605238]]]\n",
      "\n",
      "\n",
      "  [[[0.52612436 0.4750549 ]\n",
      "    [0.54594857 0.4683572 ]\n",
      "    [0.5516446  0.467355  ]\n",
      "    ...\n",
      "    [0.55158216 0.4681339 ]\n",
      "    [0.5501216  0.46961012]\n",
      "    [0.5429904  0.47858623]]\n",
      "\n",
      "   [[0.53517437 0.47117284]\n",
      "    [0.5551561  0.46918613]\n",
      "    [0.5635734  0.4730416 ]\n",
      "    ...\n",
      "    [0.5643073  0.47389734]\n",
      "    [0.5626524  0.47576654]\n",
      "    [0.5491452  0.4894633 ]]\n",
      "\n",
      "   [[0.54058385 0.4659835 ]\n",
      "    [0.560391   0.4654449 ]\n",
      "    [0.5683985  0.46967834]\n",
      "    ...\n",
      "    [0.5693436  0.47054335]\n",
      "    [0.5657129  0.47439742]\n",
      "    [0.5475949  0.49107382]]\n",
      "\n",
      "   ...\n",
      "\n",
      "   [[0.5412168  0.46535975]\n",
      "    [0.55922455 0.46588752]\n",
      "    [0.5668781  0.4696286 ]\n",
      "    ...\n",
      "    [0.566687   0.46982646]\n",
      "    [0.56305563 0.47391778]\n",
      "    [0.5450633  0.49070847]]\n",
      "\n",
      "   [[0.5394417  0.4696611 ]\n",
      "    [0.5535949  0.47247636]\n",
      "    [0.5600273  0.47523394]\n",
      "    ...\n",
      "    [0.5601376  0.47465423]\n",
      "    [0.5563662  0.4777205 ]\n",
      "    [0.54017836 0.49131468]]\n",
      "\n",
      "   [[0.5277812  0.4721955 ]\n",
      "    [0.52835965 0.47844493]\n",
      "    [0.5289322  0.48218894]\n",
      "    ...\n",
      "    [0.52829134 0.48295745]\n",
      "    [0.5261495  0.4854525 ]\n",
      "    [0.5151988  0.49781638]]]]]\n",
      "[0.6044420003890991, 0.9999701976776123]\n"
     ]
    }
   ],
   "source": [
    "# QUESTION\n",
    "#why is prediction instant, and outputs nothing?\n",
    "\n",
    "score = out.evaluate_generator(validationData)\n",
    "print(np.shape(X_test))\n",
    "outputSeg=out.predict(np.array(X_test))\n",
    "#outputSeg2=out.predict_generator(np.array(y_test))\n",
    "print(np.shape(outputSeg))\n",
    "print(type(outputSeg))\n",
    "#print(score)\n",
    "print(outputSeg)\n",
    "print(score)"
   ]
  },
  {
   "cell_type": "code",
   "execution_count": 32,
   "metadata": {},
   "outputs": [
    {
     "name": "stdout",
     "output_type": "stream",
     "text": [
      "0.39563426\n",
      "0.60284454\n"
     ]
    }
   ],
   "source": [
    "print(np.amin(outputSeg))\n",
    "print(np.amax(outputSeg))"
   ]
  },
  {
   "cell_type": "code",
   "execution_count": 33,
   "metadata": {},
   "outputs": [
    {
     "ename": "NameError",
     "evalue": "name 'outputSeg2' is not defined",
     "output_type": "error",
     "traceback": [
      "\u001b[1;31m---------------------------------------------------------------------------\u001b[0m",
      "\u001b[1;31mNameError\u001b[0m                                 Traceback (most recent call last)",
      "\u001b[1;32m<ipython-input-33-1adb567e5c73>\u001b[0m in \u001b[0;36m<module>\u001b[1;34m\u001b[0m\n\u001b[1;32m----> 1\u001b[1;33m \u001b[0mabsOutputSeg\u001b[0m \u001b[1;33m=\u001b[0m \u001b[0mnp\u001b[0m\u001b[1;33m.\u001b[0m\u001b[0mfabs\u001b[0m\u001b[1;33m(\u001b[0m\u001b[0moutputSeg2\u001b[0m\u001b[1;33m)\u001b[0m\u001b[1;33m\u001b[0m\u001b[1;33m\u001b[0m\u001b[0m\n\u001b[0m\u001b[0;32m      2\u001b[0m \u001b[1;33m\u001b[0m\u001b[0m\n\u001b[0;32m      3\u001b[0m \u001b[0mprint\u001b[0m\u001b[1;33m(\u001b[0m\u001b[0mnp\u001b[0m\u001b[1;33m.\u001b[0m\u001b[0mamax\u001b[0m\u001b[1;33m(\u001b[0m\u001b[0mabsOutputSeg\u001b[0m\u001b[1;33m)\u001b[0m\u001b[1;33m)\u001b[0m\u001b[1;33m\u001b[0m\u001b[1;33m\u001b[0m\u001b[0m\n\u001b[0;32m      4\u001b[0m \u001b[0mbinaryMin\u001b[0m\u001b[1;33m=\u001b[0m\u001b[0mnp\u001b[0m\u001b[1;33m.\u001b[0m\u001b[0mamin\u001b[0m\u001b[1;33m(\u001b[0m\u001b[0mabsOutputSeg\u001b[0m\u001b[1;33m)\u001b[0m\u001b[1;33m\u001b[0m\u001b[1;33m\u001b[0m\u001b[0m\n\u001b[0;32m      5\u001b[0m \u001b[1;33m\u001b[0m\u001b[0m\n",
      "\u001b[1;31mNameError\u001b[0m: name 'outputSeg2' is not defined"
     ]
    }
   ],
   "source": [
    "absOutputSeg = np.fabs(outputSeg2)\n",
    "\n",
    "print(np.amax(absOutputSeg))\n",
    "binaryMin=np.amin(absOutputSeg)\n",
    "\n",
    "normOutputSeg = bnormalize(outputSeg)\n",
    "\n",
    "#TODO\n",
    "#automatically determine the divisor for thresholding\n",
    "#this is the only non-automatic part\n",
    "binaryOutputSegTest = (outputSeg < 0.3229).astype(np.uint8)\n",
    "binaryOutputSeg = (outputSeg2 < binaryMin+0.003).astype(np.uint8)\n",
    "print(binaryOutputSeg)\n",
    "print(type(binaryOutputSeg))\n",
    "print(np.shape(binaryOutputSeg))\n",
    "print(binaryOutputSegTest)\n",
    "print(outputSeg)"
   ]
  },
  {
   "cell_type": "code",
   "execution_count": 35,
   "metadata": {},
   "outputs": [],
   "source": [
    "binaryOutputSeg = (outputSeg < 0.5).astype(np.uint8)\n"
   ]
  },
  {
   "cell_type": "code",
   "execution_count": null,
   "metadata": {},
   "outputs": [],
   "source": [
    "from mpl_toolkits import mplot3d\n",
    "\n",
    "timestamp2 = datetime.datetime.now().strftime('%Y-%m-%d_%H-%M-%S')\n",
    "ppath = os.path.join(\"E:\\\\Patient Data Summer\\\\NN\\\\Output\\\\\", timestamp2 + \".npy\")\n",
    "np.save(ppath,outputSeg)"
   ]
  },
  {
   "cell_type": "code",
   "execution_count": 36,
   "metadata": {},
   "outputs": [
    {
     "name": "stdout",
     "output_type": "stream",
     "text": [
      "(1, 128, 128, 128, 1)\n"
     ]
    },
    {
     "data": {
      "text/plain": [
       "<matplotlib.image.AxesImage at 0x2786522c9e8>"
      ]
     },
     "execution_count": 36,
     "metadata": {},
     "output_type": "execute_result"
    },
    {
     "data": {
      "image/png": "[encoded data removed]",
      "text/plain": [
       "<Figure size 432x288 with 1 Axes>"
      ]
     },
     "metadata": {
      "needs_background": "light"
     },
     "output_type": "display_data"
    }
   ],
   "source": [
    "#original CT\n",
    "lastNrrd=np.array(X_test)\n",
    "print(np.shape(lastNrrd))\n",
    "plt.imshow(lastNrrd[0,:,85,:,0])"
   ]
  },
  {
   "cell_type": "code",
   "execution_count": 37,
   "metadata": {},
   "outputs": [
    {
     "name": "stdout",
     "output_type": "stream",
     "text": [
      "(1, 128, 128, 128, 1)\n"
     ]
    },
    {
     "data": {
      "text/plain": [
       "<matplotlib.image.AxesImage at 0x278652cf0b8>"
      ]
     },
     "execution_count": 37,
     "metadata": {},
     "output_type": "execute_result"
    },
    {
     "data": {
      "image/png": "[encoded data removed]",
      "text/plain": [
       "<Figure size 432x288 with 1 Axes>"
      ]
     },
     "metadata": {
      "needs_background": "light"
     },
     "output_type": "display_data"
    }
   ],
   "source": [
    "#human segmentation\n",
    "lastSeg=np.array(y_test)\n",
    "print(np.shape(lastSeg))\n",
    "plt.imshow(lastSeg[0,:,85,:,0])"
   ]
  },
  {
   "cell_type": "code",
   "execution_count": null,
   "metadata": {},
   "outputs": [],
   "source": [
    "#Neural network segmentation converted to binary\n",
    "plt.imshow(np.array(binaryOutputSeg[0,:,85,:,0]))"
   ]
  },
  {
   "cell_type": "code",
   "execution_count": 103,
   "metadata": {},
   "outputs": [
    {
     "data": {
      "text/plain": [
       "<matplotlib.image.AxesImage at 0x27905f498d0>"
      ]
     },
     "execution_count": 103,
     "metadata": {},
     "output_type": "execute_result"
    },
    {
     "data": {
      "image/png": "[encoded data removed]",
      "text/plain": [
       "<Figure size 432x288 with 1 Axes>"
      ]
     },
     "metadata": {
      "needs_background": "light"
     },
     "output_type": "display_data"
    }
   ],
   "source": [
    "# output from running NN on X_test\n",
    "# QUESTION\n",
    "#even after implementing the image generator it still isnt\n",
    "#distinguishing colon from the outside air or small intestines\n",
    "\n",
    "plt.imshow(np.array(outputSeg[0,:,85,:,0]))"
   ]
  },
  {
   "cell_type": "code",
   "execution_count": null,
   "metadata": {},
   "outputs": [],
   "source": [
    "plt.imshow(np.array(binaryOutputSegTest[0,:,85,:,0]))"
   ]
  },
  {
   "cell_type": "code",
   "execution_count": null,
   "metadata": {},
   "outputs": [],
   "source": [
    "# output from running NN on y_test\n",
    "#aka output segmentation before binarization\n",
    "plt.imshow(np.array(outputSeg2[0,:,85,:,0]))"
   ]
  },
  {
   "cell_type": "code",
   "execution_count": null,
   "metadata": {},
   "outputs": [],
   "source": [
    "import itk\n",
    "#itk.Image.GetTypes()\n",
    "floatBinaryOutputSeg = binaryOutputSeg.astype(np.float)\n",
    "absBinaryOutputSeg = np.fabs(binaryOutputSeg)\n",
    "timestamp3 = datetime.datetime.now().strftime('%Y-%m-%d_%H-%M-%S')\n",
    "image = itk.GetImageFromArray(np.array(floatBinaryOutputSeg))\n",
    "itk.imwrite(image, timestamp3+'.nrrd')"
   ]
  }
 ],
 "metadata": {
  "kernelspec": {
   "display_name": "Python 3",
   "language": "python",
   "name": "python3"
  },
  "language_info": {
   "codemirror_mode": {
    "name": "ipython",
    "version": 3
   },
   "file_extension": ".py",
   "mimetype": "text/x-python",
   "name": "python",
   "nbconvert_exporter": "python",
   "pygments_lexer": "ipython3",
   "version": "3.7.3"
  }
 },
 "nbformat": 4,
 "nbformat_minor": 2
}
