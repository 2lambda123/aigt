{
 "cells": [
  {
   "cell_type": "code",
   "execution_count": 1,
   "metadata": {},
   "outputs": [
    {
     "name": "stderr",
     "output_type": "stream",
     "text": [
      "Using TensorFlow backend.\n"
     ]
    },
    {
     "name": "stdout",
     "output_type": "stream",
     "text": [
      "tf\n"
     ]
    }
   ],
   "source": [
    "#not all are necessary, but are useful for debugging\n",
    "\n",
    "#as well, there are problems with os.path that occur \n",
    "#if I don't reimport it multiple times\n",
    "\n",
    "import numpy as np\n",
    "import matplotlib.pyplot as plt\n",
    "from matplotlib import image\n",
    "from PIL import Image\n",
    "import os\n",
    "import os.path\n",
    "from os import path\n",
    "import tensorflow as tf\n",
    "from keras.models import Sequential, Model \n",
    "from keras.layers import *\n",
    "import keras.backend as k\n",
    "import keras.utils\n",
    "from keras import optimizers as opt\n",
    "from sklearn.model_selection import train_test_split\n",
    "from keras.utils import plot_model\n",
    "from keras.preprocessing.image import ImageDataGenerator\n",
    "from skimage import measure\n",
    "import math\n",
    "\n",
    "print(k.image_dim_ordering())\n",
    "\n",
    "k.set_image_dim_ordering('tf')\n",
    "\n",
    "gpu_options = tf.GPUOptions(allow_growth=True)\n",
    "session = tf.InteractiveSession(config=tf.ConfigProto(gpu_options=gpu_options))"
   ]
  },
  {
   "cell_type": "code",
   "execution_count": 2,
   "metadata": {},
   "outputs": [],
   "source": [
    "def normalize(arr):\n",
    "    arrMin = np.amin(arr)\n",
    "    arrMax = np.amax(arr)\n",
    "    print(arrMin)\n",
    "    print(arrMax)\n",
    "    if arrMax != 0:\n",
    "        arr = np.subtract(arr,arrMin)\n",
    "        #print(arr)\n",
    "        arrMax = np.amax(arr)\n",
    "        arr = np.divide(arr,arrMax)\n",
    "        #print(arr)\n",
    "    else:\n",
    "        print(\"error, max value is zero\")\n",
    "    print(\"normalized\")\n",
    "    return arr"
   ]
  },
  {
   "cell_type": "code",
   "execution_count": 3,
   "metadata": {},
   "outputs": [],
   "source": [
    "# Batch Generator\n",
    "\n",
    "import keras.utils\n",
    "import scipy.ndimage\n",
    "\n",
    "batch_size=3\n",
    "max_rotation_angle = 10\n",
    "max_shift = 0.2\n",
    "max_zoom = 0.2\n",
    "\n",
    "class BatchGenerator(keras.utils.Sequence):\n",
    "    \n",
    "    def __init__(self,\n",
    "                 x_set,\n",
    "                 y_set,\n",
    "                 batch_size,\n",
    "                 image_dimensions=(128, 128, 128),\n",
    "                 shuffle=True,\n",
    "                 n_channels=1,\n",
    "                 n_classes=2):\n",
    "        self.x = x_set\n",
    "        self.y = y_set\n",
    "        self.batch_size = batch_size\n",
    "        self.image_dimensions = image_dimensions\n",
    "        print(\"Generator created for image size: {}\".format(self.image_dimensions))\n",
    "        self.shuffle = shuffle\n",
    "        self.n_channels = n_channels\n",
    "        self.n_classes = n_classes\n",
    "        self.number_of_images = self.x.shape[0]\n",
    "        self.indices = np.arange(self.number_of_images)\n",
    "        if self.shuffle == True:\n",
    "            np.random.shuffle(self.indices)\n",
    "            \n",
    "        #print(self.x.shape)\n",
    "        #print(self.y.shape)\n",
    "            \n",
    "    def __len__(self):\n",
    "        return int(np.floor(self.number_of_images / self.batch_size))\n",
    "    \n",
    "    def on_epoch_end(self):\n",
    "        self.indices = np.arange(self.number_of_images)\n",
    "        if self.shuffle == True:\n",
    "            np.random.shuffle(self.indices)\n",
    "    \n",
    "    def __getitem__(self, index):\n",
    "        batch_indices = self.indices[index*self.batch_size : (index+1)*self.batch_size]\n",
    "        x = np.empty((self.batch_size, *self.image_dimensions, self.n_channels))\n",
    "        y = np.empty((self.batch_size, *self.image_dimensions))\n",
    "        #print(batch_indices)\n",
    "        \n",
    "        for i in range(self.batch_size):\n",
    "            flip_flag = np.random.randint(2)\n",
    "            #print(i)\n",
    "            if flip_flag == 1:\n",
    "                x[i,:,:,:,:] = np.flip(self.x[batch_indices[i],:,:,:,:], axis=0)\n",
    "                y[i,:,:,:]   = np.flip(self.y[batch_indices[i],:,:,:,0], axis=0)\n",
    "            else:\n",
    "                x[i,:,:,:,:] = self.x[batch_indices[i],:,:,:,:]\n",
    "                y[i,:,:,:]   = self.y[batch_indices[i],:,:,:,0]\n",
    "            \n",
    "        # Rotations\n",
    "        \n",
    "        x_rot = np.copy(x)\n",
    "        y_rot = np.copy(y)\n",
    "            \n",
    "        for i in range(self.batch_size):\n",
    "            #print(\"aug\",i)\n",
    "            angle_x = np.random.randint(-max_rotation_angle, max_rotation_angle)\n",
    "            x_rot[i,:,:,:,:] = scipy.ndimage.interpolation.rotate(\n",
    "                x[i,:,:,:,:], angle_x, (1,2), False, mode=\"constant\", cval=0, order=0)\n",
    "            y_rot[i,:,:,:] = scipy.ndimage.interpolation.rotate(\n",
    "                y[i,:,:,:], angle_x, (1,2), False, mode=\"constant\", cval=0, order=0)\n",
    "        \n",
    "            #angle_y = np.random.randint(-max_rotation_angle, max_rotation_angle)\n",
    "            #x_rot = scipy.ndimage.interpolation.rotate(x, angle_y, (0,2), False, mode=\"constant\", cval=0, order=0)\n",
    "            #y_rot = scipy.ndimage.interpolation.rotate(y, angle_y, (0,2), False, mode=\"constant\", cval=0, order=0)\n",
    "\n",
    "            #angle_z = np.random.randint(-max_rotation_angle, max_rotation_angle)\n",
    "            #x_rot = scipy.ndimage.interpolation.rotate(x, angle_z, (0,1), False, mode=\"constant\", cval=0, order=0)\n",
    "            #y_rot = scipy.ndimage.interpolation.rotate(y, angle_z, (0,1), False, mode=\"constant\", cval=0, order=0)\n",
    "        \n",
    "        # shift\n",
    "        \n",
    "        shift = np.random.uniform(-max_shift, max_shift, size=5)\n",
    "        shift[0] = 0.0\n",
    "        shift[4] = 0.0\n",
    "        # x_shift = scipy.ndimage.interpolation.shift(x_rot, shift)\n",
    "        # y_shift = scipy.ndimage.interpolation.shift(y_rot, shift[:4])\n",
    "        \n",
    "        # make sure values are between 0 and 1\n",
    "        \n",
    "        # x_aug = np.clip(x_shift, 0.0, 1.0)\n",
    "        # y_aug = np.clip(y_shift, 0.0, 1.0)\n",
    "        \n",
    "        x_aug = np.clip(x_rot, 0.0, 1.0)\n",
    "        y_aug = np.clip(y_rot, 0.0, 1.0)\n",
    "        \n",
    "        # convert segmentation to one-hot encoding\n",
    "        \n",
    "        y_onehot = keras.utils.to_categorical(y_aug, self.n_classes)\n",
    "\n",
    "        return x_aug, y_onehot"
   ]
  },
  {
   "cell_type": "code",
   "execution_count": 4,
   "metadata": {},
   "outputs": [],
   "source": [
    "num_classes = 2\n",
    "filter_multiplier = 20\n",
    "\n",
    "def nvidia_unet(input_size=128, num_classes=num_classes):\n",
    "    input_ = Input((input_size, input_size, input_size, 1))\n",
    "    skips = []\n",
    "    output = input_\n",
    "    c = num_classes\n",
    "    \n",
    "    num_layers = int(np.floor(np.log2(input_size)))\n",
    "    down_conv_kernel_sizes = np.zeros([num_layers], dtype=int)\n",
    "    down_filter_numbers = np.zeros([num_layers], dtype=int)\n",
    "    up_conv_kernel_sizes = np.zeros([num_layers], dtype=int)\n",
    "    up_filter_numbers = np.zeros([num_layers], dtype=int)\n",
    "    \n",
    "    for layer_index in range(num_layers):\n",
    "        down_conv_kernel_sizes[layer_index] = int(3)\n",
    "        down_filter_numbers[layer_index] = int( (layer_index + 1) * filter_multiplier + num_classes )\n",
    "        up_conv_kernel_sizes[layer_index] = int(4)\n",
    "        up_filter_numbers[layer_index] = int( (num_layers - layer_index - 1) * filter_multiplier + num_classes )\n",
    "    \n",
    "    print(\"Number of layers:       {}\".format(num_layers))\n",
    "    print(\"Filters in layers down: {}\".format(down_filter_numbers))\n",
    "    print(\"Filters in layers up:   {}\".format(up_filter_numbers))\n",
    "    \n",
    "    for shape, filters in zip(down_conv_kernel_sizes, down_filter_numbers):\n",
    "        skips.append(output)\n",
    "        output= Conv3D(filters, (shape, shape, shape), strides=2, padding=\"same\", activation=\"relu\")(output)\n",
    "        \n",
    "    for shape, filters in zip(up_conv_kernel_sizes, up_filter_numbers):\n",
    "        output = keras.layers.UpSampling3D()(output)\n",
    "        skip_output = skips.pop()\n",
    "        output = concatenate([output, skip_output], axis=4)\n",
    "\n",
    "        if filters != num_classes:\n",
    "            output = Conv3D(filters, (shape, shape, shape), activation=\"relu\", padding=\"same\")(output)\n",
    "            output = BatchNormalization(momentum=.9)(output)\n",
    "        else:\n",
    "            output = Conv3D(filters, (shape, shape, shape), activation=\"sigmoid\", padding=\"same\")(output)\n",
    "    \n",
    "    assert len(skips) == 0\n",
    "    return Model([input_], [output])"
   ]
  },
  {
   "cell_type": "code",
   "execution_count": 5,
   "metadata": {},
   "outputs": [
    {
     "name": "stdout",
     "output_type": "stream",
     "text": [
      "95 nrrds found\n",
      "95 downsized file paths created\n",
      "95 normalized file paths created\n"
     ]
    }
   ],
   "source": [
    "#computer specific paths\n",
    "#change as needed\n",
    "rootPath = \"E:\\\\Patient Data Summer\\\\NN\\\\\"\n",
    "nrrdPath = \"E:\\\\Patient Data Summer\\\\NN\\\\Nrrds\\\\\"\n",
    "segPath = \"E:\\\\Patient Data Summer\\\\NN\\\\Segs\\\\\"\n",
    "outputPath = \"E:\\\\Patient Data Summer\\\\NN\\\\Output\\\\\"\n",
    "\n",
    "nrrdFilePaths = []\n",
    "nrrdFileNames = []\n",
    "preNormalizedFilePaths = []\n",
    "normalizedFilePaths = []\n",
    "normalizedFileNames = []\n",
    "\n",
    "labelFilePaths = []\n",
    "\n",
    "for root, dirs, files in os.walk(nrrdPath):\n",
    "        for filename in files:\n",
    "            if filename.endswith(\"normalized.npy\") or filename.endswith(\"5dim.npy\"):\n",
    "                continue\n",
    "            elif filename.endswith(\".npy\"):\n",
    "                path=os.path.join(root,filename)\n",
    "                #print(\"found\",path)\n",
    "                a = np.load(path)\n",
    "                nrrdFilePaths.append(path)\n",
    "                #very messy, but is necessary to weed out the normalized images\n",
    "                if filename.endswith(\"normalized.npy\") or filename.endswith(\"5dim.npy\"):\n",
    "                    continue\n",
    "                elif filename.endswith(\".npy\"):\n",
    "                    noExtension = filename[:-4]\n",
    "                    nrrdFileNames.append(noExtension)\n",
    "                    normalizedFileNames.append(noExtension)\n",
    "                    newExtension = noExtension + '_normalized.npy'\n",
    "                    outPutFileName = os.path.join(root,newExtension)\n",
    "                    normalizedFilePaths.append(outPutFileName)\n",
    "                    \n",
    "                    preNewExtension = noExtension + '_pnormalized.npy'\n",
    "                    preOutputFileName = os.path.join(root,preNewExtension)\n",
    "                    preNormalizedFilePaths.append(preOutputFileName)\n",
    "                \n",
    "print(len(nrrdFilePaths),\"nrrds found\")\n",
    "print(len(preNormalizedFilePaths),\"downsized file paths created\")\n",
    "print(len(normalizedFilePaths),\"normalized file paths created\")"
   ]
  },
  {
   "cell_type": "code",
   "execution_count": 6,
   "metadata": {
    "scrolled": true
   },
   "outputs": [
    {
     "name": "stdout",
     "output_type": "stream",
     "text": [
      "95 downsized label paths created\n"
     ]
    }
   ],
   "source": [
    "#get labels\n",
    "#I dont normalize these because they are based on binary label maps\n",
    "downsizedLabelFilePaths=[]\n",
    "labelFilePaths=[]\n",
    "for root, dirs, files in os.walk(segPath):\n",
    "        for filename in files:\n",
    "            if filename.endswith(\"Label.npy\"):                \n",
    "                noExtension = filename[:-4]\n",
    "                newExtension = noExtension + '_downsized.npy'\n",
    "                outPutFileName = os.path.join(root,newExtension)\n",
    "                downsizedLabelFilePaths.append(outPutFileName)\n",
    "                \n",
    "                path=os.path.join(root,filename)\n",
    "                labelFilePaths.append(path)\n",
    "print(len(downsizedLabelFilePaths),\"downsized label paths created\")"
   ]
  },
  {
   "cell_type": "code",
   "execution_count": 7,
   "metadata": {},
   "outputs": [
    {
     "name": "stdout",
     "output_type": "stream",
     "text": [
      "95 images skipped\n",
      "0 images downsized\n"
     ]
    }
   ],
   "source": [
    "#downsize CTs\n",
    "#this cell does not work unless I import these again\n",
    "#not entirely sure why\n",
    "import os\n",
    "import os.path\n",
    "from os import path\n",
    "from scipy.ndimage import zoom\n",
    "\n",
    "#preNormalized AKA downsized\n",
    "imageZResize = []\n",
    "nnnn=0\n",
    "skippedImageDownsizeCount=0\n",
    "imageDownsizeCount=0\n",
    "\n",
    "for filePath in preNormalizedFilePaths:\n",
    "    if path.exists(filePath):\n",
    "        skippedImageDownsizeCount+=1\n",
    "        \n",
    "    elif not path.exists(filePath):\n",
    "        file=nrrdFilePaths[nnnn]\n",
    "        print(file)\n",
    "        arr = np.load(file)\n",
    "        arr = zoom(arr, (0.25,0.25,0.25))\n",
    "        \n",
    "        shape=arr.shape\n",
    "        zAxis=(shape[0])\n",
    "        resize=128/zAxis\n",
    "        imageZResize.append(resize)\n",
    "        arr=zoom(arr, (resize,1,1))\n",
    "        print(arr.shape)\n",
    "        \n",
    "        np.save(filePath,arr)\n",
    "        imageDownsizeCount+=1\n",
    "    nnnn+=1\n",
    "\n",
    "print(skippedImageDownsizeCount,\"images skipped\")\n",
    "print(imageDownsizeCount,\"images downsized\")"
   ]
  },
  {
   "cell_type": "code",
   "execution_count": 8,
   "metadata": {},
   "outputs": [
    {
     "name": "stdout",
     "output_type": "stream",
     "text": [
      "95 labels skipped\n",
      "0 labels downsized\n"
     ]
    }
   ],
   "source": [
    "#downsize labels\n",
    "import os\n",
    "import os.path\n",
    "from os import path\n",
    "\n",
    "labelZResize=[]\n",
    "nnnnn=0\n",
    "skippedLabelDownsizeCount=0\n",
    "labelDownsizeCount=0\n",
    "\n",
    "for filePath in downsizedLabelFilePaths:\n",
    "    #print(e)\n",
    "    if path.exists(filePath):\n",
    "        skippedLabelDownsizeCount+=1\n",
    "        \n",
    "    elif not path.exists(filePath):\n",
    "        file=labelFilePaths[nnnnn]\n",
    "        print(file)\n",
    "        arr = np.load(file)\n",
    "        arr = zoom(arr, (0.25,0.25,0.25))\n",
    "        \n",
    "        shape=arr.shape\n",
    "        zAxis=(shape[0])\n",
    "        resize=128/zAxis\n",
    "        labelZResize.append(resize)\n",
    "        arr=zoom(arr, (resize,1,1))\n",
    "        print(arr.shape)\n",
    "        \n",
    "        np.save(filePath,arr)\n",
    "        labelDownsizeCount+=1\n",
    "    nnnnn+=1\n",
    "    \n",
    "print(skippedLabelDownsizeCount,\"labels skipped\")\n",
    "print(labelDownsizeCount,\"labels downsized\")"
   ]
  },
  {
   "cell_type": "code",
   "execution_count": 9,
   "metadata": {
    "scrolled": true
   },
   "outputs": [
    {
     "name": "stdout",
     "output_type": "stream",
     "text": [
      "95 scans skipped\n",
      "0 scans normalized\n"
     ]
    }
   ],
   "source": [
    "#create the normalized images\n",
    "skippedNormalizedCount=0\n",
    "normalizedCount=0\n",
    "\n",
    "n=0\n",
    "for filePath in normalizedFilePaths:\n",
    "    #print(e)\n",
    "    if path.exists(filePath):\n",
    "        skippedNormalizedCount+=1\n",
    "        \n",
    "    elif not path.exists(filePath):\n",
    "        file=preNormalizedFilePaths[n]\n",
    "        arr = np.load(file)\n",
    "        normalized = normalize(arr)\n",
    "        np.save(filePath,normalized)\n",
    "        normalizedCount+=1\n",
    "    n+=1\n",
    "    \n",
    "print(skippedNormalizedCount,\"scans skipped\")\n",
    "print(normalizedCount,\"scans normalized\")"
   ]
  },
  {
   "cell_type": "code",
   "execution_count": 10,
   "metadata": {},
   "outputs": [],
   "source": [
    "eps = 2\n",
    "smooth = 1\n",
    "lam = 1\n",
    "\n",
    "def dice_coef(y_true, y_pred):\n",
    "    y_true_f = k.flatten(y_true)\n",
    "    y_pred_f = k.flatten(y_pred)\n",
    "    intersection = k.sum(y_true_f * y_pred_f)\n",
    "    \n",
    "    return (2 * intersection + smooth) / (k.sum(y_true_f) + k.sum(y_pred_f) + smooth)\n",
    "\n",
    "def custom_binary_crossentropy(y_true,y_pred):\n",
    "    #experimental binary crossentropy loss metric\n",
    "    #which takes into account the amount of islands\n",
    "    #not working and therefore\n",
    "    #unused at the time of writing\n",
    "    bc = keras.losses.binary_crossentropy(y_true, y_pred)\n",
    "    islands = num_islands(bc,0)\n",
    "    loss = bc*(K.log(islands+eps))**lam\n",
    "    return (loss)"
   ]
  },
  {
   "cell_type": "code",
   "execution_count": 11,
   "metadata": {},
   "outputs": [
    {
     "name": "stdout",
     "output_type": "stream",
     "text": [
      "95 scans skipped\n",
      "0 scans given an extra dimension\n"
     ]
    }
   ],
   "source": [
    "image5Dim = []\n",
    "image5DimPaths = []\n",
    "imageSkippedCount = 0\n",
    "image5DimmedCount = 0\n",
    "\n",
    "n1=0\n",
    "\n",
    "for filePath in normalizedFilePaths:\n",
    "    filePath = filePath[:-4]\n",
    "    filePath = filePath + '_5dim.npy'\n",
    "    image5DimPaths.append(filePath)\n",
    "\n",
    "for filePath in image5DimPaths:\n",
    "    if path.exists(filePath):\n",
    "        arr=np.load(filePath)\n",
    "        image5Dim.append(arr)\n",
    "        imageSkippedCount+=1\n",
    "        \n",
    "    elif not path.exists(filePath):\n",
    "        file=normalizedFilePaths[n1]\n",
    "        print(file)\n",
    "        arr=np.load(file)\n",
    "        arr=arr[...,np.newaxis]\n",
    "        np.save(image5DimPaths[n1],arr)\n",
    "        \n",
    "        print(np.shape(arr))\n",
    "        image5Dim.append(arr)\n",
    "        image5DimmedCount+=1\n",
    "    n1+=1\n",
    "    \n",
    "print(imageSkippedCount,\"scans skipped\")\n",
    "print(image5DimmedCount,\"scans given an extra dimension\")"
   ]
  },
  {
   "cell_type": "code",
   "execution_count": 12,
   "metadata": {},
   "outputs": [
    {
     "name": "stdout",
     "output_type": "stream",
     "text": [
      "95 labels skipped\n",
      "0 labels given an extra dimension\n"
     ]
    }
   ],
   "source": [
    "label5Dim = []\n",
    "label5DimPaths = []\n",
    "label5DimmedCount = 0\n",
    "labelSkippedCount = 0\n",
    "\n",
    "n2=0\n",
    "\n",
    "for filePath in downsizedLabelFilePaths:\n",
    "    filePath = filePath[:-4]\n",
    "    filePath = filePath + '_5dim.npy'\n",
    "    label5DimPaths.append(filePath)\n",
    "\n",
    "for filePath in label5DimPaths:\n",
    "    if path.exists(filePath):\n",
    "        arr=np.load(filePath)\n",
    "        label5Dim.append(arr)\n",
    "        labelSkippedCount+=1\n",
    "        \n",
    "    elif not path.exists(filePath):\n",
    "        file=downsizedLabelFilePaths[n2]\n",
    "        print(file)\n",
    "        arr=np.load(file)\n",
    "        arr=arr[...,np.newaxis]\n",
    "        np.save(label5DimPaths[n2],arr)\n",
    "        \n",
    "        print(np.shape(arr))\n",
    "        label5Dim.append(arr)\n",
    "        label5DimmedCount +=1\n",
    "    n2+=1\n",
    "\n",
    "print(labelSkippedCount,\"labels skipped\")\n",
    "print(label5DimmedCount,\"labels given an extra dimension\")"
   ]
  },
  {
   "cell_type": "code",
   "execution_count": 13,
   "metadata": {},
   "outputs": [
    {
     "name": "stdout",
     "output_type": "stream",
     "text": [
      "(95, 128, 128, 128, 1)\n",
      "(95, 128, 128, 128, 1)\n"
     ]
    }
   ],
   "source": [
    "print(np.shape(image5Dim))\n",
    "print(np.shape(label5Dim))"
   ]
  },
  {
   "cell_type": "code",
   "execution_count": 16,
   "metadata": {},
   "outputs": [],
   "source": [
    "size=np.array(image5Dim).shape[1:4]"
   ]
  },
  {
   "cell_type": "code",
   "execution_count": 17,
   "metadata": {},
   "outputs": [
    {
     "name": "stdout",
     "output_type": "stream",
     "text": [
      "(94, 128, 128, 128, 1)\n",
      "(94, 128, 128, 128, 1)\n"
     ]
    }
   ],
   "source": [
    "X_train, X_test, y_train, y_test = train_test_split (image5Dim, label5Dim, test_size = 0.01)\n",
    "\n",
    "print(np.shape(X_train))\n",
    "print(np.shape(y_train))"
   ]
  },
  {
   "cell_type": "code",
   "execution_count": 64,
   "metadata": {},
   "outputs": [],
   "source": [
    "max_learning_rate = 0.001\n",
    "min_learning_rate = 0.0001\n",
    "num_epochs = 20\n",
    "\n",
    "learning_rate_decay = (max_learning_rate - min_learning_rate) / num_epochs\n",
    "\n",
    "#set initial values as very easy to beat\n",
    "#so the first iteration will qualify for all of these\n",
    "prev_max_acc = np.full((num_epochs), 0, dtype=int)\n",
    "prev_min_acc = np.full((num_epochs), 1, dtype=int)\n",
    "\n",
    "prev_max_loss = np.full((num_epochs), 0, dtype=int)\n",
    "prev_min_loss = np.full((num_epochs), 1, dtype=int)"
   ]
  },
  {
   "cell_type": "code",
   "execution_count": 19,
   "metadata": {},
   "outputs": [],
   "source": [
    "accuracyLog = []"
   ]
  },
  {
   "cell_type": "code",
   "execution_count": 20,
   "metadata": {},
   "outputs": [],
   "source": [
    "import gc\n",
    "gc.collect()\n",
    "tf.InteractiveSession.close(session)"
   ]
  },
  {
   "cell_type": "code",
   "execution_count": null,
   "metadata": {},
   "outputs": [],
   "source": [
    "#output hidden as it is very long\n",
    "#but it has been run\n",
    "for iteration in range((len(image5Dim))):\n",
    "    \n",
    "    import tensorflow as tf\n",
    "\n",
    "    k.set_image_dim_ordering('tf')\n",
    "    gpu_options = tf.GPUOptions(allow_growth=True)\n",
    "    session = tf.InteractiveSession(config=tf.ConfigProto(gpu_options=gpu_options))\n",
    "\n",
    "    X_test2 = image5Dim[iteration]\n",
    "    X_test2 = X_test2[np.newaxis,...]\n",
    "    newImage5Dim = np.array(np.delete(image5Dim,iteration,axis=0))\n",
    "    \n",
    "    y_test2 = label5Dim[iteration]\n",
    "    y_test2 = y_test2[np.newaxis,...]\n",
    "    newLabel5Dim = np.array(np.delete(label5Dim,iteration,axis=0))\n",
    "    \n",
    "    \n",
    "    trainingData = BatchGenerator(np.array(newImage5Dim),np.array(newLabel5Dim),image_dimensions=(size),batch_size=3)\n",
    "    validationData = BatchGenerator(np.array(X_test2),np.array(y_test2),image_dimensions=(size),batch_size=1)\n",
    "    \n",
    "    model = nvidia_unet(size[0], num_classes)\n",
    "    \n",
    "    model.compile(optimizer=keras.optimizers.adam(lr=max_learning_rate, decay=learning_rate_decay),\n",
    "               loss= \"binary_crossentropy\",\n",
    "               metrics=[dice_coef])\n",
    "    \n",
    "    history = model.fit_generator(trainingData,\n",
    "                        epochs=num_epochs,\n",
    "                        verbose=2)\n",
    "    \n",
    "    score = model.evaluate_generator(validationData)\n",
    "    \n",
    "    print(score,\"on loop\",iteration)\n",
    "    \n",
    "    accuracyLog.append(score)\n",
    "    \n",
    "    accuracy = (score[1])\n",
    "    loss = (score[0])\n",
    "    \n",
    "    #this is purely for generation of graphs depicting the accuracy/loss trends\n",
    "    if history.history['dice_coef'][num_epochs-1] > prev_max_acc[num_epochs-1]:\n",
    "        prev_max_acc = history.history['dice_coef']\n",
    "        print(\"new max training accuracy:\",history.history['dice_coef'][num_epochs-1],\"max curve updated\")\n",
    "        \n",
    "    if history.history['dice_coef'][num_epochs-1] < prev_min_acc[num_epochs-1]:\n",
    "        prev_min_acc = history.history['dice_coef']\n",
    "        print(\"new min training accuracy:\",history.history['dice_coef'][num_epochs-1],\"min curve updated\")\n",
    "        \n",
    "    if history.history['loss'][num_epochs-1] > prev_max_loss[num_epochs-1]:\n",
    "        prev_max_loss = history.history['loss']\n",
    "        print(\"new max training loss:\",history.history['loss'][num_epochs-1],\"max loss curve updated\")\n",
    "        \n",
    "    if history.history['loss'][num_epochs-1] < prev_min_loss[num_epochs-1]:\n",
    "        prev_min_loss = history.history['loss']\n",
    "        print(\"new min training loss:\",history.history['loss'][num_epochs-1],\"min loss curve updated\")\n",
    "    \n",
    "    del history\n",
    "    del model\n",
    "    \n",
    "    #it occasionally does not clear on the first attempt\n",
    "    for e in range(5):\n",
    "        gc.collect()\n",
    "    k.clear_session()\n",
    "    tf.InteractiveSession.close(session)\n",
    "    \n",
    "    #while it clogs the output, this is done so that\n",
    "    #if memory runs out mid validation, it is easy to see\n",
    "    #the most up to date accuracy log\n",
    "    print(accuracyLog)"
   ]
  },
  {
   "cell_type": "code",
   "execution_count": 23,
   "metadata": {},
   "outputs": [
    {
     "name": "stdout",
     "output_type": "stream",
     "text": [
      "[[0.014259826391935349, 0.9915465712547302], [0.011529115028679371, 0.992533802986145], [0.01969677396118641, 0.9844405055046082], [0.02688632719218731, 0.9877068996429443], [0.025633931159973145, 0.9844244122505188], [0.019428284838795662, 0.9903268814086914], [0.01651676930487156, 0.9921016097068787], [0.024681217968463898, 0.9925746917724609], [0.11157740652561188, 0.9845144748687744], [0.03559790179133415, 0.9858651757240295], [0.030486587435007095, 0.9859791994094849], [0.03544504940509796, 0.9838694334030151], [0.03261465206742287, 0.9839532375335693], [0.01817402057349682, 0.9913026094436646], [0.020938143134117126, 0.9928290247917175], [0.0174013152718544, 0.9851264357566833], [0.01101470086723566, 0.9932945966720581], [0.012337010353803635, 0.9929841756820679], [0.047012846916913986, 0.974026083946228], [0.013341983780264854, 0.9914563894271851], [0.017415277659893036, 0.9910827875137329], [0.009866630658507347, 0.995201587677002], [0.014543347992002964, 0.9939191937446594], [0.01731211319565773, 0.9910704493522644], [0.0382293276488781, 0.976929783821106], [0.013478675857186317, 0.9930631518363953], [0.010258973576128483, 0.9928414225578308], [0.055678702890872955, 0.9783732891082764], [0.02758467011153698, 0.9811834096908569], [0.03476206213235855, 0.9805571436882019], [0.0436621829867363, 0.9776623249053955], [0.017726732417941093, 0.993368923664093], [0.011735647916793823, 0.9932606220245361], [0.029164157807826996, 0.9867552518844604], [0.04064192995429039, 0.9836223721504211], [0.01518541481345892, 0.9911458492279053], [0.017873138189315796, 0.9883891940116882], [0.029244836419820786, 0.9884828925132751], [0.021423783153295517, 0.9903197884559631], [0.011324899271130562, 0.9935976266860962], [0.014971304684877396, 0.9926760196685791], [0.026569755747914314, 0.985914409160614], [0.21138568222522736, 0.8893041610717773], [0.02738078311085701, 0.987993597984314], [0.046101175248622894, 0.9735714197158813], [0.012880751863121986, 0.9903714656829834], [0.02286979928612709, 0.9844295978546143], [0.013776919804513454, 0.9926475882530212], [0.011366678401827812, 0.9937630295753479], [0.03740767389535904, 0.9876019954681396], [0.02020561508834362, 0.9889727830886841], [0.014193190261721611, 0.9940159320831299], [0.009836753830313683, 0.9946169257164001], [0.020504772663116455, 0.9922580122947693], [0.01223447360098362, 0.992588996887207], [0.015356083400547504, 0.9939484000205994], [0.011603969149291515, 0.9935281872749329], [0.015708599239587784, 0.9916410446166992], [0.0188974067568779, 0.9886338710784912], [0.02422695979475975, 0.9839072823524475], [0.016038794070482254, 0.9913067817687988], [0.014912394806742668, 0.9919214248657227], [0.018427429720759392, 0.9898993372917175], [0.012652421370148659, 0.9924378395080566], [0.025821341201663017, 0.9904535412788391], [0.014640024863183498, 0.9922403693199158], [0.017565729096531868, 0.9912198781967163], [0.016166577115654945, 0.9945485591888428], [0.012489727698266506, 0.9935240149497986], [0.02580363303422928, 0.9886764883995056], [0.022754469886422157, 0.9869133830070496], [0.03254856541752815, 0.9812753796577454], [0.04397795721888542, 0.9828305244445801], [0.041534893214702606, 0.9725186228752136], [0.03156575560569763, 0.9875609278678894], [0.017853181809186935, 0.9903517961502075], [0.04495931416749954, 0.985302746295929], [0.012941869907081127, 0.9930561780929565], [0.02450469136238098, 0.9919439554214478], [0.015579916536808014, 0.992750883102417], [0.014327069744467735, 0.9938586354255676], [0.017611589282751083, 0.991665780544281], [0.06353679299354553, 0.9587094187736511], [0.021077288314700127, 0.9875569939613342], [0.027382846921682358, 0.9854086637496948], [0.07195758819580078, 0.9669135212898254], [0.01042189821600914, 0.9932554960250854], [0.5192551016807556, 0.7892768383026123], [0.017946956679224968, 0.9911180734634399], [0.07444995641708374, 0.9546258449554443], [0.014480728656053543, 0.9904749989509583], [0.09321782737970352, 0.9834250211715698], [0.053095247596502304, 0.9800181984901428], [0.06731701642274857, 0.9589424133300781], [0.01725367084145546, 0.9899599552154541]]\n"
     ]
    }
   ],
   "source": [
    "print(accuracyLog)"
   ]
  },
  {
   "cell_type": "code",
   "execution_count": 25,
   "metadata": {},
   "outputs": [],
   "source": [
    "import statistics"
   ]
  },
  {
   "cell_type": "code",
   "execution_count": 26,
   "metadata": {},
   "outputs": [
    {
     "name": "stdout",
     "output_type": "stream",
     "text": [
      "Average accuracy: 0.9843158997987446\n",
      "Average loss: 0.033212999832865436\n",
      "stDev accuracy: 0.023884248070568943\n",
      "stDev loss: 0.056821138617730825\n",
      "Max accuracy: 0.995201587677002\n",
      "Min accuracy: 0.7892768383026123\n",
      "Max loss: 0.5192551016807556\n",
      "Min loss: 0.009836753830313683\n"
     ]
    }
   ],
   "source": [
    "#can be done in the loop itself\n",
    "#therefore not fully necessary\n",
    "#however I want to keep the loop as computation-light as possible\n",
    "\n",
    "accuracies=[]\n",
    "losses=[]\n",
    "\n",
    "accuraciesTotal=0\n",
    "lossesTotal=0\n",
    "\n",
    "for i in range(len(accuracyLog)):\n",
    "    isolated=accuracyLog[i]\n",
    "    accuracy=isolated[1]\n",
    "    loss=isolated[0]\n",
    "    accuracies.append(accuracy)\n",
    "    losses.append(loss)\n",
    "    \n",
    "    accuraciesTotal+=accuracy\n",
    "    lossesTotal+=loss\n",
    "\n",
    "averageAccuracy=accuraciesTotal/len(accuracyLog)\n",
    "averageLoss=lossesTotal/len(accuracyLog)\n",
    "stDevAccuracy=statistics.stdev(accuracies)\n",
    "stDevLoss=statistics.stdev(losses)\n",
    "\n",
    "maxAccuracy=np.amax(accuracies)\n",
    "minAccuracy=np.amin(accuracies)\n",
    "maxLoss=np.amax(losses)\n",
    "minLoss=np.amin(losses)\n",
    "\n",
    "maxAccuracyIndex = list(accuracies).index(maxAccuracy)\n",
    "minAccuracyIndex = list(accuracies).index(minAccuracy)\n",
    "\n",
    "#worst loss\n",
    "maxLossIndex = list(losses).index(maxLoss)\n",
    "#best loss\n",
    "maxLossIndex = list(losses).index(minLoss)\n",
    "\n",
    "print(\"Average accuracy:\",averageAccuracy)\n",
    "print(\"Average loss:\",averageLoss)\n",
    "\n",
    "print(\"stDev accuracy:\",stDevAccuracy)\n",
    "print(\"stDev loss:\",stDevLoss)\n",
    "\n",
    "print(\"Max accuracy:\",maxAccuracy)\n",
    "print(\"Min accuracy:\",minAccuracy)\n",
    "print(\"Max loss:\",maxLoss)\n",
    "print(\"Min loss:\",minLoss)"
   ]
  },
  {
   "cell_type": "code",
   "execution_count": 27,
   "metadata": {},
   "outputs": [],
   "source": [
    "#CODE BELOW IS OPTIONAL\n",
    "#and kept in purely for the generation of diagrams and visualization"
   ]
  },
  {
   "cell_type": "code",
   "execution_count": 28,
   "metadata": {},
   "outputs": [
    {
     "name": "stdout",
     "output_type": "stream",
     "text": [
      "Generator created for image size: (128, 128, 128)\n",
      "Generator created for image size: (128, 128, 128)\n",
      "Number of layers:       7\n",
      "Filters in layers down: [ 22  42  62  82 102 122 142]\n",
      "Filters in layers up:   [122 102  82  62  42  22   2]\n",
      "Epoch 1/20\n",
      " - 24s - loss: 0.5134 - dice_coef: 0.6039\n",
      "Epoch 2/20\n",
      " - 24s - loss: 0.1537 - dice_coef: 0.8692\n",
      "Epoch 3/20\n",
      " - 25s - loss: 0.0628 - dice_coef: 0.9523\n",
      "Epoch 4/20\n",
      " - 24s - loss: 0.0435 - dice_coef: 0.9709\n",
      "Epoch 5/20\n",
      " - 25s - loss: 0.0364 - dice_coef: 0.9774\n",
      "Epoch 6/20\n",
      " - 24s - loss: 0.0299 - dice_coef: 0.9813\n",
      "Epoch 7/20\n",
      " - 24s - loss: 0.0279 - dice_coef: 0.9838\n",
      "Epoch 8/20\n",
      " - 24s - loss: 0.0271 - dice_coef: 0.9842\n",
      "Epoch 9/20\n",
      " - 24s - loss: 0.0261 - dice_coef: 0.9849\n",
      "Epoch 10/20\n",
      " - 24s - loss: 0.0256 - dice_coef: 0.9857\n",
      "Epoch 11/20\n",
      " - 24s - loss: 0.0233 - dice_coef: 0.9863\n",
      "Epoch 12/20\n",
      " - 24s - loss: 0.0217 - dice_coef: 0.9872\n",
      "Epoch 13/20\n",
      " - 24s - loss: 0.0215 - dice_coef: 0.9882\n",
      "Epoch 14/20\n",
      " - 24s - loss: 0.0198 - dice_coef: 0.9886\n",
      "Epoch 15/20\n",
      " - 25s - loss: 0.0198 - dice_coef: 0.9888\n",
      "Epoch 16/20\n",
      " - 24s - loss: 0.0190 - dice_coef: 0.9891\n",
      "Epoch 17/20\n",
      " - 24s - loss: 0.0194 - dice_coef: 0.9891\n",
      "Epoch 18/20\n",
      " - 25s - loss: 0.0189 - dice_coef: 0.9892\n",
      "Epoch 19/20\n",
      " - 24s - loss: 0.0175 - dice_coef: 0.9900\n",
      "Epoch 20/20\n",
      " - 25s - loss: 0.0162 - dice_coef: 0.9907\n",
      "[0.008767526596784592, 0.9948227405548096]\n"
     ]
    }
   ],
   "source": [
    "import tensorflow as tf\n",
    "\n",
    "k.set_image_dim_ordering('tf')\n",
    "gpu_options = tf.GPUOptions(allow_growth=True)\n",
    "session = tf.InteractiveSession(config=tf.ConfigProto(gpu_options=gpu_options))\n",
    "\n",
    "X_test2=image5Dim[maxAccuracyIndex]\n",
    "X_test2=X_test2[np.newaxis,...]\n",
    "newImage5Dim = np.array(np.delete(image5Dim,maxAccuracyIndex,axis=0))\n",
    "\n",
    "y_test2 = label5Dim[maxAccuracyIndex]\n",
    "y_test2=y_test2[np.newaxis,...]\n",
    "newLabel5Dim = np.array(np.delete(label5Dim,maxAccuracyIndex,axis=0))\n",
    "\n",
    "\n",
    "trainingData=BatchGenerator(np.array(newImage5Dim),np.array(newLabel5Dim),image_dimensions=(size),batch_size=3)\n",
    "validationData=BatchGenerator(np.array(X_test2),np.array(y_test2),image_dimensions=(size),batch_size=1)\n",
    "\n",
    "model = nvidia_unet(size[0], num_classes)\n",
    "\n",
    "model.compile(optimizer=keras.optimizers.adam(lr=max_learning_rate, decay=learning_rate_decay),\n",
    "           loss= \"binary_crossentropy\",\n",
    "           metrics=[dice_coef])\n",
    "\n",
    "history = model.fit_generator(trainingData,\n",
    "                    epochs=num_epochs,\n",
    "                    verbose=2)\n",
    "\n",
    "score = model.evaluate_generator(validationData)\n",
    "\n",
    "y_pred = model.predict(np.array(X_test2))\n",
    "\n",
    "print(score)"
   ]
  },
  {
   "cell_type": "code",
   "execution_count": 29,
   "metadata": {},
   "outputs": [
    {
     "name": "stdout",
     "output_type": "stream",
     "text": [
      "[0.008767526596784592, 0.9948227405548096]\n"
     ]
    }
   ],
   "source": [
    "print(score)"
   ]
  },
  {
   "cell_type": "code",
   "execution_count": 30,
   "metadata": {},
   "outputs": [],
   "source": [
    "import datetime"
   ]
  },
  {
   "cell_type": "code",
   "execution_count": 31,
   "metadata": {},
   "outputs": [],
   "source": [
    "timestamp = datetime.datetime.now().strftime('%Y-%m-%d_%H-%M-%S')\n",
    "\n",
    "name = \"model_\" + timestamp + \".h5\"\n",
    "modelPath = os.path.join(outputPath, name)\n",
    "model.save(modelPath)"
   ]
  },
  {
   "cell_type": "code",
   "execution_count": 32,
   "metadata": {},
   "outputs": [],
   "source": [
    "# determine false positives and negatives\n",
    "originalCT=np.array(image5Dim)\n",
    "groundTruth=np.array(label5Dim)\n",
    "networkSeg=np.array(y_pred)\n",
    "binaryOutputSeg = (y_pred > 0.25).astype(np.uint8)\n",
    "binaryOutputSeg=np.array(binaryOutputSeg)\n",
    "\n",
    "flatFP = []\n",
    "flatFN = []\n",
    "\n",
    "flattenedGT = groundTruth[maxAccuracyIndex,:,:,:,:].flatten()\n",
    "flattenedBS = binaryOutputSeg[:,:,:,:,1].flatten()\n",
    "\n",
    "for i in range(len(flattenedGT)):\n",
    "    valueGT = flattenedGT[i]\n",
    "    valueBS = flattenedBS[i]\n",
    "    \n",
    "    #false positive\n",
    "    if np.logical_and(valueBS == 1, valueGT == 0) == True:\n",
    "        flatFP.append(1)\n",
    "        flatFN.append(0)\n",
    "\n",
    "    #false negative\n",
    "    elif np.logical_and(valueBS == 0, valueGT == 1) == True:\n",
    "        flatFN.append(1)\n",
    "        flatFP.append(0)\n",
    "    \n",
    "    #1/1  or  0/0\n",
    "    else:\n",
    "        flatFN.append(0)\n",
    "        flatFP.append(0)\n",
    "        \n",
    "falsePositives = np.array(flatFP)\n",
    "falseNegatives = np.array(flatFN)\n",
    "        \n",
    "falsePositives = falsePositives.reshape(1,128,128,128,1)\n",
    "falseNegatives = falseNegatives.reshape(1,128,128,128,1)"
   ]
  },
  {
   "cell_type": "code",
   "execution_count": 48,
   "metadata": {},
   "outputs": [],
   "source": [
    "pos=80"
   ]
  },
  {
   "cell_type": "code",
   "execution_count": 49,
   "metadata": {},
   "outputs": [
    {
     "data": {
      "text/plain": [
       "<matplotlib.image.AxesImage at 0x1b42c9a3f28>"
      ]
     },
     "execution_count": 49,
     "metadata": {},
     "output_type": "execute_result"
    },
    {
     "data": {
      "image/png": "[encoded data removed]",
      "text/plain": [
       "<Figure size 432x288 with 1 Axes>"
      ]
     },
     "metadata": {
      "needs_background": "light"
     },
     "output_type": "display_data"
    }
   ],
   "source": [
    "#Original CT\n",
    "\n",
    "plt.imshow(originalCT[maxAccuracyIndex,:,pos,:,0])"
   ]
  },
  {
   "cell_type": "code",
   "execution_count": 50,
   "metadata": {},
   "outputs": [
    {
     "data": {
      "text/plain": [
       "<matplotlib.image.AxesImage at 0x1b42ca02c50>"
      ]
     },
     "execution_count": 50,
     "metadata": {},
     "output_type": "execute_result"
    },
    {
     "data": {
      "image/png": "[encoded data removed]",
      "text/plain": [
       "<Figure size 432x288 with 1 Axes>"
      ]
     },
     "metadata": {
      "needs_background": "light"
     },
     "output_type": "display_data"
    }
   ],
   "source": [
    "#Human segmentation\n",
    "\n",
    "plt.imshow(groundTruth[maxAccuracyIndex,:,pos,:,0],cmap='Greys')"
   ]
  },
  {
   "cell_type": "code",
   "execution_count": 62,
   "metadata": {},
   "outputs": [
    {
     "data": {
      "text/plain": [
       "<matplotlib.image.AxesImage at 0x1b518ee0518>"
      ]
     },
     "execution_count": 62,
     "metadata": {},
     "output_type": "execute_result"
    },
    {
     "data": {
      "image/png": "[encoded data removed]",
      "text/plain": [
       "<Figure size 432x288 with 1 Axes>"
      ]
     },
     "metadata": {
      "needs_background": "light"
     },
     "output_type": "display_data"
    }
   ],
   "source": [
    "#binarized network output segmentation\n",
    "\n",
    "plt.imshow(binaryOutputSeg[0,:,pos,:,1],cmap='Greys')"
   ]
  },
  {
   "cell_type": "code",
   "execution_count": 61,
   "metadata": {},
   "outputs": [
    {
     "data": {
      "text/plain": [
       "<matplotlib.image.AxesImage at 0x1b51a58c978>"
      ]
     },
     "execution_count": 61,
     "metadata": {},
     "output_type": "execute_result"
    },
    {
     "data": {
      "image/png": "[encoded data removed]",
      "text/plain": [
       "<Figure size 432x288 with 1 Axes>"
      ]
     },
     "metadata": {
      "needs_background": "light"
     },
     "output_type": "display_data"
    }
   ],
   "source": [
    "plt.imshow(falsePositives[0,:,pos,:,0],cmap='Greys')"
   ]
  },
  {
   "cell_type": "code",
   "execution_count": 63,
   "metadata": {},
   "outputs": [
    {
     "data": {
      "text/plain": [
       "<matplotlib.image.AxesImage at 0x1b3549de0b8>"
      ]
     },
     "execution_count": 63,
     "metadata": {},
     "output_type": "execute_result"
    },
    {
     "data": {
      "image/png": "[encoded data removed]",
      "text/plain": [
       "<Figure size 432x288 with 1 Axes>"
      ]
     },
     "metadata": {
      "needs_background": "light"
     },
     "output_type": "display_data"
    }
   ],
   "source": [
    "plt.imshow(falseNegatives[0,:,pos,:,0],cmap='Greys')"
   ]
  },
  {
   "cell_type": "code",
   "execution_count": 54,
   "metadata": {},
   "outputs": [
    {
     "data": {
      "text/plain": [
       "<matplotlib.image.AxesImage at 0x1b518cd5d68>"
      ]
     },
     "execution_count": 54,
     "metadata": {},
     "output_type": "execute_result"
    },
    {
     "data": {
      "image/png": "[encoded data removed]",
      "text/plain": [
       "<Figure size 432x288 with 1 Axes>"
      ]
     },
     "metadata": {
      "needs_background": "light"
     },
     "output_type": "display_data"
    }
   ],
   "source": [
    "falsePositivesMasked = np.ma.masked_where(falsePositives == 0, falsePositives)\n",
    "falseNegativesMasked = np.ma.masked_where(falseNegatives == 0, falseNegatives)\n",
    "\n",
    "plt.imshow(binaryOutputSeg[0,:,pos,:,1],alpha=0.5,cmap='Greys')\n",
    "plt.imshow(falsePositivesMasked[0,:,pos,:,0],cmap='bwr')\n",
    "plt.imshow(falseNegativesMasked[0,:,pos,:,0],cmap='autumn')"
   ]
  },
  {
   "cell_type": "code",
   "execution_count": 55,
   "metadata": {},
   "outputs": [
    {
     "data": {
      "text/plain": [
       "<matplotlib.image.AxesImage at 0x1b42cbc0b00>"
      ]
     },
     "execution_count": 55,
     "metadata": {},
     "output_type": "execute_result"
    },
    {
     "data": {
      "image/png": "[encoded data removed]",
      "text/plain": [
       "<Figure size 432x288 with 1 Axes>"
      ]
     },
     "metadata": {
      "needs_background": "light"
     },
     "output_type": "display_data"
    }
   ],
   "source": [
    "#Network segmentation before binarization\n",
    "\n",
    "plt.imshow(networkSeg[0,:,pos,:,1])"
   ]
  },
  {
   "cell_type": "code",
   "execution_count": 57,
   "metadata": {},
   "outputs": [],
   "source": [
    "np.save('originalCT', originalCT[maxAccuracyIndex,:,:,:,0])\n",
    "np.save('groundTruth', groundTruth[maxAccuracyIndex,:,:,:,0])\n",
    "np.save('binarizedNetworkSeg',binaryOutputSeg[0,:,:,:,1])\n",
    "np.save('falsePositives',falsePositives[0,:,:,:,0])\n",
    "np.save('falseNegatives',falseNegatives[0,:,:,:,0])"
   ]
  },
  {
   "cell_type": "code",
   "execution_count": 58,
   "metadata": {},
   "outputs": [
    {
     "data": {
      "text/plain": [
       "Text(0.5, 1.0, 'Training Accuracy and Loss')"
      ]
     },
     "execution_count": 58,
     "metadata": {},
     "output_type": "execute_result"
    },
    {
     "data": {
      "image/png": "[encoded data removed]",
      "text/plain": [
       "<Figure size 432x288 with 1 Axes>"
      ]
     },
     "metadata": {
      "needs_background": "light"
     },
     "output_type": "display_data"
    }
   ],
   "source": [
    "font = {'fontname':'Times New Roman'}\n",
    "\n",
    "plt.plot(prev_min_acc)\n",
    "plt.plot(prev_max_acc)\n",
    "plt.plot(prev_max_loss)\n",
    "plt.plot(prev_min_loss)\n",
    "plt.ylabel('value', fontsize=14,**font)\n",
    "plt.xlabel('epoch', fontsize=14,**font)\n",
    "plt.xlim(0,15)\n",
    "plt.legend(['Lowest accuracy','Highest accuracy','Most loss','Least loss'])\n",
    "plt.title('Training Accuracy and Loss', fontsize=16,**font)"
   ]
  },
  {
   "cell_type": "code",
   "execution_count": 43,
   "metadata": {},
   "outputs": [],
   "source": [
    "#TODO implement adaptive thresholding (if necessary)\n",
    "#TODO clean up imports section"
   ]
  }
 ],
 "metadata": {
  "kernelspec": {
   "display_name": "Python 3",
   "language": "python",
   "name": "python3"
  },
  "language_info": {
   "codemirror_mode": {
    "name": "ipython",
    "version": 3
   },
   "file_extension": ".py",
   "mimetype": "text/x-python",
   "name": "python",
   "nbconvert_exporter": "python",
   "pygments_lexer": "ipython3",
   "version": "3.7.3"
  }
 },
 "nbformat": 4,
 "nbformat_minor": 2
}
