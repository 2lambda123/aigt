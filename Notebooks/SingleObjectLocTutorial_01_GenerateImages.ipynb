{
 "cells": [
  {
   "cell_type": "code",
   "execution_count": 1,
   "metadata": {},
   "outputs": [],
   "source": [
    "from local_vars import root_folder\n",
    "\n",
    "data_folder = \"Circles\"\n",
    "\n",
    "image_size = 128\n",
    "min_circle_diameter = 5\n",
    "max_circle_diameter = 10\n",
    "number_of_images = 10000"
   ]
  },
  {
   "cell_type": "code",
   "execution_count": 2,
   "metadata": {},
   "outputs": [],
   "source": [
    "import numpy as np\n",
    "import cv2\n",
    "import os.path\n",
    "import pandas as pd\n",
    "from matplotlib import pyplot as plt\n",
    "\n",
    "data_fullpath = os.path.join(root_folder, data_folder)"
   ]
  },
  {
   "cell_type": "code",
   "execution_count": 3,
   "metadata": {},
   "outputs": [],
   "source": [
    "def generate_image():\n",
    "    img = np.zeros((image_size,image_size), np.uint8)\n",
    "    margin_size = max_circle_diameter // 2 + 1\n",
    "    x = np.random.randint(margin_size, image_size - margin_size)\n",
    "    y = np.random.randint(margin_size, image_size - margin_size)\n",
    "    diameter = np.random.randint(min_circle_diameter, max_circle_diameter)\n",
    "    img = cv2.circle(img, (x, y), diameter, 1, -1)\n",
    "    return img, (x, y)"
   ]
  },
  {
   "cell_type": "code",
   "execution_count": 4,
   "metadata": {},
   "outputs": [
    {
     "data": {
      "image/png": "[encoded data removed]",
      "text/plain": [
       "<Figure size 432x288 with 2 Axes>"
      ]
     },
     "metadata": {
      "needs_background": "light"
     },
     "output_type": "display_data"
    }
   ],
   "source": [
    "img, (x, y) = generate_image()\n",
    "plt.title(str((x,y)))\n",
    "plt.imshow(img[:, :], cmap='gray')\n",
    "out = plt.colorbar()"
   ]
  },
  {
   "cell_type": "code",
   "execution_count": 5,
   "metadata": {},
   "outputs": [],
   "source": [
    "if not os.path.exists(data_fullpath):\n",
    "    os.makedirs(data_fullpath)\n",
    "    print(\"Created folder: \" + data_fullpath)"
   ]
  },
  {
   "cell_type": "code",
   "execution_count": 6,
   "metadata": {},
   "outputs": [],
   "source": [
    "annotations_df = pd.DataFrame(columns=[\"file_name\", \"x_position\", \"y_position\"])\n",
    "\n",
    "for i in range(number_of_images):\n",
    "    image_file_name = \"{:0>5d}\".format(i) + \".png\"\n",
    "    image_fullpath = os.path.join(data_fullpath, image_file_name)\n",
    "    img, (x, y) = generate_image()\n",
    "    annotations_df.loc[i] = [image_file_name, x, y]\n",
    "    success = cv2.imwrite(image_fullpath, img)\n"
   ]
  },
  {
   "cell_type": "code",
   "execution_count": 7,
   "metadata": {},
   "outputs": [],
   "source": [
    "annotations_file_name = \"annotations.csv\"\n",
    "annotations_fullpath = os.path.join(data_fullpath, annotations_file_name)\n",
    "annotations_df.to_csv(annotations_fullpath)"
   ]
  },
  {
   "cell_type": "code",
   "execution_count": null,
   "metadata": {},
   "outputs": [],
   "source": []
  }
 ],
 "metadata": {
  "kernelspec": {
   "display_name": "Python 3",
   "language": "python",
   "name": "python3"
  },
  "language_info": {
   "codemirror_mode": {
    "name": "ipython",
    "version": 3
   },
   "file_extension": ".py",
   "mimetype": "text/x-python",
   "name": "python",
   "nbconvert_exporter": "python",
   "pygments_lexer": "ipython3",
   "version": "3.6.7"
  }
 },
 "nbformat": 4,
 "nbformat_minor": 2
}
