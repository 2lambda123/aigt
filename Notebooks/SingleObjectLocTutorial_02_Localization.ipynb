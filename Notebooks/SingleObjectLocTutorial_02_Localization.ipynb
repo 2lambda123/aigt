{
 "cells": [
  {
   "cell_type": "code",
   "execution_count": 1,
   "metadata": {},
   "outputs": [],
   "source": [
    "from local_vars import root_folder\n",
    "\n",
    "data_folder = r\"Circles\"\n",
    "batch_size = 10\n",
    "image_size = 64\n",
    "input_image_size = 128"
   ]
  },
  {
   "cell_type": "code",
   "execution_count": 2,
   "metadata": {},
   "outputs": [
    {
     "name": "stderr",
     "output_type": "stream",
     "text": [
      "Using TensorFlow backend.\n"
     ]
    }
   ],
   "source": [
    "import pandas as pd\n",
    "import numpy as np\n",
    "import itertools\n",
    "import os\n",
    "import keras\n",
    "\n",
    "from keras.models import Sequential\n",
    "from keras.layers import Activation\n",
    "from keras.layers.core import Dense, Dropout, Flatten\n",
    "from keras.optimizers import Adam\n",
    "from keras.metrics import categorical_crossentropy\n",
    "from keras.preprocessing.image import ImageDataGenerator\n",
    "from keras.layers.normalization import BatchNormalization\n",
    "from keras.layers.convolutional import *\n",
    "from keras.utils import Sequence\n",
    "\n",
    "from matplotlib import pyplot as plt\n",
    "\n",
    "from sklearn.metrics import confusion_matrix\n",
    "from skimage.io import imread\n",
    "from skimage.transform import resize"
   ]
  },
  {
   "cell_type": "code",
   "execution_count": 3,
   "metadata": {},
   "outputs": [
    {
     "name": "stdout",
     "output_type": "stream",
     "text": [
      "Training data folder:   c:\\Temp\\Circles\\train\n",
      "Validation data folder: c:\\Temp\\Circles\\valid\n",
      "Test data folder:       c:\\Temp\\Circles\\test\n"
     ]
    }
   ],
   "source": [
    "data_fullpath = os.path.join(root_folder, data_folder)\n",
    "train_fullpath = os.path.join(data_fullpath, \"train\")\n",
    "valid_fullpath = os.path.join(data_fullpath, \"valid\")\n",
    "test_fullpath = os.path.join(data_fullpath, \"test\")\n",
    "\n",
    "print(\"Training data folder:   {}\".format(train_fullpath))\n",
    "print(\"Validation data folder: {}\".format(valid_fullpath))\n",
    "print(\"Test data folder:       {}\".format(test_fullpath))"
   ]
  },
  {
   "cell_type": "code",
   "execution_count": 4,
   "metadata": {},
   "outputs": [
    {
     "name": "stdout",
     "output_type": "stream",
     "text": [
      "Number of training images:   10000\n",
      "Number of validation images: 100\n",
      "Number of test images:       100\n"
     ]
    }
   ],
   "source": [
    "train_annotations_df = pd.DataFrame()\n",
    "\n",
    "num_csv_files = 0\n",
    "for file_name in os.listdir(train_fullpath):\n",
    "    if not file_name.endswith(\".csv\"):\n",
    "        continue\n",
    "    num_csv_files += 1\n",
    "    current_file_path = os.path.join(train_fullpath, file_name)\n",
    "    train_annotations_df = pd.concat([train_annotations_df, pd.read_csv(current_file_path)])\n",
    "\n",
    "valid_annotations_df = pd.DataFrame()\n",
    "\n",
    "for file_name in os.listdir(valid_fullpath):\n",
    "    if not file_name.endswith(\".csv\"):\n",
    "        continue\n",
    "    num_csv_files += 1\n",
    "    current_file_path = os.path.join(valid_fullpath, file_name)\n",
    "    valid_annotations_df = pd.concat([valid_annotations_df, pd.read_csv(current_file_path)])\n",
    "\n",
    "test_annotations_df = pd.DataFrame()\n",
    "\n",
    "for file_name in os.listdir(test_fullpath):\n",
    "    if not file_name.endswith(\".csv\"):\n",
    "        continue\n",
    "    num_csv_files += 1\n",
    "    current_file_path = os.path.join(test_fullpath, file_name)\n",
    "    test_annotations_df = pd.concat([test_annotations_df, pd.read_csv(current_file_path)])\n",
    "\n",
    "num_test_images = test_annotations_df.shape[0]\n",
    "    \n",
    "print(\"Number of training images:   {}\".format(train_annotations_df.shape[0]))\n",
    "print(\"Number of validation images: {}\".format(valid_annotations_df.shape[0]))\n",
    "print(\"Number of test images:       {}\".format(num_test_images))"
   ]
  },
  {
   "cell_type": "code",
   "execution_count": null,
   "metadata": {},
   "outputs": [],
   "source": []
  },
  {
   "cell_type": "code",
   "execution_count": 5,
   "metadata": {},
   "outputs": [],
   "source": [
    "class MyBatchGenerator(Sequence):\n",
    "    \n",
    "    def __init__(self, image_filenames, annotations_df, batch_size, image_size=256):\n",
    "        self.image_filenames, self.annotations_df = image_filenames, annotations_df\n",
    "        self.batch_size = batch_size\n",
    "    \n",
    "    def __len__(self):\n",
    "        num_batches = np.ceil(len(self.image_filenames) / float(self.batch_size))\n",
    "        return int(num_batches)\n",
    "    \n",
    "    def __getitem__(self, idx):\n",
    "        from_index = idx * self.batch_size\n",
    "        to_index = (idx + 1) * self.batch_size\n",
    "        batch_x = self.image_filenames[from_index:to_index]\n",
    "        batch_y = self.annotations_df[['x_position', 'y_position']].iloc[from_index:to_index]\n",
    "        batch_y = batch_y / float(input_image_size)\n",
    "        return np.array([\n",
    "            resize(\n",
    "                imread(file_name).astype(np.uint8),\n",
    "                (image_size, image_size, 1),\n",
    "                anti_aliasing=False,\n",
    "                preserve_range=True,\n",
    "                mode='constant') for file_name in batch_x]),  np.array(batch_y)"
   ]
  },
  {
   "cell_type": "code",
   "execution_count": 6,
   "metadata": {},
   "outputs": [],
   "source": [
    "train_image_filenames = [os.path.join(train_fullpath,fn) for fn in os.listdir(train_fullpath) if fn.endswith('png')]\n",
    "valid_image_filenames = [os.path.join(valid_fullpath,fn) for fn in os.listdir(valid_fullpath) if fn.endswith('png')]\n",
    "test_image_filenames = [os.path.join(test_fullpath,fn) for fn in os.listdir(test_fullpath) if fn.endswith('png')]"
   ]
  },
  {
   "cell_type": "code",
   "execution_count": 7,
   "metadata": {},
   "outputs": [],
   "source": [
    "train_generator = MyBatchGenerator(train_image_filenames, train_annotations_df, batch_size, image_size)\n",
    "valid_generator = MyBatchGenerator(valid_image_filenames, valid_annotations_df, batch_size, image_size)"
   ]
  },
  {
   "cell_type": "code",
   "execution_count": 8,
   "metadata": {},
   "outputs": [
    {
     "name": "stdout",
     "output_type": "stream",
     "text": [
      "<class 'numpy.float64'>\n"
     ]
    },
    {
     "data": {
      "image/png": "[encoded data removed]",
      "text/plain": [
       "<Figure size 432x288 with 2 Axes>"
      ]
     },
     "metadata": {
      "needs_background": "light"
     },
     "output_type": "display_data"
    }
   ],
   "source": [
    "x, y = valid_generator.__getitem__(0)\n",
    "\n",
    "plt.title(str((y[0][0], y[0][1])))\n",
    "plt.imshow(x[0][:,:,0], cmap='gray')\n",
    "plt.axvline(x=y[0][0] * image_size)\n",
    "plt.axhline(y=y[0][1] * image_size)\n",
    "out = plt.colorbar()\n",
    "\n",
    "print(type(x[0][0,0,0]))"
   ]
  },
  {
   "cell_type": "code",
   "execution_count": 9,
   "metadata": {},
   "outputs": [
    {
     "name": "stdout",
     "output_type": "stream",
     "text": [
      "_________________________________________________________________\n",
      "Layer (type)                 Output Shape              Param #   \n",
      "=================================================================\n",
      "conv2d_1 (Conv2D)            (None, 64, 64, 8)         80        \n",
      "_________________________________________________________________\n",
      "conv2d_2 (Conv2D)            (None, 62, 62, 8)         584       \n",
      "_________________________________________________________________\n",
      "max_pooling2d_1 (MaxPooling2 (None, 31, 31, 8)         0         \n",
      "_________________________________________________________________\n",
      "dropout_1 (Dropout)          (None, 31, 31, 8)         0         \n",
      "_________________________________________________________________\n",
      "conv2d_3 (Conv2D)            (None, 29, 29, 16)        1168      \n",
      "_________________________________________________________________\n",
      "max_pooling2d_2 (MaxPooling2 (None, 14, 14, 16)        0         \n",
      "_________________________________________________________________\n",
      "dropout_2 (Dropout)          (None, 14, 14, 16)        0         \n",
      "_________________________________________________________________\n",
      "conv2d_4 (Conv2D)            (None, 12, 12, 16)        2320      \n",
      "_________________________________________________________________\n",
      "max_pooling2d_3 (MaxPooling2 (None, 6, 6, 16)          0         \n",
      "_________________________________________________________________\n",
      "dropout_3 (Dropout)          (None, 6, 6, 16)          0         \n",
      "_________________________________________________________________\n",
      "flatten_1 (Flatten)          (None, 576)               0         \n",
      "_________________________________________________________________\n",
      "dense_1 (Dense)              (None, 512)               295424    \n",
      "_________________________________________________________________\n",
      "dropout_4 (Dropout)          (None, 512)               0         \n",
      "_________________________________________________________________\n",
      "dense_2 (Dense)              (None, 2)                 1026      \n",
      "=================================================================\n",
      "Total params: 300,602\n",
      "Trainable params: 300,602\n",
      "Non-trainable params: 0\n",
      "_________________________________________________________________\n"
     ]
    }
   ],
   "source": [
    "model = Sequential()\n",
    "\n",
    "model.add(Conv2D(8, (3, 3), padding='same', activation='relu', input_shape=(image_size, image_size, 1)))\n",
    "model.add(Conv2D(8, (3, 3), activation='relu'))\n",
    "model.add(MaxPooling2D(pool_size=(2, 2)))\n",
    "model.add(Dropout(.2))\n",
    "\n",
    "model.add(Conv2D(16, (3, 3), activation='relu'))\n",
    "model.add(MaxPooling2D(pool_size=(2, 2)))\n",
    "model.add(Dropout(.2))\n",
    "\n",
    "model.add(Conv2D(16, (3, 3), activation='relu'))\n",
    "model.add(MaxPooling2D(pool_size=(2, 2)))\n",
    "model.add(Dropout(.2))\n",
    "\n",
    "model.add(Flatten())\n",
    "model.add(Dense(512, activation='relu'))\n",
    "model.add(Dropout(0.2))\n",
    "model.add(Dense(2, activation='sigmoid'))\n",
    "\n",
    "model.summary()"
   ]
  },
  {
   "cell_type": "code",
   "execution_count": 10,
   "metadata": {},
   "outputs": [
    {
     "name": "stdout",
     "output_type": "stream",
     "text": [
      "Training steps:   1000\n",
      "Validation steps: 10\n"
     ]
    }
   ],
   "source": [
    "num_epochs = 8\n",
    "num_validation_steps = valid_annotations_df.shape[0] // batch_size\n",
    "num_steps = train_annotations_df.shape[0] // batch_size\n",
    "\n",
    "print(\"Training steps:   {}\".format(num_steps))\n",
    "print(\"Validation steps: {}\".format(num_validation_steps))"
   ]
  },
  {
   "cell_type": "code",
   "execution_count": 11,
   "metadata": {},
   "outputs": [],
   "source": [
    "model.compile(Adam(lr=.0001), loss='mse', metrics=['accuracy'])"
   ]
  },
  {
   "cell_type": "code",
   "execution_count": 12,
   "metadata": {},
   "outputs": [
    {
     "name": "stdout",
     "output_type": "stream",
     "text": [
      "Epoch 1/8\n",
      "1000/1000 [==============================] - 21s 21ms/step - loss: 0.0107 - acc: 0.9379 - val_loss: 0.0030 - val_acc: 0.9600\n",
      "Epoch 2/8\n",
      "1000/1000 [==============================] - 10s 10ms/step - loss: 0.0029 - acc: 0.9571 - val_loss: 0.0025 - val_acc: 0.9900\n",
      "Epoch 3/8\n",
      "1000/1000 [==============================] - 10s 10ms/step - loss: 0.0019 - acc: 0.9664 - val_loss: 0.0018 - val_acc: 1.0000\n",
      "Epoch 4/8\n",
      "1000/1000 [==============================] - 11s 11ms/step - loss: 0.0014 - acc: 0.9737 - val_loss: 0.0014 - val_acc: 0.9900\n",
      "Epoch 5/8\n",
      "1000/1000 [==============================] - 10s 10ms/step - loss: 0.0011 - acc: 0.9750 - val_loss: 0.0017 - val_acc: 1.0000\n",
      "Epoch 6/8\n",
      "1000/1000 [==============================] - 10s 10ms/step - loss: 8.9029e-04 - acc: 0.9759 - val_loss: 0.0013 - val_acc: 1.0000\n",
      "Epoch 7/8\n",
      "1000/1000 [==============================] - 10s 10ms/step - loss: 6.9882e-04 - acc: 0.9768 - val_loss: 8.4878e-04 - val_acc: 1.0000\n",
      "Epoch 8/8\n",
      "1000/1000 [==============================] - 10s 10ms/step - loss: 6.0819e-04 - acc: 0.9783 - val_loss: 0.0010 - val_acc: 1.0000\n"
     ]
    }
   ],
   "source": [
    "history = model.fit_generator(\n",
    "    generator=train_generator,\n",
    "    steps_per_epoch=num_steps,\n",
    "    epochs=num_epochs,\n",
    "    verbose=1,\n",
    "    validation_data=valid_generator,\n",
    "    validation_steps=num_validation_steps)"
   ]
  },
  {
   "cell_type": "code",
   "execution_count": 13,
   "metadata": {},
   "outputs": [
    {
     "data": {
      "text/plain": [
       "Text(0.5,1,'Accuracy Curves')"
      ]
     },
     "execution_count": 13,
     "metadata": {},
     "output_type": "execute_result"
    },
    {
     "data": {
      "image/png": "[encoded data removed]",
      "text/plain": [
       "<Figure size 576x432 with 1 Axes>"
      ]
     },
     "metadata": {
      "needs_background": "light"
     },
     "output_type": "display_data"
    }
   ],
   "source": [
    "plt.figure(figsize=[8,6])\n",
    "plt.plot(history.history['acc'],'r',linewidth=3.0)\n",
    "plt.plot(history.history['val_acc'],'b',linewidth=3.0)\n",
    "plt.legend(['Training Accuracy', 'Validation Accuracy'],fontsize=18)\n",
    "plt.xlabel('Epochs ',fontsize=16)\n",
    "plt.ylabel('Accuracy',fontsize=16)\n",
    "plt.title('Accuracy Curves',fontsize=16)"
   ]
  },
  {
   "cell_type": "code",
   "execution_count": 14,
   "metadata": {},
   "outputs": [],
   "source": [
    "test_generator = MyBatchGenerator(test_image_filenames, test_annotations_df, num_test_images, image_size)"
   ]
  },
  {
   "cell_type": "code",
   "execution_count": 15,
   "metadata": {},
   "outputs": [],
   "source": [
    "def plots(ims, ys, figsize=(20,6), rows=1, titles=None):\n",
    "    f = plt.figure(figsize=figsize)\n",
    "    cols = len(ims)//rows if len(ims) % 2 == 0 else len(ims)//rows + 1\n",
    "    for i in range(len(ims)):\n",
    "        sp = f.add_subplot(rows, cols, i+1)\n",
    "        sp.axis(\"Off\")\n",
    "        if titles is not None:\n",
    "            sp.set_title(titles[i], fontsize=16)\n",
    "        plt.imshow(ims[i][:, :, 0], cmap='gray')\n",
    "        plt.axvline(x=ys[i][0] * image_size)\n",
    "        plt.axhline(y=ys[i][1] * image_size)"
   ]
  },
  {
   "cell_type": "code",
   "execution_count": 20,
   "metadata": {},
   "outputs": [
    {
     "name": "stdout",
     "output_type": "stream",
     "text": [
      "Average error: 0.0450\n"
     ]
    },
    {
     "data": {
      "image/png": "[encoded data removed]",
      "text/plain": [
       "<Figure size 1440x864 with 24 Axes>"
      ]
     },
     "metadata": {
      "needs_background": "light"
     },
     "output_type": "display_data"
    }
   ],
   "source": [
    "x, y = test_generator.__getitem__(0)\n",
    "y_pred = model.predict(x)\n",
    "\n",
    "n = len(y)\n",
    "average_error = 0.0\n",
    "averaging_factor = 1.0 / n\n",
    "for i in range(len(y)):\n",
    "    distance = np.linalg.norm(y[i] - y_pred[i])\n",
    "    average_error += distance * averaging_factor\n",
    "\n",
    "print(\"Average error: {0:.4f}\".format(average_error))    \n",
    "\n",
    "plots(x[:24], y_pred[:24], figsize=(20,12), rows=4)"
   ]
  },
  {
   "cell_type": "code",
   "execution_count": 17,
   "metadata": {},
   "outputs": [],
   "source": [
    "import datetime\n",
    "\n",
    "timestamp = datetime.datetime.now().strftime('%Y-%m-%d_%H-%M-%S')\n",
    "\n",
    "weights_folder = os.path.join(root_folder, \"weights\")\n",
    "\n",
    "if not os.path.exists(weights_folder):\n",
    "    os.makedirs(weights_folder)\n",
    "    print(\"Creating folder: {}\".format(weights_folder))\n",
    "\n",
    "weights_file_name = \"weights_\" + timestamp + \".h5\"\n",
    "weights_file_path = os.path.join(weights_folder, weights_file_name)\n",
    "\n",
    "model.save_weights(weights_file_path)"
   ]
  },
  {
   "cell_type": "code",
   "execution_count": null,
   "metadata": {},
   "outputs": [],
   "source": []
  }
 ],
 "metadata": {
  "kernelspec": {
   "display_name": "Python 3",
   "language": "python",
   "name": "python3"
  },
  "language_info": {
   "codemirror_mode": {
    "name": "ipython",
    "version": 3
   },
   "file_extension": ".py",
   "mimetype": "text/x-python",
   "name": "python",
   "nbconvert_exporter": "python",
   "pygments_lexer": "ipython3",
   "version": "3.6.7"
  }
 },
 "nbformat": 4,
 "nbformat_minor": 2
}
