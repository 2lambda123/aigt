{
 "cells": [
  {
   "cell_type": "code",
   "execution_count": 1,
   "metadata": {},
   "outputs": [],
   "source": [
    "from local_vars import root_folder\n",
    "\n",
    "data_folder = r\"CirclesA\"\n",
    "image_size = 128\n",
    "batch_size = 50"
   ]
  },
  {
   "cell_type": "code",
   "execution_count": 2,
   "metadata": {},
   "outputs": [
    {
     "name": "stderr",
     "output_type": "stream",
     "text": [
      "Using TensorFlow backend.\n"
     ]
    }
   ],
   "source": [
    "import itertools\n",
    "import keras\n",
    "\n",
    "from keras.models import Sequential\n",
    "from keras.layers import Activation, GlobalAveragePooling2D\n",
    "from keras.layers.core import Dense, Dropout, Flatten\n",
    "from keras.optimizers import Adam\n",
    "from keras.metrics import categorical_crossentropy\n",
    "from keras.preprocessing.image import ImageDataGenerator\n",
    "from keras.layers.normalization import BatchNormalization\n",
    "from keras.layers.convolutional import *\n",
    "from keras.utils import Sequence\n",
    "\n",
    "from matplotlib import pyplot as plt\n",
    "\n",
    "from sklearn.metrics import confusion_matrix\n",
    "from skimage.io import imread\n",
    "from skimage.transform import resize"
   ]
  },
  {
   "cell_type": "code",
   "execution_count": 3,
   "metadata": {},
   "outputs": [
    {
     "name": "stdout",
     "output_type": "stream",
     "text": [
      "Training data folder:    m:\\Temp\\CirclesA\\train\n",
      "Validation data folder:  m:\\Temp\\CirclesA\\valid\n",
      "Test data folder:        m:\\Temp\\CirclesA\\test\n"
     ]
    }
   ],
   "source": [
    "import os\n",
    "\n",
    "data_fullpath = os.path.join(root_folder, data_folder)\n",
    "train_fullpath = os.path.join(data_fullpath, \"train\")\n",
    "valid_fullpath = os.path.join(data_fullpath, \"valid\")\n",
    "test_fullpath = os.path.join(data_fullpath, \"test\")\n",
    "\n",
    "print(\"Training data folder:    {}\".format(train_fullpath))\n",
    "print(\"Validation data folder:  {}\".format(valid_fullpath))\n",
    "print(\"Test data folder:        {}\".format(test_fullpath))"
   ]
  },
  {
   "cell_type": "code",
   "execution_count": 4,
   "metadata": {},
   "outputs": [],
   "source": [
    "import numpy as np\n",
    "\n",
    "train_images_fullpath = os.path.join(train_fullpath, \"images.npy\")\n",
    "train_classes_fullpath = os.path.join(train_fullpath, \"classes.npy\")\n",
    "train_image_data = np.load(train_images_fullpath)\n",
    "train_class_data = np.load(train_classes_fullpath)\n",
    "\n",
    "num_train_images = train_image_data.shape[0]\n",
    "train_image_min_value = np.amin(train_image_data)\n",
    "train_image_max_value = np.amax(train_image_data)\n",
    "\n",
    "valid_images_fullpath = os.path.join(valid_fullpath, \"images.npy\")\n",
    "valid_classes_fullpath = os.path.join(valid_fullpath, \"classes.npy\")\n",
    "valid_image_data = np.load(valid_images_fullpath)\n",
    "valid_class_data = np.load(valid_classes_fullpath)\n",
    "\n",
    "num_valid_images = valid_image_data.shape[0]\n",
    "valid_image_min_value = np.amin(valid_image_data)\n",
    "valid_image_max_value = np.amax(valid_image_data)\n",
    "\n",
    "test_images_fullpath = os.path.join(test_fullpath, \"images.npy\")\n",
    "test_classes_fullpath = os.path.join(test_fullpath, \"classes.npy\")\n",
    "test_locations_fullpath = os.path.join(test_fullpath, \"locations.npy\")\n",
    "test_image_data = np.load(test_images_fullpath)\n",
    "test_class_data = np.load(test_classes_fullpath)\n",
    "test_locations_data = np.load(test_locations_fullpath)\n",
    "\n",
    "num_test_images = test_image_data.shape[0]\n",
    "test_image_min_value = np.amin(test_image_data)\n",
    "test_image_max_value = np.amax(test_image_data)"
   ]
  },
  {
   "cell_type": "code",
   "execution_count": 5,
   "metadata": {},
   "outputs": [
    {
     "name": "stdout",
     "output_type": "stream",
     "text": [
      "Found training images:   10000\n",
      "Pixel intensity range:   0.0 to 1.0\n",
      "Image size:              128 x 128\n",
      "\n",
      "Found validation images: 200\n",
      "Pixel intensity range:   0.0 to 1.0\n",
      "Image size:              128 x 128\n",
      "\n",
      "Found test images:       200\n",
      "Pixel intensity range:   0.0 to 1.0\n",
      "Image size:              128 x 128\n"
     ]
    }
   ],
   "source": [
    "print(\"Found training images:   {}\".format(num_train_images))\n",
    "print(\"Pixel intensity range:   {} to {}\".format(train_image_min_value, train_image_max_value))\n",
    "print(\"Image size:              {} x {}\".format(train_image_data.shape[1], train_image_data.shape[2]))\n",
    "print(\"\")\n",
    "print(\"Found validation images: {}\".format(num_valid_images))\n",
    "print(\"Pixel intensity range:   {} to {}\".format(valid_image_min_value, valid_image_max_value))\n",
    "print(\"Image size:              {} x {}\".format(valid_image_data.shape[1], valid_image_data.shape[2]))\n",
    "print(\"\")\n",
    "print(\"Found test images:       {}\".format(num_test_images))\n",
    "print(\"Pixel intensity range:   {} to {}\".format(test_image_min_value, test_image_max_value))\n",
    "print(\"Image size:              {} x {}\".format(test_image_data.shape[1], test_image_data.shape[2]))"
   ]
  },
  {
   "cell_type": "code",
   "execution_count": 6,
   "metadata": {},
   "outputs": [
    {
     "name": "stdout",
     "output_type": "stream",
     "text": [
      "_________________________________________________________________\n",
      "Layer (type)                 Output Shape              Param #   \n",
      "=================================================================\n",
      "conv2d_1 (Conv2D)            (None, 128, 128, 16)      160       \n",
      "_________________________________________________________________\n",
      "conv2d_2 (Conv2D)            (None, 128, 128, 16)      2320      \n",
      "_________________________________________________________________\n",
      "max_pooling2d_1 (MaxPooling2 (None, 64, 64, 16)        0         \n",
      "_________________________________________________________________\n",
      "dropout_1 (Dropout)          (None, 64, 64, 16)        0         \n",
      "_________________________________________________________________\n",
      "conv2d_3 (Conv2D)            (None, 64, 64, 32)        4640      \n",
      "_________________________________________________________________\n",
      "conv2d_4 (Conv2D)            (None, 64, 64, 32)        9248      \n",
      "_________________________________________________________________\n",
      "max_pooling2d_2 (MaxPooling2 (None, 32, 32, 32)        0         \n",
      "_________________________________________________________________\n",
      "dropout_2 (Dropout)          (None, 32, 32, 32)        0         \n",
      "_________________________________________________________________\n",
      "conv2d_5 (Conv2D)            (None, 32, 32, 64)        18496     \n",
      "_________________________________________________________________\n",
      "max_pooling2d_3 (MaxPooling2 (None, 16, 16, 64)        0         \n",
      "_________________________________________________________________\n",
      "dropout_3 (Dropout)          (None, 16, 16, 64)        0         \n",
      "_________________________________________________________________\n",
      "global_average_pooling2d_1 ( (None, 64)                0         \n",
      "_________________________________________________________________\n",
      "dense_1 (Dense)              (None, 2)                 130       \n",
      "=================================================================\n",
      "Total params: 34,994\n",
      "Trainable params: 34,994\n",
      "Non-trainable params: 0\n",
      "_________________________________________________________________\n"
     ]
    }
   ],
   "source": [
    "model = Sequential()\n",
    "\n",
    "model.add(Conv2D(16, (3, 3), padding='same', activation='relu', input_shape=(image_size, image_size, 1)))\n",
    "model.add(Conv2D(16, (3, 3), padding='same', activation='relu'))\n",
    "model.add(MaxPooling2D(pool_size=(2, 2)))\n",
    "model.add(Dropout(.2))\n",
    "\n",
    "model.add(Conv2D(32, (3, 3), padding='same', activation='relu'))\n",
    "model.add(Conv2D(32, (3, 3), padding='same', activation='relu'))\n",
    "model.add(MaxPooling2D(pool_size=(2, 2)))\n",
    "model.add(Dropout(.2))\n",
    "\n",
    "model.add(Conv2D(64, (3, 3), padding='same', activation='relu'))\n",
    "model.add(MaxPooling2D(pool_size=(2, 2)))\n",
    "model.add(Dropout(.2))\n",
    "\n",
    "model.add(GlobalAveragePooling2D())\n",
    "model.add(Dense(2, activation='softmax'))\n",
    "\n",
    "model.summary()"
   ]
  },
  {
   "cell_type": "code",
   "execution_count": 7,
   "metadata": {},
   "outputs": [
    {
     "name": "stdout",
     "output_type": "stream",
     "text": [
      "Training steps:   200\n",
      "Validation steps: 4\n"
     ]
    }
   ],
   "source": [
    "num_validation_steps = num_valid_images // batch_size\n",
    "num_train_steps = num_train_images // batch_size\n",
    "\n",
    "print(\"Training steps:   {}\".format(num_train_steps))\n",
    "print(\"Validation steps: {}\".format(num_validation_steps))"
   ]
  },
  {
   "cell_type": "code",
   "execution_count": 8,
   "metadata": {},
   "outputs": [],
   "source": [
    "model.compile(Adam(lr=.0001), loss='mse', metrics=['accuracy'])"
   ]
  },
  {
   "cell_type": "code",
   "execution_count": 9,
   "metadata": {},
   "outputs": [
    {
     "name": "stdout",
     "output_type": "stream",
     "text": [
      "Train on 10000 samples, validate on 200 samples\n",
      "Epoch 1/10\n",
      "10000/10000 [==============================] - 10s 986us/step - loss: 0.2501 - acc: 0.5029 - val_loss: 0.2494 - val_acc: 0.5450 ETA: 5s - loss: 0.2502 - ETA: 3s - loss: 0. - ETA: 1s - loss: 0.2502 \n",
      "Epoch 2/10\n",
      "10000/10000 [==============================] - 6s 646us/step - loss: 0.2499 - acc: 0.5092 - val_loss: 0.2495 - val_acc: 0.5450\n",
      "Epoch 3/10\n",
      "10000/10000 [==============================] - 6s 643us/step - loss: 0.2499 - acc: 0.5013 - val_loss: 0.2493 - val_acc: 0.5450 loss: 0.2500 - acc: 0.49 - ETA: 4s - loss: 0.2500 - acc: 0.49 - ETA: 4s - loss: 0.2500 - acc: 0.49 - ETA: 4s - loss: 0 - ETA: 2s - loss: 0.2499 - acc:\n",
      "Epoch 4/10\n",
      "10000/10000 [==============================] - 6s 644us/step - loss: 0.2498 - acc: 0.5111 - val_loss: 0.2487 - val_acc: 0.5450s: 0.2498 - acc: - ETA: 1s - loss: 0.2498 - ac - ETA: 0s - loss: 0.249\n",
      "Epoch 5/10\n",
      "10000/10000 [==============================] - 6s 648us/step - loss: 0.2494 - acc: 0.5509 - val_loss: 0.2482 - val_acc: 0.5450oss: 0.2497 - acc: 0.506 - ETA: 4s - loss: 0.2497 - a - ETA: 3s - loss: 0.2496 - ETA: 2s - lo - ETA: 1s - loss: 0.2495 - ac - ETA: 0s - loss: 0.2495 - \n",
      "Epoch 6/10\n",
      "10000/10000 [==============================] - 6s 645us/step - loss: 0.2488 - acc: 0.5295 - val_loss: 0.2465 - val_acc: 0.5450s - loss: 0.2492 - acc:  - ETA: 4s - loss: 0.2490 - acc: 0. - ETA: 4s - ET - ETA: 0s - loss: 0.2488 - acc: 0.5\n",
      "Epoch 7/10\n",
      "10000/10000 [==============================] - 6s 644us/step - loss: 0.2443 - acc: 0.6085 - val_loss: 0.2350 - val_acc: 0.5800 loss: 0.2472 - acc:  - ETA: 4s - loss: 0.2471  - ETA: 3s - loss: 0.2468  - ETA: 2s - loss: 0.2464 - ac - ETA: 2s - loss: 0.2461 - acc: 0.5 - ETA: 1s -  - ETA: 0s - loss: 0.2446 - acc: 0.\n",
      "Epoch 8/10\n",
      "10000/10000 [==============================] - 6s 645us/step - loss: 0.1990 - acc: 0.8314 - val_loss: 0.1394 - val_acc: 0.8850 ETA: 3s - loss: 0.2280 - acc - ETA: 3s - loss: 0.2256 - acc: 0.732 - ETA: 3s - loss: 0.2252 - acc: 0.738 - ETA: 3s - loss: 0.2248 - acc: 0 - ETA: 2s - loss: 0.2229 - acc: 0. - ETA:  - ETA: 0s - loss: 0.2052 - acc: 0.81 - ETA: 0s - loss: 0.2039 - acc\n",
      "Epoch 9/10\n",
      "10000/10000 [==============================] - 6s 647us/step - loss: 0.0667 - acc: 0.9901 - val_loss: 0.0331 - val_acc: 1.00001139  - ETA: 4s - loss: 0.1037 - a - ETA: 3s - loss: 0.0969  - ETA: 2s - loss: 0.0876 - acc:  - ETA: 2s - loss: 0.0839 - acc: 0.9 - ETA: 2s - loss: 0.0823 - - ETA: 1s - loss: \n",
      "Epoch 10/10\n",
      "10000/10000 [==============================] - 6s 645us/step - loss: 0.0159 - acc: 0.9990 - val_loss: 0.0106 - val_acc: 1.0000- ETA: 2s - loss: 0.0181 - acc: 0.998 - ETA: 2s - loss:  - ETA: 0s - loss: 0.0167 - a - ETA: 0s - loss: 0.0162 - acc: 0.998 - ETA: 0s - loss: 0.0162 - acc: 0.\n"
     ]
    }
   ],
   "source": [
    "num_epochs = 10\n",
    "\n",
    "history = model.fit(\n",
    "    train_image_data,\n",
    "    train_class_data,\n",
    "    batch_size=100,\n",
    "    epochs=num_epochs,\n",
    "    verbose=1,\n",
    "    validation_data=(valid_image_data, valid_class_data))"
   ]
  },
  {
   "cell_type": "code",
   "execution_count": 10,
   "metadata": {},
   "outputs": [
    {
     "data": {
      "text/plain": [
       "Text(0.5,1,'Accuracy Curves')"
      ]
     },
     "execution_count": 10,
     "metadata": {},
     "output_type": "execute_result"
    },
    {
     "data": {
      "image/png": "[encoded data removed]",
      "text/plain": [
       "<Figure size 576x432 with 1 Axes>"
      ]
     },
     "metadata": {
      "needs_background": "light"
     },
     "output_type": "display_data"
    }
   ],
   "source": [
    "plt.figure(figsize=[8,6])\n",
    "plt.plot(history.history['acc'],'r',linewidth=3.0)\n",
    "plt.plot(history.history['val_acc'],'b',linewidth=3.0)\n",
    "plt.legend(['Training Accuracy', 'Validation Accuracy'],fontsize=18)\n",
    "plt.xlabel('Epochs ',fontsize=16)\n",
    "plt.ylabel('Accuracy',fontsize=16)\n",
    "plt.title('Accuracy Curves',fontsize=16)"
   ]
  },
  {
   "cell_type": "code",
   "execution_count": 11,
   "metadata": {},
   "outputs": [],
   "source": [
    "def plots(ims, ys, figsize=(20,6), rows=1, titles=None):\n",
    "    f = plt.figure(figsize=figsize)\n",
    "    cols = len(ims)//rows if len(ims) % 2 == 0 else len(ims)//rows + 1\n",
    "    for i in range(len(ims)):\n",
    "        sp = f.add_subplot(rows, cols, i+1)\n",
    "        sp.axis(\"Off\")\n",
    "        sp.set_title(str(y[i]), fontsize=16)\n",
    "        plt.imshow(ims[i][:, :, 0], cmap='gray')\n",
    "        plt.axvline(x=ys[i][0])\n",
    "        plt.axhline(y=ys[i][1])\n",
    "        \n",
    "\n",
    "def cplots(ims, ys, figsize=(20,6), rows=1, titles=None):\n",
    "    f = plt.figure(figsize=figsize)\n",
    "    cols = len(ims)//rows if len(ims) % 2 == 0 else len(ims)//rows + 1\n",
    "    for i in range(len(ims)):\n",
    "        sp = f.add_subplot(rows, cols, i+1)\n",
    "        sp.axis(\"Off\")\n",
    "        if titles is not None:\n",
    "            sp.set_title(str(titles[i]), fontsize=16)\n",
    "        plt.imshow(ims[i][:, :], cmap='jet')\n",
    "        # out = plt.colorbar()"
   ]
  },
  {
   "cell_type": "code",
   "execution_count": 13,
   "metadata": {},
   "outputs": [
    {
     "name": "stdout",
     "output_type": "stream",
     "text": [
      "Test index range: 0 -- 12\n"
     ]
    }
   ],
   "source": [
    "from_index = 0\n",
    "num_test_vis = 12\n",
    "to_index = from_index + num_test_vis\n",
    "\n",
    "print(\"Test index range: {} -- {}\".format(from_index, to_index))\n",
    "\n",
    "\n",
    "x = test_image_data[from_index:to_index]\n",
    "y = test_class_data[from_index:to_index]\n",
    "\n",
    "y_locs = test_locations_data[from_index:to_index]\n",
    "y_locs = y_locs / float(image_size)\n",
    "\n",
    "y_pred = np.rint( model.predict(x) )"
   ]
  },
  {
   "cell_type": "code",
   "execution_count": 14,
   "metadata": {},
   "outputs": [
    {
     "ename": "ModuleNotFoundError",
     "evalue": "No module named 'vis'",
     "output_type": "error",
     "traceback": [
      "\u001b[1;31m---------------------------------------------------------------------------\u001b[0m",
      "\u001b[1;31mModuleNotFoundError\u001b[0m                       Traceback (most recent call last)",
      "\u001b[1;32m<ipython-input-14-2c0a74f869f5>\u001b[0m in \u001b[0;36m<module>\u001b[1;34m\u001b[0m\n\u001b[1;32m----> 1\u001b[1;33m \u001b[1;32mfrom\u001b[0m \u001b[0mvis\u001b[0m\u001b[1;33m.\u001b[0m\u001b[0mvisualization\u001b[0m \u001b[1;32mimport\u001b[0m \u001b[0mvisualize_cam\u001b[0m\u001b[1;33m\u001b[0m\u001b[0m\n\u001b[0m\u001b[0;32m      2\u001b[0m \u001b[1;32mfrom\u001b[0m \u001b[0mvis\u001b[0m\u001b[1;33m.\u001b[0m\u001b[0mutils\u001b[0m \u001b[1;32mimport\u001b[0m \u001b[0mutils\u001b[0m\u001b[1;33m\u001b[0m\u001b[0m\n\u001b[0;32m      3\u001b[0m \u001b[1;33m\u001b[0m\u001b[0m\n\u001b[0;32m      4\u001b[0m \u001b[0mlayer_index\u001b[0m \u001b[1;33m=\u001b[0m \u001b[0mutils\u001b[0m\u001b[1;33m.\u001b[0m\u001b[0mfind_layer_idx\u001b[0m\u001b[1;33m(\u001b[0m\u001b[0mmodel\u001b[0m\u001b[1;33m,\u001b[0m \u001b[1;34m\"dense_1\"\u001b[0m\u001b[1;33m)\u001b[0m\u001b[1;33m\u001b[0m\u001b[0m\n\u001b[0;32m      5\u001b[0m \u001b[0mprint\u001b[0m\u001b[1;33m(\u001b[0m\u001b[1;34m\"Layer index for CAM = {}\"\u001b[0m\u001b[1;33m.\u001b[0m\u001b[0mformat\u001b[0m\u001b[1;33m(\u001b[0m\u001b[0mlayer_index\u001b[0m\u001b[1;33m)\u001b[0m\u001b[1;33m)\u001b[0m\u001b[1;33m\u001b[0m\u001b[0m\n",
      "\u001b[1;31mModuleNotFoundError\u001b[0m: No module named 'vis'"
     ]
    }
   ],
   "source": [
    "from vis.visualization import visualize_cam\n",
    "from vis.utils import utils\n",
    "\n",
    "layer_index = utils.find_layer_idx(model, \"dense_1\")\n",
    "print(\"Layer index for CAM = {}\".format(layer_index))\n",
    "\n",
    "heat_map = np.zeros((num_test_images, image_size, image_size), dtype=int)\n",
    "\n",
    "for i in range(num_test_vis):\n",
    "    heat_map[i][:,:] = visualize_cam(model, layer_index, None, x[from_index + i])"
   ]
  },
  {
   "cell_type": "code",
   "execution_count": null,
   "metadata": {},
   "outputs": [],
   "source": [
    "from numpy import unravel_index\n",
    "\n",
    "y_pred_locs = np.zeros([num_test_vis, 2])\n",
    "\n",
    "for i in range(num_test_vis):\n",
    "    maxindex = unravel_index(heat_map[i][:,:].argmax(), heat_map[i].shape)\n",
    "    if y_pred[i] == 0:\n",
    "        y_pred_locs[i] = [0, 0]\n",
    "    else:\n",
    "        y_pred_locs[i] = (maxindex[1], maxindex[0])\n",
    "\n",
    "y_pred_locs = y_pred_locs / float(image_size)"
   ]
  },
  {
   "cell_type": "code",
   "execution_count": null,
   "metadata": {},
   "outputs": [],
   "source": [
    "n = len(y_pred_locs)\n",
    "print(\"n = {}\".format(n))\n",
    "average_error = 0.0\n",
    "averaging_factor = 1.0 / n\n",
    "for i in range(n):\n",
    "    distance = np.linalg.norm(y_pred_locs[i] - y_locs[i])\n",
    "    average_error += distance * averaging_factor\n",
    "\n",
    "print(\"Average error: {0:.4f}\".format(average_error))    "
   ]
  },
  {
   "cell_type": "code",
   "execution_count": null,
   "metadata": {},
   "outputs": [],
   "source": [
    "cplots(heat_map[:num_test_vis],\n",
    "       y[from_index:(from_index + num_test_vis)],\n",
    "       figsize=(20,8),\n",
    "       rows=2,\n",
    "       titles=y_pred_locs)\n",
    "\n",
    "plots(x[from_index:(from_index + num_test_vis)],\n",
    "      y_pred_locs[from_index:(from_index + num_test_vis)] * image_size,\n",
    "      figsize=(20,8),\n",
    "      rows=2,\n",
    "      titles=y[from_index:(from_index + num_test_vis)])"
   ]
  },
  {
   "cell_type": "code",
   "execution_count": null,
   "metadata": {},
   "outputs": [],
   "source": [
    "# Saving weights into file tagged with timestamp, every time this block runs.\n",
    "\n",
    "import datetime\n",
    "\n",
    "timestamp = datetime.datetime.now().strftime('%Y-%m-%d_%H-%M-%S')\n",
    "\n",
    "weights_folder = os.path.join(root_folder, \"weights\")\n",
    "\n",
    "if not os.path.exists(weights_folder):\n",
    "    os.makedirs(weights_folder)\n",
    "    print(\"Creating folder: {}\".format(weights_folder))\n",
    "\n",
    "weights_file_name = \"weights_\" + timestamp + \".h5\"\n",
    "weights_file_path = os.path.join(weights_folder, weights_file_name)\n",
    "\n",
    "model.save_weights(weights_file_path)"
   ]
  },
  {
   "cell_type": "code",
   "execution_count": null,
   "metadata": {},
   "outputs": [],
   "source": []
  }
 ],
 "metadata": {
  "kernelspec": {
   "display_name": "Python 3",
   "language": "python",
   "name": "python3"
  },
  "language_info": {
   "codemirror_mode": {
    "name": "ipython",
    "version": 3
   },
   "file_extension": ".py",
   "mimetype": "text/x-python",
   "name": "python",
   "nbconvert_exporter": "python",
   "pygments_lexer": "ipython3",
   "version": "3.6.6"
  }
 },
 "nbformat": 4,
 "nbformat_minor": 2
}
