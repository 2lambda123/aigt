{
 "cells": [
  {
   "cell_type": "code",
   "execution_count": 1,
   "metadata": {
    "scrolled": true
   },
   "outputs": [
    {
     "data": {
      "text/plain": []
     },
     "execution_count": 1,
     "metadata": {},
     "output_type": "execute_result"
    }
   ],
   "source": [
    "output_folder = 'avgint'\n",
    "output_filename = 'avgi'\n",
    "crop_margins_ratio = [0.2, 0.8, 0.2, 0.6]  # minX, maxX, minY, maxY\n",
    "\n",
    "from local_vars import root_folder\n",
    "import os\n",
    "\n",
    "output_fullpath = os.path.join(root_folder, output_folder)\n",
    "output_fullname = os.path.join(output_fullpath, output_filename)\n",
    "\n",
    "if not os.path.exists(output_fullpath):\n",
    "    os.makedirs(output_fullpath)"
   ]
  },
  {
   "cell_type": "code",
   "execution_count": 2,
   "metadata": {},
   "outputs": [
    {
     "data": {
      "text/plain": [
       "Sequence browser node: vtkMRMLSequenceBrowserNode1\n",
       "Number of images: 3737\n"
      ]
     },
     "execution_count": 2,
     "metadata": {},
     "output_type": "execute_result"
    }
   ],
   "source": [
    "sequence_browser_node = slicer.util.getFirstNodeByName('', className='vtkMRMLSequenceBrowserNode')\n",
    "print \"Sequence browser node: \" + str(sequence_browser_node.GetID())\n",
    "\n",
    "n = sequence_browser_node.GetNumberOfItems()\n",
    "sequence_browser_node.SelectFirstItem()\n",
    "\n",
    "print \"Number of images: \" + str(n)"
   ]
  },
  {
   "cell_type": "code",
   "execution_count": 4,
   "metadata": {},
   "outputs": [
    {
     "data": {
      "text/plain": [
       "Ultrasound image node: Image_Image\n",
       "- dimensions: (512, 512, 1)\n",
       "- crop margins: [102, 409, 102, 307]\n"
      ]
     },
     "execution_count": 4,
     "metadata": {},
     "output_type": "execute_result"
    }
   ],
   "source": [
    "master_node = sequence_browser_node.GetMasterSequenceNode()\n",
    "image_node = sequence_browser_node.GetProxyNode(master_node)\n",
    "image_data = image_node.GetImageData()\n",
    "\n",
    "dims = image_data.GetDimensions()\n",
    "crop_px = [int(dims[0]*crop_margins_ratio[0]),\n",
    "           int(dims[0]*crop_margins_ratio[1]),\n",
    "           int(dims[1]*crop_margins_ratio[2]),\n",
    "           int(dims[1]*crop_margins_ratio[3])]\n",
    "\n",
    "print \"Ultrasound image node: \" + image_node.GetName()\n",
    "print \"- dimensions: \" + str(dims)\n",
    "print \"- crop margins: \" + str(crop_px)"
   ]
  },
  {
   "cell_type": "code",
   "execution_count": 26,
   "metadata": {},
   "outputs": [
    {
     "data": {
      "text/plain": [
       "Computed averages\n"
      ]
     },
     "execution_count": 26,
     "metadata": {},
     "output_type": "execute_result"
    }
   ],
   "source": [
    "import numpy as np\n",
    "\n",
    "image_extent = image_data.GetExtent()\n",
    "avg_intensities = np.zeros([n])\n",
    "\n",
    "for i in range(n):\n",
    "    image_data = image_node.GetImageData()\n",
    "    \n",
    "    image_array = slicer.util.arrayFromVolume(image_node)\n",
    "    cropped_array = image_array[:, crop_px[0]:crop_px[1], crop_px[2]:crop_px[3]]\n",
    "    avg_intensity = np.average(cropped_array)\n",
    "    avg_intensities[i] = avg_intensity\n",
    "    \n",
    "    # slicer.app.processEvents()\n",
    "    sequence_browser_node.SelectNextItem()\n",
    "    \n",
    "print \"Computed averages\""
   ]
  },
  {
   "cell_type": "code",
   "execution_count": 27,
   "metadata": {},
   "outputs": [
    {
     "data": {
      "text/plain": []
     },
     "execution_count": 27,
     "metadata": {},
     "output_type": "execute_result"
    }
   ],
   "source": [
    "timestamps = np.zeros([n])\n",
    "\n",
    "for i in range(n):\n",
    "    timestamps[i] = float(master_node.GetNthIndexValue(i))\n",
    "        "
   ]
  },
  {
   "cell_type": "code",
   "execution_count": 28,
   "metadata": {},
   "outputs": [
    {
     "data": {
      "text/plain": []
     },
     "execution_count": 28,
     "metadata": {},
     "output_type": "execute_result"
    }
   ],
   "source": [
    "slicer.app.layoutManager().setLayout(slicer.vtkMRMLLayoutNode.SlicerLayoutConventionalPlotView)\n",
    "\n",
    "table_node = slicer.mrmlScene.AddNewNodeByClass('vtkMRMLTableNode')\n",
    "table = table_node.GetTable()\n",
    "\n",
    "arr_x = vtk.vtkFloatArray()\n",
    "arr_x.SetName('Time')\n",
    "table.AddColumn(arr_x)\n",
    "\n",
    "arr_y = vtk.vtkFloatArray()\n",
    "arr_y.SetName('Avg intensity')\n",
    "table.AddColumn(arr_y)\n",
    "\n",
    "table.SetNumberOfRows(n)\n",
    "for i in range(n):\n",
    "    table.SetValue(i, 0, timestamps[i])\n",
    "    table.SetValue(i, 1, avg_intensities[i])\n",
    "\n",
    "plot_series_node = slicer.mrmlScene.AddNewNodeByClass('vtkMRMLPlotSeriesNode', \"Avg intensity\")\n",
    "plot_series_node.SetAndObserveTableNodeID(table_node.GetID())\n",
    "plot_series_node.SetXColumnName(\"Time\")\n",
    "plot_series_node.SetYColumnName(\"Avg intensity\")\n",
    "plot_series_node.SetPlotType(slicer.vtkMRMLPlotSeriesNode.PlotTypeScatter)\n",
    "plot_series_node.SetMarkerStyle(slicer.vtkMRMLPlotSeriesNode.MarkerStyleNone)\n",
    "plot_series_node.SetUniqueColor()\n",
    "\n",
    "plot_chart_node = slicer.mrmlScene.AddNewNodeByClass('vtkMRMLPlotChartNode')\n",
    "plot_chart_node.AddAndObservePlotSeriesNodeID(plot_series_node.GetID())\n",
    "plot_chart_node.SetTitle('Average intensities for each frame')\n",
    "plot_chart_node.SetXAxisTitle('Time (s)')\n",
    "plot_chart_node.SetYAxisTitle('Average intensity (0..255)')\n",
    "\n",
    "layout_manager = slicer.app.layoutManager()\n",
    "plot_layout = slicer.modules.plots.logic().GetLayoutWithPlot(layout_manager.layout)\n",
    "layout_manager.setLayout(plot_layout)\n",
    "\n",
    "plot_widget = layout_manager.plotWidget(0)\n",
    "plot_view_node = plot_widget.mrmlPlotViewNode()\n",
    "plot_view_node.SetPlotChartNodeID(plot_chart_node.GetID())"
   ]
  },
  {
   "cell_type": "code",
   "execution_count": 29,
   "metadata": {},
   "outputs": [
    {
     "data": {
      "text/plain": [
       "[ 82.11858266  82.11858266  82.16408993  82.21981409]\n"
      ]
     },
     "execution_count": 29,
     "metadata": {},
     "output_type": "execute_result"
    }
   ],
   "source": [
    "# np.save(output_fullname, avg_intensities)\n",
    "\n",
    "print (avg_intensities[:4])"
   ]
  },
  {
   "cell_type": "code",
   "execution_count": null,
   "metadata": {},
   "outputs": [],
   "source": []
  }
 ],
 "metadata": {
  "kernelspec": {
   "display_name": "Slicer 4.11",
   "language": "python",
   "name": "slicer-4.11"
  },
  "language_info": {
   "codemirror_mode": {
    "name": "ipython",
    "version": 3
   },
   "file_extension": ".py",
   "mimetype": "text/x-python",
   "name": "python",
   "nbconvert_exporter": "python",
   "pygments_lexer": "ipython3",
   "version": "2.7.13+"
  }
 },
 "nbformat": 4,
 "nbformat_minor": 2
}
