{
 "cells": [
  {
   "cell_type": "code",
   "execution_count": 30,
   "metadata": {},
   "outputs": [
    {
     "data": {
      "text/plain": []
     },
     "execution_count": 30,
     "metadata": {},
     "output_type": "execute_result"
    }
   ],
   "source": [
    "import numpy as np\n",
    "\n",
    "def import_numpy_array(fileName, volumeName, channel=-1):\n",
    "  print(\"Importing {} into {}\".format(fileName, volumeName))\n",
    "  numpyArray = np.load(fileName)\n",
    "  \n",
    "  if len(numpyArray.shape) < 3:\n",
    "    print(\"ERROR: array is less than 3 dimensional!\")\n",
    "    return\n",
    "  volumeNode = slicer.mrmlScene.GetFirstNode(volumeName, 'vtkMRMLScalarVolumeNode')\n",
    "  if volumeNode is None:\n",
    "    volumeNode = slicer.mrmlScene.AddNewNodeByClass('vtkMRMLScalarVolumeNode')\n",
    "    volumeNode.SetName(volumeName)\n",
    "    volumeNode.CreateDefaultDisplayNodes()\n",
    "  \n",
    "  if channel != -1:\n",
    "    slicer.util.updateVolumeFromArray(volumeNode, numpyArray[:, :, :, channel].astype('float32'))\n",
    "  else:\n",
    "    slicer.util.updateVolumeFromArray(volumeNode, numpyArray.astype('float32'))\n",
    "  \n",
    "  slicer.util.setSliceViewerLayers(background=volumeNode)\n",
    "  \n",
    "  return numpyArray"
   ]
  },
  {
   "cell_type": "code",
   "execution_count": 26,
   "metadata": {},
   "outputs": [
    {
     "data": {
      "text/plain": [
       "Importing d:\\Data\\SagittalSpineSegmentationStudy\\PredictionsValidation\\q000_ultrasound_prediction.npy into val-pred\n"
      ]
     },
     "execution_count": 26,
     "metadata": {},
     "output_type": "execute_result"
    }
   ],
   "source": [
    "# 1st validation prediction\n",
    "import_numpy_array(\"d:\\Data\\SagittalSpineSegmentationStudy\\PredictionsValidation\\q000_ultrasound_prediction.npy\", \"val-pred\", 1)"
   ]
  },
  {
   "cell_type": "code",
   "execution_count": 25,
   "metadata": {},
   "outputs": [
    {
     "data": {
      "text/plain": [
       "Importing d:\\Data\\SagittalSpineSegmentationStudy\\DataArrays\\q000_ultrasound.npy into val-ultrasound\n"
      ]
     },
     "execution_count": 25,
     "metadata": {},
     "output_type": "execute_result"
    }
   ],
   "source": [
    "# 1st validation ultrasound\n",
    "import_numpy_array(\"d:\\Data\\SagittalSpineSegmentationStudy\\DataArrays\\q000_ultrasound.npy\", \"val-ultrasound\", 0)"
   ]
  },
  {
   "cell_type": "code",
   "execution_count": 32,
   "metadata": {},
   "outputs": [
    {
     "data": {
      "text/plain": [
       "Importing d:\\Data\\SagittalSpineSegmentationStudy\\DataArrays\\q000_segmentation.npy into val-segmentation\n"
      ]
     },
     "execution_count": 32,
     "metadata": {},
     "output_type": "execute_result"
    }
   ],
   "source": [
    "# 1st validation segmentation\n",
    "seg_arr = import_numpy_array(\"d:\\Data\\SagittalSpineSegmentationStudy\\DataArrays\\q000_segmentation.npy\", \"val-segmentation\", 0) "
   ]
  },
  {
   "cell_type": "code",
   "execution_count": 40,
   "metadata": {},
   "outputs": [
    {
     "data": {
      "text/plain": [
       "Importing d:\\Data\\SagittalSpineSegmentationStudy\\DataArrays\\ultrasound-test.npy into ultrasound-test\n"
      ]
     },
     "execution_count": 40,
     "metadata": {},
     "output_type": "execute_result"
    }
   ],
   "source": [
    "# test ultrasound\n",
    "import_numpy_array(r\"d:\\Data\\SagittalSpineSegmentationStudy\\DataArrays\\ultrasound-test.npy\", \"ultrasound-test\", 0)"
   ]
  },
  {
   "cell_type": "code",
   "execution_count": 39,
   "metadata": {},
   "outputs": [
    {
     "data": {
      "text/plain": [
       "Importing d:\\Data\\SagittalSpineSegmentationStudy\\PredictionsTest\\prediction-test.npy into prediction-test\n"
      ]
     },
     "execution_count": 39,
     "metadata": {},
     "output_type": "execute_result"
    }
   ],
   "source": [
    "# 1st test prediction\n",
    "import_numpy_array(r\"d:\\Data\\SagittalSpineSegmentationStudy\\PredictionsTest\\prediction-test.npy\", \"prediction-test\", 1)"
   ]
  },
  {
   "cell_type": "code",
   "execution_count": 37,
   "metadata": {},
   "outputs": [
    {
     "data": {
      "text/plain": [
       "8568832\n",
       "23983\n",
       "0.0027988645360301147\n"
      ]
     },
     "execution_count": 37,
     "metadata": {},
     "output_type": "execute_result"
    }
   ],
   "source": [
    "print(seg_arr.size)\n",
    "print(np.count_nonzero(seg_arr))\n",
    "print(np.count_nonzero(seg_arr) / seg_arr.size)"
   ]
  },
  {
   "cell_type": "code",
   "execution_count": null,
   "metadata": {},
   "outputs": [],
   "source": []
  }
 ],
 "metadata": {
  "kernelspec": {
   "display_name": "Slicer 4.11",
   "language": "python",
   "name": "slicer-4.11"
  },
  "language_info": {
   "codemirror_mode": {
    "name": "ipython",
    "version": 3
   },
   "file_extension": ".py",
   "mimetype": "text/x-python",
   "name": "python",
   "nbconvert_exporter": "python",
   "pygments_lexer": "ipython3",
   "version": "2.7.13+"
  }
 },
 "nbformat": 4,
 "nbformat_minor": 2
}
