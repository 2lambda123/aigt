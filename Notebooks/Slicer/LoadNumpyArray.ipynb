{
 "cells": [
  {
   "cell_type": "code",
   "execution_count": 4,
   "metadata": {},
   "outputs": [
    {
     "data": {
      "text/plain": []
     },
     "execution_count": 4,
     "metadata": {},
     "output_type": "execute_result"
    }
   ],
   "source": [
    "# Typically you need to update this two\n",
    "\n",
    "vali_pred = r\"c:\\Data\\SagittalSpineSegmentationStudy\\PredictionsValidation\\2019-10-30_00-51-59_prediction_q007_ultrasound.npy\"\n",
    "test_pred = r\"c:\\Data\\SagittalSpineSegmentationStudy\\PredictionsTest\\2019-10-30_00-51-59_prediction_test.npy\"\n",
    "\n",
    "# Sometimes these as well\n",
    "\n",
    "vali_ultr = r\"c:\\Data\\SagittalSpineSegmentationStudy\\DataArrays\\q007_ultrasound.npy\"\n",
    "vali_segm = r\"c:\\Data\\SagittalSpineSegmentationStudy\\DataArrays\\q007_segmentation.npy\"\n",
    "\n",
    "test_ultr = r\"c:\\Data\\SagittalSpineSegmentationStudy\\DataArrays\\ultrasound-test.npy\"\n",
    "test_segm = r\"c:\\Data\\SagittalSpineSegmentationStudy\\DataArrays\\segmentation-test.npy\""
   ]
  },
  {
   "cell_type": "code",
   "execution_count": 5,
   "metadata": {},
   "outputs": [
    {
     "data": {
      "text/plain": []
     },
     "execution_count": 5,
     "metadata": {},
     "output_type": "execute_result"
    }
   ],
   "source": [
    "import numpy as np\n",
    "\n",
    "def import_numpy_array(fileName, volumeName, channel=-1):\n",
    "  numpyArray = np.load(fileName)\n",
    "  \n",
    "  if len(numpyArray.shape) < 3:\n",
    "    print(\"ERROR: array is less than 3 dimensional!\")\n",
    "    return\n",
    "  volumeNode = slicer.mrmlScene.GetFirstNode(volumeName, 'vtkMRMLScalarVolumeNode')\n",
    "  if volumeNode is None:\n",
    "    volumeNode = slicer.mrmlScene.AddNewNodeByClass('vtkMRMLScalarVolumeNode')\n",
    "    volumeNode.SetName(volumeName)\n",
    "    volumeNode.CreateDefaultDisplayNodes()\n",
    "  \n",
    "  if channel != -1:\n",
    "    slicer.util.updateVolumeFromArray(volumeNode, numpyArray[:, :, :, channel].astype('float32'))\n",
    "  else:\n",
    "    slicer.util.updateVolumeFromArray(volumeNode, numpyArray.astype('float32'))\n",
    "  \n",
    "  return numpyArray, volumeNode"
   ]
  },
  {
   "cell_type": "code",
   "execution_count": 6,
   "metadata": {},
   "outputs": [
    {
     "data": {
      "text/plain": []
     },
     "execution_count": 6,
     "metadata": {},
     "output_type": "execute_result"
    }
   ],
   "source": [
    "# 1st validation prediction\n",
    "vali_pred_arr, vali_pred_node = import_numpy_array(vali_pred, \"vali_pred\", 1)\n",
    "vali_ultr_arr, vali_ultr_node = import_numpy_array(vali_ultr, \"vali_ultr\", 0)\n",
    "vali_segm_arr, vali_segm_node = import_numpy_array(vali_segm, \"vali_segm\", 0)\n",
    "\n",
    "test_pred_arr, test_pred_node = import_numpy_array(test_pred, \"test_pred\", 1)\n",
    "test_ultr_arr, test_ultr_node = import_numpy_array(test_ultr, \"test_ultr\", 0)\n",
    "test_segm_arr, test_segm_node = import_numpy_array(test_segm, \"test_segm\", 0)"
   ]
  },
  {
   "cell_type": "code",
   "execution_count": 7,
   "metadata": {},
   "outputs": [
    {
     "data": {
      "text/plain": []
     },
     "execution_count": 7,
     "metadata": {},
     "output_type": "execute_result"
    }
   ],
   "source": [
    "slicer.util.setSliceViewerLayers(background=test_ultr_node, foreground=test_pred_node)"
   ]
  },
  {
   "cell_type": "code",
   "execution_count": 37,
   "metadata": {},
   "outputs": [
    {
     "data": {
      "text/plain": [
       "8568832\n",
       "23983\n",
       "0.0027988645360301147\n"
      ]
     },
     "execution_count": 37,
     "metadata": {},
     "output_type": "execute_result"
    }
   ],
   "source": [
    "print(test_segm_arr.size)\n",
    "print(np.count_nonzero(test_segm_arr))\n",
    "print(np.count_nonzero(test_segm_arr) / seg_arr.size)"
   ]
  },
  {
   "cell_type": "code",
   "execution_count": null,
   "metadata": {},
   "outputs": [],
   "source": []
  }
 ],
 "metadata": {
  "kernelspec": {
   "display_name": "Slicer 4.11",
   "language": "python",
   "name": "slicer-4.11"
  },
  "language_info": {
   "codemirror_mode": {
    "name": "ipython",
    "version": 3
   },
   "file_extension": ".py",
   "mimetype": "text/x-python",
   "name": "python",
   "nbconvert_exporter": "python",
   "pygments_lexer": "ipython3",
   "version": "2.7.13+"
  }
 },
 "nbformat": 4,
 "nbformat_minor": 2
}
