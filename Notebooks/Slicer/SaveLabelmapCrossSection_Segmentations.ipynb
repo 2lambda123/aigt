{
 "cells": [
  {
   "cell_type": "code",
   "execution_count": 61,
   "metadata": {},
   "outputs": [
    {
     "data": {
      "text/plain": [
       "Export data to: j:\\Temp\\seg1\n"
      ]
     },
     "execution_count": 61,
     "metadata": {},
     "output_type": "execute_result"
    }
   ],
   "source": [
    "export_folder = \"seg1\"\n",
    "root_folder = r\"j:\\Temp\"\n",
    "\n",
    "import os\n",
    "\n",
    "export_fullpath = os.path.join(root_folder, export_folder)\n",
    "\n",
    "if not os.path.exists(export_fullpath):\n",
    "    os.makedirs(export_fullpath)\n",
    "    print(\"Created folder: \" + export_fullpath)\n",
    "\n",
    "print \"Export data to: \" + export_fullpath"
   ]
  },
  {
   "cell_type": "code",
   "execution_count": 62,
   "metadata": {},
   "outputs": [
    {
     "data": {
      "text/plain": [
       "Segmentation node: Segmentation\n",
       "Ultrasound image node: SkullScan20160719_110911_ImageToReference-Image\n"
      ]
     },
     "execution_count": 62,
     "metadata": {},
     "output_type": "execute_result"
    }
   ],
   "source": [
    "segmentation_name = \"Segmentation\"\n",
    "image_name = \"-Image\"\n",
    "\n",
    "segmentation_node = slicer.util.getFirstNodeByName(segmentation_name, className=\"vtkMRMLSegmentationNode\")\n",
    "print \"Segmentation node: \" + segmentation_node.GetName()\n",
    "\n",
    "image_node = slicer.util.getFirstNodeByName(image_name, className=\"vtkMRMLScalarVolumeNode\")\n",
    "print \"Ultrasound image node: \" + image_node.GetName()"
   ]
  },
  {
   "cell_type": "code",
   "execution_count": 63,
   "metadata": {},
   "outputs": [
    {
     "data": {
      "text/plain": []
     },
     "execution_count": 63,
     "metadata": {},
     "output_type": "execute_result"
    }
   ],
   "source": [
    "labelmap_volume_node = slicer.mrmlScene.AddNewNodeByClass('vtkMRMLLabelMapVolumeNode')\n",
    "\n",
    "slicer.modules.segmentations.logic().ExportVisibleSegmentsToLabelmapNode(segmentation_node, labelmap_volume_node, image_node)"
   ]
  },
  {
   "cell_type": "code",
   "execution_count": 72,
   "metadata": {},
   "outputs": [
    {
     "data": {
      "text/plain": [
       "Resliced image dimensions: (512, 512, 1)\n"
      ]
     },
     "execution_count": 72,
     "metadata": {},
     "output_type": "execute_result"
    }
   ],
   "source": [
    "labelmap_reslice_image = labelmap_volume_node.GetImageData()\n",
    "\n",
    "dims = labelmap_reslice_image.GetDimensions()\n",
    "\n",
    "print \"Resliced image dimensions: \" + str(dims)\n",
    "\n",
    "ic = vtk.vtkImageCast()\n",
    "ic.SetInputData(labelmap_reslice_image)\n",
    "ic.SetOutputScalarTypeToUnsignedChar()\n",
    "ic.Update()\n",
    "\n",
    "labelmap_reslice_image_uchar = ic.GetOutput()\n",
    "\n",
    "# print labelmap_reslice_image_uchar"
   ]
  },
  {
   "cell_type": "code",
   "execution_count": 65,
   "metadata": {},
   "outputs": [
    {
     "data": {
      "text/plain": [
       "labelmap img dims: (512, 512, 1)\n",
       "numpy array shape: (1L, 512L, 512L)\n",
       "Writing numpy array to: j:\\Temp\\seg1\\numpy_array\n"
      ]
     },
     "execution_count": 65,
     "metadata": {},
     "output_type": "execute_result"
    }
   ],
   "source": [
    "import numpy as np\n",
    "\n",
    "b = slicer.util.array(labelmap_volume_node.GetID())\n",
    "\n",
    "print \"labelmap img dims: \" + str(dims)\n",
    "print \"numpy array shape: \" + str(b.shape)\n",
    "\n",
    "arr_fullpath = os.path.join(export_fullpath, \"numpy_array\")\n",
    "np.save(arr_fullpath, b)\n",
    "\n",
    "print \"Writing numpy array to: \" + arr_fullpath"
   ]
  },
  {
   "cell_type": "code",
   "execution_count": 73,
   "metadata": {},
   "outputs": [
    {
     "data": {
      "text/plain": [
       "Image exported to: j:\\Temp\\seg1\\vtk_png_writer.png\n"
      ]
     },
     "execution_count": 73,
     "metadata": {},
     "output_type": "execute_result"
    }
   ],
   "source": [
    "png_file_name = \"vtk_png_writer.png\"\n",
    "png_fullpath = os.path.join(export_fullpath, png_file_name)\n",
    "\n",
    "png_writer = vtk.vtkPNGWriter()\n",
    "png_writer.SetInputData(labelmap_reslice_image_uchar)\n",
    "png_writer.SetFileName(png_fullpath)\n",
    "png_writer.Update()\n",
    "png_writer.Write()\n",
    "\n",
    "print \"Image exported to: \" + png_fullpath"
   ]
  },
  {
   "cell_type": "code",
   "execution_count": 67,
   "metadata": {},
   "outputs": [
    {
     "data": {
      "text/plain": [
       "Image exported to: j:\\Temp\\seg1\\vtk_jpg_writer.jpg\n"
      ]
     },
     "execution_count": 67,
     "metadata": {},
     "output_type": "execute_result"
    }
   ],
   "source": [
    "jpg_file_name = \"vtk_jpg_writer.jpg\"\n",
    "jpg_fullpath = os.path.join(export_fullpath, jpg_file_name)\n",
    "\n",
    "jpg_writer = vtk.vtkJPEGWriter()\n",
    "jpg_writer.SetInputData(labelmap_reslice_image)\n",
    "jpg_writer.SetFileName(jpg_fullpath)\n",
    "jpg_writer.Update()\n",
    "jpg_writer.Write()\n",
    "\n",
    "print \"Image exported to: \" + jpg_fullpath"
   ]
  },
  {
   "cell_type": "code",
   "execution_count": 68,
   "metadata": {},
   "outputs": [
    {
     "data": {
      "text/plain": []
     },
     "execution_count": 68,
     "metadata": {},
     "output_type": "execute_result"
    }
   ],
   "source": [
    "import cv2\n",
    "\n",
    "jpg_fullpath = os.path.join(export_fullpath, \"cv2_imwrite.jpg\")\n",
    "\n",
    "cv2.imwrite(jpg_fullpath, b[0, :, :])"
   ]
  },
  {
   "cell_type": "code",
   "execution_count": null,
   "metadata": {},
   "outputs": [],
   "source": []
  }
 ],
 "metadata": {
  "kernelspec": {
   "display_name": "Slicer 4.11",
   "language": "python",
   "name": "slicer-4.11"
  },
  "language_info": {
   "codemirror_mode": {
    "name": "ipython",
    "version": 3
   },
   "file_extension": ".py",
   "mimetype": "text/x-python",
   "name": "python",
   "nbconvert_exporter": "python",
   "pygments_lexer": "ipython3",
   "version": "2.7.13+"
  }
 },
 "nbformat": 4,
 "nbformat_minor": 2
}
