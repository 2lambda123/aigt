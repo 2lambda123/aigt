{
 "cells": [
  {
   "cell_type": "code",
   "execution_count": 1,
   "metadata": {},
   "outputs": [
    {
     "data": {
      "text/plain": [
       "Export data to: j:\\Temp\\seg1\n"
      ]
     },
     "execution_count": 1,
     "metadata": {},
     "output_type": "execute_result"
    }
   ],
   "source": [
    "export_folder = \"seg1\"\n",
    "root_folder = r\"j:\\Temp\"\n",
    "\n",
    "import os\n",
    "\n",
    "export_fullpath = os.path.join(root_folder, export_folder)\n",
    "\n",
    "if not os.path.exists(export_fullpath):\n",
    "    os.makedirs(export_fullpath)\n",
    "    print(\"Created folder: \" + export_fullpath)\n",
    "\n",
    "print \"Export data to: \" + export_fullpath"
   ]
  },
  {
   "cell_type": "code",
   "execution_count": 2,
   "metadata": {},
   "outputs": [
    {
     "data": {
      "text/plain": [
       "Labelmap dimensions: (344, 103, 106)\n",
       "Ultrasound image node: vtkMRMLScalarVolumeNode1\n",
       "Sequence browser node: vtkMRMLSequenceBrowserNode1\n",
       "ImageToReference transform node: SkullScan20160719_110911_ImageToReference-ImageToReference\n"
      ]
     },
     "execution_count": 2,
     "metadata": {},
     "output_type": "execute_result"
    }
   ],
   "source": [
    "labelmap_name = \"Segmentation-label\"\n",
    "image_name = \"-Image\"\n",
    "\n",
    "labelmap_node = slicer.util.getFirstNodeByName(labelmap_name)\n",
    "labelmap_image = labelmap_node.GetImageData()\n",
    "print \"Labelmap dimensions: \" + str(labelmap_image.GetDimensions())\n",
    "\n",
    "image_node = slicer.util.getFirstNodeByName(image_name, className=\"vtkMRMLScalarVolumeNode\")\n",
    "print \"Ultrasound image node: \" + image_node.GetID()\n",
    "\n",
    "sequence_browser_node = slicer.util.getFirstNodeByName('', className='vtkMRMLSequenceBrowserNode')\n",
    "print \"Sequence browser node: \" + str(sequence_browser_node.GetID())\n",
    "\n",
    "image_transform_node = slicer.util.getNode(image_node.GetTransformNodeID())\n",
    "# image_to_reference_matrix = vtk.vtkMatrix4x4()\n",
    "# image_transform_node.GetMatrixTransformToWorld(image_to_reference_matrix)\n",
    "print \"ImageToReference transform node: \" + image_transform_node.GetName()"
   ]
  },
  {
   "cell_type": "code",
   "execution_count": 3,
   "metadata": {},
   "outputs": [
    {
     "data": {
      "text/plain": []
     },
     "execution_count": 3,
     "metadata": {},
     "output_type": "execute_result"
    }
   ],
   "source": [
    "image_to_reference_matrix = vtk.vtkMatrix4x4()\n",
    "image_transform_node.GetMatrixTransformToWorld(image_to_reference_matrix)\n",
    "image_to_reference_transform = vtk.vtkTransform()\n",
    "image_to_reference_transform.SetMatrix(image_to_reference_matrix)\n",
    "\n",
    "t = image_to_reference_transform.GetPosition()\n",
    "o = image_to_reference_transform.GetOrientationWXYZ()\n",
    "\n",
    "reslice_to_reference_transform = vtk.vtkTransform()\n",
    "reslice_to_reference_transform.Translate(t)\n",
    "reslice_to_reference_transform.RotateWXYZ(o[0], o[1], o[2], o[3])\n",
    "\n",
    "reslice_to_reference_matrix = vtk.vtkMatrix4x4()\n",
    "reslice_to_reference_transform.GetMatrix(reslice_to_reference_matrix)"
   ]
  },
  {
   "cell_type": "code",
   "execution_count": 4,
   "metadata": {},
   "outputs": [
    {
     "data": {
      "text/plain": [
       "Resliced image dimensions: (331, 118, 1)\n"
      ]
     },
     "execution_count": 4,
     "metadata": {},
     "output_type": "execute_result"
    }
   ],
   "source": [
    "reslice = vtk.vtkImageReslice()\n",
    "reslice.SetInputData(labelmap_image)\n",
    "reslice.SetOutputDimensionality(2)\n",
    "reslice.SetInterpolationModeToLinear()\n",
    "reslice.SetResliceAxes(reslice_to_reference_matrix)\n",
    "reslice.Update()\n",
    "labelmap_reslice_image = reslice.GetOutput()\n",
    "\n",
    "dims = labelmap_reslice_image.GetDimensions()\n",
    "print \"Resliced image dimensions: \" + str(dims)"
   ]
  },
  {
   "cell_type": "code",
   "execution_count": 5,
   "metadata": {},
   "outputs": [
    {
     "data": {
      "text/plain": [
       "Image exported to: j:\\Temp\\seg1\\vtk_png_writer.png\n"
      ]
     },
     "execution_count": 5,
     "metadata": {},
     "output_type": "execute_result"
    }
   ],
   "source": [
    "png_file_name = \"vtk_png_writer.png\"\n",
    "png_fullpath = os.path.join(export_fullpath, png_file_name)\n",
    "\n",
    "png_writer = vtk.vtkPNGWriter()\n",
    "png_writer.SetInputData(labelmap_reslice_image)\n",
    "png_writer.SetFileName(png_fullpath)\n",
    "png_writer.Update()\n",
    "png_writer.Write()\n",
    "\n",
    "print \"Image exported to: \" + png_fullpath"
   ]
  },
  {
   "cell_type": "code",
   "execution_count": 6,
   "metadata": {},
   "outputs": [
    {
     "data": {
      "text/plain": [
       "dims: (331, 118, 1)\n",
       "(331L, 118L)\n",
       "max: 1\n",
       "min: 0\n",
       "Writing numpy array to: j:\\Temp\\seg1\\numpy_array\n"
      ]
     },
     "execution_count": 6,
     "metadata": {},
     "output_type": "execute_result"
    }
   ],
   "source": [
    "from vtk.util import numpy_support\n",
    "import numpy as np\n",
    "\n",
    "dims = labelmap_reslice_image.GetDimensions()\n",
    "\n",
    "a = numpy_support.vtk_to_numpy(labelmap_reslice_image.GetPointData().GetScalars())\n",
    "# b = a.reshape(dims[0], dims[1], dims[2])\n",
    "b = a.reshape(dims[0], dims[1])\n",
    "\n",
    "print \"dims: \" + str(dims)\n",
    "print str(b.shape)\n",
    "print \"max: \" + str(a.max())\n",
    "print \"min: \" + str(a.min())\n",
    "\n",
    "arr_fullpath = os.path.join(export_fullpath, \"numpy_array\")\n",
    "np.save(arr_fullpath, b)\n",
    "\n",
    "print \"Writing numpy array to: \" + arr_fullpath"
   ]
  },
  {
   "cell_type": "code",
   "execution_count": 7,
   "metadata": {},
   "outputs": [
    {
     "data": {
      "text/plain": [
       "(118L, 3L)\n",
       "(331L, 118L)\n",
       "(331L, 118L, 3L)\n"
      ]
     },
     "execution_count": 7,
     "metadata": {},
     "output_type": "execute_result"
    }
   ],
   "source": [
    "import cv2\n",
    "\n",
    "jpg_fullpath = os.path.join(export_fullpath, \"OpenCV_imwrite.jpg\")\n",
    "\n",
    "bc = np.zeros([dims[0], dims[1], 3])\n",
    "\n",
    "print str(bc[0][:,:].shape)\n",
    "print str(b[:,:].shape)\n",
    "\n",
    "bc[:,:,0] = b[:,:]\n",
    "bc[:,:,1] = b[:,:]\n",
    "bc[:,:,2] = b[:,:]\n",
    "\n",
    "print str(bc.shape)\n",
    "\n",
    "cv2.imwrite(jpg_fullpath, bc)"
   ]
  },
  {
   "cell_type": "code",
   "execution_count": null,
   "metadata": {},
   "outputs": [],
   "source": []
  }
 ],
 "metadata": {
  "kernelspec": {
   "display_name": "Slicer 4.11",
   "language": "python",
   "name": "slicer-4.11"
  },
  "language_info": {
   "codemirror_mode": {
    "name": "ipython",
    "version": 3
   },
   "file_extension": ".py",
   "mimetype": "text/x-python",
   "name": "python",
   "nbconvert_exporter": "python",
   "pygments_lexer": "ipython3",
   "version": "2.7.13+"
  }
 },
 "nbformat": 4,
 "nbformat_minor": 2
}
