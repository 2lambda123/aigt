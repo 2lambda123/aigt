{
 "cells": [
  {
   "cell_type": "code",
   "execution_count": 3,
   "metadata": {},
   "outputs": [
    {
     "data": {
      "text/plain": [
       "Export data to: c:\\Temp\\pros1\n"
      ]
     },
     "execution_count": 3,
     "metadata": {},
     "output_type": "execute_result"
    }
   ],
   "source": [
    "export_folder = \"pros1\"\n",
    "filename_prefix = \"pros1\"\n",
    "sequence_browser_name = \"UsScan1\"\n",
    "\n",
    "from local_vars import root_folder\n",
    "import os\n",
    "\n",
    "export_fullpath = os.path.join(root_folder, export_folder)\n",
    "\n",
    "if not os.path.exists(export_fullpath):\n",
    "    os.makedirs(export_fullpath)\n",
    "    print(\"Created folder: \" + export_fullpath)\n",
    "\n",
    "print \"Export data to: \" + export_fullpath"
   ]
  },
  {
   "cell_type": "code",
   "execution_count": 4,
   "metadata": {},
   "outputs": [
    {
     "data": {
      "text/plain": [
       "Segmentation node: CatheterSegmentation\n",
       "Ultrasound image node: Image_Image\n",
       "Sequence browser node: vtkMRMLSequenceBrowserNode2\n"
      ]
     },
     "execution_count": 4,
     "metadata": {},
     "output_type": "execute_result"
    }
   ],
   "source": [
    "segmentation_name = \"CatheterSegmentation\"\n",
    "image_name = \"Image_Image\"\n",
    "\n",
    "segmentation_node = slicer.util.getFirstNodeByName(segmentation_name, className=\"vtkMRMLSegmentationNode\")\n",
    "print \"Segmentation node: \" + segmentation_node.GetName()\n",
    "\n",
    "image_node = slicer.util.getFirstNodeByName(image_name, className=\"vtkMRMLScalarVolumeNode\")\n",
    "print \"Ultrasound image node: \" + image_node.GetName()\n",
    "\n",
    "# sequence_browser_node = slicer.util.getFirstNodeByName('', className='vtkMRMLSequenceBrowserNode')\n",
    "sequence_browser_node = slicer.util.getFirstNodeByName(sequence_browser_name, className='vtkMRMLSequenceBrowserNode')\n",
    "print \"Sequence browser node: \" + str(sequence_browser_node.GetID())"
   ]
  },
  {
   "cell_type": "code",
   "execution_count": 5,
   "metadata": {},
   "outputs": [
    {
     "data": {
      "text/plain": [
       "Number of images: 523\n"
      ]
     },
     "execution_count": 5,
     "metadata": {},
     "output_type": "execute_result"
    }
   ],
   "source": [
    "num_items = sequence_browser_node.GetNumberOfItems()\n",
    "n = num_items\n",
    "sequence_browser_node.SelectFirstItem()\n",
    "\n",
    "print \"Number of images: \" + str(n)"
   ]
  },
  {
   "cell_type": "code",
   "execution_count": 6,
   "metadata": {},
   "outputs": [
    {
     "data": {
      "text/plain": []
     },
     "execution_count": 6,
     "metadata": {},
     "output_type": "execute_result"
    }
   ],
   "source": [
    "labelmap_volume_node = slicer.mrmlScene.AddNewNodeByClass('vtkMRMLLabelMapVolumeNode')\n",
    "\n",
    "ic = vtk.vtkImageCast()\n",
    "ic.SetOutputScalarTypeToUnsignedChar()\n",
    "ic.Update()\n",
    "\n",
    "png_writer = vtk.vtkPNGWriter()\n",
    "\n",
    "for i in range(n):\n",
    "    slicer.modules.segmentations.logic().ExportVisibleSegmentsToLabelmapNode(segmentation_node, labelmap_volume_node, image_node)\n",
    "    segmented_image = labelmap_volume_node.GetImageData()\n",
    "    input_image = image_node.GetImageData()\n",
    "    \n",
    "    seg_file_name = filename_prefix + \"_%04d_segmentation\" % i + \".png\"\n",
    "    img_file_name = filename_prefix + \"_%04d_ultrasound\" % i + \".png\"\n",
    "    seg_fullname = os.path.join(export_fullpath, seg_file_name)\n",
    "    img_fullname = os.path.join(export_fullpath, img_file_name)\n",
    "    \n",
    "    ic.SetInputData(segmented_image)\n",
    "    ic.Update()\n",
    "    png_writer.SetInputData(ic.GetOutput())\n",
    "    png_writer.SetFileName(seg_fullname)\n",
    "    png_writer.Update()\n",
    "    png_writer.Write()\n",
    "    \n",
    "    ic.SetInputData(input_image)\n",
    "    ic.Update()\n",
    "    png_writer.SetInputData(ic.GetOutput())\n",
    "    png_writer.SetFileName(img_fullname)\n",
    "    png_writer.Update()\n",
    "    png_writer.Write()\n",
    "    \n",
    "    sequence_browser_node.SelectNextItem()\n",
    "    \n",
    "    # slicer.app.processEvents()"
   ]
  },
  {
   "cell_type": "code",
   "execution_count": null,
   "metadata": {},
   "outputs": [],
   "source": []
  }
 ],
 "metadata": {
  "kernelspec": {
   "display_name": "Slicer 4.10",
   "language": "python",
   "name": "slicer-4.10"
  },
  "language_info": {
   "codemirror_mode": {
    "name": "ipython",
    "version": 3
   },
   "file_extension": ".py",
   "mimetype": "text/x-python",
   "name": "python",
   "nbconvert_exporter": "python",
   "pygments_lexer": "ipython3",
   "version": "2.7.13+"
  }
 },
 "nbformat": 4,
 "nbformat_minor": 2
}
