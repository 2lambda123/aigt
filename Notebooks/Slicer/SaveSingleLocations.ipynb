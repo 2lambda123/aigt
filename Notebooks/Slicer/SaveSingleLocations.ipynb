{
 "cells": [
  {
   "cell_type": "code",
   "execution_count": 1,
   "metadata": {},
   "outputs": [
    {
     "data": {
      "text/plain": [
       "Created folder: j:\\Temp\\sp2\n",
       "Export data to: j:\\Temp\\sp2\n"
      ]
     },
     "execution_count": 1,
     "metadata": {},
     "output_type": "execute_result"
    }
   ],
   "source": [
    "export_folder = \"sp2\"\n",
    "filename_prefix = \"sp2\"\n",
    "\n",
    "from local_vars import root_folder\n",
    "import os\n",
    "\n",
    "export_fullpath = os.path.join(root_folder, export_folder)\n",
    "\n",
    "if not os.path.exists(export_fullpath):\n",
    "    os.makedirs(export_fullpath)\n",
    "    print(\"Created folder: \" + export_fullpath)\n",
    "\n",
    "print \"Export data to: \" + export_fullpath"
   ]
  },
  {
   "cell_type": "code",
   "execution_count": 2,
   "metadata": {},
   "outputs": [
    {
     "data": {
      "text/plain": [
       "Fiducials node: F\n",
       "Sequence browser node: vtkMRMLSequenceBrowserNode1\n"
      ]
     },
     "execution_count": 2,
     "metadata": {},
     "output_type": "execute_result"
    }
   ],
   "source": [
    "fiducials_name = \"F\"\n",
    "\n",
    "fiducials_node = slicer.util.getFirstNodeByName(fiducials_name, className=\"vtkMRMLMarkupsFiducialNode\")\n",
    "print \"Fiducials node: \" + fiducials_node.GetName()\n",
    "\n",
    "sequence_browser_node = slicer.util.getFirstNodeByName('', className='vtkMRMLSequenceBrowserNode')\n",
    "print \"Sequence browser node: \" + str(sequence_browser_node.GetID())"
   ]
  },
  {
   "cell_type": "code",
   "execution_count": 3,
   "metadata": {},
   "outputs": [
    {
     "data": {
      "text/plain": [
       "Number of images: 3737\n"
      ]
     },
     "execution_count": 3,
     "metadata": {},
     "output_type": "execute_result"
    }
   ],
   "source": [
    "num_items = sequence_browser_node.GetNumberOfItems()\n",
    "n = num_items\n",
    "sequence_browser_node.SelectFirstItem()\n",
    "\n",
    "print \"Number of images: \" + str(n)"
   ]
  },
  {
   "cell_type": "code",
   "execution_count": 4,
   "metadata": {},
   "outputs": [
    {
     "data": {
      "text/plain": [
       "Ultrasound image node: Image_Image\n",
       "Transform node ID: vtkMRMLLinearTransformNode5\n"
      ]
     },
     "execution_count": 4,
     "metadata": {},
     "output_type": "execute_result"
    }
   ],
   "source": [
    "master_node = sequence_browser_node.GetMasterSequenceNode()\n",
    "image_node = sequence_browser_node.GetProxyNode(master_node)\n",
    "image_transform_id = image_node.GetTransformNodeID()\n",
    "if image_transform_id is None:\n",
    "    print \"Probably forgot to transform image node!\"\n",
    "    raise ValueError\n",
    "image_to_reference_node = slicer.util.getNode(image_transform_id)\n",
    "image_data = image_node.GetImageData()\n",
    "\n",
    "print \"Ultrasound image node: \" + image_node.GetName()\n",
    "print \"Transform node ID: \" + image_transform_id"
   ]
  },
  {
   "cell_type": "code",
   "execution_count": 5,
   "metadata": {},
   "outputs": [
    {
     "data": {
      "text/plain": []
     },
     "execution_count": 5,
     "metadata": {},
     "output_type": "execute_result"
    }
   ],
   "source": [
    "def transform_fiducial_array_by_matrix(fiducial_array, transform_matrix):\n",
    "    \"\"\"\n",
    "    :param fiducial_array: numpy.array((n,3))\n",
    "    :param transform_matrix: vtk.vtkMatrix4x4\n",
    "    :return: numpy.array((n,3))\n",
    "    \"\"\"\n",
    "    n = fiducial_array.shape[0]\n",
    "    transformed_array = np.zeros([n, 3])\n",
    "    for i in range(n):\n",
    "        point_src = np.append(fiducial_array[i], 1)\n",
    "        point_dst = np.array(transform_matrix.MultiplyFloatPoint(point_src))\n",
    "        transformed_array[i][:] = point_dst[:3]\n",
    "    return transformed_array\n",
    "\n",
    "def find_closest_point(image_extent, fiducials_Image):\n",
    "    \"\"\"\n",
    "    :param image_extent: array(4) = [minX, maxX, minY, maxY]\n",
    "    :param fiducials_Image: numpy.array((n,3))\n",
    "    :param min_distance_px: float\n",
    "    :return: (min_index, min_distance_px)\n",
    "    \"\"\"\n",
    "    min_index = 0\n",
    "    min_distance_px = float_info.max\n",
    "    n = fiducials_Image.shape[0]\n",
    "    for i in range(n):\n",
    "      x = fiducials_Image[i][0]\n",
    "      y = fiducials_Image[i][1]\n",
    "      z = fiducials_Image[i][2]\n",
    "      # Only work with fiducials within the width and height of the image\n",
    "      if x < image_extent[0] or x > image_extent[1] or y < image_extent[2] or y > image_extent[3]:\n",
    "        continue\n",
    "      if abs(z) < min_distance_px:\n",
    "        min_distance_px = abs(z)\n",
    "        min_index = i\n",
    "\n",
    "    return (min_index, min_distance_px)"
   ]
  },
  {
   "cell_type": "code",
   "execution_count": 6,
   "metadata": {},
   "outputs": [
    {
     "data": {
      "text/plain": [
       "3737 image files and annotations written\n"
      ]
     },
     "execution_count": 6,
     "metadata": {},
     "output_type": "execute_result"
    }
   ],
   "source": [
    "minimum_intensity = 16\n",
    "min_distance_mm = 6.0\n",
    "\n",
    "import numpy as np\n",
    "import csv\n",
    "from sys import float_info\n",
    "\n",
    "png_writer = vtk.vtkPNGWriter()\n",
    "image_to_reference_matrix = vtk.vtkMatrix4x4()\n",
    "reference_to_image_matrix = vtk.vtkMatrix4x4()\n",
    "\n",
    "image_dims = image_data.GetDimensions()\n",
    "image_extent = image_data.GetExtent()\n",
    "\n",
    "csv_file_name = filename_prefix + \".csv\"\n",
    "csv_fullname = os.path.join(export_fullpath, csv_file_name)\n",
    "csv_file = open(csv_fullname, 'wb')\n",
    "csv_writer = csv.writer(csv_file, delimiter=',')\n",
    "csv_writer.writerow(['filename', 'width', 'height', 'class', 'x', 'y'])\n",
    "\n",
    "n_fiducials = fiducials_node.GetNumberOfFiducials()\n",
    "fiducial_labels = [''] * n_fiducials\n",
    "fiducial_coordinates_Reference = np.zeros([n_fiducials, 3])\n",
    "n_output = 0\n",
    "for i in range(n_fiducials):\n",
    "    fiducials_node.GetNthFiducialPosition(i, fiducial_coordinates_Reference[i])\n",
    "    fiducial_labels[i] = fiducials_node.GetNthFiducialLabel(i)\n",
    "\n",
    "for i in range(n):\n",
    "    image_data = image_node.GetImageData()\n",
    "    \n",
    "    image_array = slicer.util.arrayFromVolume(image_node)\n",
    "    avg_intensity = np.average(image_array)\n",
    "    if avg_intensity < minimum_intensity:\n",
    "        print \"Skipping image due to low intensity {:.2f}\".format(avg_intensity)\n",
    "        continue\n",
    "    \n",
    "    img_file_name = filename_prefix + \"_%04d_ultrasound\" % i + \".png\"\n",
    "    img_fullname = os.path.join(export_fullpath, img_file_name)\n",
    "    \n",
    "    png_writer.SetInputData(image_data)\n",
    "    png_writer.SetFileName(img_fullname)\n",
    "    png_writer.Update()\n",
    "    png_writer.Write()\n",
    "    \n",
    "    image_to_reference_node.GetMatrixTransformToWorld(image_to_reference_matrix)\n",
    "    reference_to_image_matrix.DeepCopy(image_to_reference_matrix)\n",
    "    reference_to_image_matrix.Invert()\n",
    "    \n",
    "    image_to_reference_transform = vtk.vtkTransform()\n",
    "    image_to_reference_transform.SetMatrix(image_to_reference_matrix)\n",
    "    pixel_to_mm = image_to_reference_transform.GetScale()[0]\n",
    "    \n",
    "    fiducials_Image = transform_fiducial_array_by_matrix(fiducial_coordinates_Reference, reference_to_image_matrix)\n",
    "    (min_index, min_distance_px) = find_closest_point(image_extent, fiducials_Image)\n",
    "    p = fiducials_Image[min_index]\n",
    "    p[1] = image_extent[1] - p[1]\n",
    "    \n",
    "    x = p[0] / image_dims[0]\n",
    "    y = p[1] / image_dims[1]\n",
    "    \n",
    "    if (min_distance_px * pixel_to_mm) < min_distance_mm:\n",
    "        csv_writer.writerow([img_file_name, str(image_dims[0]), str(image_dims[1]), fiducial_labels[min_index], x, y])\n",
    "    else:\n",
    "        csv_writer.writerow([img_file_name, str(image_dims[0]), str(image_dims[1]), '0', 0, 0])\n",
    "    \n",
    "    n_output += 1\n",
    "    try:\n",
    "        sequence_browser_node.SelectNextItem()\n",
    "    except:\n",
    "        print \"End of sequence reached\"\n",
    "    \n",
    "    # slicer.app.processEvents()\n",
    "\n",
    "csv_file.close()\n",
    "\n",
    "print \"{} image files and annotations written\".format(n_output)"
   ]
  },
  {
   "cell_type": "code",
   "execution_count": null,
   "metadata": {},
   "outputs": [],
   "source": []
  }
 ],
 "metadata": {
  "kernelspec": {
   "display_name": "Slicer 4.11",
   "language": "python",
   "name": "slicer-4.11"
  },
  "language_info": {
   "codemirror_mode": {
    "name": "ipython",
    "version": 3
   },
   "file_extension": ".py",
   "mimetype": "text/x-python",
   "name": "python",
   "nbconvert_exporter": "python",
   "pygments_lexer": "ipython3",
   "version": "2.7.13+"
  }
 },
 "nbformat": 4,
 "nbformat_minor": 2
}
