{
 "cells": [
  {
   "cell_type": "code",
   "execution_count": 1,
   "metadata": {},
   "outputs": [
    {
     "data": {
      "text/plain": []
     },
     "execution_count": 1,
     "metadata": {},
     "output_type": "execute_result"
    }
   ],
   "source": [
    "model_file_name = r\"model_2019-05-31_21-22-03.h5\"\n",
    "models_folder_name = r\"saved_models\"\n",
    "sequence_browser_name = r\"SagittalScan\"\n",
    "output_browser_name = r\"BoneSequenceBrowser\"\n",
    "input_image_name = \"Image_Image\"\n",
    "output_image_name = \"Segmented_Image\""
   ]
  },
  {
   "cell_type": "code",
   "execution_count": 2,
   "metadata": {},
   "outputs": [
    {
     "data": {
      "text/plain": []
     },
     "execution_count": 2,
     "metadata": {},
     "output_type": "execute_result"
    }
   ],
   "source": [
    "import numpy as np\n",
    "import os\n",
    "import scipy.ndimage\n",
    "\n",
    "from local_vars import root_folder\n",
    "\n",
    "from keras.models import load_model\n",
    "\n",
    "models_path = os.path.join(root_folder, models_folder_name)\n",
    "model_fullpath = os.path.join(models_path, model_file_name)\n",
    "\n",
    "if not os.path.exists(model_fullpath):\n",
    "    print(\"Could not find model: \" + model_fullpath)\n",
    "    raise"
   ]
  },
  {
   "cell_type": "code",
   "execution_count": 3,
   "metadata": {},
   "outputs": [
    {
     "data": {
      "text/plain": [
       "Loading model from: J:\\Data\\saved_models\\model_2019-05-31_21-22-03.h5\n"
      ]
     },
     "execution_count": 3,
     "metadata": {},
     "output_type": "execute_result"
    }
   ],
   "source": [
    "print(\"Loading model from: \" + model_fullpath)\n",
    "\n",
    "model = load_model(model_fullpath)\n",
    "\n",
    "# model.summary()"
   ]
  },
  {
   "cell_type": "code",
   "execution_count": 4,
   "metadata": {},
   "outputs": [
    {
     "data": {
      "text/plain": [
       "Sequence browser node ID: vtkMRMLSequenceBrowserNode2\n",
       "Sequence browser node name: SagittalScan\n"
      ]
     },
     "execution_count": 4,
     "metadata": {},
     "output_type": "execute_result"
    }
   ],
   "source": [
    "sequence_browser_node = slicer.util.getFirstNodeByName(sequence_browser_name, className='vtkMRMLSequenceBrowserNode')\n",
    "print(\"Sequence browser node ID: \" + str(sequence_browser_node.GetID()))\n",
    "print(\"Sequence browser node name: \" + str(sequence_browser_node.GetName()))"
   ]
  },
  {
   "cell_type": "code",
   "execution_count": 5,
   "metadata": {},
   "outputs": [
    {
     "data": {
      "text/plain": []
     },
     "execution_count": 5,
     "metadata": {},
     "output_type": "execute_result"
    }
   ],
   "source": [
    "input_image_node = slicer.util.getFirstNodeByName(input_image_name, className=\"vtkMRMLScalarVolumeNode\")\n",
    "if input_image_node is None:\n",
    "    logging.error(\"Could not find input image node: {}\".format(input_image_name))\n",
    "    raise"
   ]
  },
  {
   "cell_type": "code",
   "execution_count": 8,
   "metadata": {},
   "outputs": [
    {
     "data": {
      "text/plain": [
       "Adding new proxy node: Segmented_Image\n",
       "New proxy node:        Sequence_Segmented_Image\n"
      ]
     },
     "execution_count": 8,
     "metadata": {},
     "output_type": "execute_result"
    }
   ],
   "source": [
    "output_browser_node = slicer.util.getFirstNodeByName(output_browser_name, className='vtkMRMLSequenceBrowserNode')\n",
    "if output_browser_node is None:\n",
    "    output_browser_node = slicer.mrmlScene.AddNewNodeByClass('vtkMRMLSequenceBrowserNode', output_browser_name)\n",
    "\n",
    "output_sequence_name = \"SegmentationSequence\"\n",
    "\n",
    "output_image_sequence_node = slicer.util.getFirstNodeByName(output_sequence_name, className=\"vtkMRMLSequenceNode\")\n",
    "if output_image_sequence_node is None:\n",
    "    output_image_sequence_node = slicer.mrmlScene.AddNewNodeByClass('vtkMRMLSequenceNode', output_sequence_name)\n",
    "\n",
    "output_browser_node.AddSynchronizedSequenceNode(output_image_sequence_node)\n",
    "output_image_node = slicer.util.getFirstNodeByName(output_image_name, className=\"vtkMRMLScalarVolumeNode\")\n",
    "if output_image_node is None:\n",
    "    volumes_logic = slicer.modules.volumes.logic()\n",
    "    print(\"Cloning output image from: {}\".format(input_image_node.GetName()))\n",
    "    output_image_node = volumes_logic.CloneVolume(slicer.mrmlScene, input_image_node, output_image_name)\n",
    "    print(\"Created new image named:   {}\".format(output_image_node.GetName()))\n",
    "    output_image_id = output_image_node.GetID()\n",
    "\n",
    "print(\"Adding new proxy node: {}\".format(output_image_node.GetName()))\n",
    "output_browser_node.AddProxyNode(output_image_node, output_image_sequence_node)\n",
    "print(\"New proxy node:        {}\".format(output_browser_node.GetProxyNode(output_image_sequence_node).GetName()))"
   ]
  },
  {
   "cell_type": "code",
   "execution_count": null,
   "metadata": {},
   "outputs": [],
   "source": [
    "num_items = sequence_browser_node.GetNumberOfItems()\n",
    "n = num_items\n",
    "sequence_browser_node.SelectFirstItem()\n",
    "\n",
    "input_array = slicer.util.array(input_image_node.GetID())\n",
    "slicer_to_model_scaling = model.layers[0].input_shape[1] / input_array.shape[1]\n",
    "model_to_slicer_scaling = input_array.shape[1] / model.layers[0].input_shape[1]\n",
    "\n",
    "n = min(n, 20)\n",
    "for i in range(n):\n",
    "    input_array = slicer.util.array(input_image_node.GetID())\n",
    "    \n",
    "    resized_input_array = scipy.ndimage.zoom(input_array[0,:,:], slicer_to_model_scaling)\n",
    "    resized_input_array = np.flip(resized_input_array, axis=0)\n",
    "    resized_input_array = resized_input_array * 1/255.0\n",
    "    resized_input_array = np.expand_dims(resized_input_array, axis=0)\n",
    "    resized_input_array = np.expand_dims(resized_input_array, axis=3)\n",
    "    y = model.predict(resized_input_array)\n",
    "    y[0,:,:,:] = np.flip(y[0,:,:,:], axis=0)\n",
    "    upscaled_output_array = scipy.ndimage.zoom(y[0,:,:,1], model_to_slicer_scaling)\n",
    "    upscaled_output_array = upscaled_output_array * 255.0\n",
    "    \n",
    "    output_array = slicer.util.array(output_image_node.GetID())\n",
    "    output_array[0, :, :] = upscaled_output_array[:, :]\n",
    "    output_browser_node.SaveProxyNodesState()\n",
    "    sequence_browser_node.SelectNextItem()"
   ]
  },
  {
   "cell_type": "code",
   "execution_count": null,
   "metadata": {},
   "outputs": [],
   "source": []
  }
 ],
 "metadata": {
  "kernelspec": {
   "display_name": "Slicer 4.11",
   "language": "python",
   "name": "slicer-4.11"
  },
  "language_info": {
   "codemirror_mode": {
    "name": "ipython",
    "version": 3
   },
   "file_extension": ".py",
   "mimetype": "text/x-python",
   "name": "python",
   "nbconvert_exporter": "python",
   "pygments_lexer": "ipython3",
   "version": "2.7.13+"
  }
 },
 "nbformat": 4,
 "nbformat_minor": 2
}
