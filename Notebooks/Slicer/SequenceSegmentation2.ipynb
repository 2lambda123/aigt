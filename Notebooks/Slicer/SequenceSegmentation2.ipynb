{
 "cells": [
  {
   "cell_type": "code",
   "execution_count": 1,
   "metadata": {},
   "outputs": [
    {
     "data": {
      "text/plain": []
     },
     "execution_count": 1,
     "metadata": {},
     "output_type": "execute_result"
    }
   ],
   "source": [
    "# Trained tensorflow model\n",
    "\n",
    "model_file_name = r\"model_2019-06-16_16-15-15.h5\"\n",
    "models_folder_name = r\"saved_models\"\n",
    "\n",
    "# Input ultrasound sequence names\n",
    "\n",
    "input_browser_name = r\"LandmarkingScan_1\"\n",
    "input_image_name = r\"Image_Image\"\n",
    "\n",
    "# Output will be saved using these names\n",
    "\n",
    "output_browser_name = r\"BoneSequenceBrowser\"\n",
    "output_sequence_name = r\"SegmentationSequence\"\n",
    "output_image_name = r\"Segmented_Image\"\n",
    "\n",
    "# Optionally save output to numpy arrays\n",
    "\n",
    "array_output = False\n",
    "array_folder_name = r\"Temp\"\n",
    "array_segmentation_name = r\"segmentation\"\n",
    "array_ultrasound_name = r\"ultrasound\""
   ]
  },
  {
   "cell_type": "code",
   "execution_count": 2,
   "metadata": {},
   "outputs": [
    {
     "data": {
      "text/plain": []
     },
     "execution_count": 2,
     "metadata": {},
     "output_type": "execute_result"
    }
   ],
   "source": [
    "import numpy as np\n",
    "import os\n",
    "import scipy.ndimage\n",
    "\n",
    "from keras.models import load_model\n",
    "\n",
    "from local_vars import root_folder"
   ]
  },
  {
   "cell_type": "code",
   "execution_count": 3,
   "metadata": {},
   "outputs": [
    {
     "data": {
      "text/plain": [
       "Loading model from: c:\\Data\\saved_models\\model_2019-06-16_16-15-15.h5\n"
      ]
     },
     "execution_count": 3,
     "metadata": {},
     "output_type": "execute_result"
    }
   ],
   "source": [
    "# Check if keras model file exists. Abort if not found. Load model otherwise.\n",
    "\n",
    "models_path = os.path.join(root_folder, models_folder_name)\n",
    "model_fullpath = os.path.join(models_path, model_file_name)\n",
    "\n",
    "if not os.path.exists(model_fullpath):\n",
    "    print(\"Could not find model: \" + model_fullpath)\n",
    "    raise\n",
    "\n",
    "print(\"Loading model from: \" + model_fullpath)\n",
    "\n",
    "if array_output:\n",
    "    array_output_fullpath = os.path.join(root_folder, array_folder_name)\n",
    "    array_segmentation_fullname = os.path.join(array_output_fullpath, array_segmentation_name)\n",
    "    array_ultrasound_fullname = os.path.join(array_output_fullpath, array_ultrasound_name)\n",
    "    if not os.path.exists(array_output_fullpath):\n",
    "        os.mkdir(array_output_fullpath)\n",
    "        print(\"Folder created: {}\".format(array_output_fullpath))\n",
    "    print(\"Will save segmentation output to {}\".format(array_segmentation_fullname))\n",
    "    print(\"Will save ultrasound output to   {}\".format(array_ultrasound_fullname))\n",
    "\n",
    "\n",
    "model = load_model(model_fullpath)\n",
    "\n",
    "# model.summary()"
   ]
  },
  {
   "cell_type": "code",
   "execution_count": 4,
   "metadata": {},
   "outputs": [
    {
     "data": {
      "text/plain": []
     },
     "execution_count": 4,
     "metadata": {},
     "output_type": "execute_result"
    }
   ],
   "source": [
    "# Check input. Abort if browser or image doesn't exist.\n",
    "\n",
    "input_browser_node = slicer.util.getFirstNodeByName(input_browser_name, className='vtkMRMLSequenceBrowserNode')\n",
    "input_image_node = slicer.util.getFirstNodeByName(input_image_name, className=\"vtkMRMLScalarVolumeNode\")\n",
    "\n",
    "if input_browser_node is None:\n",
    "    logging.error(\"Could not find input browser node: {}\".format(input_browser_node))\n",
    "    raise\n",
    "\n",
    "if input_image_node is None:\n",
    "    logging.error(\"Could not find input image node: {}\".format(input_image_name))\n",
    "    raise"
   ]
  },
  {
   "cell_type": "code",
   "execution_count": 5,
   "metadata": {},
   "outputs": [
    {
     "data": {
      "text/plain": []
     },
     "execution_count": 5,
     "metadata": {},
     "output_type": "execute_result"
    }
   ],
   "source": [
    "# Create output image and browser for segmentation output.\n",
    "\n",
    "output_browser_node = slicer.util.getFirstNodeByName(output_browser_name, className='vtkMRMLSequenceBrowserNode')\n",
    "if output_browser_node is None:\n",
    "    output_browser_node = slicer.mrmlScene.AddNewNodeByClass('vtkMRMLSequenceBrowserNode', output_browser_name)\n",
    "\n",
    "output_sequence_node = slicer.util.getFirstNodeByName(output_sequence_name, className=\"vtkMRMLSequenceNode\")\n",
    "if output_sequence_node is None:\n",
    "    output_sequence_node = slicer.mrmlScene.AddNewNodeByClass('vtkMRMLSequenceNode', output_sequence_name)\n",
    "\n",
    "output_browser_node.AddSynchronizedSequenceNode(output_sequence_node)\n",
    "output_image_node = slicer.util.getFirstNodeByName(output_image_name, className=\"vtkMRMLScalarVolumeNode\")\n",
    "if output_image_node is None:\n",
    "    volumes_logic = slicer.modules.volumes.logic()\n",
    "    output_image_node = volumes_logic.CloneVolume(slicer.mrmlScene, input_image_node, output_image_name)\n",
    "\n",
    "browser_logic = slicer.modules.sequencebrowser.logic()\n",
    "browser_logic.AddSynchronizedNode(output_sequence_node, output_image_node, output_browser_node)\n",
    "output_browser_node.SetRecording(output_sequence_node, True)"
   ]
  },
  {
   "cell_type": "code",
   "execution_count": 6,
   "metadata": {},
   "outputs": [
    {
     "data": {
      "text/plain": []
     },
     "execution_count": 6,
     "metadata": {},
     "output_type": "execute_result"
    }
   ],
   "source": [
    "# Add all input sequences to the output browser for being able to conveniently replay everything\n",
    "\n",
    "proxy_collection = vtk.vtkCollection()\n",
    "input_browser_node.GetAllProxyNodes(proxy_collection)\n",
    "\n",
    "for i in range(proxy_collection.GetNumberOfItems()):\n",
    "    proxy_node = proxy_collection.GetItemAsObject(i)\n",
    "    output_sequence = slicer.mrmlScene.AddNewNodeByClass('vtkMRMLSequenceNode')\n",
    "    browser_logic.AddSynchronizedNode(output_sequence, proxy_node, output_browser_node)\n",
    "    output_browser_node.SetRecording(output_sequence, True)"
   ]
  },
  {
   "cell_type": "code",
   "execution_count": 7,
   "metadata": {},
   "outputs": [
    {
     "data": {
      "text/plain": [
       "Will segment 1670 images\n"
      ]
     },
     "execution_count": 7,
     "metadata": {},
     "output_type": "execute_result"
    }
   ],
   "source": [
    "# Iterate input sequence, compute segmentation for each frame, record output sequence.\n",
    "\n",
    "num_items = input_browser_node.GetNumberOfItems()\n",
    "n = num_items\n",
    "input_browser_node.SelectFirstItem()\n",
    "\n",
    "input_array = slicer.util.array(input_image_node.GetID())\n",
    "slicer_to_model_scaling = model.layers[0].input_shape[1] / input_array.shape[1]\n",
    "model_to_slicer_scaling = input_array.shape[1] / model.layers[0].input_shape[1]\n",
    "\n",
    "print(\"Will segment {} images\".format(n))\n",
    "\n",
    "if array_output:\n",
    "    array_output_ultrasound = np.zeros((n, input_array.shape[1], input_array.shape[1]))\n",
    "    array_output_segmentation = np.zeros((n, input_array.shape[1], input_array.shape[1]))"
   ]
  },
  {
   "cell_type": "code",
   "execution_count": 8,
   "metadata": {},
   "outputs": [
    {
     "data": {
      "text/plain": []
     },
     "execution_count": 8,
     "metadata": {},
     "output_type": "execute_result"
    }
   ],
   "source": [
    "for i in range(n):\n",
    "    input_array = slicer.util.array(input_image_node.GetID())\n",
    "    \n",
    "    if array_output:\n",
    "        array_output_ultrasound[i, :, :] = input_array[0, :, :]\n",
    "    \n",
    "    resized_input_array = scipy.ndimage.zoom(input_array[0,:,:], slicer_to_model_scaling)\n",
    "    resized_input_array = np.flip(resized_input_array, axis=0)\n",
    "    resized_input_array = resized_input_array / resized_input_array.max()  # Scaling intensity to 0-1\n",
    "    resized_input_array = np.expand_dims(resized_input_array, axis=0)\n",
    "    resized_input_array = np.expand_dims(resized_input_array, axis=3)\n",
    "    y = model.predict(resized_input_array)\n",
    "    y[0,:,:,:] = np.flip(y[0,:,:,:], axis=0)\n",
    "    \n",
    "    upscaled_output_array = scipy.ndimage.zoom(y[0,:,:,1], model_to_slicer_scaling)\n",
    "    upscaled_output_array = upscaled_output_array * 255\n",
    "    upscaled_output_array = np.clip(upscaled_output_array, 0, 255)\n",
    "    \n",
    "    if array_output:\n",
    "        array_output_segmentation[i, :, :] = upscaled_output_array[:, :]\n",
    "    \n",
    "    # output_array = slicer.util.array(output_image_node.GetID())\n",
    "    # output_array[0, :, :] = upscaled_output_array[:, :].astype(np.uint8)\n",
    "    \n",
    "    slicer.util.updateVolumeFromArray(output_image_node, upscaled_output_array.astype(np.uint8)[np.newaxis, ...])\n",
    "    \n",
    "    output_browser_node.SaveProxyNodesState()\n",
    "    input_browser_node.SelectNextItem()\n",
    "    \n",
    "    slicer.app.processEvents()\n",
    "\n",
    "if array_output:\n",
    "    np.save(array_ultrasound_fullname, array_output_ultrasound)\n",
    "    np.save(array_segmentation_fullname, array_output_segmentation)\n",
    "    print(\"Saved {}\".format(array_ultrasound_fullname))\n",
    "    print(\"Saved {}\".format(array_segmentation_fullname))"
   ]
  },
  {
   "cell_type": "code",
   "execution_count": null,
   "metadata": {},
   "outputs": [],
   "source": []
  }
 ],
 "metadata": {
  "kernelspec": {
   "display_name": "Slicer 4.11",
   "language": "python",
   "name": "slicer-4.11"
  },
  "language_info": {
   "codemirror_mode": {
    "name": "ipython",
    "version": 3
   },
   "file_extension": ".py",
   "mimetype": "text/x-python",
   "name": "python",
   "nbconvert_exporter": "python",
   "pygments_lexer": "ipython3",
   "version": "2.7.13+"
  }
 },
 "nbformat": 4,
 "nbformat_minor": 2
}
