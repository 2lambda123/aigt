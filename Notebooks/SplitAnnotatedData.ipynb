{
 "cells": [
  {
   "cell_type": "code",
   "execution_count": 43,
   "metadata": {},
   "outputs": [],
   "source": [
    "project_folder = r\"c1\"\n",
    "split_ratio = 1.0\n",
    "split_folder = \"train\"\n",
    "\n",
    "if split_ratio > 1.0 or split_ratio < 0.0:\n",
    "    raise ValueError(\"split_ratio must be between 0.0 and 1.0\")"
   ]
  },
  {
   "cell_type": "code",
   "execution_count": 44,
   "metadata": {},
   "outputs": [
    {
     "name": "stdout",
     "output_type": "stream",
     "text": [
      "Number of images: 871\n"
     ]
    }
   ],
   "source": [
    "import os\n",
    "from local_vars import root_folder\n",
    "\n",
    "project_fullpath = os.path.join(root_folder, project_folder)\n",
    "\n",
    "images_folder = os.path.join(project_fullpath, \"images\")\n",
    "annotations_folder = os.path.join(project_fullpath, \"annotations\")\n",
    "\n",
    "image_file_list = [f for f in os.listdir(images_folder) if f.endswith('.png')]\n",
    "num_images = len(image_file_list)\n",
    "\n",
    "print(\"Number of images: {}\".format(num_images))"
   ]
  },
  {
   "cell_type": "code",
   "execution_count": 45,
   "metadata": {},
   "outputs": [
    {
     "name": "stdout",
     "output_type": "stream",
     "text": [
      "Number of annotations found: 862\n"
     ]
    }
   ],
   "source": [
    "import pandas\n",
    "\n",
    "annot_df = pandas.DataFrame()\n",
    "annot_file_list = [f for f in os.listdir(annotations_folder) if f.endswith('.csv')]\n",
    "\n",
    "for i in range(len(annot_file_list)):\n",
    "    current_file_path = os.path.join(annotations_folder, annot_file_list[i])\n",
    "    annot_df = pandas.concat([annot_df, pandas.read_csv(current_file_path)])\n",
    "    os.unlink(current_file_path)\n",
    "    \n",
    "print(\"Number of annotations found: {}\".format(annot_df.shape[0]))"
   ]
  },
  {
   "cell_type": "code",
   "execution_count": 46,
   "metadata": {},
   "outputs": [
    {
     "name": "stdout",
     "output_type": "stream",
     "text": [
      "Created folder: c:\\Temp\\c1\\train\n"
     ]
    }
   ],
   "source": [
    "split_fullpath = os.path.join(project_fullpath, split_folder)\n",
    "\n",
    "if not os.path.exists(split_fullpath):\n",
    "    os.makedirs(split_fullpath)\n",
    "    print(\"Created folder: \" + split_fullpath)"
   ]
  },
  {
   "cell_type": "code",
   "execution_count": 47,
   "metadata": {},
   "outputs": [
    {
     "name": "stdout",
     "output_type": "stream",
     "text": [
      "Splitting data:\n",
      "   Unnamed: 0  Unnamed: 0.1     filename  width  height class    x    y\n",
      "0         107           215  c1_0215.png    512     512  F-22  236  298\n",
      "1         108           216  c1_0216.png    512     512  F-22  236  299\n",
      "2         109           217  c1_0217.png    512     512  F-22  236  300\n",
      "3         110           218  c1_0218.png    512     512  F-12  233  303\n",
      "4         111           219  c1_0219.png    512     512  F-12  233  304\n",
      "\n",
      "Remaining data:\n",
      "Empty DataFrame\n",
      "Columns: [Unnamed: 0, Unnamed: 0.1, filename, width, height, class, x, y]\n",
      "Index: []\n"
     ]
    }
   ],
   "source": [
    "num_split = int(num_images * split_ratio)\n",
    "num_remain = num_images - num_split\n",
    "\n",
    "split_annot_df = annot_df.head(num_split)\n",
    "annot_df = annot_df.iloc[num_split:]\n",
    "\n",
    "print(\"Splitting data:\")\n",
    "print(split_annot_df.head())\n",
    "print(\"\\nRemaining data:\")\n",
    "print(annot_df.head())"
   ]
  },
  {
   "cell_type": "code",
   "execution_count": 48,
   "metadata": {},
   "outputs": [
    {
     "name": "stdout",
     "output_type": "stream",
     "text": [
      "Splitting out 871 images into c:\\Temp\\c1\\train\n"
     ]
    }
   ],
   "source": [
    "print(\"Splitting out {} images into {}\".format(num_split, split_fullpath))\n",
    "\n",
    "split_count = 0\n",
    "for index, row in split_annot_df.iterrows():\n",
    "    old_fullpath = os.path.join(images_folder, row['filename'])\n",
    "    new_fullpath = os.path.join(split_fullpath, row['filename'])\n",
    "    os.rename(old_fullpath, new_fullpath)\n",
    "\n",
    "split_annot_fullpath = os.path.join(split_fullpath, \"annotations.csv\")\n",
    "split_annot_df.to_csv(split_annot_fullpath)\n",
    "remain_annot_fullpath = os.path.join(annotations_folder, \"annotations.csv\")\n",
    "annot_df.to_csv(remain_annot_fullpath)"
   ]
  },
  {
   "cell_type": "code",
   "execution_count": null,
   "metadata": {},
   "outputs": [],
   "source": []
  }
 ],
 "metadata": {
  "kernelspec": {
   "display_name": "Python 3",
   "language": "python",
   "name": "python3"
  },
  "language_info": {
   "codemirror_mode": {
    "name": "ipython",
    "version": 3
   },
   "file_extension": ".py",
   "mimetype": "text/x-python",
   "name": "python",
   "nbconvert_exporter": "python",
   "pygments_lexer": "ipython3",
   "version": "3.6.7"
  }
 },
 "nbformat": 4,
 "nbformat_minor": 2
}
