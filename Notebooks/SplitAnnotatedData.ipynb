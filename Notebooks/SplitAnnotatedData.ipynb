{
 "cells": [
  {
   "cell_type": "code",
   "execution_count": 10,
   "metadata": {},
   "outputs": [],
   "source": [
    "project_folder = r\"c1\"\n",
    "split_ratio = 0.1\n",
    "split_folder = \"test\""
   ]
  },
  {
   "cell_type": "code",
   "execution_count": 5,
   "metadata": {},
   "outputs": [
    {
     "name": "stdout",
     "output_type": "stream",
     "text": [
      "Number of images: 1023\n"
     ]
    }
   ],
   "source": [
    "import os\n",
    "from local_vars import root_folder\n",
    "\n",
    "project_fullpath = os.path.join(root_folder, project_folder)\n",
    "\n",
    "images_folder = os.path.join(project_fullpath, \"images\")\n",
    "annotations_folder = os.path.join(project_fullpath, \"annotations\")\n",
    "\n",
    "image_file_list = [f for f in os.listdir(images_folder) if f.endswith('.png')]\n",
    "num_images = len(image_file_list)\n",
    "\n",
    "print(\"Number of images: {}\".format(num_images))"
   ]
  },
  {
   "cell_type": "code",
   "execution_count": 8,
   "metadata": {},
   "outputs": [
    {
     "name": "stdout",
     "output_type": "stream",
     "text": [
      "Number of annotations found: 1023\n"
     ]
    }
   ],
   "source": [
    "import pandas\n",
    "\n",
    "annot_df = pandas.DataFrame()\n",
    "annot_file_list = [f for f in os.listdir(annotations_folder) if f.endswith('.csv')]\n",
    "\n",
    "for i in range(len(annot_file_list)):\n",
    "    current_file_path = os.path.join(annotations_folder, annot_file_list[i])\n",
    "    annot_df = pandas.concat([annot_df, pandas.read_csv(current_file_path)])\n",
    "    \n",
    "print(\"Number of annotations found: {}\".format(annot_df.shape[0]))"
   ]
  },
  {
   "cell_type": "code",
   "execution_count": 11,
   "metadata": {},
   "outputs": [
    {
     "name": "stdout",
     "output_type": "stream",
     "text": [
      "Created folder: m:\\Temp\\c1\\test\n"
     ]
    }
   ],
   "source": [
    "split_fullpath = os.path.join(project_fullpath, split_folder)\n",
    "\n",
    "if not os.path.exists(split_fullpath):\n",
    "    os.makedirs(split_fullpath)\n",
    "    print(\"Created folder: \" + split_fullpath)"
   ]
  },
  {
   "cell_type": "code",
   "execution_count": null,
   "metadata": {},
   "outputs": [],
   "source": [
    "num_split = int(num_images * split_ratio)\n",
    "num_remain = num_images - num_split\n",
    "\n",
    "print(\"Splitting {} images\".format(num_split))\n",
    "\n",
    "os.rename(\"path/to/current/file.foo\", \"path/to/new/destination/for/file.foo\")"
   ]
  }
 ],
 "metadata": {
  "kernelspec": {
   "display_name": "Python 3",
   "language": "python",
   "name": "python3"
  },
  "language_info": {
   "codemirror_mode": {
    "name": "ipython",
    "version": 3
   },
   "file_extension": ".py",
   "mimetype": "text/x-python",
   "name": "python",
   "nbconvert_exporter": "python",
   "pygments_lexer": "ipython3",
   "version": "3.6.7"
  }
 },
 "nbformat": 4,
 "nbformat_minor": 2
}
