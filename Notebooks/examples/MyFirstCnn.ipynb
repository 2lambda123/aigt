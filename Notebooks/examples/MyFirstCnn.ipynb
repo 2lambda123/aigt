{
 "cells": [
  {
   "cell_type": "code",
   "execution_count": 30,
   "metadata": {},
   "outputs": [],
   "source": [
    "import matplotlib.pyplot as plt\n",
    "import numpy\n",
    "import os\n",
    "import datetime\n",
    "\n",
    "from keras.models import Sequential\n",
    "from keras.layers import Conv2D, MaxPooling2D\n",
    "from keras.layers import Activation, Dropout, Flatten, Dense"
   ]
  },
  {
   "cell_type": "code",
   "execution_count": 18,
   "metadata": {},
   "outputs": [
    {
     "name": "stdout",
     "output_type": "stream",
     "text": [
      "Loaded 1359 training images\n",
      "Loaded 151 test images\n"
     ]
    }
   ],
   "source": [
    "# Read input data\n",
    "\n",
    "root_folder = \"m:\\Temp\"\n",
    "\n",
    "train_images_pickle_file = os.path.join(root_folder, \"images_train.npy\")\n",
    "train_class_pickle_file = os.path.join(root_folder, \"classes_train.npy\")\n",
    "test_images_pickle_file = os.path.join(root_folder, \"images_test.npy\")\n",
    "test_class_pickle_file = os.path.join(root_folder, \"classes_test.npy\")\n",
    "\n",
    "train_image_data = numpy.load(train_images_pickle_file)\n",
    "train_class_data = numpy.load(train_class_pickle_file)\n",
    "test_image_data = numpy.load(test_images_pickle_file)\n",
    "test_class_data = numpy.load(test_class_pickle_file)\n",
    "\n",
    "print(\"Loaded {} training images\".format(train_image_data.shape[0]))\n",
    "print(\"Loaded {} test images\".format(test_image_data.shape[0]))"
   ]
  },
  {
   "cell_type": "code",
   "execution_count": 19,
   "metadata": {},
   "outputs": [
    {
     "name": "stdout",
     "output_type": "stream",
     "text": [
      "_________________________________________________________________\n",
      "Layer (type)                 Output Shape              Param #   \n",
      "=================================================================\n",
      "conv2d_20 (Conv2D)           (None, 255, 255, 32)      320       \n",
      "_________________________________________________________________\n",
      "activation_29 (Activation)   (None, 255, 255, 32)      0         \n",
      "_________________________________________________________________\n",
      "max_pooling2d_19 (MaxPooling (None, 127, 127, 32)      0         \n",
      "_________________________________________________________________\n",
      "conv2d_21 (Conv2D)           (None, 125, 125, 32)      9248      \n",
      "_________________________________________________________________\n",
      "activation_30 (Activation)   (None, 125, 125, 32)      0         \n",
      "_________________________________________________________________\n",
      "max_pooling2d_20 (MaxPooling (None, 62, 62, 32)        0         \n",
      "_________________________________________________________________\n",
      "conv2d_22 (Conv2D)           (None, 60, 60, 64)        18496     \n",
      "_________________________________________________________________\n",
      "activation_31 (Activation)   (None, 60, 60, 64)        0         \n",
      "_________________________________________________________________\n",
      "max_pooling2d_21 (MaxPooling (None, 30, 30, 64)        0         \n",
      "_________________________________________________________________\n",
      "conv2d_23 (Conv2D)           (None, 28, 28, 64)        36928     \n",
      "_________________________________________________________________\n",
      "activation_32 (Activation)   (None, 28, 28, 64)        0         \n",
      "_________________________________________________________________\n",
      "max_pooling2d_22 (MaxPooling (None, 14, 14, 64)        0         \n",
      "_________________________________________________________________\n",
      "flatten_6 (Flatten)          (None, 12544)             0         \n",
      "_________________________________________________________________\n",
      "dense_11 (Dense)             (None, 64)                802880    \n",
      "_________________________________________________________________\n",
      "activation_33 (Activation)   (None, 64)                0         \n",
      "_________________________________________________________________\n",
      "dropout_6 (Dropout)          (None, 64)                0         \n",
      "_________________________________________________________________\n",
      "dense_12 (Dense)             (None, 2)                 130       \n",
      "_________________________________________________________________\n",
      "activation_34 (Activation)   (None, 2)                 0         \n",
      "=================================================================\n",
      "Total params: 868,002\n",
      "Trainable params: 868,002\n",
      "Non-trainable params: 0\n",
      "_________________________________________________________________\n"
     ]
    }
   ],
   "source": [
    "model = Sequential()\n",
    "model.add(Conv2D(32, (3, 3), strides=2, input_shape=(512, 512, 1)))\n",
    "model.add(Activation('relu'))\n",
    "model.add(MaxPooling2D(pool_size=(2, 2)))\n",
    "\n",
    "model.add(Conv2D(32, (3, 3)))\n",
    "model.add(Activation('relu'))\n",
    "model.add(MaxPooling2D(pool_size=(2, 2)))\n",
    "\n",
    "model.add(Conv2D(64, (3, 3)))\n",
    "model.add(Activation('relu'))\n",
    "model.add(MaxPooling2D(pool_size=(2, 2)))\n",
    "\n",
    "model.add(Conv2D(64, (3, 3)))\n",
    "model.add(Activation('relu'))\n",
    "model.add(MaxPooling2D(pool_size=(2, 2)))\n",
    "\n",
    "model.add(Flatten())\n",
    "model.add(Dense(64))\n",
    "model.add(Activation('relu'))\n",
    "model.add(Dropout(0.5))\n",
    "model.add(Dense(2))\n",
    "model.add(Activation('sigmoid'))\n",
    "\n",
    "model.summary()"
   ]
  },
  {
   "cell_type": "code",
   "execution_count": 35,
   "metadata": {},
   "outputs": [
    {
     "name": "stdout",
     "output_type": "stream",
     "text": [
      "Train on 1359 samples, validate on 151 samples\n",
      "Epoch 1/5\n",
      "1359/1359 [==============================] - 33s 24ms/step - loss: 0.5912 - val_loss: 1.1678\n",
      "Epoch 2/5\n",
      "1359/1359 [==============================] - 31s 23ms/step - loss: 0.6014 - val_loss: 1.1678\n",
      "Epoch 3/5\n",
      "1359/1359 [==============================] - 31s 23ms/step - loss: 0.5844 - val_loss: 1.1678\n",
      "Epoch 4/5\n",
      "1359/1359 [==============================] - 31s 23ms/step - loss: 0.5780 - val_loss: 1.1678\n",
      "Epoch 5/5\n",
      "1359/1359 [==============================] - 31s 22ms/step - loss: 0.5780 - val_loss: 1.1678\n",
      "Training done\n"
     ]
    }
   ],
   "source": [
    "model.compile(loss='binary_crossentropy',\n",
    "              optimizer='rmsprop')\n",
    "\n",
    "loss_curve = model.fit(train_image_data,\n",
    "                       train_class_data,\n",
    "                       batch_size=32,\n",
    "                       epochs=5,\n",
    "                       verbose=1,\n",
    "                       validation_data=(test_image_data, test_class_data))\n",
    "\n",
    "print(\"Training done\")"
   ]
  },
  {
   "cell_type": "code",
   "execution_count": 34,
   "metadata": {},
   "outputs": [
    {
     "name": "stdout",
     "output_type": "stream",
     "text": [
      "Creating folder: m:\\Temp\\weights\n"
     ]
    }
   ],
   "source": [
    "timestamp = datetime.datetime.now().strftime('%Y-%m-%d_%H-%M-%S')\n",
    "\n",
    "weights_folder = os.path.join(root_folder, \"weights\")\n",
    "\n",
    "if not os.path.exists(weights_folder):\n",
    "    os.makedirs(weights_folder)\n",
    "    print(\"Creating folder: {}\".format(weights_folder))\n",
    "\n",
    "weights_file_name = \"weights_\" + timestamp + \".h5\"\n",
    "weights_file_path = os.path.join(weights_folder, weights_file_name)\n",
    "\n",
    "model.save_weights(weights_file_path)"
   ]
  },
  {
   "cell_type": "code",
   "execution_count": null,
   "metadata": {},
   "outputs": [],
   "source": []
  }
 ],
 "metadata": {
  "kernelspec": {
   "display_name": "Python 3",
   "language": "python",
   "name": "python3"
  },
  "language_info": {
   "codemirror_mode": {
    "name": "ipython",
    "version": 3
   },
   "file_extension": ".py",
   "mimetype": "text/x-python",
   "name": "python",
   "nbconvert_exporter": "python",
   "pygments_lexer": "ipython3",
   "version": "3.6.6"
  }
 },
 "nbformat": 4,
 "nbformat_minor": 2
}
