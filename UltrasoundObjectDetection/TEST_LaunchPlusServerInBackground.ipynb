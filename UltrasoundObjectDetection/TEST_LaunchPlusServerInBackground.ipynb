{
 "cells": [
  {
   "cell_type": "code",
   "execution_count": 2,
   "metadata": {},
   "outputs": [
    {
     "name": "stdout",
     "output_type": "stream",
     "text": [
      "process launched\n"
     ]
    }
   ],
   "source": [
    "import subprocess\n",
    "import os\n",
    "\n",
    "FNULL = open(os.devnull, 'w')    #use this if you want to suppress output to stdout from the subprocess\n",
    "config_file = \"D:/GitRepos/aigt-LIVE/UltrasoundObjectDetection/SlicerModule/BLUELungUltrasound/BLUELungUltrasound/default_plus_config.xml\"\n",
    "executable = \"C:/Users/Robert/PlusApp-2.8.0.20191105-Win64/bin/PlusServer.exe\"\n",
    "args = f\"{executable} -config {config_file}\"\n",
    "subprocess.call(executable, stdout=FNULL, stderr=FNULL, shell=False)\n",
    "print('process launched')"
   ]
  }
 ],
 "metadata": {
  "kernelspec": {
   "display_name": "pytorch_lab",
   "language": "python",
   "name": "python3"
  },
  "language_info": {
   "codemirror_mode": {
    "name": "ipython",
    "version": 3
   },
   "file_extension": ".py",
   "mimetype": "text/x-python",
   "name": "python",
   "nbconvert_exporter": "python",
   "pygments_lexer": "ipython3",
   "version": "3.9.16"
  },
  "orig_nbformat": 4
 },
 "nbformat": 4,
 "nbformat_minor": 2
}
