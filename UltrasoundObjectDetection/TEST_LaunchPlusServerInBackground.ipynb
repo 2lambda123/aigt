{
 "cells": [
  {
   "cell_type": "code",
   "execution_count": 44,
   "metadata": {},
   "outputs": [],
   "source": [
    "import subprocess\n",
    "import os\n",
    "\n",
    "def create_plus_server_process():\n",
    "    FNULL = open(os.devnull, 'w')    #use this if you want to suppress output to stdout from the subprocess\n",
    "    config_file = \"SlicerModule/BLUELungUltrasound/BLUELungUltrasound/default_plus_config.xml\"\n",
    "    executable = \"C:/Users/Guest admin/PlusApp-2.8.0.20191105-Win64/bin/PlusServer.exe\"\n",
    "    args = f'\"{executable}\" --config-file=\"{config_file}\"'\n",
    "    plus_server_process = subprocess.Popen(args, stdout=FNULL, stderr=FNULL, shell=False)\n",
    "    print('process launched')\n",
    "    return plus_server_process"
   ]
  },
  {
   "cell_type": "code",
   "execution_count": 47,
   "metadata": {},
   "outputs": [
    {
     "name": "stdout",
     "output_type": "stream",
     "text": [
      "process launched\n"
     ]
    }
   ],
   "source": [
    "plus_process = create_plus_server_process()"
   ]
  },
  {
   "cell_type": "code",
   "execution_count": 46,
   "metadata": {},
   "outputs": [],
   "source": [
    "plus_process.kill()"
   ]
  },
  {
   "cell_type": "code",
   "execution_count": 40,
   "metadata": {},
   "outputs": [
    {
     "name": "stdout",
     "output_type": "stream",
     "text": [
      "C:/Users\\Guest admin\\PlusApp-2.8.0.20191105-Win64\\bin\\PlusServer.exe\n"
     ]
    }
   ],
   "source": [
    "import os        \n",
    "import string\n",
    "from ctypes import windll\n",
    "\n",
    "path = 'C:/'\n",
    "name = 'PlusServer.exe'\n",
    "\n",
    "def find(name, path):\n",
    "    for root, dirs, files in os.walk(path):\n",
    "        if name in files:\n",
    "            return os.path.join(root, name)\n",
    "\n",
    "def get_drives():\n",
    "\n",
    "\n",
    "    return drives\n",
    "        \n",
    "\n",
    "def find_local_file(filename):\n",
    "    \n",
    "    drives = []\n",
    "    bitmask = windll.kernel32.GetLogicalDrives()\n",
    "    for letter in string.ascii_uppercase:\n",
    "        if bitmask & 1:\n",
    "            drives.append(letter)\n",
    "        bitmask >>= 1\n",
    "    \n",
    "    for drive in drives:\n",
    "        for root, dirs, files in os.walk(f'{drive}:/'):\n",
    "            if filename in files:\n",
    "                return os.path.join(root, filename)\n",
    "\n",
    "\n",
    "print(find_local_file(\"PlusServer.exe\"))\n",
    "\n"
   ]
  }
 ],
 "metadata": {
  "kernelspec": {
   "display_name": "pytorch_lab",
   "language": "python",
   "name": "python3"
  },
  "language_info": {
   "codemirror_mode": {
    "name": "ipython",
    "version": 3
   },
   "file_extension": ".py",
   "mimetype": "text/x-python",
   "name": "python",
   "nbconvert_exporter": "python",
   "pygments_lexer": "ipython3",
   "version": "3.9.16"
  },
  "orig_nbformat": 4
 },
 "nbformat": 4,
 "nbformat_minor": 2
}
