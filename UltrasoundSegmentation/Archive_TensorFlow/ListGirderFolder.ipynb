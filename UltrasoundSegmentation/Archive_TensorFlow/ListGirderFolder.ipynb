{
 "cells": [
  {
   "cell_type": "code",
   "execution_count": 47,
   "metadata": {},
   "outputs": [],
   "source": [
    "import girder_client\n",
    "import json"
   ]
  },
  {
   "cell_type": "code",
   "execution_count": 42,
   "metadata": {},
   "outputs": [],
   "source": [
    "girder_api_url = \"https://pocus.cs.queensu.ca/api/v1\"\n",
    "girder_apikey_read = \"nwv5qqqrDYn9DVakp1XnYDqjrNsowxaXisawPNRR\"\n",
    "\n",
    "folder_id = \"5e20eed7d9e6a3be02d014b4\""
   ]
  },
  {
   "cell_type": "code",
   "execution_count": 43,
   "metadata": {},
   "outputs": [
    {
     "data": {
      "text/plain": [
       "{'_id': '5d9e6b2ad9e6a3be02d01290'}"
      ]
     },
     "execution_count": 43,
     "metadata": {},
     "output_type": "execute_result"
    }
   ],
   "source": [
    "gclient = girder_client.GirderClient(apiUrl=girder_api_url)\n",
    "gclient.authenticate(apiKey=girder_apikey_read)"
   ]
  },
  {
   "cell_type": "code",
   "execution_count": 61,
   "metadata": {},
   "outputs": [
    {
     "name": "stdout",
     "output_type": "stream",
     "text": [
      "c1p1\n",
      "5e213344d9e6a3be02d014e7 : c1p1_Axial_TU_segmentation.npy\n",
      "c1p1\n",
      "5e213344d9e6a3be02d014ea : c1p1_Axial_TU_ultrasound.npy\n",
      "c1p1\n",
      "5e213344d9e6a3be02d014ed : c1p1_TU_segmentation.npy\n",
      "c1p1\n",
      "5e213345d9e6a3be02d014f0 : c1p1_TU_ultrasound.npy\n",
      "c1p2\n",
      "5e213343d9e6a3be02d014e1 : c1p2_Axial-L_TU_segmentation.npy\n",
      "c1p2\n",
      "5e213343d9e6a3be02d014e4 : c1p2_Axial-L_TU_ultrasound.npy\n",
      "c1p2\n",
      "5e213341d9e6a3be02d014d5 : c1p2_Axial-M_TU_segmentation.npy\n",
      "c1p2\n",
      "5e213341d9e6a3be02d014d8 : c1p2_Axial-M_TU_ultrasound.npy\n",
      "c1p2\n",
      "5e213342d9e6a3be02d014db : c1p2_Axial-R_TU_segmentation.npy\n",
      "No patient ID found\n",
      "5e213342d9e6a3be02d014de : c1p2_Axial-R_TU_ultrasound.npy\n",
      "No patient ID found\n",
      "5e213340d9e6a3be02d014c9 : c1p3_Axial-L_TU_segmentation.npy\n",
      "No patient ID found\n",
      "5e213340d9e6a3be02d014cc : c1p3_Axial-L_TU_ultrasound.npy\n",
      "No patient ID found\n",
      "5e213340d9e6a3be02d014cf : c1p3_Axial-M_TU_segmentation.npy\n",
      "No patient ID found\n",
      "5e213341d9e6a3be02d014d2 : c1p3_Axial-M_TU_ultrasound.npy\n",
      "No patient ID found\n",
      "5e21333fd9e6a3be02d014c3 : c1p3_Axial-R_TU_segmentation.npy\n",
      "No patient ID found\n",
      "5e21333fd9e6a3be02d014c6 : c1p3_Axial-R_TU_ultrasound.npy\n",
      "No patient ID found\n",
      "5e22795bd9e6a3be02d014f3 : c1p4_Axial-L_TU_segmentation.npy\n",
      "No patient ID found\n",
      "5e22795cd9e6a3be02d014f6 : c1p4_Axial-L_TU_ultrasound.npy\n",
      "No patient ID found\n",
      "5e22795cd9e6a3be02d014f9 : c1p4_Axial-M_TU_segmentation.npy\n",
      "No patient ID found\n",
      "5e22795cd9e6a3be02d014fc : c1p4_Axial-M_TU_ultrasound.npy\n",
      "No patient ID found\n",
      "5e22795cd9e6a3be02d014ff : c1p4_Axial-R_segmentation.npy\n",
      "No patient ID found\n",
      "5e22795dd9e6a3be02d01502 : c1p4_Axial-R_ultrasound.npy\n",
      "No patient ID found\n",
      "5e25359ad9e6a3be02d01505 : c1p5_Axial-L_TU_segmentation.npy\n",
      "No patient ID found\n",
      "5e25359bd9e6a3be02d01508 : c1p5_Axial-L_TU_ultrasound.npy\n",
      "No patient ID found\n",
      "5e25c48dd9e6a3be02d0150b : c1p5_Axial-M_TU_segmentation.npy\n",
      "No patient ID found\n",
      "5e25c48dd9e6a3be02d0150e : c1p5_Axial-M_TU_ultrasound.npy\n",
      "No patient ID found\n",
      "5e25c48ed9e6a3be02d01511 : c1p5_Axial-R_TU_segmentation.npy\n",
      "No patient ID found\n",
      "5e25c48fd9e6a3be02d01514 : c1p5_Axial-R_TU_ultrasound.npy\n"
     ]
    }
   ],
   "source": [
    "item_dicts = gclient.listItem(folder_id)\n",
    "\n",
    "for item_dict in item_dicts:\n",
    "    item_id = item_dict['_id']\n",
    "    if 'patient_id' in item_dict['meta'].keys():\n",
    "        print(item_dict['meta']['patient_id'])\n",
    "    else:\n",
    "        print(\"No patient ID found\")\n",
    "    item_files = gclient.listFile(item_id)\n",
    "    file_dict = next(item_files)\n",
    "    print(file_dict['_id'] + \" : \" + file_dict['name'])"
   ]
  },
  {
   "cell_type": "code",
   "execution_count": null,
   "metadata": {},
   "outputs": [],
   "source": []
  }
 ],
 "metadata": {
  "kernelspec": {
   "display_name": "Python 3",
   "language": "python",
   "name": "python3"
  },
  "language_info": {
   "codemirror_mode": {
    "name": "ipython",
    "version": 3
   },
   "file_extension": ".py",
   "mimetype": "text/x-python",
   "name": "python",
   "nbconvert_exporter": "python",
   "pygments_lexer": "ipython3",
   "version": "3.7.5"
  }
 },
 "nbformat": 4,
 "nbformat_minor": 2
}
