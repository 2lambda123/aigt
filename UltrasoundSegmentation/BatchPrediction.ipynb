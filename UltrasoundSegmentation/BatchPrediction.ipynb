{
 "cells": [
  {
   "cell_type": "code",
   "execution_count": 30,
   "metadata": {},
   "outputs": [],
   "source": [
    "model_fullname = r\"d:\\Data\\SagittalSpineSegmentationStudy\\SavedModels\\SagittalSpineSegmentationStudy-TF2_model-4_2020-01-26_15-16-58.h5\"\n",
    "input_fullname = r\"d:\\Data\\SagittalSpineSegmentationStudy\\DataArrays\\ultrasound-test.npy\"\n",
    "output_prediction_fullname = r\"d:\\Data\\LeaveOneOut-Arrays\\d:\\Data\\SagittalSpineSegmentationStudy\\DataArrays\\prediction-test.npy\"\n",
    "\n",
    "input_limit = 10"
   ]
  },
  {
   "cell_type": "code",
   "execution_count": 31,
   "metadata": {},
   "outputs": [],
   "source": [
    "import datetime\n",
    "import numpy as np\n",
    "import os\n",
    "\n",
    "import tensorflow as tf\n",
    "from tensorflow.keras.models import load_model"
   ]
  },
  {
   "cell_type": "code",
   "execution_count": 32,
   "metadata": {},
   "outputs": [
    {
     "name": "stdout",
     "output_type": "stream",
     "text": [
      "Loaded 1892 input images\n",
      "Will run prediction on 10 images\n"
     ]
    }
   ],
   "source": [
    "input_data = np.load(input_fullname)\n",
    "num_input_images = input_data.shape[0]\n",
    "\n",
    "print(\"Loaded {} input images\".format(num_input_images))\n",
    "\n",
    "if num_input_images < input_limit:\n",
    "    input_limit = num_input_images\n",
    "\n",
    "print(\"Will run prediction on {} images\".format(input_limit))"
   ]
  },
  {
   "cell_type": "code",
   "execution_count": 33,
   "metadata": {},
   "outputs": [],
   "source": [
    "model = load_model(model_fullname, compile=False)\n",
    "\n",
    "# model.summary()"
   ]
  },
  {
   "cell_type": "code",
   "execution_count": 34,
   "metadata": {},
   "outputs": [
    {
     "name": "stdout",
     "output_type": "stream",
     "text": [
      "Processing started at: 13-35-00\n",
      "Processing finished at: 13-35-00\n"
     ]
    }
   ],
   "source": [
    "start_timestamp = datetime.datetime.now()\n",
    "print(\"Processing started at: {}\".format(start_timestamp.strftime('%H-%M-%S')))\n",
    "prediction = model.predict(input_data[:input_limit, :, :, :])\n",
    "stop_timestamp = datetime.datetime.now()\n",
    "print(\"Processing finished at: {}\".format(stop_timestamp.strftime('%H-%M-%S')))"
   ]
  },
  {
   "cell_type": "code",
   "execution_count": 35,
   "metadata": {},
   "outputs": [
    {
     "name": "stdout",
     "output_type": "stream",
     "text": [
      "Processed 10 frames in 0.28 seconds\n",
      "FPS = 35.94\n"
     ]
    }
   ],
   "source": [
    "time_seconds = (stop_timestamp - start_timestamp).total_seconds()\n",
    "print(\"Processed {} frames in {:.2f} seconds\".format(input_limit, time_seconds))\n",
    "print(\"FPS = {:.2f}\".format(input_limit / time_seconds))"
   ]
  },
  {
   "cell_type": "code",
   "execution_count": null,
   "metadata": {},
   "outputs": [],
   "source": []
  }
 ],
 "metadata": {
  "kernelspec": {
   "display_name": "Python 3",
   "language": "python",
   "name": "python3"
  },
  "language_info": {
   "codemirror_mode": {
    "name": "ipython",
    "version": 3
   },
   "file_extension": ".py",
   "mimetype": "text/x-python",
   "name": "python",
   "nbconvert_exporter": "python",
   "pygments_lexer": "ipython3",
   "version": "3.7.5"
  }
 },
 "nbformat": 4,
 "nbformat_minor": 2
}
