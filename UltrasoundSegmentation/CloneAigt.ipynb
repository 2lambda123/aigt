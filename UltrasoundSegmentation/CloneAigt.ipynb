{
 "cells": [
  {
   "cell_type": "code",
   "execution_count": 2,
   "metadata": {},
   "outputs": [],
   "source": [
    "from pathlib import Path"
   ]
  },
  {
   "cell_type": "code",
   "execution_count": 3,
   "metadata": {},
   "outputs": [
    {
     "name": "stdout",
     "output_type": "stream",
     "text": [
      "Updating aigt clone\n",
      "Updating 2a41548..2f19ca5\n",
      "Fast-forward\n",
      " README.md                                          |  10 +-\n",
      " UltrasoundSegmentation/BatchPrediction.ipynb       | 138 +++++++++++++++++++++\n",
      " .../SagittalSpineSegmentationStudy-TF2.ipynb       | 108 ++++++++++------\n",
      " 3 files changed, 209 insertions(+), 47 deletions(-)\n",
      " create mode 100644 UltrasoundSegmentation/BatchPrediction.ipynb\n"
     ]
    },
    {
     "name": "stderr",
     "output_type": "stream",
     "text": [
      "From https://github.com/SlicerIGT/aigt\n",
      "   2a41548..2f19ca5  master     -> origin/master\n"
     ]
    }
   ],
   "source": [
    "# Getting a clone of AIGT\n",
    "\n",
    "aigt_folder = Path('aigt')\n",
    "\n",
    "if aigt_folder.exists():\n",
    "    print(\"Updating aigt clone\")\n",
    "    !git -C aigt pull\n",
    "else:\n",
    "    print(\"Cloning aigt\")\n",
    "    !git clone -q https://github.com/SlicerIGT/aigt.git"
   ]
  },
  {
   "cell_type": "code",
   "execution_count": null,
   "metadata": {},
   "outputs": [],
   "source": []
  }
 ],
 "metadata": {
  "kernelspec": {
   "display_name": "Python 3",
   "language": "python",
   "name": "python3"
  },
  "language_info": {
   "codemirror_mode": {
    "name": "ipython",
    "version": 3
   },
   "file_extension": ".py",
   "mimetype": "text/x-python",
   "name": "python",
   "nbconvert_exporter": "python",
   "pygments_lexer": "ipython3",
   "version": "3.7.5"
  }
 },
 "nbformat": 4,
 "nbformat_minor": 2
}
