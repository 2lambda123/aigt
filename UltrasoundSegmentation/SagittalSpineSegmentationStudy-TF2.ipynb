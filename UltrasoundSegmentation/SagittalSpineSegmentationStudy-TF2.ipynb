{
 "cells": [
  {
   "cell_type": "code",
   "execution_count": 1,
   "metadata": {},
   "outputs": [
    {
     "name": "stdout",
     "output_type": "stream",
     "text": [
      "Save timestamp: 2020-01-25_16-37-37\n"
     ]
    }
   ],
   "source": [
    "this_notebook_name = \"SagittalSpineSegmentationStudy-TF2\"\n",
    "\n",
    "# Update this folder name for your computer\n",
    "\n",
    "local_data_folder = r\"c:\\Data\\SagittalSpineSegmentationStudy\"\n",
    "overwrite_existing_data_files = False\n",
    "\n",
    "# All results and output will be archived with this timestamp\n",
    "\n",
    "import datetime\n",
    "save_timestamp = datetime.datetime.now().strftime('%Y-%m-%d_%H-%M-%S')\n",
    "print(\"Save timestamp: {}\".format(save_timestamp))\n",
    "\n",
    "# Learning parameters\n",
    "\n",
    "import numpy as np\n",
    "\n",
    "ultrasound_size = 128\n",
    "num_classes = 2\n",
    "num_epochs = 500\n",
    "batch_size = 64\n",
    "max_learning_rate = 0.02\n",
    "min_learning_rate = 0.00001\n",
    "regularization_rate = 0.0001\n",
    "filter_multiplier = 8\n",
    "class_weights = np.array([0.1, 0.9])\n",
    "learning_rate_decay = (max_learning_rate - min_learning_rate) / num_epochs\n",
    "\n",
    "# Training data augmentation parameters\n",
    "\n",
    "max_shift_factor = 0.12\n",
    "max_rotation_angle = 10\n",
    "max_zoom_factor = 1.1\n",
    "min_zoom_factor = 0.8\n",
    "\n",
    "# Evaluation parameters\n",
    "\n",
    "acceptable_margin_mm = 1.0\n",
    "mm_per_pixel = 1.0\n",
    "\n",
    "roc_thresholds = [0.9, 0.8, 0.7, 0.65, 0.6, 0.55, 0.5, 0.45, 0.4, 0.35, 0.3, 0.25, 0.2, 0.15, 0.1,\n",
    "                  0.08, 0.06, 0.04, 0.02, 0.01,\n",
    "                  0.008, 0.006, 0.004, 0.002, 0.001]\n",
    "\n",
    "'''\n",
    "Provide NxM numpy array to schedule cross validation\n",
    "N rounds of validation will be performed, leaving out M patients in each for validation data\n",
    "All values should be valid patient IDs, or negative. Negative values are ignored.\n",
    "\n",
    "Example 1: a leave-one-out cross validation with 3 patients would look like this:\n",
    "validation_schedule_patient = np.array([[0],[1],[2]])\n",
    "\n",
    "Example 2: a leave-two-out cross validation on 10 patients would look like this:\n",
    "validation_schedule_patient = np.array([[0,1],[2,3],[4,5],[6,7],[8,9]])\n",
    "'''\n",
    "validation_schedule_patient = np.array([[ 0,  1],\n",
    "                                        [-1, -1]])\n",
    "\n",
    "# Uncomment for faster debugging\n",
    "\n",
    "roc_thresholds = [0.8, 0.6, 0.4, 0.2, 0.1, 0.01, 0.001]\n",
    "num_epochs = 5"
   ]
  },
  {
   "cell_type": "code",
   "execution_count": 2,
   "metadata": {},
   "outputs": [],
   "source": [
    "import os\n",
    "from random import sample\n",
    "\n",
    "from ipywidgets import IntProgress\n",
    "from IPython.display import display, HTML\n",
    "\n",
    "import girder_client\n",
    "import matplotlib.pyplot as plt\n",
    "import pandas as pd\n",
    "\n",
    "import tensorflow as tf\n",
    "\n",
    "import ultrasound_batch_generator as generator\n",
    "import sagittal_spine_segmentation_unet as unet\n",
    "import evaluation_metrics"
   ]
  },
  {
   "cell_type": "code",
   "execution_count": 3,
   "metadata": {},
   "outputs": [
    {
     "data": {
      "text/html": [
       "<div>\n",
       "<style scoped>\n",
       "    .dataframe tbody tr th:only-of-type {\n",
       "        vertical-align: middle;\n",
       "    }\n",
       "\n",
       "    .dataframe tbody tr th {\n",
       "        vertical-align: top;\n",
       "    }\n",
       "\n",
       "    .dataframe thead th {\n",
       "        text-align: right;\n",
       "    }\n",
       "</style>\n",
       "<table border=\"1\" class=\"dataframe\">\n",
       "  <thead>\n",
       "    <tr style=\"text-align: right;\">\n",
       "      <th></th>\n",
       "      <th>patient_id</th>\n",
       "      <th>ultrasound_id</th>\n",
       "      <th>ultrasound_filename</th>\n",
       "      <th>segmentation_id</th>\n",
       "      <th>segmentation_filename</th>\n",
       "    </tr>\n",
       "  </thead>\n",
       "  <tbody>\n",
       "    <tr>\n",
       "      <th>0</th>\n",
       "      <td>785</td>\n",
       "      <td>5da9e5c0d9e6a3be02d012b4</td>\n",
       "      <td>q000_ultrasound.npy</td>\n",
       "      <td>5da9e5c8d9e6a3be02d012cc</td>\n",
       "      <td>q000_segmentation.npy</td>\n",
       "    </tr>\n",
       "    <tr>\n",
       "      <th>1</th>\n",
       "      <td>736</td>\n",
       "      <td>5da9e5c7d9e6a3be02d012c6</td>\n",
       "      <td>q001_ultrasound.npy</td>\n",
       "      <td>5da9e5ccd9e6a3be02d012de</td>\n",
       "      <td>q001_segmentation.npy</td>\n",
       "    </tr>\n",
       "    <tr>\n",
       "      <th>2</th>\n",
       "      <td>651</td>\n",
       "      <td>5da9e5c2d9e6a3be02d012b7</td>\n",
       "      <td>q002_ultrasound.npy</td>\n",
       "      <td>5da9e5c9d9e6a3be02d012cf</td>\n",
       "      <td>q002_segmentation.npy</td>\n",
       "    </tr>\n",
       "    <tr>\n",
       "      <th>3</th>\n",
       "      <td>463</td>\n",
       "      <td>5da9e5c3d9e6a3be02d012ba</td>\n",
       "      <td>q003_ultrasound.npy</td>\n",
       "      <td>5da9e5cad9e6a3be02d012d2</td>\n",
       "      <td>q003_segmentation.npy</td>\n",
       "    </tr>\n",
       "    <tr>\n",
       "      <th>4</th>\n",
       "      <td>608</td>\n",
       "      <td>5da9e5c8d9e6a3be02d012c9</td>\n",
       "      <td>q004_ultrasound.npy</td>\n",
       "      <td>5da9e5cdd9e6a3be02d012e1</td>\n",
       "      <td>q004_segmentation.npy</td>\n",
       "    </tr>\n",
       "    <tr>\n",
       "      <th>5</th>\n",
       "      <td>250</td>\n",
       "      <td>5da9e5c5d9e6a3be02d012c0</td>\n",
       "      <td>q005_ultrasound.npy</td>\n",
       "      <td>5da9e5cbd9e6a3be02d012d8</td>\n",
       "      <td>q005_segmentation.npy</td>\n",
       "    </tr>\n",
       "    <tr>\n",
       "      <th>6</th>\n",
       "      <td>347</td>\n",
       "      <td>5da9e5c6d9e6a3be02d012c3</td>\n",
       "      <td>q006_ultrasound.npy</td>\n",
       "      <td>5da9e5cbd9e6a3be02d012db</td>\n",
       "      <td>q006_segmentation.npy</td>\n",
       "    </tr>\n",
       "    <tr>\n",
       "      <th>7</th>\n",
       "      <td>695</td>\n",
       "      <td>5da9e5c4d9e6a3be02d012bd</td>\n",
       "      <td>q007_ultrasound.npy</td>\n",
       "      <td>5da9e5cad9e6a3be02d012d5</td>\n",
       "      <td>q007_segmentation.npy</td>\n",
       "    </tr>\n",
       "  </tbody>\n",
       "</table>\n",
       "</div>"
      ],
      "text/plain": [
       "   patient_id             ultrasound_id  ultrasound_filename  \\\n",
       "0         785  5da9e5c0d9e6a3be02d012b4  q000_ultrasound.npy   \n",
       "1         736  5da9e5c7d9e6a3be02d012c6  q001_ultrasound.npy   \n",
       "2         651  5da9e5c2d9e6a3be02d012b7  q002_ultrasound.npy   \n",
       "3         463  5da9e5c3d9e6a3be02d012ba  q003_ultrasound.npy   \n",
       "4         608  5da9e5c8d9e6a3be02d012c9  q004_ultrasound.npy   \n",
       "5         250  5da9e5c5d9e6a3be02d012c0  q005_ultrasound.npy   \n",
       "6         347  5da9e5c6d9e6a3be02d012c3  q006_ultrasound.npy   \n",
       "7         695  5da9e5c4d9e6a3be02d012bd  q007_ultrasound.npy   \n",
       "\n",
       "            segmentation_id  segmentation_filename  \n",
       "0  5da9e5c8d9e6a3be02d012cc  q000_segmentation.npy  \n",
       "1  5da9e5ccd9e6a3be02d012de  q001_segmentation.npy  \n",
       "2  5da9e5c9d9e6a3be02d012cf  q002_segmentation.npy  \n",
       "3  5da9e5cad9e6a3be02d012d2  q003_segmentation.npy  \n",
       "4  5da9e5cdd9e6a3be02d012e1  q004_segmentation.npy  \n",
       "5  5da9e5cbd9e6a3be02d012d8  q005_segmentation.npy  \n",
       "6  5da9e5cbd9e6a3be02d012db  q006_segmentation.npy  \n",
       "7  5da9e5cad9e6a3be02d012d5  q007_segmentation.npy  "
      ]
     },
     "metadata": {},
     "output_type": "display_data"
    },
    {
     "name": "stdout",
     "output_type": "stream",
     "text": [
      "Number of training arrays = 8\n",
      "Number of patients        = 8\n"
     ]
    }
   ],
   "source": [
    "# Define what data to download\n",
    "\n",
    "girder_api_url = \"https://pocus.cs.queensu.ca/api/v1\"\n",
    "\n",
    "queens_df = pd.read_csv(\"QueensSagittal.csv\", sep=',')\n",
    "\n",
    "frames = [queens_df]\n",
    "training_df = pd.concat(frames)\n",
    "\n",
    "display(training_df)\n",
    "\n",
    "n_training_arrays = training_df.shape[0]\n",
    "\n",
    "groupby_patients = training_df.groupby('patient_id')\n",
    "n_patients = len(groupby_patients.groups.keys())\n",
    "\n",
    "print(\"Number of training arrays = {}\".format(n_training_arrays))\n",
    "print(\"Number of patients        = {}\".format(n_patients))"
   ]
  },
  {
   "cell_type": "code",
   "execution_count": 4,
   "metadata": {},
   "outputs": [],
   "source": [
    "# These subfolders will be created/populated in the data folder\n",
    "\n",
    "data_arrays_folder    = \"DataArrays\"\n",
    "notebooks_save_folder = \"SavedNotebooks\"\n",
    "results_save_folder   = \"SavedResults\"\n",
    "models_save_folder    = \"SavedModels\"\n",
    "val_data_folder       = \"PredictionsValidation\"\n",
    "\n",
    "data_arrays_fullpath = os.path.join(local_data_folder, data_arrays_folder)\n",
    "notebooks_save_fullpath = os.path.join(local_data_folder, notebooks_save_folder)\n",
    "results_save_fullpath = os.path.join(local_data_folder, results_save_folder)\n",
    "models_save_fullpath = os.path.join(local_data_folder, models_save_folder)\n",
    "val_data_fullpath = os.path.join(local_data_folder, val_data_folder)\n",
    "\n",
    "if not os.path.exists(data_arrays_fullpath):\n",
    "    os.makedirs(data_arrays_fullpath)\n",
    "    print(\"Created folder: {}\".format(data_arrays_fullpath))\n",
    "\n",
    "if not os.path.exists(notebooks_save_fullpath):\n",
    "    os.makedirs(notebooks_save_fullpath)\n",
    "    print(\"Created folder: {}\".format(notebooks_save_fullpath))\n",
    "\n",
    "if not os.path.exists(results_save_fullpath):\n",
    "    os.makedirs(results_save_fullpath)\n",
    "    print(\"Created folder: {}\".format(results_save_fullpath))\n",
    "\n",
    "if not os.path.exists(models_save_fullpath):\n",
    "    os.makedirs(models_save_fullpath)\n",
    "    print(\"Created folder: {}\".format(models_save_fullpath))\n",
    "\n",
    "if not os.path.exists(val_data_fullpath):\n",
    "    os.makedirs(val_data_fullpath)\n",
    "    print(\"Created folder: {}\".format(val_data_fullpath))"
   ]
  },
  {
   "cell_type": "code",
   "execution_count": 5,
   "metadata": {},
   "outputs": [
    {
     "name": "stdout",
     "output_type": "stream",
     "text": [
      "Downloading training files ...\n"
     ]
    },
    {
     "data": {
      "application/vnd.jupyter.widget-view+json": {
       "model_id": "16173efb96fe449d9e6c76adae619492",
       "version_major": 2,
       "version_minor": 0
      },
      "text/plain": [
       "IntProgress(value=0, max=16)"
      ]
     },
     "metadata": {},
     "output_type": "display_data"
    },
    {
     "name": "stdout",
     "output_type": "stream",
     "text": [
      "\n",
      "Total download time: 0:00:00.017953\n"
     ]
    }
   ],
   "source": [
    "# Download data from Girder\n",
    "\n",
    "time_download_start = datetime.datetime.now()\n",
    "\n",
    "print(\"Downloading training files ...\")\n",
    "\n",
    "# Preparing progress bar\n",
    "\n",
    "f = IntProgress(min=0, max=n_training_arrays*2)\n",
    "display(f)\n",
    "\n",
    "# Downloading files\n",
    "\n",
    "gclient = girder_client.GirderClient(apiUrl=girder_api_url)\n",
    "\n",
    "for i in range(n_training_arrays):\n",
    "    ultrasound_fullname = os.path.join(data_arrays_fullpath, training_df.iloc[i]['ultrasound_filename'])\n",
    "    if not os.path.exists(ultrasound_fullname) or overwrite_existing_data_files:\n",
    "        print(\"Downloading {}...\".format(ultrasound_fullname))\n",
    "        gclient.downloadFile(training_df.iloc[i]['ultrasound_id'], ultrasound_fullname)\n",
    "    f.value = i * 2 + 1\n",
    "    \n",
    "    segmentation_fullname = os.path.join(data_arrays_fullpath, training_df.iloc[i]['segmentation_filename'])\n",
    "    if not os.path.exists(segmentation_fullname) or overwrite_existing_data_files:\n",
    "        print(\"Downloading {}...\".format(segmentation_fullname))\n",
    "        gclient.downloadFile(training_df.iloc[i]['segmentation_id'], segmentation_fullname)\n",
    "    f.value = i * 2 + 2\n",
    "\n",
    "time_download_stop = datetime.datetime.now()\n",
    "print(\"\\nTotal download time: {}\".format(time_download_stop - time_download_start))"
   ]
  },
  {
   "cell_type": "code",
   "execution_count": 6,
   "metadata": {},
   "outputs": [
    {
     "data": {
      "application/vnd.jupyter.widget-view+json": {
       "model_id": "1b99eaf0fb8f4abb886a039329242e8d",
       "version_major": 2,
       "version_minor": 0
      },
      "text/plain": [
       "IntProgress(value=0, max=16)"
      ]
     },
     "metadata": {},
     "output_type": "display_data"
    },
    {
     "name": "stdout",
     "output_type": "stream",
     "text": [
      "\n",
      "Total time to load from files: 0:00:00.090758\n"
     ]
    }
   ],
   "source": [
    "# Read data into numpy arrays\n",
    "\n",
    "ultrasound_arrays = []\n",
    "segmentation_arrays = []\n",
    "\n",
    "f = IntProgress(min=0, max=n_training_arrays * 2)\n",
    "display(f)\n",
    "\n",
    "time_start = datetime.datetime.now()\n",
    "\n",
    "for i in range(n_training_arrays):\n",
    "    ultrasound_fullname = os.path.join(data_arrays_fullpath, training_df.iloc[i]['ultrasound_filename'])\n",
    "    segmentation_fullname = os.path.join(data_arrays_fullpath, training_df.iloc[i]['segmentation_filename'])\n",
    "\n",
    "    ultrasound_data = np.load(ultrasound_fullname)\n",
    "    f.value = i * 2 + 1\n",
    "    \n",
    "    segmentation_data = np.load(segmentation_fullname)\n",
    "    f.value = i * 2 + 2\n",
    "    \n",
    "    ultrasound_arrays.append(ultrasound_data)\n",
    "    segmentation_arrays.append(segmentation_data)\n",
    "\n",
    "time_stop = datetime.datetime.now()\n",
    "print(\"\\nTotal time to load from files: {}\".format(time_stop - time_start))"
   ]
  },
  {
   "cell_type": "code",
   "execution_count": 7,
   "metadata": {},
   "outputs": [
    {
     "name": "stdout",
     "output_type": "stream",
     "text": [
      "\n",
      "Patient 0 has 387 ultrasounds and 387 segmentations\n",
      "Patient 1 has 360 ultrasounds and 360 segmentations\n",
      "Patient 2 has 453 ultrasounds and 453 segmentations\n",
      "Patient 3 has 289 ultrasounds and 289 segmentations\n",
      "Patient 4 has 477 ultrasounds and 477 segmentations\n",
      "Patient 5 has 446 ultrasounds and 446 segmentations\n",
      "Patient 6 has 355 ultrasounds and 355 segmentations\n",
      "Patient 7 has 523 ultrasounds and 523 segmentations\n"
     ]
    }
   ],
   "source": [
    "# Concatenate arrays by patients\n",
    "\n",
    "ultrasound_arrays_by_patients = []\n",
    "segmentation_arrays_by_patients = []\n",
    "\n",
    "patient_ids = groupby_patients.groups.keys()\n",
    "\n",
    "ultrasound_pixel_type = ultrasound_arrays[0].dtype\n",
    "segmentation_pixel_type = segmentation_arrays[0].dtype\n",
    "\n",
    "for patient_id in patient_ids:\n",
    "    patient_ultrasound_array = np.zeros([0, ultrasound_arrays[0].shape[1], ultrasound_arrays[0].shape[2], 1],\n",
    "                                        dtype=ultrasound_pixel_type)\n",
    "    \n",
    "    patient_segmentation_array = np.zeros([0, segmentation_arrays[0].shape[1], segmentation_arrays[0].shape[2], 1],\n",
    "                                         dtype=segmentation_pixel_type)\n",
    "    \n",
    "    # print(len(groupby_patients.groups[patient_id]))\n",
    "\n",
    "    for i in range(len(groupby_patients.groups[patient_id])):\n",
    "        array_index = groupby_patients.groups[patient_id][i]\n",
    "        patient_ultrasound_array = np.concatenate([patient_ultrasound_array, ultrasound_arrays[array_index]])\n",
    "        patient_segmentation_array = np.concatenate([patient_segmentation_array, segmentation_arrays[array_index]])\n",
    "    \n",
    "    ultrasound_arrays_by_patients.append(patient_ultrasound_array)\n",
    "    segmentation_arrays_by_patients.append(patient_segmentation_array)\n",
    "    \n",
    "\n",
    "print()\n",
    "for i in range(n_patients):\n",
    "    print(\"Patient {} has {} ultrasounds and {} segmentations\".format(\n",
    "        i, ultrasound_arrays_by_patients[i].shape[0], segmentation_arrays_by_patients[i].shape[0]))"
   ]
  },
  {
   "cell_type": "code",
   "execution_count": 8,
   "metadata": {},
   "outputs": [
    {
     "name": "stdout",
     "output_type": "stream",
     "text": [
      "Planning 2 rounds of validation\n",
      "Validation on patients [0 1] in round 0\n",
      "Validation on patients [-1 -1] in round 1\n"
     ]
    }
   ],
   "source": [
    "# Prepare validation rounds\n",
    "\n",
    "if np.max(validation_schedule_patient) > (n_patients - 1):\n",
    "    raise Exception(\"Patient ID cannot be greater than {}\".format(n_patients - 1))\n",
    "\n",
    "num_validation_rounds = len(validation_schedule_patient)\n",
    "print(\"Planning {} rounds of validation\".format(num_validation_rounds))\n",
    "for i in range(num_validation_rounds):\n",
    "    print(\"Validation on patients {} in round {}\".format(validation_schedule_patient[i], i))"
   ]
  },
  {
   "cell_type": "code",
   "execution_count": 9,
   "metadata": {},
   "outputs": [
    {
     "name": "stdout",
     "output_type": "stream",
     "text": [
      "Timestamp for saved files: 2020-01-25_16-37-37\n",
      "\n",
      "Training parameters\n",
      "Number of epochs:    5\n",
      "Step size maximum:   0.02\n",
      "Step size decay:     3.998e-05\n",
      "Batch size:          64\n",
      "Regularization rate: 0.0001\n",
      "\n",
      "Saving validation predictions in: c:\\Data\\SagittalSpineSegmentationStudy\\PredictionsValidation\n",
      "Saving models in:                 c:\\Data\\SagittalSpineSegmentationStudy\\SavedModels\n",
      "\n",
      "*** Leave-one-out round # 1\n",
      "    Training on 2543 images, validating on 747 images...\n"
     ]
    },
    {
     "name": "stderr",
     "output_type": "stream",
     "text": [
      "e:\\dlenv2\\lib\\site-packages\\scipy\\ndimage\\interpolation.py:611: UserWarning: From scipy 0.13.0, the output shape of zoom() is calculated with round() instead of int() - for these inputs the size of the returned array has changed.\n",
      "  \"the returned array has changed.\", UserWarning)\n"
     ]
    },
    {
     "name": "stdout",
     "output_type": "stream",
     "text": [
      "  Training time: 0:00:43.983821\n",
      "\n",
      "Total round time:  0:00:51.344442\n",
      "\n",
      "\n",
      "*** Leave-one-out round # 1\n",
      "    Training on 3290 images, validating on 0 images...\n",
      "  Training time: 0:00:55.106806\n",
      "\n",
      "Total round time:  0:00:55.259399\n",
      "\n",
      "\n",
      "Total training time:   0:01:52.503879\n"
     ]
    },
    {
     "data": {
      "image/png": "[encoded data removed]",
      "text/plain": [
       "<Figure size 864x288 with 2 Axes>"
      ]
     },
     "metadata": {
      "needs_background": "light"
     },
     "output_type": "display_data"
    },
    {
     "data": {
      "image/png": "[encoded data removed]",
      "text/plain": [
       "<Figure size 864x288 with 2 Axes>"
      ]
     },
     "metadata": {
      "needs_background": "light"
     },
     "output_type": "display_data"
    }
   ],
   "source": [
    "# Print training parameters, to archive them together with the notebook output.\n",
    "\n",
    "time_sequence_start = datetime.datetime.now()\n",
    "\n",
    "print(\"Timestamp for saved files: {}\".format(save_timestamp))\n",
    "print(\"\\nTraining parameters\")\n",
    "print(\"Number of epochs:    {}\".format(num_epochs))\n",
    "print(\"Step size maximum:   {}\".format(max_learning_rate))\n",
    "print(\"Step size decay:     {}\".format(learning_rate_decay))\n",
    "print(\"Batch size:          {}\".format(batch_size))\n",
    "print(\"Regularization rate: {}\".format(regularization_rate))\n",
    "print(\"\")\n",
    "print(\"Saving validation predictions in: {}\".format(val_data_fullpath))\n",
    "print(\"Saving models in:                 {}\".format(models_save_fullpath))\n",
    "\n",
    "# ROC data will be saved in these containers\n",
    "\n",
    "val_best_metrics    = dict()\n",
    "val_fuzzy_metrics   = dict()\n",
    "val_aurocs          = np.zeros(num_validation_rounds)\n",
    "val_best_thresholds = np.zeros(num_validation_rounds)\n",
    "\n",
    "# Perform validation rounds\n",
    "\n",
    "for val_round_index in range(num_validation_rounds):\n",
    "    \n",
    "    # Prepare data arrays\n",
    "    \n",
    "    train_ultrasound_data = np.zeros(\n",
    "        [0,\n",
    "         ultrasound_arrays_by_patients[0].shape[1],\n",
    "         ultrasound_arrays_by_patients[0].shape[2],\n",
    "         ultrasound_arrays_by_patients[0].shape[3]])\n",
    "    \n",
    "    train_segmentation_data = np.zeros(\n",
    "        [0,\n",
    "         segmentation_arrays_by_patients[0].shape[1],\n",
    "         segmentation_arrays_by_patients[0].shape[2],\n",
    "         segmentation_arrays_by_patients[0].shape[3]])\n",
    "    \n",
    "    val_ultrasound_data = np.zeros(\n",
    "        [0,\n",
    "         ultrasound_arrays_by_patients[0].shape[1],\n",
    "         ultrasound_arrays_by_patients[0].shape[2],\n",
    "         ultrasound_arrays_by_patients[0].shape[3]])\n",
    "    \n",
    "    val_segmentation_data = np.zeros(\n",
    "        [0,\n",
    "         ultrasound_arrays_by_patients[0].shape[1],\n",
    "         ultrasound_arrays_by_patients[0].shape[2],\n",
    "         ultrasound_arrays_by_patients[0].shape[3]])\n",
    "    \n",
    "    for patient_index in range(n_patients):\n",
    "        if patient_index not in validation_schedule_patient[val_round_index]:\n",
    "            train_ultrasound_data = np.concatenate((train_ultrasound_data,\n",
    "                                                    ultrasound_arrays_by_patients[patient_index]))\n",
    "            train_segmentation_data = np.concatenate((train_segmentation_data,\n",
    "                                                      segmentation_arrays_by_patients[patient_index]))\n",
    "        else:\n",
    "            val_ultrasound_data = np.concatenate((val_ultrasound_data,\n",
    "                                                 ultrasound_arrays_by_patients[patient_index]))\n",
    "            val_segmentation_data = np.concatenate((val_segmentation_data,\n",
    "                                                   segmentation_arrays_by_patients[patient_index]))\n",
    "    \n",
    "    n_train = train_ultrasound_data.shape[0]\n",
    "    n_val = val_ultrasound_data.shape[0]\n",
    "    \n",
    "    print(\"\\n*** Leave-one-out round # {}\".format(i))\n",
    "    print(\"    Training on {} images, validating on {} images...\".format(n_train, n_val))\n",
    "    \n",
    "    val_segmentation_data_onehot = tf.keras.utils.to_categorical(val_segmentation_data, num_classes)\n",
    "    \n",
    "    # Create and train model\n",
    "    \n",
    "    model = unet.sagittal_spine_unet(ultrasound_size, num_classes, filter_multiplier, regularization_rate)\n",
    "    \n",
    "    model.compile(\n",
    "        optimizer=tf.keras.optimizers.Adam(lr=max_learning_rate, decay=learning_rate_decay),\n",
    "        loss=unet.weighted_categorical_crossentropy(class_weights),\n",
    "        metrics=[\"accuracy\"]\n",
    "    )\n",
    "    \n",
    "    # model.summary()\n",
    "        \n",
    "    training_generator = generator.UltrasoundSegmentationBatchGenerator(\n",
    "        train_ultrasound_data,\n",
    "        train_segmentation_data[:, :, :, 0],\n",
    "        batch_size,\n",
    "        (ultrasound_size, ultrasound_size),\n",
    "        max_shift_factor=max_shift_factor,\n",
    "        min_zoom_factor=min_zoom_factor,\n",
    "        max_zoom_factor=max_zoom_factor,\n",
    "        max_rotation_angle=max_rotation_angle\n",
    "    )\n",
    "        \n",
    "    training_time_start = datetime.datetime.now()\n",
    "    \n",
    "    if n_val > 0:\n",
    "        training_log = model.fit_generator(\n",
    "            training_generator,\n",
    "            validation_data=(val_ultrasound_data, val_segmentation_data_onehot),\n",
    "            epochs=num_epochs,\n",
    "            verbose=0)\n",
    "    else:\n",
    "        training_log = model.fit_generator(training_generator, epochs=num_epochs, verbose=0)\n",
    "    \n",
    "    training_time_stop = datetime.datetime.now()\n",
    "    \n",
    "    # Pring training log\n",
    "    \n",
    "    print(\"  Training time: {}\".format(training_time_stop-training_time_start))\n",
    "    \n",
    "    # Plot training loss and metrics\n",
    "    \n",
    "    fig, axes = plt.subplots(nrows=1, ncols=2, figsize=(12, 4))\n",
    "    \n",
    "    axes[0].plot(training_log.history['loss'], 'bo--')\n",
    "    if n_val > 0:\n",
    "        axes[0].plot(training_log.history['val_loss'], 'ro-')\n",
    "    axes[0].set(xlabel='Epochs (n)', ylabel='Loss')\n",
    "    if n_val > 0:\n",
    "        axes[0].legend(['Training loss', 'Validation loss'])\n",
    "    \n",
    "    axes[1].plot(training_log.history['accuracy'], 'bo--')\n",
    "    if n_val > 0:\n",
    "        axes[1].plot(training_log.history['val_accuracy'], 'ro-')\n",
    "    axes[1].set(xlabel='Epochs (n)', ylabel='Accuracy')\n",
    "    if n_val > 0:\n",
    "        axes[1].legend(['Training accuracy', 'Validation accuracy'])\n",
    "    \n",
    "    fig.tight_layout()\n",
    "    \n",
    "    # Archive trained model with unique filename based on notebook name and timestamp\n",
    "    \n",
    "    model_file_name = this_notebook_name + \"_model-\" + str(val_round_index) + \"_\" + save_timestamp + \".h5\"\n",
    "    model_fullname = os.path.join(models_save_fullpath, model_file_name)\n",
    "    model.save(model_fullname)\n",
    "    \n",
    "    # Predict on validation data\n",
    "    \n",
    "    if n_val > 0:\n",
    "        y_pred_val  = model.predict(val_ultrasound_data)\n",
    "\n",
    "        # Saving predictions for further evaluation\n",
    "\n",
    "        val_prediction_filename = save_timestamp + \"_prediction_\" + str(val_round_index) + \".npy\"\n",
    "        val_prediction_fullname = os.path.join(val_data_fullpath, val_prediction_filename)\n",
    "        np.save(val_prediction_fullname, y_pred_val)\n",
    "\n",
    "        # Validation results\n",
    "\n",
    "        vali_metrics_dicts, vali_best_threshold_index, vali_area = evaluation_metrics.compute_roc(\n",
    "            roc_thresholds, y_pred_val, val_segmentation_data, acceptable_margin_mm, mm_per_pixel)\n",
    "\n",
    "        val_fuzzy_metrics[val_round_index] = evaluation_metrics.compute_evaluation_metrics(\n",
    "            y_pred_val, val_segmentation_data, acceptable_margin_mm, mm_per_pixel)\n",
    "\n",
    "        val_best_metrics[val_round_index]    = vali_metrics_dicts[vali_best_threshold_index]\n",
    "        val_aurocs[val_round_index]          = vali_area\n",
    "        val_best_thresholds[val_round_index] = roc_thresholds[vali_best_threshold_index]\n",
    "    \n",
    "    # Printing total time of this validation round\n",
    "    \n",
    "    print(\"\\nTotal round time:  {}\".format(datetime.datetime.now() - training_time_start))\n",
    "    print(\"\")\n",
    "\n",
    "\n",
    "time_sequence_stop = datetime.datetime.now()\n",
    "\n",
    "print(\"\\nTotal training time:   {}\".format(time_sequence_stop - time_sequence_start))\n"
   ]
  },
  {
   "cell_type": "code",
   "execution_count": 16,
   "metadata": {},
   "outputs": [
    {
     "data": {
      "text/html": [
       "<div>\n",
       "<style scoped>\n",
       "    .dataframe tbody tr th:only-of-type {\n",
       "        vertical-align: middle;\n",
       "    }\n",
       "\n",
       "    .dataframe tbody tr th {\n",
       "        vertical-align: top;\n",
       "    }\n",
       "\n",
       "    .dataframe thead th {\n",
       "        text-align: right;\n",
       "    }\n",
       "</style>\n",
       "<table border=\"1\" class=\"dataframe\">\n",
       "  <thead>\n",
       "    <tr style=\"text-align: right;\">\n",
       "      <th></th>\n",
       "      <th>Vali AUROC</th>\n",
       "      <th>Vali best thresh</th>\n",
       "      <th>Vali best TP</th>\n",
       "      <th>Vali best FP</th>\n",
       "      <th>Vali best recall</th>\n",
       "      <th>Vali best precis</th>\n",
       "      <th>Vali fuzzy recall</th>\n",
       "      <th>Vali fuzzy precis</th>\n",
       "      <th>Vali fuzzy Fscore</th>\n",
       "    </tr>\n",
       "  </thead>\n",
       "  <tbody>\n",
       "    <tr>\n",
       "      <th>0</th>\n",
       "      <td>0.982608</td>\n",
       "      <td>0.1</td>\n",
       "      <td>0.918169</td>\n",
       "      <td>0.030793</td>\n",
       "      <td>0.918169</td>\n",
       "      <td>0.104742</td>\n",
       "      <td>0.605628</td>\n",
       "      <td>0.155114</td>\n",
       "      <td>0.246974</td>\n",
       "    </tr>\n",
       "  </tbody>\n",
       "</table>\n",
       "</div>"
      ],
      "text/plain": [
       "   Vali AUROC  Vali best thresh  Vali best TP  Vali best FP  Vali best recall  \\\n",
       "0    0.982608               0.1      0.918169      0.030793          0.918169   \n",
       "\n",
       "   Vali best precis  Vali fuzzy recall  Vali fuzzy precis  Vali fuzzy Fscore  \n",
       "0          0.104742           0.605628           0.155114           0.246974  "
      ]
     },
     "metadata": {},
     "output_type": "display_data"
    },
    {
     "name": "stdout",
     "output_type": "stream",
     "text": [
      "\n",
      "Averages\n"
     ]
    },
    {
     "data": {
      "text/plain": [
       "Vali AUROC           0.982608\n",
       "Vali best thresh     0.100000\n",
       "Vali best TP         0.918169\n",
       "Vali best FP         0.030793\n",
       "Vali best recall     0.918169\n",
       "Vali best precis     0.104742\n",
       "Vali fuzzy recall    0.605628\n",
       "Vali fuzzy precis    0.155114\n",
       "Vali fuzzy Fscore    0.246974\n",
       "dtype: float64"
      ]
     },
     "metadata": {},
     "output_type": "display_data"
    }
   ],
   "source": [
    "# Arrange results in tables\n",
    "\n",
    "metric_labels = [\n",
    "    \"AUROC\",\n",
    "    \"best thresh\",\n",
    "    \"best TP\",\n",
    "    \"best FP\",\n",
    "    \"best recall\",\n",
    "    \"best precis\",\n",
    "    \"fuzzy recall\",\n",
    "    \"fuzzy precis\",\n",
    "    \"fuzzy Fscore\"\n",
    "]\n",
    "\n",
    "results_labels = []\n",
    "\n",
    "for label in metric_labels:\n",
    "    results_labels.append(\"Vali \" + label)\n",
    "\n",
    "results_df = pd.DataFrame(columns = results_labels)\n",
    "\n",
    "for i in range(num_validation_rounds):\n",
    "    if i in val_best_metrics.keys():\n",
    "        results_df.loc[i] = [\n",
    "            val_aurocs[i],\n",
    "            val_best_thresholds[i],\n",
    "            val_best_metrics[i][evaluation_metrics.TRUE_POSITIVE_RATE],\n",
    "            val_best_metrics[i][evaluation_metrics.FALSE_POSITIVE_RATE],\n",
    "            val_best_metrics[i][evaluation_metrics.RECALL],\n",
    "            val_best_metrics[i][evaluation_metrics.PRECISION],\n",
    "            val_fuzzy_metrics[i][evaluation_metrics.RECALL],\n",
    "            val_fuzzy_metrics[i][evaluation_metrics.PRECISION],\n",
    "            val_fuzzy_metrics[i][evaluation_metrics.FSCORE]\n",
    "        ]\n",
    "\n",
    "display(results_df)\n",
    "\n",
    "print(\"\\nAverages\")\n",
    "\n",
    "results_means_df = results_df.mean()\n",
    "display(results_means_df)"
   ]
  },
  {
   "cell_type": "code",
   "execution_count": 17,
   "metadata": {},
   "outputs": [
    {
     "data": {
      "text/plain": [
       "[<matplotlib.lines.Line2D at 0x1ebc908d108>]"
      ]
     },
     "execution_count": 17,
     "metadata": {},
     "output_type": "execute_result"
    },
    {
     "data": {
      "image/png": "[encoded data removed]",
      "text/plain": [
       "<Figure size 432x288 with 1 Axes>"
      ]
     },
     "metadata": {
      "needs_background": "light"
     },
     "output_type": "display_data"
    }
   ],
   "source": [
    "# Print the last ROC curve for visual verification that we catch the optimal point\n",
    "\n",
    "n = len(roc_thresholds)\n",
    "\n",
    "roc_x = np.zeros(n)\n",
    "roc_y = np.zeros(n)\n",
    "\n",
    "for i in range(n):\n",
    "    roc_x[i] = vali_metrics_dicts[i][evaluation_metrics.FALSE_POSITIVE_RATE]\n",
    "    roc_y[i] = vali_metrics_dicts[i][evaluation_metrics.SENSITIVITY]\n",
    "    # print(\"Threshold = {0:4.2f}  False pos rate = {1:4.2f}  Sensitivity = {2:4.2f}\"\n",
    "    #       .format(roc_thresholds[i], roc_x[i], roc_y[i]))\n",
    "\n",
    "    \n",
    "plt.figure()\n",
    "plt.ylim(-0.01, 1.01)\n",
    "plt.xlim(-0.01, 1.01)\n",
    "plt.plot(roc_x, roc_y, color='darkred', lw=2)"
   ]
  },
  {
   "cell_type": "code",
   "execution_count": 18,
   "metadata": {},
   "outputs": [
    {
     "name": "stdout",
     "output_type": "stream",
     "text": [
      "Results saved to: c:\\Data\\SagittalSpineSegmentationStudy\\SavedResults\\SagittalSpineSegmentationStudy-TF2_2020-01-25_16-37-37.csv\n"
     ]
    }
   ],
   "source": [
    "# Save results table\n",
    "\n",
    "csv_filename = this_notebook_name + \"_\" + save_timestamp + \".csv\"\n",
    "csv_fullname = os.path.join(results_save_fullpath, csv_filename)\n",
    "results_df.to_csv(csv_fullname)\n",
    "\n",
    "print(\"Results saved to: {}\".format(csv_fullname))"
   ]
  },
  {
   "cell_type": "code",
   "execution_count": 20,
   "metadata": {},
   "outputs": [
    {
     "data": {
      "text/plain": [
       "<Figure size 1296x0 with 0 Axes>"
      ]
     },
     "metadata": {},
     "output_type": "display_data"
    }
   ],
   "source": [
    "# Display sample results\n",
    "\n",
    "num_vali = val_ultrasound_data.shape[0]\n",
    "num_show = 5\n",
    "if num_vali < num_show:\n",
    "    num_show = 0\n",
    "\n",
    "indices = [i for i in range(num_vali)]\n",
    "sample_indices = sample(indices, num_show)\n",
    "\n",
    "# Uncomment for comparing the same images\n",
    "# sample_indices = [105, 195, 391, 133, 142]\n",
    "\n",
    "fig = plt.figure(figsize=(18, num_show*5))\n",
    "for i in range(num_show):\n",
    "    a0 = fig.add_subplot(num_show,3,i*3+1)\n",
    "    img0 = a0.imshow(np.flipud(val_ultrasound_data[sample_indices[i], :, :, 0].astype(np.float32)))\n",
    "    a0.set_title(\"Ultrasound #{}\".format(sample_indices[i]))\n",
    "    a1 = fig.add_subplot(num_show,3,i*3+2)\n",
    "    img1 = a1.imshow(np.flipud(val_segmentation_data_onehot[sample_indices[i], :, :, 1]), vmin=0.0, vmax=1.0)\n",
    "    a1.set_title(\"Segmentation #{}\".format(sample_indices[i]))\n",
    "    c = fig.colorbar(img1, fraction=0.046, pad=0.04)\n",
    "    a2 = fig.add_subplot(num_show,3,i*3+3)\n",
    "    img2 = a2.imshow(np.flipud(y_pred_val[sample_indices[i], :, :, 1]), vmin=0.0, vmax=1.0)\n",
    "    a2.set_title(\"Prediction #{}\".format(sample_indices[i]))\n",
    "    c = fig.colorbar(img2, fraction=0.046, pad=0.04)"
   ]
  },
  {
   "cell_type": "code",
   "execution_count": 21,
   "metadata": {},
   "outputs": [
    {
     "data": {
      "application/javascript": [
       "\n",
       "require([\"base/js/namespace\"],function(Jupyter) {\n",
       "    Jupyter.notebook.save_checkpoint();\n",
       "});\n"
      ],
      "text/plain": [
       "<IPython.core.display.Javascript object>"
      ]
     },
     "execution_count": 21,
     "metadata": {},
     "output_type": "execute_result"
    }
   ],
   "source": [
    "# Save notebook so all output is archived by the next cell\n",
    "\n",
    "from IPython.display import Javascript\n",
    "script = '''\n",
    "require([\"base/js/namespace\"],function(Jupyter) {\n",
    "    Jupyter.notebook.save_checkpoint();\n",
    "});\n",
    "'''\n",
    "Javascript(script)"
   ]
  },
  {
   "cell_type": "code",
   "execution_count": 22,
   "metadata": {},
   "outputs": [
    {
     "name": "stdout",
     "output_type": "stream",
     "text": [
      "Notebook saved to: c:\\Data\\SagittalSpineSegmentationStudy\\SavedNotebooks\\SagittalSpineSegmentationStudy-TF2_2020-01-25_16-37-37.html\n"
     ]
    }
   ],
   "source": [
    "# Export HTML copy of this notebook\n",
    "\n",
    "notebook_file_name = this_notebook_name + \"_\" + save_timestamp + \".html\"\n",
    "notebook_fullname = os.path.join(notebooks_save_fullpath, notebook_file_name)\n",
    "\n",
    "os.system(\"jupyter nbconvert --to html \" + this_notebook_name + \" --output \" + notebook_fullname)\n",
    "print(\"Notebook saved to: {}\".format(notebook_fullname))"
   ]
  },
  {
   "cell_type": "code",
   "execution_count": null,
   "metadata": {},
   "outputs": [],
   "source": []
  }
 ],
 "metadata": {
  "kernelspec": {
   "display_name": "Python 3",
   "language": "python",
   "name": "python3"
  },
  "language_info": {
   "codemirror_mode": {
    "name": "ipython",
    "version": 3
   },
   "file_extension": ".py",
   "mimetype": "text/x-python",
   "name": "python",
   "nbconvert_exporter": "python",
   "pygments_lexer": "ipython3",
   "version": "3.7.5"
  }
 },
 "nbformat": 4,
 "nbformat_minor": 2
}
