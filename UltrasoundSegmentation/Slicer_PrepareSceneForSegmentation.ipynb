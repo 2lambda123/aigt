{
 "cells": [
  {
   "cell_type": "code",
   "execution_count": 1,
   "metadata": {},
   "outputs": [],
   "source": [
    "input_image_name = \"Image_Image\"\n",
    "input_browser_name = \"LandmarkingScan_1\"\n",
    "hide_model_name = \"SkeletonModel\""
   ]
  },
  {
   "cell_type": "code",
   "execution_count": 2,
   "metadata": {},
   "outputs": [],
   "source": [
    "# Switch to red-only layout\n",
    "\n",
    "layoutManager = slicer.app.layoutManager()\n",
    "layoutManager.setLayout(slicer.vtkMRMLLayoutNode.SlicerLayoutOneUpRedSliceView)"
   ]
  },
  {
   "cell_type": "code",
   "execution_count": 3,
   "metadata": {},
   "outputs": [
    {
     "name": "stdout",
     "output_type": "stream",
     "text": [
      "Delete Volume\n",
      "Keep   Image_Image\n",
      "Delete Image_Reference\n",
      "Delete Segmented_Image\n",
      "Delete LandmarkingScanReconstructionResults\n",
      "Delete LandmarkingScan_1ReconstructionResults\n",
      "Delete Volume_1\n",
      "Delete Segmented_Image_1\n",
      "Delete RoadmapScanReconstructionResults\n"
     ]
    }
   ],
   "source": [
    "# Move input image off of any transforms, and delete all other images\n",
    "\n",
    "input_image_node = slicer.util.getFirstNodeByName(input_image_name, className=\"vtkMRMLScalarVolumeNode\")\n",
    "if input_image_node is None:\n",
    "    raise Exception(\"Cannot find image: {}\".format(input_image_name))\n",
    "\n",
    "input_image_node.SetAndObserveTransformNodeID(None)\n",
    "\n",
    "volume_nodes = slicer.mrmlScene.GetNodesByClass('vtkMRMLScalarVolumeNode')\n",
    "volume_nodes.InitTraversal()\n",
    "volume = volume_nodes.GetNextItemAsObject()\n",
    "while volume is not None:\n",
    "    volume_name = volume.GetName()\n",
    "    if volume_name != input_image_name:\n",
    "        print(\"Delete {}\".format(volume_name))\n",
    "        slicer.mrmlScene.RemoveNode(volume)\n",
    "    else:\n",
    "        print(\"Keep   {}\".format(volume_name))\n",
    "    volume = volume_nodes.GetNextItemAsObject()\n"
   ]
  },
  {
   "cell_type": "code",
   "execution_count": 4,
   "metadata": {},
   "outputs": [],
   "source": [
    "# Show image in red view\n",
    "\n",
    "redSliceWidget = slicer.app.layoutManager().sliceWidget('Red')\n",
    "compNode = redSliceWidget.sliceLogic().GetSliceCompositeNode()\n",
    "compNode.SetBackgroundVolumeID(input_image_node.GetID())\n",
    "redSliceWidget.fitSliceToBackground()\n",
    "\n",
    "redNode = slicer.mrmlScene.GetNodeByID('vtkMRMLSliceNodeRed')\n",
    "\n",
    "resliceLogic = slicer.modules.volumereslicedriver.logic()\n",
    "resliceLogic.SetDriverForSlice(input_image_node.GetID(), redNode)"
   ]
  },
  {
   "cell_type": "code",
   "execution_count": 5,
   "metadata": {},
   "outputs": [
    {
     "name": "stdout",
     "output_type": "stream",
     "text": [
      "Delete RoadmapScan\n",
      "Delete LandmarkingScan\n",
      "Keep   LandmarkingScan_1\n"
     ]
    }
   ],
   "source": [
    "# Delete all sequence browsers that are not the input\n",
    "\n",
    "sequence_browsers = slicer.mrmlScene.GetNodesByClass('vtkMRMLSequenceBrowserNode')\n",
    "sequence_browsers.InitTraversal()\n",
    "browser = sequence_browsers.GetNextItemAsObject()\n",
    "while browser is not None:\n",
    "    browser_name = browser.GetName()\n",
    "    if browser_name != input_browser_name:\n",
    "        print(\"Delete {}\".format(browser_name))\n",
    "        slicer.mrmlScene.RemoveNode(browser)\n",
    "    else:\n",
    "        print(\"Keep   {}\".format(browser_name))\n",
    "    browser = sequence_browsers.GetNextItemAsObject()"
   ]
  },
  {
   "cell_type": "code",
   "execution_count": 6,
   "metadata": {},
   "outputs": [
    {
     "name": "stdout",
     "output_type": "stream",
     "text": [
      "Delete RoadmapScan-TransdToReference-Seq\n",
      "Delete RoadmapScan-Image_Image-Seq\n",
      "Delete RoadmapScan-ImageToTransd-Seq\n",
      "Delete LandmarkingScan-TransdToReference-Seq\n",
      "Delete LandmarkingScan-Image_Image-Seq\n",
      "Delete LandmarkingScan-ImageToTransd-Seq\n",
      "Keep   LandmarkingScan_1-TransdToReference-Seq\n",
      "Keep   LandmarkingScan_1-Image_Image-Seq\n",
      "Keep   LandmarkingScan_1-ImageToTransd-Seq\n"
     ]
    }
   ],
   "source": [
    "# Delete all sequences that don't belong to the input browser\n",
    "\n",
    "input_browser_node = slicer.util.getFirstNodeByName(input_browser_name)\n",
    "if input_browser_node is None:\n",
    "    raise Exception(\"Cannot find {}\".format(input_browser_name))\n",
    "\n",
    "sequence_nodes_to_keep = vtk.vtkCollection()\n",
    "input_browser_node.GetSynchronizedSequenceNodes(sequence_nodes_to_keep, True)\n",
    "\n",
    "sequences = slicer.mrmlScene.GetNodesByClass('vtkMRMLSequenceNode')\n",
    "sequences.InitTraversal()\n",
    "seq = sequences.GetNextItemAsObject()\n",
    "while seq is not None:\n",
    "    if sequence_nodes_to_keep.IsItemPresent(seq):\n",
    "        print(\"Keep   {}\".format(seq.GetName()))\n",
    "    else:\n",
    "        print(\"Delete {}\".format(seq.GetName()))\n",
    "        slicer.mrmlScene.RemoveNode(seq)\n",
    "    seq = sequences.GetNextItemAsObject()"
   ]
  },
  {
   "cell_type": "code",
   "execution_count": 7,
   "metadata": {},
   "outputs": [
    {
     "data": {
      "text/plain": [
       "'Segment_1'"
      ]
     },
     "execution_count": 7,
     "metadata": {},
     "output_type": "execute_result"
    }
   ],
   "source": [
    "# Create segmentation\n",
    "\n",
    "segmentation_node = slicer.mrmlScene.AddNewNodeByClass(\"vtkMRMLSegmentationNode\", \"Segmentation\")\n",
    "segmentation_node.CreateDefaultDisplayNodes()\n",
    "segmentation_node.SetReferenceImageGeometryParameterFromVolumeNode(input_image_node)\n",
    "segmentation_node.GetSegmentation().AddEmptySegment()"
   ]
  },
  {
   "cell_type": "code",
   "execution_count": 8,
   "metadata": {},
   "outputs": [],
   "source": [
    "# Create output browser\n",
    "\n",
    "output_browser = slicer.mrmlScene.AddNewNodeByClass(\"vtkMRMLSequenceBrowserNode\", \"SegmentationBrowser\")\n",
    "sequence_browser_logic = slicer.modules.sequences.logic()\n",
    "\n",
    "segmentation_sequence = sequence_browser_logic.AddSynchronizedNode(None, None, output_browser)\n",
    "segmentation_sequence.SetName(\"SegmentationSequence\")\n",
    "sequence_browser_logic.AddSynchronizedNode(segmentation_sequence, segmentation_node, output_browser)\n",
    "output_browser.SetRecording(segmentation_sequence, True)\n",
    "output_browser.SetSaveChanges(segmentation_sequence, False)\n",
    "\n",
    "image_sequence = sequence_browser_logic.AddSynchronizedNode(None, None, output_browser)\n",
    "image_sequence.SetName(\"ImageSequence\")\n",
    "sequence_browser_logic.AddSynchronizedNode(image_sequence, input_image_node, output_browser)\n",
    "output_browser.SetRecording(image_sequence, True)\n",
    "output_browser.SetSaveChanges(image_sequence, False)\n",
    "\n",
    "output_browser.SetRecordMasterOnly(True)"
   ]
  },
  {
   "cell_type": "code",
   "execution_count": 9,
   "metadata": {},
   "outputs": [],
   "source": [
    "# Show sequence browser toolbar, and select input browser in it\n",
    "\n",
    "sb_toolbar = slicer.modules.sequences.toolBar()\n",
    "sb_toolbar.setVisible(True)\n",
    "\n",
    "input_browser_node = slicer.util.getFirstNodeByName(input_browser_name, className=\"vtkMRMLSequenceBrowserNode\")\n",
    "slicer.modules.sequences.setToolBarActiveBrowserNode(input_browser_node)"
   ]
  },
  {
   "cell_type": "code",
   "execution_count": 10,
   "metadata": {},
   "outputs": [],
   "source": [
    "# Hide model\n",
    "\n",
    "hide_model_node = slicer.util.getFirstNodeByName(hide_model_name)\n",
    "if hide_model_node is not None:\n",
    "    hide_model_node.GetDisplayNode().SetVisibility(False)"
   ]
  },
  {
   "cell_type": "code",
   "execution_count": null,
   "metadata": {},
   "outputs": [],
   "source": []
  }
 ],
 "metadata": {
  "kernelspec": {
   "display_name": "Slicer 4.11",
   "language": "python",
   "name": "slicer-4.11"
  },
  "language_info": {
   "file_extension": ".py",
   "mimetype": "text/x-python",
   "name": "python",
   "version": "3.6.7"
  }
 },
 "nbformat": 4,
 "nbformat_minor": 2
}
