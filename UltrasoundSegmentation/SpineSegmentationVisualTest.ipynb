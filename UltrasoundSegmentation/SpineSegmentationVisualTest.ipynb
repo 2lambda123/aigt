{
 "cells": [
  {
   "cell_type": "code",
   "execution_count": 1,
   "metadata": {},
   "outputs": [],
   "source": [
    "import JupyterNotebooksLib as slicernb"
   ]
  },
  {
   "cell_type": "code",
   "execution_count": 2,
   "metadata": {},
   "outputs": [
    {
     "name": "stdout",
     "output_type": "stream",
     "text": [
      "Save timestamp: 2020-07-02_13-31-35\n"
     ]
    }
   ],
   "source": [
    "this_notebook_name = \"SpineSegmentationVisualTest\"\n",
    "\n",
    "# place path to scene to test here\n",
    "scene_to_reconstruct = r\"d:\\Data\\VerdureSegmentations\\722_Sa_Ready.mrb\"\n",
    "\n",
    "# set this to the name of the model to study\n",
    "model_fullname = r\"d:\\Data\\SagittalSpineSegmentationStudy\\SavedModels\\SagittalSpineSegmentationStudy-TF2_model-4_2020-01-26_15-16-58.h5\"\n",
    "\n",
    "# set this to notebook folder\n",
    "notebooks_save_path = r\"d:\\Data\\SagittalSpineSegmentationStudy\\SavedNotebooks\"\n",
    "\n",
    "# Volume rendering parameters\n",
    "volRendWindow = 128\n",
    "volRendLevel = 128\n",
    "volRendColor1 = [0.1, 0.1, 0.0, 1]\n",
    "volRendColor2 = [1.0, 0.9, 0.4, 1]\n",
    "\n",
    "import datetime\n",
    "save_timestamp = datetime.datetime.now().strftime('%Y-%m-%d_%H-%M-%S')\n",
    "print(\"Save timestamp: {}\".format(save_timestamp))"
   ]
  },
  {
   "cell_type": "code",
   "execution_count": 3,
   "metadata": {
    "scrolled": true
   },
   "outputs": [],
   "source": [
    "slicer.mrmlScene.Clear()\n",
    "try:\n",
    "    slicer.util.loadScene(scene_to_reconstruct)\n",
    "except:\n",
    "    # NOTE: for some reason loading a scene throws an error every time, but laods the scene just fine\n",
    "    print('Error thrown. Continuing.')\n",
    "    "
   ]
  },
  {
   "cell_type": "code",
   "execution_count": 4,
   "metadata": {},
   "outputs": [
    {
     "data": {
      "text/plain": [
       "True"
      ]
     },
     "execution_count": 4,
     "metadata": {},
     "output_type": "execute_result"
    }
   ],
   "source": [
    "# changing transform hierarchy\n",
    "image_image = slicer.util.getFirstNodeByName(\"Image_Image\")\n",
    "imageToTransd = slicer.util.getFirstNodeByName(\"ImageToTransd\")\n",
    "\n",
    "image_image.SetAndObserveTransformNodeID(None)\n",
    "image_image.SetAndObserveTransformNodeID(imageToTransd.GetID())"
   ]
  },
  {
   "cell_type": "code",
   "execution_count": 5,
   "metadata": {},
   "outputs": [],
   "source": [
    "# Input ultrasound sequence names\n",
    "\n",
    "input_browser_name = r\"LandmarkingScan\"\n",
    "input_image_name = r\"Image_Image\"\n",
    "\n",
    "# Output will be saved using these names\n",
    "\n",
    "output_browser_name = r\"BonePredictionBrowser\"\n",
    "output_sequence_name = r\"PredictionSequence\"\n",
    "output_image_name = r\"PredictionImage\"\n",
    "\n",
    "# Optionally save output to numpy arrays\n",
    "\n",
    "array_output = False\n",
    "array_folder_name = r\"Temp\"\n",
    "array_segmentation_name = r\"segmentation\"\n",
    "array_ultrasound_name = r\"ultrasound\"\n",
    "\n",
    "# Image processing parameters\n",
    "\n",
    "# Erases the side of prediction images. 1.0 means the whole prediction is erased.\n",
    "# Background should be the first component (i.e. y[:,:,:,0]) in the prediction output array.\n",
    "\n",
    "clip_side_ratio = 0.3\n",
    "apply_logarithmic_transformation = True\n",
    "logarithmic_transformation_decimals = 4"
   ]
  },
  {
   "cell_type": "code",
   "execution_count": 6,
   "metadata": {},
   "outputs": [
    {
     "name": "stderr",
     "output_type": "stream",
     "text": [
      "C:\\Users\\tamas\\AppData\\Local\\NA-MIC\\Slicer 4.11.0-2020-06-27\\lib\\Python\\Lib\\site-packages\\pandas\\compat\\__init__.py:117: UserWarning: Could not import the lzma module. Your installed Python is incomplete. Attempting to use lzma compression will result in a RuntimeError.\n",
      "  warnings.warn(msg)\n"
     ]
    }
   ],
   "source": [
    "import datetime\n",
    "import numpy as np\n",
    "import os\n",
    "import scipy.ndimage\n",
    "\n",
    "import tensorflow as tf\n",
    "from tensorflow.keras.models import load_model\n",
    "\n",
    "# from local_vars import root_folder"
   ]
  },
  {
   "cell_type": "code",
   "execution_count": 7,
   "metadata": {},
   "outputs": [],
   "source": [
    "parent_folder = os.path.dirname(os.path.abspath(os.curdir))\n",
    "sys.path.append(parent_folder)\n",
    "\n",
    "import Models.segmentation_unet as unet\n",
    "import utils"
   ]
  },
  {
   "cell_type": "code",
   "execution_count": 8,
   "metadata": {},
   "outputs": [
    {
     "name": "stdout",
     "output_type": "stream",
     "text": [
      "Loading model from: d:\\Data\\SagittalSpineSegmentationStudy\\SavedModels\\SagittalSpineSegmentationStudy-TF2_model-4_2020-01-26_15-16-58.h5\n"
     ]
    }
   ],
   "source": [
    "# Check if keras model file exists. Abort if not found. Load model otherwise.\n",
    "\n",
    "if not os.path.exists(model_fullname):\n",
    "    raise Exception(\"Could not find model: \" + model_fullname)\n",
    "\n",
    "print(\"Loading model from: \" + model_fullname)\n",
    "\n",
    "if array_output:\n",
    "    array_output_fullpath = os.path.join(root_folder, array_folder_name)\n",
    "    array_segmentation_fullname = os.path.join(array_output_fullpath, array_segmentation_name)\n",
    "    array_ultrasound_fullname = os.path.join(array_output_fullpath, array_ultrasound_name)\n",
    "    if not os.path.exists(array_output_fullpath):\n",
    "        os.mkdir(array_output_fullpath)\n",
    "        print(\"Folder created: {}\".format(array_output_fullpath))\n",
    "    print(\"Will save segmentation output to {}\".format(array_segmentation_fullname))\n",
    "    print(\"Will save ultrasound output to   {}\".format(array_ultrasound_fullname))\n",
    "\n",
    "model = tf.keras.models.load_model(model_fullname, compile=False)\n",
    "\n",
    "# model.summary()"
   ]
  },
  {
   "cell_type": "code",
   "execution_count": 9,
   "metadata": {},
   "outputs": [],
   "source": [
    "# Check input. Abort if browser or image doesn't exist.\n",
    "\n",
    "input_browser_node = slicer.util.getFirstNodeByName(input_browser_name, className='vtkMRMLSequenceBrowserNode')\n",
    "input_image_node = slicer.util.getFirstNodeByName(input_image_name, className=\"vtkMRMLScalarVolumeNode\")\n",
    "\n",
    "if input_browser_node is None:\n",
    "    logging.error(\"Could not find input browser node: {}\".format(input_browser_node))\n",
    "    raise\n",
    "\n",
    "if input_image_node is None:\n",
    "    logging.error(\"Could not find input image node: {}\".format(input_image_name))\n",
    "    raise"
   ]
  },
  {
   "cell_type": "code",
   "execution_count": 10,
   "metadata": {},
   "outputs": [],
   "source": [
    "# Create output image and browser for segmentation output.\n",
    "\n",
    "output_browser_node = slicer.util.getFirstNodeByName(output_browser_name, className='vtkMRMLSequenceBrowserNode')\n",
    "if output_browser_node is None:\n",
    "    output_browser_node = slicer.mrmlScene.AddNewNodeByClass('vtkMRMLSequenceBrowserNode', output_browser_name)\n",
    "\n",
    "output_sequence_node = slicer.util.getFirstNodeByName(output_sequence_name, className=\"vtkMRMLSequenceNode\")\n",
    "if output_sequence_node is None:\n",
    "    output_sequence_node = slicer.mrmlScene.AddNewNodeByClass('vtkMRMLSequenceNode', output_sequence_name)\n",
    "    output_browser_node.AddSynchronizedSequenceNode(output_sequence_node)\n",
    "\n",
    "output_image_node = slicer.util.getFirstNodeByName(output_image_name, className=\"vtkMRMLScalarVolumeNode\")\n",
    "if output_image_node is None:\n",
    "    volumes_logic = slicer.modules.volumes.logic()\n",
    "    output_image_node = volumes_logic.CloneVolume(slicer.mrmlScene, input_image_node, output_image_name)\n",
    "    browser_logic = slicer.modules.sequences.logic()\n",
    "    browser_logic.AddSynchronizedNode(output_sequence_node, output_image_node, output_browser_node)\n",
    "\n",
    "output_browser_node.SetRecording(output_sequence_node, True)"
   ]
  },
  {
   "cell_type": "code",
   "execution_count": 11,
   "metadata": {},
   "outputs": [],
   "source": [
    "# Add all input sequences to the output browser for being able to conveniently replay everything\n",
    "\n",
    "proxy_collection = vtk.vtkCollection()\n",
    "input_browser_node.GetAllProxyNodes(proxy_collection)\n",
    "\n",
    "for i in range(proxy_collection.GetNumberOfItems()):\n",
    "    proxy_node = proxy_collection.GetItemAsObject(i)\n",
    "    output_sequence = slicer.mrmlScene.AddNewNodeByClass('vtkMRMLSequenceNode')\n",
    "    browser_logic.AddSynchronizedNode(output_sequence, proxy_node, output_browser_node)\n",
    "    output_browser_node.SetRecording(output_sequence, True)"
   ]
  },
  {
   "cell_type": "code",
   "execution_count": 12,
   "metadata": {},
   "outputs": [
    {
     "name": "stdout",
     "output_type": "stream",
     "text": [
      "Will segment 688 images\n"
     ]
    }
   ],
   "source": [
    "# Iterate input sequence, compute segmentation for each frame, record output sequence.\n",
    "\n",
    "num_items = input_browser_node.GetNumberOfItems()\n",
    "n = num_items\n",
    "input_browser_node.SelectFirstItem()\n",
    "\n",
    "input_array = slicer.util.array(input_image_node.GetID())\n",
    "slicer_to_model_scaling = model.layers[0].input_shape[0][1] / input_array.shape[1]\n",
    "model_to_slicer_scaling = input_array.shape[1] / model.layers[0].input_shape[0][1]\n",
    "\n",
    "print(\"Will segment {} images\".format(n))\n",
    "\n",
    "if array_output:\n",
    "    array_output_ultrasound = np.zeros((n, input_array.shape[1], input_array.shape[1]))\n",
    "    array_output_segmentation = np.zeros((n, input_array.shape[1], input_array.shape[1]), dtype=np.uint8)"
   ]
  },
  {
   "cell_type": "code",
   "execution_count": 13,
   "metadata": {},
   "outputs": [
    {
     "name": "stdout",
     "output_type": "stream",
     "text": [
      "Will mask 19 columns on both sides\n"
     ]
    }
   ],
   "source": [
    "model_output_size = model.layers[-1].output_shape[1]\n",
    "num_output_components = model.layers[-1].output_shape[3]\n",
    "\n",
    "mask_model = np.ones([model_output_size, model_output_size])\n",
    "mask_model_background = np.zeros([model_output_size, model_output_size])\n",
    "\n",
    "columns_to_mask = int(model_output_size / 2 * clip_side_ratio)\n",
    "print(\"Will mask {} columns on both sides\".format(columns_to_mask))\n",
    "\n",
    "mask_model[:,:columns_to_mask] = 0\n",
    "mask_model[:,-columns_to_mask:] = 0\n",
    "mask_model_background[:,:columns_to_mask] = 1\n",
    "mask_model_background[:,-columns_to_mask:] = 1\n",
    "\n",
    "# Display mask\n",
    "\n",
    "# import matplotlib\n",
    "# matplotlib.use('WXAgg')\n",
    "\n",
    "# from matplotlib import pyplot as plt\n",
    "\n",
    "# plt.imshow(mask_model[:,:])\n",
    "# plt.show()"
   ]
  },
  {
   "cell_type": "code",
   "execution_count": 14,
   "metadata": {},
   "outputs": [
    {
     "name": "stdout",
     "output_type": "stream",
     "text": [
      "Processing started at: 13-31-53\n",
      "Processing finished at: 13-32-40\n"
     ]
    }
   ],
   "source": [
    "start_timestamp = datetime.datetime.now()\n",
    "print(\"Processing started at: {}\".format(start_timestamp.strftime('%H-%M-%S')))\n",
    "\n",
    "\n",
    "for i in range(n):\n",
    "    # if i > 10:  # todo Just for debugging\n",
    "    #     break\n",
    "    input_array = slicer.util.array(input_image_node.GetID())\n",
    "    \n",
    "    if array_output:\n",
    "        array_output_ultrasound[i, :, :] = input_array[0, :, :]\n",
    "    \n",
    "    resized_input_array = scipy.ndimage.zoom(input_array[0,:,:], slicer_to_model_scaling)\n",
    "    resized_input_array = np.flip(resized_input_array, axis=0)\n",
    "    resized_input_array = resized_input_array / resized_input_array.max()  # Scaling intensity to 0-1\n",
    "    resized_input_array = np.expand_dims(resized_input_array, axis=0)\n",
    "    resized_input_array = np.expand_dims(resized_input_array, axis=3)\n",
    "    y = model.predict(resized_input_array)\n",
    "    if apply_logarithmic_transformation:\n",
    "        e = logarithmic_transformation_decimals\n",
    "        y = np.log10(np.clip(y, 10**(-e), 1.0)*(10**e))/e\n",
    "    y[0,:,:,:] = np.flip(y[0,:,:,:], axis=0)\n",
    "    \n",
    "    for component in range(1, num_output_components):\n",
    "        y[0,:,:,component] = y[0,:,:,component] * mask_model[:,:]\n",
    "    y[0,:,:,0] = np.maximum(y[0,:,:,0], mask_model_background)\n",
    "    \n",
    "    upscaled_output_array = scipy.ndimage.zoom(y[0,:,:,1], model_to_slicer_scaling)\n",
    "    upscaled_output_array = upscaled_output_array * 255\n",
    "    upscaled_output_array = np.clip(upscaled_output_array, 0, 255)\n",
    "    \n",
    "    if array_output:\n",
    "        array_output_segmentation[i, :, :] = upscaled_output_array[:, :].astype(np.uint8)\n",
    "    \n",
    "    # output_array = slicer.util.array(output_image_node.GetID())\n",
    "    # output_array[0, :, :] = upscaled_output_array[:, :].astype(np.uint8)\n",
    "    \n",
    "    slicer.util.updateVolumeFromArray(output_image_node, upscaled_output_array.astype(np.uint8)[np.newaxis, ...])\n",
    "    \n",
    "    output_browser_node.SaveProxyNodesState()\n",
    "    input_browser_node.SelectNextItem()\n",
    "    \n",
    "    # If Slicer crashes during processing, try commenting this following line out and run this notebook again.\n",
    "    slicer.app.processEvents()\n",
    "\n",
    "\n",
    "stop_timestamp = datetime.datetime.now()\n",
    "print(\"Processing finished at: {}\".format(stop_timestamp.strftime('%H-%M-%S')))\n",
    "\n",
    "\n",
    "if array_output:\n",
    "    np.save(array_ultrasound_fullname, array_output_ultrasound)\n",
    "    np.save(array_segmentation_fullname, array_output_segmentation)\n",
    "    print(\"Saved {}\".format(array_ultrasound_fullname))\n",
    "    print(\"Saved {}\".format(array_segmentation_fullname))"
   ]
  },
  {
   "cell_type": "code",
   "execution_count": 15,
   "metadata": {},
   "outputs": [
    {
     "name": "stdout",
     "output_type": "stream",
     "text": [
      "Processed 688 frames in 47.14 seconds\n",
      "FPS = 14.59\n"
     ]
    }
   ],
   "source": [
    "time_seconds = (stop_timestamp - start_timestamp).total_seconds()\n",
    "print(\"Processed {} frames in {:.2f} seconds\".format(n, time_seconds))\n",
    "print(\"FPS = {:.2f}\".format(n / time_seconds))"
   ]
  },
  {
   "cell_type": "code",
   "execution_count": 16,
   "metadata": {},
   "outputs": [],
   "source": [
    "# Find input volume (image) for volume reconstruction\n",
    "\n",
    "predictionVolume = slicer.mrmlScene.GetFirstNodeByName(\"PredictionImage\")\n",
    "if predictionVolume is None:\n",
    "    raise Exception(\"PredictionImage not found in Slicer scene\")"
   ]
  },
  {
   "cell_type": "code",
   "execution_count": 17,
   "metadata": {},
   "outputs": [],
   "source": [
    "# Create output volume node\n",
    "\n",
    "reconstructedVolume = slicer.mrmlScene.GetFirstNodeByName(\"AiVolume\")\n",
    "if reconstructedVolume is None:\n",
    "    reconstructedVolume = slicer.mrmlScene.AddNewNodeByClass(\"vtkMRMLScalarVolumeNode\")\n",
    "    reconstructedVolume.SetName(\"AiVolume\")"
   ]
  },
  {
   "cell_type": "code",
   "execution_count": 18,
   "metadata": {},
   "outputs": [],
   "source": [
    "inputBrowserNode = slicer.mrmlScene.GetFirstNodeByName(\"BonePredictionBrowser\")\n",
    "if inputBrowserNode is None:\n",
    "    raise Exception(\"BonePredictionBrowser missing\")"
   ]
  },
  {
   "cell_type": "code",
   "execution_count": 19,
   "metadata": {},
   "outputs": [],
   "source": [
    "# Prepare volume reconstructor node\n",
    "\n",
    "volumeReconstructor = slicer.mrmlScene.GetFirstNodeByName(\"AiVolumeReconstructor\")\n",
    "if volumeReconstructor is None:\n",
    "    volumeReconstructor = slicer.vtkMRMLVolumeReconstructionNode()\n",
    "    volumeReconstructor.SetName(\"AiVolumeReconstructor\")\n",
    "    volumeReconstructor.SetLiveVolumeReconstruction(False)\n",
    "    volumeReconstructor.SetOptimizationMode(slicer.vtkMRMLVolumeReconstructionNode.FULL_OPTIMIZATION)\n",
    "    volumeReconstructor.SetCompoundingMode(slicer.vtkMRMLVolumeReconstructionNode.MAXIMUM_COMPOUNDING_MODE)\n",
    "    volumeReconstructor.SetInterpolationMode(slicer.vtkMRMLVolumeReconstructionNode.LINEAR_INTERPOLATION)\n",
    "    slicer.mrmlScene.AddNode(volumeReconstructor)\n",
    "\n",
    "volumeReconstructor.SetAndObserveInputSequenceBrowserNode(inputBrowserNode)\n",
    "volumeReconstructor.SetAndObserveOutputVolumeNode(reconstructedVolume)\n",
    "volumeReconstructor.SetAndObserveInputVolumeNode(predictionVolume)\n",
    "\n",
    "volumeReconstructionLogic = slicer.modules.volumereconstruction.logic()"
   ]
  },
  {
   "cell_type": "code",
   "execution_count": 20,
   "metadata": {},
   "outputs": [],
   "source": [
    "# Volume reconstruction\n",
    "\n",
    "volumeReconstructionLogic.ReconstructVolumeFromSequence(volumeReconstructor)\n"
   ]
  },
  {
   "cell_type": "code",
   "execution_count": 21,
   "metadata": {},
   "outputs": [],
   "source": [
    "# Volume rendering\n",
    "\n",
    "# find input volume\n",
    "aivolumeNode = slicer.mrmlScene.GetFirstNodeByName(\"AiVolume\")\n",
    "if aivolumeNode is None:\n",
    "    raise Exception(\"AiVolume node was never constructed\")"
   ]
  },
  {
   "cell_type": "code",
   "execution_count": 22,
   "metadata": {},
   "outputs": [],
   "source": [
    "# find or build ROI\n",
    "annotationROINode = slicer.mrmlScene.GetFirstNodeByName(\"AnnotationROI\")\n",
    "if annotationROINode is None:\n",
    "    annotationROINode = slicer.vtkMRMLAnnotationROINode()\n",
    "    annotationROINode.SetName(\"AnnotationROI\")\n",
    "    slicer.mrmlScene.AddNode(annotationROINode)\n",
    "    annotationROINode.SetDisplayVisibility(False)"
   ]
  },
  {
   "cell_type": "code",
   "execution_count": 23,
   "metadata": {
    "scrolled": true
   },
   "outputs": [],
   "source": [
    "# find or build volume property\n",
    "propertyPresetNode = slicer.mrmlScene.GetFirstNodeByName(\"volMR-Default\")\n",
    "if propertyPresetNode is None:\n",
    "    propertyPresetNode = slicer.vtkMRMLVolumePropertyNode()\n",
    "    propertyPresetNode.SetName(\"volMR-Default\")\n",
    "    volumeRenderingLogic = slicer.modules.volumerendering.logic()\n",
    "    propertyPresetNode.Copy(volumeRenderingLogic.GetPresetByName('MR-Default'))\n",
    "    slicer.mrmlScene.AddNode(propertyPresetNode)"
   ]
  },
  {
   "cell_type": "code",
   "execution_count": 24,
   "metadata": {},
   "outputs": [],
   "source": [
    "# Create volume rendering display\n",
    "\n",
    "volumeRenderingLogic = slicer.modules.volumerendering.logic()\n",
    "displayNode = volumeRenderingLogic.GetFirstVolumeRenderingDisplayNode(aivolumeNode)\n",
    "if displayNode is None:\n",
    "    displayNode = slicer.vtkMRMLGPURayCastVolumeRenderingDisplayNode()\n",
    "    displayNode.SetName(\"AiVolumeRenderer\")\n",
    "    slicer.mrmlScene.AddNode(displayNode)\n",
    "    \n",
    "    aivolumeNode.AddAndObserveDisplayNodeID(displayNode.GetID())\n",
    "    \n",
    "    displayNode.SetAndObserveVolumePropertyNodeID(propertyPresetNode.GetID())\n",
    "    displayNode.SetAndObserveROINodeID(annotationROINode.GetID())\n",
    "\n",
    "# Set up custom volume rendering parameters\n",
    "\n",
    "lut = vtk.vtkLookupTable()\n",
    "lut.SetNumberOfTableValues(2)\n",
    "lut.Build()\n",
    "lut.SetTableValue(0, volRendColor1)\n",
    "lut.SetTableValue(1, volRendColor2)\n",
    "\n",
    "volumeProperty = displayNode.GetVolumePropertyNode().GetVolumeProperty()\n",
    "volumeRenderingLogic.SetThresholdToVolumeProp(\n",
    "    [0, 500],\n",
    "    [volRendLevel - volRendWindow / 2.0, volRendLevel + volRendWindow / 2.0],\n",
    "    volumeProperty,\n",
    "    True,\n",
    "    True)\n",
    "upper = min(255, volRendLevel + volRendWindow / 2)\n",
    "lower = max(0, volRendLevel - volRendWindow / 2)\n",
    "volumeRenderingLogic.SetWindowLevelToVolumeProp(\n",
    "    [0, 255],\n",
    "    [upper - lower, lower + (upper - lower) / 2],\n",
    "    lut,\n",
    "    volumeProperty)\n",
    "    \n",
    "    \n",
    "displayNode.SetVisibility(True)\n",
    "    "
   ]
  },
  {
   "cell_type": "code",
   "execution_count": 25,
   "metadata": {},
   "outputs": [],
   "source": [
    "# remove RGY spine volume\n",
    "to_hide = slicer.util.getFirstNodeByName(\"SkeletonModel\")\n",
    "to_hide.SetDisplayVisibility(False)"
   ]
  },
  {
   "cell_type": "code",
   "execution_count": 27,
   "metadata": {},
   "outputs": [],
   "source": [
    "# Hide all ROI nodes\n",
    "\n",
    "roiCollection = slicer.mrmlScene.GetNodesByClass('vtkMRMLAnnotationROINode')\n",
    "for i in range(roiCollection.GetNumberOfItems()):\n",
    "    roiNode = roiCollection.GetItemAsObject(i)\n",
    "    roiNode.SetDisplayVisibility(False)"
   ]
  },
  {
   "cell_type": "code",
   "execution_count": 28,
   "metadata": {},
   "outputs": [
    {
     "data": {
      "image/jpeg": "[encoded data removed]",
      "text/plain": [
       "<JupyterNotebooksLib.display.View3DDisplay object at 0x00000243264BD978>"
      ]
     },
     "execution_count": 28,
     "metadata": {},
     "output_type": "execute_result"
    }
   ],
   "source": [
    "# reseting 3d camera\n",
    "threeDWidget = slicer.app.layoutManager().threeDWidget(0)\n",
    "threeDView = threeDWidget.threeDView()\n",
    "threeDView.resetFocalPoint()\n",
    "\n",
    "\n",
    "# displaying posterior view\n",
    "slicer.app.layoutManager().setLayout(slicer.vtkMRMLLayoutNode.SlicerLayoutFourUpView)\n",
    "slicernb.View3DDisplay()"
   ]
  },
  {
   "cell_type": "code",
   "execution_count": 29,
   "metadata": {},
   "outputs": [
    {
     "data": {
      "image/jpeg": "[encoded data removed]",
      "text/plain": [
       "<JupyterNotebooksLib.display.View3DDisplay object at 0x00000243264BDDA0>"
      ]
     },
     "execution_count": 29,
     "metadata": {},
     "output_type": "execute_result"
    }
   ],
   "source": [
    "# displaying lateral view\n",
    "layoutManager = slicer.app.layoutManager()\n",
    "threeDWidget = layoutManager.threeDWidget(0)\n",
    "threeDView = threeDWidget.threeDView()\n",
    "\n",
    "for i in range (0, 18):\n",
    "    threeDView.yaw()\n",
    "\n",
    "slicernb.View3DDisplay()"
   ]
  },
  {
   "cell_type": "code",
   "execution_count": 30,
   "metadata": {},
   "outputs": [
    {
     "data": {
      "application/javascript": [
       "\n",
       "require([\"base/js/namespace\"],function(Jupyter) {\n",
       "    Jupyter.notebook.save_checkpoint();\n",
       "});\n"
      ],
      "text/plain": [
       "<display.Javascript object at 0x00000243264BD998>"
      ]
     },
     "execution_count": 30,
     "metadata": {},
     "output_type": "execute_result"
    }
   ],
   "source": [
    "# Save notebook so all output is archived by the next cell\n",
    "\n",
    "from IPython.display import Javascript\n",
    "script = '''\n",
    "require([\"base/js/namespace\"],function(Jupyter) {\n",
    "    Jupyter.notebook.save_checkpoint();\n",
    "});\n",
    "'''\n",
    "Javascript(script)"
   ]
  },
  {
   "cell_type": "code",
   "execution_count": 31,
   "metadata": {},
   "outputs": [
    {
     "name": "stdout",
     "output_type": "stream",
     "text": [
      "E:\\aigt\\UltrasoundSegmentation/SpineSegmentationVisualTest.ipynb\n"
     ]
    }
   ],
   "source": [
    "import nbformat\n",
    "from nbconvert import HTMLExporter\n",
    "import json\n",
    "\n",
    "notebook_path = slicernb.notebookPath()\n",
    "print(notebook_path)\n",
    "\n",
    "with open(notebook_path, mode=\"r\") as f:\n",
    "    file_json = json.load(f)\n",
    "    \n",
    "notebook_content = nbformat.reads(json.dumps(file_json), as_version=4)\n",
    "\n",
    "html_exporter = HTMLExporter()\n",
    "(body, resources) = html_exporter.from_notebook_node(notebook_content)\n",
    "\n",
    "this_notebook_name = os.path.splitext(os.path.basename(notebook_path))[0]\n",
    "save_file_name = this_notebook_name + \"_\" + save_timestamp + \".html\"\n",
    "notebook_fullpath = os.path.join(notebooks_save_path, save_file_name)\n",
    "\n",
    "f = open(notebook_fullpath, 'wb')\n",
    "f.write(body.encode())\n",
    "f.close()"
   ]
  },
  {
   "cell_type": "code",
   "execution_count": null,
   "metadata": {},
   "outputs": [],
   "source": []
  }
 ],
 "metadata": {
  "kernelspec": {
   "display_name": "Slicer 4.11",
   "language": "python",
   "name": "slicer-4.11"
  }
 },
 "nbformat": 4,
 "nbformat_minor": 4
}
