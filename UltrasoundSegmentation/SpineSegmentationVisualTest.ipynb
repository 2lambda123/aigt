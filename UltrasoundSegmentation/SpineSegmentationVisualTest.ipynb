{
 "cells": [
  {
   "cell_type": "code",
   "execution_count": 4,
   "metadata": {},
   "outputs": [],
   "source": [
    "import JupyterNotebooksLib as slicernb"
   ]
  },
  {
   "cell_type": "code",
   "execution_count": 5,
   "metadata": {},
   "outputs": [],
   "source": [
    "this_notebook_name = \"SpineSegmentationVisualTest\"\n",
    "\n",
    "# place path to scene to test here\n",
    "scene_to_segment = r\"d:\\Data\\VerdureSegmentations\\AiDone\\388_Ax_AiSegDone.mrb\"\n",
    "\n",
    "# set this to the name of the model to study\n",
    "# model_path = r\"C:\\Users\\perkl\\Documents\\AIGT\\aigt\\SavedModels\\SavedModels\\SagittalSpineSegmentationStudy-TF2_model-0_2020-05-11_16-30-08.h5\""
   ]
  },
  {
   "cell_type": "code",
   "execution_count": 6,
   "metadata": {
    "scrolled": true
   },
   "outputs": [
    {
     "name": "stdout",
     "output_type": "stream",
     "text": [
      "Error thrown. Continuing.\n"
     ]
    }
   ],
   "source": [
    "slicer.mrmlScene.Clear()\n",
    "try:\n",
    "    slicer.util.loadScene(scene_to_segment)\n",
    "except:\n",
    "    # NOTE: for some reason loading a scene throws an error every time, but laods the scene just fine\n",
    "    print('Error thrown. Continuing.')\n",
    "    "
   ]
  },
  {
   "cell_type": "code",
   "execution_count": 15,
   "metadata": {},
   "outputs": [],
   "source": [
    "# Find input volume (image) for volume reconstruction\n",
    "\n",
    "predictionVolume = slicer.mrmlScene.GetFirstNodeByName(\"PredictionImage\")\n",
    "if predictionVolume is None:\n",
    "    raise Exception(\"PredictionImage not found in Slicer scene\")"
   ]
  },
  {
   "cell_type": "code",
   "execution_count": 16,
   "metadata": {},
   "outputs": [],
   "source": [
    "# Create output volume node\n",
    "\n",
    "reconstructedVolume = slicer.mrmlScene.GetFirstNodeByName(\"AiVolume\")\n",
    "if reconstructedVolume is None:\n",
    "    reconstructedVolume = slicer.mrmlScene.AddNewNodeByClass(\"vtkMRMLScalarVolumeNode\")\n",
    "    reconstructedVolume.SetName(\"AiVolume\")"
   ]
  },
  {
   "cell_type": "code",
   "execution_count": 17,
   "metadata": {},
   "outputs": [],
   "source": [
    "inputBrowserNode = slicer.mrmlScene.GetFirstNodeByName(\"BonePredictionBrowser\")\n",
    "if inputBrowserNode is None:\n",
    "    raise Exception(\"BonePredictionBrowser missing\")"
   ]
  },
  {
   "cell_type": "code",
   "execution_count": 18,
   "metadata": {},
   "outputs": [],
   "source": [
    "# Prepare volume reconstructor node\n",
    "\n",
    "volumeReconstructor = slicer.mrmlScene.GetFirstNodeByName(\"AiVolumeReconstructor\")\n",
    "if volumeReconstructor is None:\n",
    "    volumeReconstructor = slicer.vtkMRMLVolumeReconstructionNode()\n",
    "    volumeReconstructor.SetName(\"AiVolumeReconstructor\")\n",
    "    volumeReconstructor.SetLiveVolumeReconstruction(False)\n",
    "    volumeReconstructor.SetOptimizationMode(slicer.vtkMRMLVolumeReconstructionNode.FULL_OPTIMIZATION)\n",
    "    volumeReconstructor.SetCompoundingMode(slicer.vtkMRMLVolumeReconstructionNode.MAXIMUM_COMPOUNDING_MODE)\n",
    "    volumeReconstructor.SetInterpolationMode(slicer.vtkMRMLVolumeReconstructionNode.LINEAR_INTERPOLATION)\n",
    "    slicer.mrmlScene.AddNode(volumeReconstructor)\n",
    "\n",
    "volumeReconstructor.SetAndObserveInputSequenceBrowserNode(inputBrowserNode)\n",
    "volumeReconstructor.SetAndObserveOutputVolumeNode(reconstructedVolume)\n",
    "volumeReconstructor.SetAndObserveInputVolumeNode(predictionVolume)\n",
    "\n",
    "volumeReconstructionLogic = slicer.modules.volumereconstruction.logic()"
   ]
  },
  {
   "cell_type": "code",
   "execution_count": 19,
   "metadata": {},
   "outputs": [],
   "source": [
    "# Volume reconstruction\n",
    "\n",
    "volumeReconstructionLogic.ReconstructVolumeFromSequence(volumeReconstructor)\n"
   ]
  },
  {
   "cell_type": "code",
   "execution_count": 20,
   "metadata": {},
   "outputs": [
    {
     "data": {
      "image/jpeg": "[encoded data removed]",
      "text/plain": [
       "<JupyterNotebooksLib.display.display3DView object at 0x0000020301C12048>"
      ]
     },
     "execution_count": 20,
     "metadata": {},
     "output_type": "execute_result"
    }
   ],
   "source": [
    "slicernb.display3DView()"
   ]
  },
  {
   "cell_type": "code",
   "execution_count": null,
   "metadata": {},
   "outputs": [],
   "source": []
  }
 ],
 "metadata": {
  "kernelspec": {
   "display_name": "Slicer 4.11",
   "language": "python",
   "name": "slicer-4.11"
  },
  "language_info": {
   "file_extension": ".py",
   "mimetype": "text/x-python",
   "name": "python",
   "version": "3.6.7"
  }
 },
 "nbformat": 4,
 "nbformat_minor": 4
}
