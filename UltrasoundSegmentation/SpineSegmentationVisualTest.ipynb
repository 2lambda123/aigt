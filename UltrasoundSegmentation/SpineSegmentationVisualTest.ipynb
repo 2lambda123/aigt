{
 "cells": [
  {
   "cell_type": "code",
   "execution_count": 1,
   "metadata": {},
   "outputs": [],
   "source": [
    "this_notebook_name = \"SpineSegmentationVisualTest\"\n",
    "\n",
    "# place path to scene to test here\n",
    "scene_to_segment = r\"c:\\Users\\perkl\\Documents\\AIGT\\OneDrive_1_5-12-2020\\317_Ax_Ready-ai_done.mrb\"\n",
    "\n",
    "# set this to the name of the model to study\n",
    "# model_path = r\"C:\\Users\\perkl\\Documents\\AIGT\\aigt\\SavedModels\\SavedModels\\SagittalSpineSegmentationStudy-TF2_model-0_2020-05-11_16-30-08.h5\""
   ]
  },
  {
   "cell_type": "code",
   "execution_count": 2,
   "metadata": {
    "scrolled": true
   },
   "outputs": [
    {
     "name": "stdout",
     "output_type": "stream",
     "text": [
      "test\n"
     ]
    }
   ],
   "source": [
    "slicer.mrmlScene.Clear()\n",
    "try:\n",
    "    slicer.util.loadScene(scene_to_segment)\n",
    "except:\n",
    "    # NOTE: for some reason loading a scene throws an error every time, but laods the scene just fine\n",
    "    print('Error thrown. Continuing.')\n",
    "    \n",
    "# select sequence browser BonePrediction?\n",
    "\n",
    "# begin volume reconstruction\n",
    "# slicer.util.selectModule(\"VolumeReconstruction\")\n",
    "# params = {'inputSequence' : 'BonePredictionBrowser', 'inputVolume' : 'PredictionImage'}\n",
    "# slicer.cli.runSync(slicer.modules.volumereconstruction, None, params)"
   ]
  },
  {
   "cell_type": "code",
   "execution_count": null,
   "metadata": {},
   "outputs": [],
   "source": [
    "# perform volume rendering\n"
   ]
  },
  {
   "cell_type": "code",
   "execution_count": 10,
   "metadata": {},
   "outputs": [
    {
     "ename": "AttributeError",
     "evalue": "'NoneType' object has no attribute 'sliceView'",
     "output_type": "error",
     "traceback": [
      "\u001b[0;31m---------------------------------------------------------------------------\u001b[0m\n\u001b[0;31mAttributeError\u001b[0m                            Traceback (most recent call last)",
      "In  \u001b[0;34m[10]\u001b[0m:\nLine \u001b[0;34m8\u001b[0m:     \n",
      "\u001b[0;31mAttributeError\u001b[0m: 'NoneType' object has no attribute 'sliceView'\n\u001b[0;31m---------------------------------------------------------------------------\u001b[0m"
     ]
    }
   ],
   "source": [
    "# get 3d image\n",
    "import qt\n",
    "from IPython.display import display\n",
    "\n",
    "slicer.app.layoutManager().setLayout(slicer.vtkMRMLLayoutNode.SlicerLayoutOneUp3DView)\n",
    "\n",
    "widget = slicer.app.layoutManager().sliceWidget('Blue')\n",
    "view = widget.sliceView()\n",
    "logic = widget.sliceLogic()\n",
    "#bounds = [0,]*6\n",
    "#logic.GetSliceBounds(bounds)]\n",
    "view.forceRender()\n",
    "image = qt.QPixmap.grabWidget(view).toImage()\n",
    "display(image)"
   ]
  },
  {
   "cell_type": "code",
   "execution_count": null,
   "metadata": {},
   "outputs": [],
   "source": []
  }
 ],
 "metadata": {
  "kernelspec": {
   "display_name": "Slicer 4.11",
   "language": "python",
   "name": "slicer-4.11"
  },
  "language_info": {
   "file_extension": ".py",
   "mimetype": "text/x-python",
   "name": "python",
   "version": "3.6.7"
  }
 },
 "nbformat": 4,
 "nbformat_minor": 4
}
