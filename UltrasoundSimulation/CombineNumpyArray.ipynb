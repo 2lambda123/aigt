{
 "cells": [
  {
   "cell_type": "code",
   "execution_count": 1,
   "metadata": {},
   "outputs": [],
   "source": [
    "import datetime\n",
    "import numpy as np\n",
    "import os\n",
    "from PIL import Image"
   ]
  },
  {
   "cell_type": "code",
   "execution_count": 2,
   "metadata": {},
   "outputs": [],
   "source": [
    "folder = r\"D:/Ultrasound/NeedleCapture\"\n",
    "a1_filename = os.path.join(folder, \"NeedleCapture_01_array_5d.npz\")\n",
    "a2_filename = os.path.join(folder, \"NeedleCapture_02_array_5d.npz\")\n",
    "output_filename = os.path.join(folder, \"NeedleCapture_01_and_02_array_5d.npz\")"
   ]
  },
  {
   "cell_type": "code",
   "execution_count": 3,
   "metadata": {},
   "outputs": [
    {
     "name": "stdout",
     "output_type": "stream",
     "text": [
      "Loaded a1:  (459, 512, 512, 5) (459, 512, 512, 5)\n",
      "Loaded a2:  (428, 512, 512, 5) (428, 512, 512, 5)\n"
     ]
    }
   ],
   "source": [
    "a1 = np.load(a1_filename)\n",
    "a2 = np.load(a2_filename)\n",
    "a1_seg, a1_us = a1['arr_0'], a1['arr_1']\n",
    "a2_seg, a2_us = a2['arr_0'], a2['arr_1']\n",
    "print('Loaded a1: ', a1_seg.shape, a1_us.shape)\n",
    "print('Loaded a2: ', a2_seg.shape, a2_us.shape)"
   ]
  },
  {
   "cell_type": "code",
   "execution_count": 4,
   "metadata": {},
   "outputs": [
    {
     "name": "stdout",
     "output_type": "stream",
     "text": [
      "Concatenated to:  (887, 512, 512, 5)\n"
     ]
    }
   ],
   "source": [
    "output_seg = np.concatenate((a1_seg, a2_seg), axis=0)\n",
    "print(\"Concatenated to: \", output_seg.shape)"
   ]
  },
  {
   "cell_type": "code",
   "execution_count": 5,
   "metadata": {},
   "outputs": [
    {
     "name": "stdout",
     "output_type": "stream",
     "text": [
      "Concatenated to:  (887, 512, 512, 5)\n"
     ]
    }
   ],
   "source": [
    "output_us = np.concatenate((a1_us, a2_us), axis=0)\n",
    "print(\"Concatenated to: \", output_us.shape)"
   ]
  },
  {
   "cell_type": "code",
   "execution_count": 6,
   "metadata": {},
   "outputs": [],
   "source": [
    "np.savez_compressed(output_filename, output_seg, output_us)"
   ]
  },
  {
   "cell_type": "code",
   "execution_count": null,
   "metadata": {},
   "outputs": [],
   "source": []
  }
 ],
 "metadata": {
  "kernelspec": {
   "display_name": "Python 3",
   "language": "python",
   "name": "python3"
  },
  "language_info": {
   "codemirror_mode": {
    "name": "ipython",
    "version": 3
   },
   "file_extension": ".py",
   "mimetype": "text/x-python",
   "name": "python",
   "nbconvert_exporter": "python",
   "pygments_lexer": "ipython3",
   "version": "3.7.3"
  }
 },
 "nbformat": 4,
 "nbformat_minor": 2
}
