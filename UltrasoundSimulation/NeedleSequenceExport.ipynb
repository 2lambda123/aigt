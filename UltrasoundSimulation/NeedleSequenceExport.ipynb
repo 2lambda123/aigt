{
 "cells": [
  {
   "cell_type": "code",
   "execution_count": 19,
   "metadata": {},
   "outputs": [
    {
     "data": {
      "text/plain": []
     },
     "execution_count": 19,
     "metadata": {},
     "output_type": "execute_result"
    }
   ],
   "source": [
    "needle_model_name = \"NeedleModel\"\n",
    "sequence_browser_name = \"NeedleCapture_01_SequenceBrowser\"\n",
    "image_name = \"Image_Image\"\n",
    "segmentation_name = \"Segmentation\"\n",
    "\n",
    "output_folder = \"d:\\Temp\"\n",
    "filename_prefix = \"01\""
   ]
  },
  {
   "cell_type": "code",
   "execution_count": 20,
   "metadata": {},
   "outputs": [
    {
     "data": {
      "text/plain": []
     },
     "execution_count": 20,
     "metadata": {},
     "output_type": "execute_result"
    }
   ],
   "source": [
    "import datetime\n",
    "import numpy as np\n",
    "import os"
   ]
  },
  {
   "cell_type": "code",
   "execution_count": 21,
   "metadata": {},
   "outputs": [
    {
     "data": {
      "text/plain": []
     },
     "execution_count": 21,
     "metadata": {},
     "output_type": "execute_result"
    }
   ],
   "source": [
    "browser_node = slicer.util.getFirstNodeByName(sequence_browser_name, className='vtkMRMLSequenceBrowserNode')\n",
    "model_node = slicer.util.getFirstNodeByName(needle_model_name, className=\"vtkMRMLModelNode\")\n",
    "image_node = slicer.util.getFirstNodeByName(image_name, className=\"vtkMRMLScalarVolumeNode\")\n",
    "segmentation_node = slicer.util.getFirstNodeByName(segmentation_name, className=\"vtkMRMLSegmentationNode\")\n",
    "\n",
    "if browser_node is None:\n",
    "    logging.error(\"Could not find input browser node: {}\".format(sequence_browser_name))\n",
    "    raise\n",
    "\n",
    "if model_node is None:\n",
    "    logging.error(\"Could not find input model node: {}\".format(needle_model_name))\n",
    "    raise\n",
    "\n",
    "if image_node is None:\n",
    "    logging.error(\"Could not find input image node: {}\".format(image_name))\n",
    "    raise\n",
    "\n",
    "if segmentation_node is None:\n",
    "    logging.error(\"Could not find input segmentation node: {}\".format(segmentation_name))\n",
    "    raise\n"
   ]
  },
  {
   "cell_type": "code",
   "execution_count": 22,
   "metadata": {},
   "outputs": [
    {
     "data": {
      "text/plain": []
     },
     "execution_count": 22,
     "metadata": {},
     "output_type": "execute_result"
    }
   ],
   "source": [
    "labelmap_name = \"temp_labelmap\"\n",
    "labelmap_node = slicer.util.getFirstNodeByName(labelmap_name, className=\"vtkMRMLLabelMapVolumeNode\")\n",
    "if labelmap_node is None:\n",
    "    labelmap_node = slicer.mrmlScene.AddNewNodeByClass('vtkMRMLLabelMapVolumeNode')\n",
    "    labelmap_node.SetName(labelmap_name)"
   ]
  },
  {
   "cell_type": "code",
   "execution_count": 23,
   "metadata": {},
   "outputs": [
    {
     "data": {
      "text/plain": []
     },
     "execution_count": 23,
     "metadata": {},
     "output_type": "execute_result"
    }
   ],
   "source": [
    "import vtkSegmentationCorePython as vtkSegmentationCore\n",
    "\n",
    "def removeSegments(selectedSegmentation):\n",
    "    num_segments = selectedSegmentation.GetSegmentation().GetNumberOfSegments()\n",
    "    for i in range(num_segments):\n",
    "        segmentId = selectedSegmentation.GetSegmentation().GetNthSegmentID(i)\n",
    "        selectedSegmentation.RemoveSegment(segmentId)"
   ]
  },
  {
   "cell_type": "code",
   "execution_count": null,
   "metadata": {},
   "outputs": [],
   "source": [
    "browser_node.SelectFirstItem()\n",
    "\n",
    "segmentation_logic = slicer.modules.segmentations.logic()\n",
    "\n",
    "png_writer = vtk.vtkPNGWriter()\n",
    "\n",
    "image_cast = vtk.vtkImageCast()\n",
    "image_cast.SetOutputScalarTypeToUnsignedChar()\n",
    "image_cast.Update()\n",
    "\n",
    "removeSegments(segmentation_node)\n",
    "n = browser_node.GetNumberOfItems()\n",
    "for i in range(n):\n",
    "    segmentation_logic.ImportModelToSegmentationNode(model_node, segmentation_node)\n",
    "    slicer.modules.segmentations.logic().ExportVisibleSegmentsToLabelmapNode(segmentation_node, labelmap_node, image_node)\n",
    "    segmented_image = labelmap_node.GetImageData()\n",
    "    \n",
    "    img_file_name = filename_prefix + \"_%04d_ultrasound\" % i + \".png\"\n",
    "    ultrasound_fullname = os.path.join(output_folder, img_file_name)\n",
    "    \n",
    "    seg_file_name = filename_prefix + \"_%04d_segmentation\" % i + \".png\"\n",
    "    segmentation_fullname = os.path.join(output_folder, seg_file_name)\n",
    "    \n",
    "    png_writer.SetInputData(image_node.GetImageData())\n",
    "    png_writer.SetFileName(ultrasound_fullname)\n",
    "    png_writer.Update()\n",
    "    png_writer.Write()\n",
    "    \n",
    "    image_cast.SetInputData(segmented_image)\n",
    "    image_cast.Update()\n",
    "    png_writer.SetInputData(image_cast.GetOutput())\n",
    "    png_writer.SetFileName(segmentation_fullname)\n",
    "    png_writer.Update()\n",
    "    png_writer.Write()\n",
    "    \n",
    "    removeSegments(segmentation_node)\n",
    "    \n",
    "    slicer.app.processEvents()\n",
    "    browser_node.SelectNextItem()"
   ]
  },
  {
   "cell_type": "code",
   "execution_count": null,
   "metadata": {},
   "outputs": [],
   "source": []
  }
 ],
 "metadata": {
  "kernelspec": {
   "display_name": "Slicer 4.11",
   "language": "python",
   "name": "slicer-4.11"
  },
  "language_info": {
   "codemirror_mode": {
    "name": "ipython",
    "version": 3
   },
   "file_extension": ".py",
   "mimetype": "text/x-python",
   "name": "python",
   "nbconvert_exporter": "python",
   "pygments_lexer": "ipython3",
   "version": "2.7.13+"
  }
 },
 "nbformat": 4,
 "nbformat_minor": 2
}
