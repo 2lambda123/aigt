{
 "cells": [
  {
   "cell_type": "code",
   "execution_count": 1,
   "metadata": {},
   "outputs": [
    {
     "data": {
      "text/plain": []
     },
     "execution_count": 1,
     "metadata": {},
     "output_type": "execute_result"
    }
   ],
   "source": [
    "import datetime\n",
    "import numpy as np\n",
    "import os\n",
    "from PIL import Image"
   ]
  },
  {
   "cell_type": "code",
   "execution_count": 2,
   "metadata": {},
   "outputs": [
    {
     "data": {
      "text/plain": []
     },
     "execution_count": 2,
     "metadata": {},
     "output_type": "execute_result"
    }
   ],
   "source": [
    "needle_model_name = \"NeedleModel\"\n",
    "sequence_browser_name = \"NeedleCapture_Tofu_02\"\n",
    "image_name = \"Image_Image\"\n",
    "\n",
    "output_folder = r\"NeedleCapture\\2020-03-16-NeedleCapture-Medium\"\n",
    "filename_prefix = \"NeedleCapture_NoNeedle_Tofu_02\"\n",
    "\n",
    "num_needle_slices = 5"
   ]
  },
  {
   "cell_type": "code",
   "execution_count": 3,
   "metadata": {},
   "outputs": [
    {
     "data": {
      "text/plain": []
     },
     "execution_count": 3,
     "metadata": {},
     "output_type": "execute_result"
    }
   ],
   "source": [
    "browser_node = slicer.util.getFirstNodeByName(sequence_browser_name, className='vtkMRMLSequenceBrowserNode')\n",
    "model_node = slicer.util.getFirstNodeByName(needle_model_name, className=\"vtkMRMLModelNode\")\n",
    "image_node = slicer.util.getFirstNodeByName(image_name, className=\"vtkMRMLScalarVolumeNode\")\n",
    "\n",
    "if browser_node is None:\n",
    "    logging.error(\"Could not find input browser node: {}\".format(sequence_browser_name))\n",
    "    raise\n",
    "\n",
    "if model_node is None:\n",
    "    logging.error(\"Could not find input model node: {}\".format(needle_model_name))\n",
    "    raise\n",
    "\n",
    "if image_node is None:\n",
    "    logging.error(\"Could not find input image node: {}\".format(image_name))\n",
    "    raise"
   ]
  },
  {
   "cell_type": "code",
   "execution_count": 4,
   "metadata": {},
   "outputs": [
    {
     "data": {
      "text/plain": []
     },
     "execution_count": 4,
     "metadata": {},
     "output_type": "execute_result"
    }
   ],
   "source": [
    "labelmap_name = \"temp_labelmap\"\n",
    "labelmap_node = slicer.util.getFirstNodeByName(labelmap_name, className=\"vtkMRMLLabelMapVolumeNode\")\n",
    "if labelmap_node is None:\n",
    "    labelmap_node = slicer.mrmlScene.AddNewNodeByClass('vtkMRMLLabelMapVolumeNode')\n",
    "    labelmap_node.SetName(labelmap_name)"
   ]
  },
  {
   "cell_type": "code",
   "execution_count": 5,
   "metadata": {},
   "outputs": [
    {
     "data": {
      "text/plain": []
     },
     "execution_count": 5,
     "metadata": {},
     "output_type": "execute_result"
    }
   ],
   "source": [
    "segmentation_name = \"Segmentation\"\n",
    "segmentation_node = slicer.util.getFirstNodeByName(segmentation_name, className=\"vtkMRMLSegmentationNode\")\n",
    "if segmentation_node is None:\n",
    "    segmentation_node = slicer.mrmlScene.AddNewNodeByClass(\"vtkMRMLSegmentationNode\")\n",
    "    segmentation_node.SetName(segmentation_name)"
   ]
  },
  {
   "cell_type": "code",
   "execution_count": 6,
   "metadata": {},
   "outputs": [
    {
     "data": {
      "text/plain": []
     },
     "execution_count": 6,
     "metadata": {},
     "output_type": "execute_result"
    }
   ],
   "source": [
    "image_copy_name = \"Image_Image_3DEmpty\"\n",
    "image_copy_node = slicer.util.getFirstNodeByName(image_copy_name, className=\"vtkMRMLScalarVolumeNode\")\n",
    "if image_copy_node is None:\n",
    "    image_copy_node = slicer.mrmlScene.CopyNode(image_node)\n",
    "    image_copy_node.SetName(image_copy_name)"
   ]
  },
  {
   "cell_type": "code",
   "execution_count": 7,
   "metadata": {},
   "outputs": [
    {
     "data": {
      "text/plain": [
       "[-2, 2]\n"
      ]
     },
     "execution_count": 7,
     "metadata": {},
     "output_type": "execute_result"
    }
   ],
   "source": [
    "z_extent = [-1*(num_needle_slices//2), num_needle_slices//2]\n",
    "print(z_extent)"
   ]
  },
  {
   "cell_type": "code",
   "execution_count": 8,
   "metadata": {},
   "outputs": [
    {
     "data": {
      "text/plain": [
       "Original Extent: (0, 511, 0, 511, 0, 0)\n",
       "Modified Extent: (0, 511, 0, 511, 0, 4)\n",
       "Original Spacing: (1.0, 1.0, 1.0)\n",
       "Modified Spacing: (1.0, 1.0, 2.0)\n"
      ]
     },
     "execution_count": 8,
     "metadata": {},
     "output_type": "execute_result"
    }
   ],
   "source": [
    "#get current image extent and spacing\n",
    "image_extent = image_copy_node.GetImageData().GetExtent()\n",
    "image_spacing = image_copy_node.GetSpacing()\n",
    "\n",
    "#change extent of image (make thicker in z direction) and allocate necessary space\n",
    "image_copy_node.GetImageData().SetExtent(image_extent[0], image_extent[1], image_extent[2], image_extent[3], z_extent[0], z_extent[1])\n",
    "image_copy_node.GetImageData().AllocateScalars(image_copy_node.GetImageData().GetScalarType(), image_copy_node.GetImageData().GetNumberOfScalarComponents())\n",
    "\n",
    "#shift so image extent starts at 0\n",
    "image_copy_node.ShiftImageDataExtentToZeroStart()\n",
    "print(\"Original Extent: {}\\nModified Extent: {}\".format(image_extent, image_copy_node.GetImageData().GetExtent()))\n",
    "\n",
    "#increase image spacing\n",
    "image_copy_node.SetSpacing(image_spacing[0], image_spacing[1], 2.0)\n",
    "print(\"Original Spacing: {}\\nModified Spacing: {}\".format(image_spacing, image_copy_node.GetSpacing()))"
   ]
  },
  {
   "cell_type": "code",
   "execution_count": 9,
   "metadata": {},
   "outputs": [
    {
     "data": {
      "text/plain": []
     },
     "execution_count": 9,
     "metadata": {},
     "output_type": "execute_result"
    }
   ],
   "source": [
    "import vtkSegmentationCorePython as vtkSegmentationCore\n",
    "\n",
    "def removeSegments(selectedSegmentation):\n",
    "    num_segments = selectedSegmentation.GetSegmentation().GetNumberOfSegments()\n",
    "    for i in range(num_segments):\n",
    "        segmentId = selectedSegmentation.GetSegmentation().GetNthSegmentID(i)\n",
    "        selectedSegmentation.RemoveSegment(segmentId)"
   ]
  },
  {
   "cell_type": "code",
   "execution_count": 10,
   "metadata": {},
   "outputs": [
    {
     "data": {
      "text/plain": [
       "(655, 512, 512, 5)\n",
       "Number of files exported: 655\n"
      ]
     },
     "execution_count": 10,
     "metadata": {},
     "output_type": "execute_result"
    }
   ],
   "source": [
    "browser_node.SelectLastItem()\n",
    "\n",
    "segmentation_logic = slicer.modules.segmentations.logic()\n",
    "\n",
    "notAllEmpty=False\n",
    "\n",
    "image_cast = vtk.vtkImageCast()\n",
    "image_cast.SetOutputScalarTypeToUnsignedChar()\n",
    "image_cast.Update()\n",
    "\n",
    "removeSegments(segmentation_node)\n",
    "n = browser_node.GetNumberOfItems()\n",
    "\n",
    "all_seg_files = np.zeros((n, 512, 512, num_needle_slices))\n",
    "all_us_files = np.zeros((n, 512, 512, num_needle_slices))\n",
    "counter = 0\n",
    "\n",
    "for i in range(n):\n",
    "    \n",
    "    #Get segmented image in US position\n",
    "    segmentation_logic.ImportModelToSegmentationNode(model_node, segmentation_node)\n",
    "    slicer.modules.segmentations.logic().ExportVisibleSegmentsToLabelmapNode(segmentation_node, labelmap_node, image_copy_node)\n",
    "    segmented_image = labelmap_node.GetImageData()\n",
    "    \n",
    "    image_cast.SetInputData(segmented_image)\n",
    "    image_cast.Update()\n",
    "    \n",
    "    #Set ultrasound image filename\n",
    "    img_file_name = filename_prefix + \"_%04d_ultrasound\" % i\n",
    "    ultrasound_fullname = os.path.join(output_folder, img_file_name)\n",
    "    \n",
    "    #Set segmentation image filenames\n",
    "    seg_file_name = filename_prefix + \"_%04d_segmentation\" % i\n",
    "    segmentation_fullname = os.path.join(output_folder, seg_file_name)\n",
    "    \n",
    "    #Set combined image filename\n",
    "    combined_file_name = filename_prefix + \"_%04d_combined\" % i\n",
    "    combined_fullname = os.path.join(output_folder, combined_file_name)\n",
    "    \n",
    "    #Get ultrasound image from Slicer\n",
    "    ultrasound_array = slicer.util.arrayFromVolume(image_node)\n",
    "    \n",
    "    #Expand dimension of US by \"smearing\" so dimensionality matches number of slices from needle volume\n",
    "    ultrasound_array = ultrasound_array[0,:,:]\n",
    "    ultrasound_array = np.repeat(ultrasound_array[:, :, np.newaxis], num_needle_slices, axis=2)\n",
    "    \n",
    "    #Get slices from needle volume from slicer\n",
    "    segmentation_array_temp = slicer.util.arrayFromVolume(labelmap_node)\n",
    "    \n",
    "    segmentation_array = np.zeros((512,512,num_needle_slices))\n",
    "    \n",
    "    # way to ensure you're getting slices from \"middle\" of volume\n",
    "    # this needs to be improved and/or moved to before extent is set\n",
    "    volume_slices = segmentation_array.shape[0]\n",
    "    middle_ix = volume_slices // 2\n",
    "    curr_slice = 0\n",
    "    for ix in range(num_needle_slices): #+1):\n",
    "        segmentation_array[:,:,ix] = segmentation_array_temp[ix,:,:]\n",
    "        curr_slice = curr_slice + 1\n",
    "        \n",
    "    #OPTIONAL\n",
    "    #If needle is visible in segmentation\n",
    "    #if np.amax(segmentation_array) > 0: #and i % 2 ==0:\n",
    "         \n",
    "    #save current US and needle arrays\n",
    "    all_seg_files[counter,:,:,:] = segmentation_array\n",
    "    all_us_files[counter,:,:,:] = ultrasound_array\n",
    "    counter = counter + 1\n",
    "    \n",
    "    #OPTIONAL\n",
    "    #export combined images as jpeg - can then be used in pix2pix non volume\n",
    "    #combined_array = np.concatenate((segmentation_array,ultrasound_array),axis=1)\n",
    "    #im = Image.fromarray(combined_array[:,:,0]).convert('RGB')\n",
    "    #im.save(combined_fullname + \".jpeg\")\n",
    "    \n",
    "    #Delete old segmentations\n",
    "    removeSegments(segmentation_node)\n",
    "    \n",
    "    slicer.app.processEvents()\n",
    "    browser_node.SelectNextItem()\n",
    "    \n",
    "array_filename = filename_prefix + \"_array_\" + str(num_needle_slices) + \"d.npz\";\n",
    "print(all_seg_files.shape)\n",
    "print(\"Number of files exported: {}\".format(counter))\n",
    "\n",
    "#Save all US and needle images as a zipped numpy array\n",
    "np.savez_compressed(os.path.join(output_folder, array_filename), all_seg_files[:counter,:,:,:], all_us_files[:counter,:,:,:])"
   ]
  },
  {
   "cell_type": "code",
   "execution_count": null,
   "metadata": {},
   "outputs": [],
   "source": []
  }
 ],
 "metadata": {
  "kernelspec": {
   "display_name": "Slicer 4.11",
   "language": "python",
   "name": "slicer-4.11"
  },
  "language_info": {
   "codemirror_mode": {
    "name": "ipython",
    "version": 3
   },
   "file_extension": ".py",
   "mimetype": "text/x-python",
   "name": "python",
   "nbconvert_exporter": "python",
   "pygments_lexer": "ipython3",
   "version": "2.7.13+"
  }
 },
 "nbformat": 4,
 "nbformat_minor": 2
}
