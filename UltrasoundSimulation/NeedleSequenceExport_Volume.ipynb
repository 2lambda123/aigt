{
 "cells": [
  {
   "cell_type": "code",
   "execution_count": 2,
   "metadata": {},
   "outputs": [
    {
     "data": {
      "text/plain": []
     },
     "execution_count": 2,
     "metadata": {},
     "output_type": "execute_result"
    }
   ],
   "source": [
    "needle_model_name = \"NeedleModel\"\n",
    "sequence_browser_name = \"NeedleCapture_01_SequenceBrowser\"\n",
    "image_name = \"Image_Image\"\n",
    "\n",
    "output_folder = \"C:\\Data\\Temp\"\n",
    "filename_prefix = \"NeedleCapture_01\""
   ]
  },
  {
   "cell_type": "code",
   "execution_count": 3,
   "metadata": {},
   "outputs": [
    {
     "data": {
      "text/plain": []
     },
     "execution_count": 3,
     "metadata": {},
     "output_type": "execute_result"
    }
   ],
   "source": [
    "import datetime\n",
    "import numpy as np\n",
    "import os"
   ]
  },
  {
   "cell_type": "code",
   "execution_count": 4,
   "metadata": {},
   "outputs": [
    {
     "data": {
      "text/plain": []
     },
     "execution_count": 4,
     "metadata": {},
     "output_type": "execute_result"
    }
   ],
   "source": [
    "browser_node = slicer.util.getFirstNodeByName(sequence_browser_name, className='vtkMRMLSequenceBrowserNode')\n",
    "model_node = slicer.util.getFirstNodeByName(needle_model_name, className=\"vtkMRMLModelNode\")\n",
    "image_node = slicer.util.getFirstNodeByName(image_name, className=\"vtkMRMLScalarVolumeNode\")\n",
    "\n",
    "if browser_node is None:\n",
    "    logging.error(\"Could not find input browser node: {}\".format(sequence_browser_name))\n",
    "    raise\n",
    "\n",
    "if model_node is None:\n",
    "    logging.error(\"Could not find input model node: {}\".format(needle_model_name))\n",
    "    raise\n",
    "\n",
    "if image_node is None:\n",
    "    logging.error(\"Could not find input image node: {}\".format(image_name))\n",
    "    raise"
   ]
  },
  {
   "cell_type": "code",
   "execution_count": 5,
   "metadata": {},
   "outputs": [
    {
     "data": {
      "text/plain": []
     },
     "execution_count": 5,
     "metadata": {},
     "output_type": "execute_result"
    }
   ],
   "source": [
    "labelmap_name = \"temp_labelmap\"\n",
    "labelmap_node = slicer.util.getFirstNodeByName(labelmap_name, className=\"vtkMRMLLabelMapVolumeNode\")\n",
    "if labelmap_node is None:\n",
    "    labelmap_node = slicer.mrmlScene.AddNewNodeByClass('vtkMRMLLabelMapVolumeNode')\n",
    "    labelmap_node.SetName(labelmap_name)"
   ]
  },
  {
   "cell_type": "code",
   "execution_count": 8,
   "metadata": {},
   "outputs": [
    {
     "data": {
      "text/plain": []
     },
     "execution_count": 8,
     "metadata": {},
     "output_type": "execute_result"
    }
   ],
   "source": [
    "segmentation_name = \"Segmentation\"\n",
    "segmentation_node = slicer.util.getFirstNodeByName(segmentation_name, className=\"vtkMRMLSegmentationNode\")\n",
    "if segmentation_node is None:\n",
    "    segmentation_node = slicer.mrmlScene.AddNewNodeByClass(\"vtkMRMLSegmentationNode\")\n",
    "    segmentation_node.SetName(segmentation_name)"
   ]
  },
  {
   "cell_type": "code",
   "execution_count": 6,
   "metadata": {},
   "outputs": [
    {
     "data": {
      "text/plain": []
     },
     "execution_count": 6,
     "metadata": {},
     "output_type": "execute_result"
    }
   ],
   "source": [
    "image_copy_name = \"Image_Image_3DEmpty\"\n",
    "image_copy_node = slicer.util.getFirstNodeByName(image_copy_name, className=\"vtkMRMLScalarVolumeNode\")\n",
    "if image_copy_node is None:\n",
    "    image_copy_node = slicer.mrmlScene.CopyNode(image_node)\n",
    "    image_copy_node.SetName(image_copy_name)"
   ]
  },
  {
   "cell_type": "code",
   "execution_count": 7,
   "metadata": {},
   "outputs": [
    {
     "data": {
      "text/plain": [
       "Original Extent: (0, 511, 0, 511, 0, 0)\n",
       "Modified Extent: (0, 511, 0, 511, 0, 4)\n",
       "Original Spacing: (1.0, 1.0, 1.0)\n",
       "Modified Spacing: (1.0, 1.0, 2.0)\n"
      ]
     },
     "execution_count": 7,
     "metadata": {},
     "output_type": "execute_result"
    }
   ],
   "source": [
    "#get current image extent and spacing\n",
    "image_extent = image_copy_node.GetImageData().GetExtent()\n",
    "image_spacing = image_copy_node.GetSpacing()\n",
    "\n",
    "#change extent of image (make thicker in z direction) and allocate necessary space\n",
    "image_copy_node.GetImageData().SetExtent(image_extent[0], image_extent[1], image_extent[2], image_extent[3], -2, 2)\n",
    "image_copy_node.GetImageData().AllocateScalars(image_copy_node.GetImageData().GetScalarType(), image_copy_node.GetImageData().GetNumberOfScalarComponents())\n",
    "\n",
    "#shift so image extent starts at 0\n",
    "image_copy_node.ShiftImageDataExtentToZeroStart()\n",
    "print(\"Original Extent: {}\\nModified Extent: {}\".format(image_extent, image_copy_node.GetImageData().GetExtent()))\n",
    "\n",
    "#increase image spacing\n",
    "image_copy_node.SetSpacing(image_spacing[0], image_spacing[1], 2.0)\n",
    "print(\"Original Spacing: {}\\nModified Spacing: {}\".format(image_spacing, image_copy_node.GetSpacing()))"
   ]
  },
  {
   "cell_type": "code",
   "execution_count": 9,
   "metadata": {},
   "outputs": [
    {
     "data": {
      "text/plain": []
     },
     "execution_count": 9,
     "metadata": {},
     "output_type": "execute_result"
    }
   ],
   "source": [
    "import vtkSegmentationCorePython as vtkSegmentationCore\n",
    "\n",
    "def removeSegments(selectedSegmentation):\n",
    "    num_segments = selectedSegmentation.GetSegmentation().GetNumberOfSegments()\n",
    "    for i in range(num_segments):\n",
    "        segmentId = selectedSegmentation.GetSegmentation().GetNthSegmentID(i)\n",
    "        selectedSegmentation.RemoveSegment(segmentId)"
   ]
  },
  {
   "cell_type": "code",
   "execution_count": 10,
   "metadata": {},
   "outputs": [
    {
     "data": {
      "text/plain": []
     },
     "execution_count": 10,
     "metadata": {},
     "output_type": "execute_result"
    }
   ],
   "source": [
    "browser_node.SelectFirstItem()\n",
    "\n",
    "segmentation_logic = slicer.modules.segmentations.logic()\n",
    "\n",
    "notAllEmpty=False\n",
    "\n",
    "image_cast = vtk.vtkImageCast()\n",
    "image_cast.SetOutputScalarTypeToUnsignedChar()\n",
    "image_cast.Update()\n",
    "\n",
    "removeSegments(segmentation_node)\n",
    "n = browser_node.GetNumberOfItems()\n",
    "\n",
    "for i in range(n):\n",
    "    \n",
    "    #Get segmented image in US position\n",
    "    segmentation_logic.ImportModelToSegmentationNode(model_node, segmentation_node)\n",
    "    slicer.modules.segmentations.logic().ExportVisibleSegmentsToLabelmapNode(segmentation_node, labelmap_node, image_copy_node)\n",
    "    segmented_image = labelmap_node.GetImageData()\n",
    "    \n",
    "    image_cast.SetInputData(segmented_image)\n",
    "    image_cast.Update()\n",
    "    \n",
    "    \n",
    "    #Set ultrasound image filename\n",
    "    img_file_name = filename_prefix + \"_%04d_ultrasound\" % i\n",
    "    ultrasound_fullname = os.path.join(output_folder, img_file_name)\n",
    "    \n",
    "    #Set segmentation image filenames\n",
    "    seg_file_name = filename_prefix + \"_%04d_segmentation\" % i\n",
    "    segmentation_fullname = os.path.join(output_folder, seg_file_name)\n",
    "    \"\"\"\n",
    "    #Output ultrasound image to file\n",
    "    png_writer.SetInputData(image_node.GetImageData())\n",
    "    png_writer.SetFileName(ultrasound_fullname)\n",
    "    png_writer.Update()\n",
    "    png_writer.Write()\n",
    "    \"\"\"\n",
    "    \n",
    "    ultrasound_array = slicer.util.arrayFromVolume(image_node)\n",
    "    np.save(ultrasound_fullname, ultrasound_array)\n",
    "    \n",
    "    \n",
    "    segmentation_array = slicer.util.arrayFromVolume(labelmap_node)\n",
    "    np.save(segmentation_fullname, segmentation_array)\n",
    "    if np.amax(segmentation_array) != 0:\n",
    "        notAllEmpty = True\n",
    "        #print(\"CHECK! \" + segmentation_fullname + \" \" + str(np.amax(segmentation_array)))\n",
    "    \n",
    "    #Output segmentations\n",
    "    removeSegments(segmentation_node)\n",
    "    \n",
    "    slicer.app.processEvents()\n",
    "    browser_node.SelectNextItem()\n",
    "    "
   ]
  },
  {
   "cell_type": "code",
   "execution_count": 39,
   "metadata": {},
   "outputs": [
    {
     "data": {
      "text/plain": [
       "C:\\Data\\Temp\\NeedleCapture_01_0241_segmentation\n",
       "0\n",
       "0\n",
       "(5, 512, 512)\n",
       "C:\\Data\\Temp\\NeedleCapture_01_0241_ultrasound\n",
       "188\n",
       "0\n",
       "(1, 512, 512)\n"
      ]
     },
     "execution_count": 39,
     "metadata": {},
     "output_type": "execute_result"
    }
   ],
   "source": [
    "#debug\n",
    "\n",
    "recent_seg = np.load(segmentation_fullname + \".npy\")\n",
    "print(segmentation_fullname)\n",
    "print(np.amax(recent_seg))\n",
    "print(np.min(recent_seg))\n",
    "print(recent_seg.shape)\n",
    "\n",
    "recent_us = np.load(ultrasound_fullname + \".npy\")\n",
    "print(ultrasound_fullname)\n",
    "print(np.amax(recent_us))\n",
    "print(np.min(recent_us))\n",
    "print(recent_us.shape)\n"
   ]
  }
 ],
 "metadata": {
  "kernelspec": {
   "display_name": "Slicer 4.11",
   "language": "python",
   "name": "slicer-4.11"
  },
  "language_info": {
   "codemirror_mode": {
    "name": "ipython",
    "version": 3
   },
   "file_extension": ".py",
   "mimetype": "text/x-python",
   "name": "python",
   "nbconvert_exporter": "python",
   "pygments_lexer": "ipython3",
   "version": "2.7.13+"
  }
 },
 "nbformat": 4,
 "nbformat_minor": 2
}
